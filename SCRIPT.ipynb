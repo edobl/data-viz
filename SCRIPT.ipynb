{
 "cells": [
  {
   "cell_type": "markdown",
   "metadata": {
    "pycharm": {
     "name": "#%% md\n"
    }
   },
   "source": []
  },
  {
   "cell_type": "code",
   "execution_count": null,
   "metadata": {
    "pycharm": {
     "name": "#%%\n",
     "is_executing": true
    }
   },
   "outputs": [],
   "source": [
    "import json\n",
    "import matplotlib.pyplot as plt \n",
    "import networkx as nx\n",
    "import plotly.graph_objs as go\n",
    "import numpy as np\n",
    "import pandas as pd\n",
    "import seaborn as sns\n",
    "from wordcloud import WordCloud\n",
    "import plotly.express as px\n",
    "from ipywidgets import widgets, Output, VBox\n",
    "import geopandas as gpd"
   ]
  },
  {
   "cell_type": "markdown",
   "metadata": {
    "pycharm": {
     "name": "#%% md\n"
    }
   },
   "source": []
  },
  {
   "cell_type": "code",
   "execution_count": null,
   "outputs": [],
   "source": [
    "%%html\n",
    "\n",
    "<style>\n",
    "    body {\n",
    "        background-color: #f9f9f9;\n",
    "        font-family: \"Arial\", sans-serif;\n",
    "    }\n",
    "\n",
    "    .plot-container {\n",
    "        border: 1px solid #ccc;\n",
    "        padding: 15px;\n",
    "        border-radius: 5px;\n",
    "        background-color: #fff;\n",
    "        box-shadow: 0 2px 4px rgba(0,0,0,0.1); /* Add shadow effect */\n",
    "    }\n",
    "\n",
    "    .plot-container .plotly {\n",
    "        box-shadow: none; /* Remove shadow effect from Plotly graph itself */\n",
    "    }\n",
    "\n",
    "    .dash-db-content {\n",
    "        font-family: 'Arial', sans-serif;\n",
    "        color: #333;\n",
    "    }\n",
    "\n",
    "    h1, h2, h3 {\n",
    "        color: #333;\n",
    "    }\n",
    "\n",
    "    .graph-box {\n",
    "        border: 1px solid #ccc;\n",
    "        border-radius: 5px;\n",
    "        background-color: #fff;\n",
    "        box-shadow: 0 2px 4px rgba(0,0,0,0.1); /* Add shadow effect */\n",
    "        margin-bottom: 20px; /* Add some spacing between graph boxes */\n",
    "        padding: 15px; /* Add padding inside the graph box */\n",
    "    }\n",
    "</style>"
   ],
   "metadata": {
    "collapsed": false,
    "pycharm": {
     "name": "#%%\n"
    }
   }
  },
  {
   "cell_type": "code",
   "execution_count": 140,
   "metadata": {
    "pycharm": {
     "name": "#%%\n"
    }
   },
   "outputs": [],
   "source": [
    "# Load the JSON data\n",
    "with open(r'professors_data.json', 'r') as file:\n",
    "    data = json.load(file)"
   ]
  },
  {
   "cell_type": "markdown",
   "metadata": {
    "pycharm": {
     "name": "#%% md\n"
    }
   },
   "source": []
  },
  {
   "cell_type": "code",
   "execution_count": 141,
   "metadata": {
    "pycharm": {
     "name": "#%%\n"
    }
   },
   "outputs": [],
   "source": [
    "professors_data = data\n",
    "professors_names = list(professors_data.keys())\n",
    "publications_counts = [professors_data[name]['Paper_Count'] for name in professors_names]\n",
    "citation_counts = [professors_data[prof]['Citation_Count'] for prof in professors_data]\n",
    "professors_country = [{'Name': key, 'Country': value['Country']} for key, value in professors_data.items()]"
   ]
  },
  {
   "cell_type": "markdown",
   "metadata": {
    "pycharm": {
     "name": "#%% md\n"
    }
   },
   "source": [
    "# Graphs"
   ]
  },
  {
   "cell_type": "markdown",
   "metadata": {
    "pycharm": {
     "name": "#%% md\n"
    }
   },
   "source": [
    "## Dashboard 1: Professors"
   ]
  },
  {
   "cell_type": "markdown",
   "metadata": {
    "pycharm": {
     "name": "#%% md\n"
    }
   },
   "source": [
    "### Publication counts per professor"
   ]
  },
  {
   "cell_type": "code",
   "execution_count": 142,
   "metadata": {
    "pycharm": {
     "name": "#%%\n"
    }
   },
   "outputs": [
    {
     "data": {
      "application/vnd.plotly.v1+json": {
       "config": {
        "plotlyServerURL": "https://plot.ly"
       },
       "data": [
        {
         "marker": {
          "color": "skyblue"
         },
         "type": "bar",
         "x": [
          "Luca Giustiniano",
          "Ian Paul McCarthy",
          "Alessandro Zattoni",
          "Henry William Chesbrough",
          "Irene Finocchi",
          "Cristiano Busco",
          "Simona Romani",
          "Alessandra Perri",
          "Michele Costabile",
          "Blerina Sinaimeri",
          "Saverio Bozzolan",
          "Pietro De Giovanni",
          "Paolo Boccardelli",
          "ELENA BRUNI",
          "Luca Pirolo",
          "Matteo De Angelis",
          "Giovanni Fiori",
          "Rumen Ivaylov Pozharliev",
          "Filippo Bontadini",
          "Cinzia Calluso",
          "Eugenio Pinto",
          "Federica Brunetta",
          "Evangelos Syrigos",
          "Fabrizio Di Lazzaro",
          "Paolo Spagnoletti",
          "Mario Comana",
          "Maria Giovanna Devetag",
          "Jonathan Berkovitch",
          "Matteo Giuliano Caroli",
          "Giuseppe Francesco Italiano",
          "Behzad Maleki Vishkaei",
          "Deniz Lefkeli",
          "Lakshmi Balachandran Nair",
          "Francesco Di Ciommo",
          "Jannis Kallinikos",
          "Mirella Pellegrini",
          "Fabian Kurt Falk Homberg",
          "Alessandro Musaio",
          "Rosella Santella",
          "Michela Altieri",
          "Maria Isabella Leone",
          "Antonio Majocchi",
          "Alessio Martino",
          "Valentina Meliciani",
          "Raffaele Oriani",
          "Silvia Dello Russo",
          "Youngah Guahk",
          "Laura Innocenti",
          "Christian Lechner",
          "Luigi Marengo",
          "Daniele Mascia",
          "Pierluigi Murro",
          "Andrea Prencipe",
          "Tatjana Schneidmuller",
          "Giovanni Valentini",
          "Francisco Javier Villarroel Ordenes"
         ],
         "y": [
          179,
          141,
          124,
          123,
          106,
          74,
          67,
          57,
          54,
          52,
          43,
          42,
          37,
          35,
          31,
          25,
          24,
          22,
          19,
          19,
          19,
          14,
          13,
          11,
          11,
          10,
          10,
          9,
          8,
          7,
          7,
          6,
          5,
          4,
          4,
          4,
          3,
          3,
          3,
          2,
          2,
          2,
          2,
          2,
          2,
          1,
          1,
          1,
          1,
          1,
          1,
          1,
          1,
          1,
          1,
          1
         ]
        }
       ],
       "layout": {
        "height": 700,
        "template": {
         "data": {
          "bar": [
           {
            "error_x": {
             "color": "#2a3f5f"
            },
            "error_y": {
             "color": "#2a3f5f"
            },
            "marker": {
             "line": {
              "color": "white",
              "width": 0.5
             },
             "pattern": {
              "fillmode": "overlay",
              "size": 10,
              "solidity": 0.2
             }
            },
            "type": "bar"
           }
          ],
          "barpolar": [
           {
            "marker": {
             "line": {
              "color": "white",
              "width": 0.5
             },
             "pattern": {
              "fillmode": "overlay",
              "size": 10,
              "solidity": 0.2
             }
            },
            "type": "barpolar"
           }
          ],
          "carpet": [
           {
            "aaxis": {
             "endlinecolor": "#2a3f5f",
             "gridcolor": "#C8D4E3",
             "linecolor": "#C8D4E3",
             "minorgridcolor": "#C8D4E3",
             "startlinecolor": "#2a3f5f"
            },
            "baxis": {
             "endlinecolor": "#2a3f5f",
             "gridcolor": "#C8D4E3",
             "linecolor": "#C8D4E3",
             "minorgridcolor": "#C8D4E3",
             "startlinecolor": "#2a3f5f"
            },
            "type": "carpet"
           }
          ],
          "choropleth": [
           {
            "colorbar": {
             "outlinewidth": 0,
             "ticks": ""
            },
            "type": "choropleth"
           }
          ],
          "contour": [
           {
            "colorbar": {
             "outlinewidth": 0,
             "ticks": ""
            },
            "colorscale": [
             [
              0,
              "#0d0887"
             ],
             [
              0.1111111111111111,
              "#46039f"
             ],
             [
              0.2222222222222222,
              "#7201a8"
             ],
             [
              0.3333333333333333,
              "#9c179e"
             ],
             [
              0.4444444444444444,
              "#bd3786"
             ],
             [
              0.5555555555555556,
              "#d8576b"
             ],
             [
              0.6666666666666666,
              "#ed7953"
             ],
             [
              0.7777777777777778,
              "#fb9f3a"
             ],
             [
              0.8888888888888888,
              "#fdca26"
             ],
             [
              1,
              "#f0f921"
             ]
            ],
            "type": "contour"
           }
          ],
          "contourcarpet": [
           {
            "colorbar": {
             "outlinewidth": 0,
             "ticks": ""
            },
            "type": "contourcarpet"
           }
          ],
          "heatmap": [
           {
            "colorbar": {
             "outlinewidth": 0,
             "ticks": ""
            },
            "colorscale": [
             [
              0,
              "#0d0887"
             ],
             [
              0.1111111111111111,
              "#46039f"
             ],
             [
              0.2222222222222222,
              "#7201a8"
             ],
             [
              0.3333333333333333,
              "#9c179e"
             ],
             [
              0.4444444444444444,
              "#bd3786"
             ],
             [
              0.5555555555555556,
              "#d8576b"
             ],
             [
              0.6666666666666666,
              "#ed7953"
             ],
             [
              0.7777777777777778,
              "#fb9f3a"
             ],
             [
              0.8888888888888888,
              "#fdca26"
             ],
             [
              1,
              "#f0f921"
             ]
            ],
            "type": "heatmap"
           }
          ],
          "heatmapgl": [
           {
            "colorbar": {
             "outlinewidth": 0,
             "ticks": ""
            },
            "colorscale": [
             [
              0,
              "#0d0887"
             ],
             [
              0.1111111111111111,
              "#46039f"
             ],
             [
              0.2222222222222222,
              "#7201a8"
             ],
             [
              0.3333333333333333,
              "#9c179e"
             ],
             [
              0.4444444444444444,
              "#bd3786"
             ],
             [
              0.5555555555555556,
              "#d8576b"
             ],
             [
              0.6666666666666666,
              "#ed7953"
             ],
             [
              0.7777777777777778,
              "#fb9f3a"
             ],
             [
              0.8888888888888888,
              "#fdca26"
             ],
             [
              1,
              "#f0f921"
             ]
            ],
            "type": "heatmapgl"
           }
          ],
          "histogram": [
           {
            "marker": {
             "pattern": {
              "fillmode": "overlay",
              "size": 10,
              "solidity": 0.2
             }
            },
            "type": "histogram"
           }
          ],
          "histogram2d": [
           {
            "colorbar": {
             "outlinewidth": 0,
             "ticks": ""
            },
            "colorscale": [
             [
              0,
              "#0d0887"
             ],
             [
              0.1111111111111111,
              "#46039f"
             ],
             [
              0.2222222222222222,
              "#7201a8"
             ],
             [
              0.3333333333333333,
              "#9c179e"
             ],
             [
              0.4444444444444444,
              "#bd3786"
             ],
             [
              0.5555555555555556,
              "#d8576b"
             ],
             [
              0.6666666666666666,
              "#ed7953"
             ],
             [
              0.7777777777777778,
              "#fb9f3a"
             ],
             [
              0.8888888888888888,
              "#fdca26"
             ],
             [
              1,
              "#f0f921"
             ]
            ],
            "type": "histogram2d"
           }
          ],
          "histogram2dcontour": [
           {
            "colorbar": {
             "outlinewidth": 0,
             "ticks": ""
            },
            "colorscale": [
             [
              0,
              "#0d0887"
             ],
             [
              0.1111111111111111,
              "#46039f"
             ],
             [
              0.2222222222222222,
              "#7201a8"
             ],
             [
              0.3333333333333333,
              "#9c179e"
             ],
             [
              0.4444444444444444,
              "#bd3786"
             ],
             [
              0.5555555555555556,
              "#d8576b"
             ],
             [
              0.6666666666666666,
              "#ed7953"
             ],
             [
              0.7777777777777778,
              "#fb9f3a"
             ],
             [
              0.8888888888888888,
              "#fdca26"
             ],
             [
              1,
              "#f0f921"
             ]
            ],
            "type": "histogram2dcontour"
           }
          ],
          "mesh3d": [
           {
            "colorbar": {
             "outlinewidth": 0,
             "ticks": ""
            },
            "type": "mesh3d"
           }
          ],
          "parcoords": [
           {
            "line": {
             "colorbar": {
              "outlinewidth": 0,
              "ticks": ""
             }
            },
            "type": "parcoords"
           }
          ],
          "pie": [
           {
            "automargin": true,
            "type": "pie"
           }
          ],
          "scatter": [
           {
            "fillpattern": {
             "fillmode": "overlay",
             "size": 10,
             "solidity": 0.2
            },
            "type": "scatter"
           }
          ],
          "scatter3d": [
           {
            "line": {
             "colorbar": {
              "outlinewidth": 0,
              "ticks": ""
             }
            },
            "marker": {
             "colorbar": {
              "outlinewidth": 0,
              "ticks": ""
             }
            },
            "type": "scatter3d"
           }
          ],
          "scattercarpet": [
           {
            "marker": {
             "colorbar": {
              "outlinewidth": 0,
              "ticks": ""
             }
            },
            "type": "scattercarpet"
           }
          ],
          "scattergeo": [
           {
            "marker": {
             "colorbar": {
              "outlinewidth": 0,
              "ticks": ""
             }
            },
            "type": "scattergeo"
           }
          ],
          "scattergl": [
           {
            "marker": {
             "colorbar": {
              "outlinewidth": 0,
              "ticks": ""
             }
            },
            "type": "scattergl"
           }
          ],
          "scattermapbox": [
           {
            "marker": {
             "colorbar": {
              "outlinewidth": 0,
              "ticks": ""
             }
            },
            "type": "scattermapbox"
           }
          ],
          "scatterpolar": [
           {
            "marker": {
             "colorbar": {
              "outlinewidth": 0,
              "ticks": ""
             }
            },
            "type": "scatterpolar"
           }
          ],
          "scatterpolargl": [
           {
            "marker": {
             "colorbar": {
              "outlinewidth": 0,
              "ticks": ""
             }
            },
            "type": "scatterpolargl"
           }
          ],
          "scatterternary": [
           {
            "marker": {
             "colorbar": {
              "outlinewidth": 0,
              "ticks": ""
             }
            },
            "type": "scatterternary"
           }
          ],
          "surface": [
           {
            "colorbar": {
             "outlinewidth": 0,
             "ticks": ""
            },
            "colorscale": [
             [
              0,
              "#0d0887"
             ],
             [
              0.1111111111111111,
              "#46039f"
             ],
             [
              0.2222222222222222,
              "#7201a8"
             ],
             [
              0.3333333333333333,
              "#9c179e"
             ],
             [
              0.4444444444444444,
              "#bd3786"
             ],
             [
              0.5555555555555556,
              "#d8576b"
             ],
             [
              0.6666666666666666,
              "#ed7953"
             ],
             [
              0.7777777777777778,
              "#fb9f3a"
             ],
             [
              0.8888888888888888,
              "#fdca26"
             ],
             [
              1,
              "#f0f921"
             ]
            ],
            "type": "surface"
           }
          ],
          "table": [
           {
            "cells": {
             "fill": {
              "color": "#EBF0F8"
             },
             "line": {
              "color": "white"
             }
            },
            "header": {
             "fill": {
              "color": "#C8D4E3"
             },
             "line": {
              "color": "white"
             }
            },
            "type": "table"
           }
          ]
         },
         "layout": {
          "annotationdefaults": {
           "arrowcolor": "#2a3f5f",
           "arrowhead": 0,
           "arrowwidth": 1
          },
          "autotypenumbers": "strict",
          "coloraxis": {
           "colorbar": {
            "outlinewidth": 0,
            "ticks": ""
           }
          },
          "colorscale": {
           "diverging": [
            [
             0,
             "#8e0152"
            ],
            [
             0.1,
             "#c51b7d"
            ],
            [
             0.2,
             "#de77ae"
            ],
            [
             0.3,
             "#f1b6da"
            ],
            [
             0.4,
             "#fde0ef"
            ],
            [
             0.5,
             "#f7f7f7"
            ],
            [
             0.6,
             "#e6f5d0"
            ],
            [
             0.7,
             "#b8e186"
            ],
            [
             0.8,
             "#7fbc41"
            ],
            [
             0.9,
             "#4d9221"
            ],
            [
             1,
             "#276419"
            ]
           ],
           "sequential": [
            [
             0,
             "#0d0887"
            ],
            [
             0.1111111111111111,
             "#46039f"
            ],
            [
             0.2222222222222222,
             "#7201a8"
            ],
            [
             0.3333333333333333,
             "#9c179e"
            ],
            [
             0.4444444444444444,
             "#bd3786"
            ],
            [
             0.5555555555555556,
             "#d8576b"
            ],
            [
             0.6666666666666666,
             "#ed7953"
            ],
            [
             0.7777777777777778,
             "#fb9f3a"
            ],
            [
             0.8888888888888888,
             "#fdca26"
            ],
            [
             1,
             "#f0f921"
            ]
           ],
           "sequentialminus": [
            [
             0,
             "#0d0887"
            ],
            [
             0.1111111111111111,
             "#46039f"
            ],
            [
             0.2222222222222222,
             "#7201a8"
            ],
            [
             0.3333333333333333,
             "#9c179e"
            ],
            [
             0.4444444444444444,
             "#bd3786"
            ],
            [
             0.5555555555555556,
             "#d8576b"
            ],
            [
             0.6666666666666666,
             "#ed7953"
            ],
            [
             0.7777777777777778,
             "#fb9f3a"
            ],
            [
             0.8888888888888888,
             "#fdca26"
            ],
            [
             1,
             "#f0f921"
            ]
           ]
          },
          "colorway": [
           "#636efa",
           "#EF553B",
           "#00cc96",
           "#ab63fa",
           "#FFA15A",
           "#19d3f3",
           "#FF6692",
           "#B6E880",
           "#FF97FF",
           "#FECB52"
          ],
          "font": {
           "color": "#2a3f5f"
          },
          "geo": {
           "bgcolor": "white",
           "lakecolor": "white",
           "landcolor": "white",
           "showlakes": true,
           "showland": true,
           "subunitcolor": "#C8D4E3"
          },
          "hoverlabel": {
           "align": "left"
          },
          "hovermode": "closest",
          "mapbox": {
           "style": "light"
          },
          "paper_bgcolor": "white",
          "plot_bgcolor": "white",
          "polar": {
           "angularaxis": {
            "gridcolor": "#EBF0F8",
            "linecolor": "#EBF0F8",
            "ticks": ""
           },
           "bgcolor": "white",
           "radialaxis": {
            "gridcolor": "#EBF0F8",
            "linecolor": "#EBF0F8",
            "ticks": ""
           }
          },
          "scene": {
           "xaxis": {
            "backgroundcolor": "white",
            "gridcolor": "#DFE8F3",
            "gridwidth": 2,
            "linecolor": "#EBF0F8",
            "showbackground": true,
            "ticks": "",
            "zerolinecolor": "#EBF0F8"
           },
           "yaxis": {
            "backgroundcolor": "white",
            "gridcolor": "#DFE8F3",
            "gridwidth": 2,
            "linecolor": "#EBF0F8",
            "showbackground": true,
            "ticks": "",
            "zerolinecolor": "#EBF0F8"
           },
           "zaxis": {
            "backgroundcolor": "white",
            "gridcolor": "#DFE8F3",
            "gridwidth": 2,
            "linecolor": "#EBF0F8",
            "showbackground": true,
            "ticks": "",
            "zerolinecolor": "#EBF0F8"
           }
          },
          "shapedefaults": {
           "line": {
            "color": "#2a3f5f"
           }
          },
          "ternary": {
           "aaxis": {
            "gridcolor": "#DFE8F3",
            "linecolor": "#A2B1C6",
            "ticks": ""
           },
           "baxis": {
            "gridcolor": "#DFE8F3",
            "linecolor": "#A2B1C6",
            "ticks": ""
           },
           "bgcolor": "white",
           "caxis": {
            "gridcolor": "#DFE8F3",
            "linecolor": "#A2B1C6",
            "ticks": ""
           }
          },
          "title": {
           "x": 0.05
          },
          "xaxis": {
           "automargin": true,
           "gridcolor": "#EBF0F8",
           "linecolor": "#EBF0F8",
           "ticks": "",
           "title": {
            "standoff": 15
           },
           "zerolinecolor": "#EBF0F8",
           "zerolinewidth": 2
          },
          "yaxis": {
           "automargin": true,
           "gridcolor": "#EBF0F8",
           "linecolor": "#EBF0F8",
           "ticks": "",
           "title": {
            "standoff": 15
           },
           "zerolinecolor": "#EBF0F8",
           "zerolinewidth": 2
          }
         }
        },
        "title": {
         "text": "Publication Counts per Professor"
        },
        "xaxis": {
         "tickangle": -90,
         "title": {
          "text": "Professor"
         }
        },
        "yaxis": {
         "title": {
          "text": "Number of Publications"
         }
        }
       }
      }
     },
     "metadata": {},
     "output_type": "display_data"
    }
   ],
   "source": [
    "# Combine, sort by publication count in descending order, and unzip\n",
    "combined = sorted(zip(professors_names, publications_counts), key=lambda x: x[1], reverse=True)\n",
    "sorted_professors_names, sorted_publications_counts = zip(*combined)\n",
    "\n",
    "fig = go.Figure(data=[\n",
    "    go.Bar(x=sorted_professors_names, y=sorted_publications_counts, marker_color='skyblue')\n",
    "])\n",
    "\n",
    "fig.update_layout(\n",
    "    title='Publication Counts per Professor',\n",
    "    height=700, \n",
    "    xaxis_tickangle=-90,\n",
    "    xaxis_title=\"Professor\",\n",
    "    yaxis_title=\"Number of Publications\",\n",
    "    template='plotly_white'\n",
    ")\n",
    "\n",
    "fig.show()"
   ]
  },
  {
   "cell_type": "markdown",
   "metadata": {
    "pycharm": {
     "name": "#%% md\n"
    }
   },
   "source": [
    "### H-index distribution"
   ]
  },
  {
   "cell_type": "code",
   "execution_count": 143,
   "metadata": {
    "pycharm": {
     "name": "#%%\n"
    }
   },
   "outputs": [
    {
     "data": {
      "application/vnd.plotly.v1+json": {
       "config": {
        "plotlyServerURL": "https://plot.ly"
       },
       "data": [
        {
         "marker": {
          "color": "green"
         },
         "nbinsx": 10,
         "opacity": 0.7,
         "type": "histogram",
         "x": [
          24,
          1,
          2,
          1,
          3,
          4,
          15,
          3,
          3,
          21,
          8,
          2,
          49,
          1,
          11,
          11,
          10,
          0,
          3,
          1,
          6,
          5,
          19,
          0,
          1,
          0,
          1,
          1,
          0,
          2,
          1,
          0,
          2,
          1,
          2,
          0,
          38,
          1,
          0,
          0,
          1,
          0,
          12,
          1,
          1,
          10,
          1,
          25,
          0,
          0,
          11,
          1,
          3,
          0,
          0,
          30
         ]
        }
       ],
       "layout": {
        "bargap": 0,
        "template": {
         "data": {
          "bar": [
           {
            "error_x": {
             "color": "#2a3f5f"
            },
            "error_y": {
             "color": "#2a3f5f"
            },
            "marker": {
             "line": {
              "color": "white",
              "width": 0.5
             },
             "pattern": {
              "fillmode": "overlay",
              "size": 10,
              "solidity": 0.2
             }
            },
            "type": "bar"
           }
          ],
          "barpolar": [
           {
            "marker": {
             "line": {
              "color": "white",
              "width": 0.5
             },
             "pattern": {
              "fillmode": "overlay",
              "size": 10,
              "solidity": 0.2
             }
            },
            "type": "barpolar"
           }
          ],
          "carpet": [
           {
            "aaxis": {
             "endlinecolor": "#2a3f5f",
             "gridcolor": "#C8D4E3",
             "linecolor": "#C8D4E3",
             "minorgridcolor": "#C8D4E3",
             "startlinecolor": "#2a3f5f"
            },
            "baxis": {
             "endlinecolor": "#2a3f5f",
             "gridcolor": "#C8D4E3",
             "linecolor": "#C8D4E3",
             "minorgridcolor": "#C8D4E3",
             "startlinecolor": "#2a3f5f"
            },
            "type": "carpet"
           }
          ],
          "choropleth": [
           {
            "colorbar": {
             "outlinewidth": 0,
             "ticks": ""
            },
            "type": "choropleth"
           }
          ],
          "contour": [
           {
            "colorbar": {
             "outlinewidth": 0,
             "ticks": ""
            },
            "colorscale": [
             [
              0,
              "#0d0887"
             ],
             [
              0.1111111111111111,
              "#46039f"
             ],
             [
              0.2222222222222222,
              "#7201a8"
             ],
             [
              0.3333333333333333,
              "#9c179e"
             ],
             [
              0.4444444444444444,
              "#bd3786"
             ],
             [
              0.5555555555555556,
              "#d8576b"
             ],
             [
              0.6666666666666666,
              "#ed7953"
             ],
             [
              0.7777777777777778,
              "#fb9f3a"
             ],
             [
              0.8888888888888888,
              "#fdca26"
             ],
             [
              1,
              "#f0f921"
             ]
            ],
            "type": "contour"
           }
          ],
          "contourcarpet": [
           {
            "colorbar": {
             "outlinewidth": 0,
             "ticks": ""
            },
            "type": "contourcarpet"
           }
          ],
          "heatmap": [
           {
            "colorbar": {
             "outlinewidth": 0,
             "ticks": ""
            },
            "colorscale": [
             [
              0,
              "#0d0887"
             ],
             [
              0.1111111111111111,
              "#46039f"
             ],
             [
              0.2222222222222222,
              "#7201a8"
             ],
             [
              0.3333333333333333,
              "#9c179e"
             ],
             [
              0.4444444444444444,
              "#bd3786"
             ],
             [
              0.5555555555555556,
              "#d8576b"
             ],
             [
              0.6666666666666666,
              "#ed7953"
             ],
             [
              0.7777777777777778,
              "#fb9f3a"
             ],
             [
              0.8888888888888888,
              "#fdca26"
             ],
             [
              1,
              "#f0f921"
             ]
            ],
            "type": "heatmap"
           }
          ],
          "heatmapgl": [
           {
            "colorbar": {
             "outlinewidth": 0,
             "ticks": ""
            },
            "colorscale": [
             [
              0,
              "#0d0887"
             ],
             [
              0.1111111111111111,
              "#46039f"
             ],
             [
              0.2222222222222222,
              "#7201a8"
             ],
             [
              0.3333333333333333,
              "#9c179e"
             ],
             [
              0.4444444444444444,
              "#bd3786"
             ],
             [
              0.5555555555555556,
              "#d8576b"
             ],
             [
              0.6666666666666666,
              "#ed7953"
             ],
             [
              0.7777777777777778,
              "#fb9f3a"
             ],
             [
              0.8888888888888888,
              "#fdca26"
             ],
             [
              1,
              "#f0f921"
             ]
            ],
            "type": "heatmapgl"
           }
          ],
          "histogram": [
           {
            "marker": {
             "pattern": {
              "fillmode": "overlay",
              "size": 10,
              "solidity": 0.2
             }
            },
            "type": "histogram"
           }
          ],
          "histogram2d": [
           {
            "colorbar": {
             "outlinewidth": 0,
             "ticks": ""
            },
            "colorscale": [
             [
              0,
              "#0d0887"
             ],
             [
              0.1111111111111111,
              "#46039f"
             ],
             [
              0.2222222222222222,
              "#7201a8"
             ],
             [
              0.3333333333333333,
              "#9c179e"
             ],
             [
              0.4444444444444444,
              "#bd3786"
             ],
             [
              0.5555555555555556,
              "#d8576b"
             ],
             [
              0.6666666666666666,
              "#ed7953"
             ],
             [
              0.7777777777777778,
              "#fb9f3a"
             ],
             [
              0.8888888888888888,
              "#fdca26"
             ],
             [
              1,
              "#f0f921"
             ]
            ],
            "type": "histogram2d"
           }
          ],
          "histogram2dcontour": [
           {
            "colorbar": {
             "outlinewidth": 0,
             "ticks": ""
            },
            "colorscale": [
             [
              0,
              "#0d0887"
             ],
             [
              0.1111111111111111,
              "#46039f"
             ],
             [
              0.2222222222222222,
              "#7201a8"
             ],
             [
              0.3333333333333333,
              "#9c179e"
             ],
             [
              0.4444444444444444,
              "#bd3786"
             ],
             [
              0.5555555555555556,
              "#d8576b"
             ],
             [
              0.6666666666666666,
              "#ed7953"
             ],
             [
              0.7777777777777778,
              "#fb9f3a"
             ],
             [
              0.8888888888888888,
              "#fdca26"
             ],
             [
              1,
              "#f0f921"
             ]
            ],
            "type": "histogram2dcontour"
           }
          ],
          "mesh3d": [
           {
            "colorbar": {
             "outlinewidth": 0,
             "ticks": ""
            },
            "type": "mesh3d"
           }
          ],
          "parcoords": [
           {
            "line": {
             "colorbar": {
              "outlinewidth": 0,
              "ticks": ""
             }
            },
            "type": "parcoords"
           }
          ],
          "pie": [
           {
            "automargin": true,
            "type": "pie"
           }
          ],
          "scatter": [
           {
            "fillpattern": {
             "fillmode": "overlay",
             "size": 10,
             "solidity": 0.2
            },
            "type": "scatter"
           }
          ],
          "scatter3d": [
           {
            "line": {
             "colorbar": {
              "outlinewidth": 0,
              "ticks": ""
             }
            },
            "marker": {
             "colorbar": {
              "outlinewidth": 0,
              "ticks": ""
             }
            },
            "type": "scatter3d"
           }
          ],
          "scattercarpet": [
           {
            "marker": {
             "colorbar": {
              "outlinewidth": 0,
              "ticks": ""
             }
            },
            "type": "scattercarpet"
           }
          ],
          "scattergeo": [
           {
            "marker": {
             "colorbar": {
              "outlinewidth": 0,
              "ticks": ""
             }
            },
            "type": "scattergeo"
           }
          ],
          "scattergl": [
           {
            "marker": {
             "colorbar": {
              "outlinewidth": 0,
              "ticks": ""
             }
            },
            "type": "scattergl"
           }
          ],
          "scattermapbox": [
           {
            "marker": {
             "colorbar": {
              "outlinewidth": 0,
              "ticks": ""
             }
            },
            "type": "scattermapbox"
           }
          ],
          "scatterpolar": [
           {
            "marker": {
             "colorbar": {
              "outlinewidth": 0,
              "ticks": ""
             }
            },
            "type": "scatterpolar"
           }
          ],
          "scatterpolargl": [
           {
            "marker": {
             "colorbar": {
              "outlinewidth": 0,
              "ticks": ""
             }
            },
            "type": "scatterpolargl"
           }
          ],
          "scatterternary": [
           {
            "marker": {
             "colorbar": {
              "outlinewidth": 0,
              "ticks": ""
             }
            },
            "type": "scatterternary"
           }
          ],
          "surface": [
           {
            "colorbar": {
             "outlinewidth": 0,
             "ticks": ""
            },
            "colorscale": [
             [
              0,
              "#0d0887"
             ],
             [
              0.1111111111111111,
              "#46039f"
             ],
             [
              0.2222222222222222,
              "#7201a8"
             ],
             [
              0.3333333333333333,
              "#9c179e"
             ],
             [
              0.4444444444444444,
              "#bd3786"
             ],
             [
              0.5555555555555556,
              "#d8576b"
             ],
             [
              0.6666666666666666,
              "#ed7953"
             ],
             [
              0.7777777777777778,
              "#fb9f3a"
             ],
             [
              0.8888888888888888,
              "#fdca26"
             ],
             [
              1,
              "#f0f921"
             ]
            ],
            "type": "surface"
           }
          ],
          "table": [
           {
            "cells": {
             "fill": {
              "color": "#EBF0F8"
             },
             "line": {
              "color": "white"
             }
            },
            "header": {
             "fill": {
              "color": "#C8D4E3"
             },
             "line": {
              "color": "white"
             }
            },
            "type": "table"
           }
          ]
         },
         "layout": {
          "annotationdefaults": {
           "arrowcolor": "#2a3f5f",
           "arrowhead": 0,
           "arrowwidth": 1
          },
          "autotypenumbers": "strict",
          "coloraxis": {
           "colorbar": {
            "outlinewidth": 0,
            "ticks": ""
           }
          },
          "colorscale": {
           "diverging": [
            [
             0,
             "#8e0152"
            ],
            [
             0.1,
             "#c51b7d"
            ],
            [
             0.2,
             "#de77ae"
            ],
            [
             0.3,
             "#f1b6da"
            ],
            [
             0.4,
             "#fde0ef"
            ],
            [
             0.5,
             "#f7f7f7"
            ],
            [
             0.6,
             "#e6f5d0"
            ],
            [
             0.7,
             "#b8e186"
            ],
            [
             0.8,
             "#7fbc41"
            ],
            [
             0.9,
             "#4d9221"
            ],
            [
             1,
             "#276419"
            ]
           ],
           "sequential": [
            [
             0,
             "#0d0887"
            ],
            [
             0.1111111111111111,
             "#46039f"
            ],
            [
             0.2222222222222222,
             "#7201a8"
            ],
            [
             0.3333333333333333,
             "#9c179e"
            ],
            [
             0.4444444444444444,
             "#bd3786"
            ],
            [
             0.5555555555555556,
             "#d8576b"
            ],
            [
             0.6666666666666666,
             "#ed7953"
            ],
            [
             0.7777777777777778,
             "#fb9f3a"
            ],
            [
             0.8888888888888888,
             "#fdca26"
            ],
            [
             1,
             "#f0f921"
            ]
           ],
           "sequentialminus": [
            [
             0,
             "#0d0887"
            ],
            [
             0.1111111111111111,
             "#46039f"
            ],
            [
             0.2222222222222222,
             "#7201a8"
            ],
            [
             0.3333333333333333,
             "#9c179e"
            ],
            [
             0.4444444444444444,
             "#bd3786"
            ],
            [
             0.5555555555555556,
             "#d8576b"
            ],
            [
             0.6666666666666666,
             "#ed7953"
            ],
            [
             0.7777777777777778,
             "#fb9f3a"
            ],
            [
             0.8888888888888888,
             "#fdca26"
            ],
            [
             1,
             "#f0f921"
            ]
           ]
          },
          "colorway": [
           "#636efa",
           "#EF553B",
           "#00cc96",
           "#ab63fa",
           "#FFA15A",
           "#19d3f3",
           "#FF6692",
           "#B6E880",
           "#FF97FF",
           "#FECB52"
          ],
          "font": {
           "color": "#2a3f5f"
          },
          "geo": {
           "bgcolor": "white",
           "lakecolor": "white",
           "landcolor": "white",
           "showlakes": true,
           "showland": true,
           "subunitcolor": "#C8D4E3"
          },
          "hoverlabel": {
           "align": "left"
          },
          "hovermode": "closest",
          "mapbox": {
           "style": "light"
          },
          "paper_bgcolor": "white",
          "plot_bgcolor": "white",
          "polar": {
           "angularaxis": {
            "gridcolor": "#EBF0F8",
            "linecolor": "#EBF0F8",
            "ticks": ""
           },
           "bgcolor": "white",
           "radialaxis": {
            "gridcolor": "#EBF0F8",
            "linecolor": "#EBF0F8",
            "ticks": ""
           }
          },
          "scene": {
           "xaxis": {
            "backgroundcolor": "white",
            "gridcolor": "#DFE8F3",
            "gridwidth": 2,
            "linecolor": "#EBF0F8",
            "showbackground": true,
            "ticks": "",
            "zerolinecolor": "#EBF0F8"
           },
           "yaxis": {
            "backgroundcolor": "white",
            "gridcolor": "#DFE8F3",
            "gridwidth": 2,
            "linecolor": "#EBF0F8",
            "showbackground": true,
            "ticks": "",
            "zerolinecolor": "#EBF0F8"
           },
           "zaxis": {
            "backgroundcolor": "white",
            "gridcolor": "#DFE8F3",
            "gridwidth": 2,
            "linecolor": "#EBF0F8",
            "showbackground": true,
            "ticks": "",
            "zerolinecolor": "#EBF0F8"
           }
          },
          "shapedefaults": {
           "line": {
            "color": "#2a3f5f"
           }
          },
          "ternary": {
           "aaxis": {
            "gridcolor": "#DFE8F3",
            "linecolor": "#A2B1C6",
            "ticks": ""
           },
           "baxis": {
            "gridcolor": "#DFE8F3",
            "linecolor": "#A2B1C6",
            "ticks": ""
           },
           "bgcolor": "white",
           "caxis": {
            "gridcolor": "#DFE8F3",
            "linecolor": "#A2B1C6",
            "ticks": ""
           }
          },
          "title": {
           "x": 0.05
          },
          "xaxis": {
           "automargin": true,
           "gridcolor": "#EBF0F8",
           "linecolor": "#EBF0F8",
           "ticks": "",
           "title": {
            "standoff": 15
           },
           "zerolinecolor": "#EBF0F8",
           "zerolinewidth": 2
          },
          "yaxis": {
           "automargin": true,
           "gridcolor": "#EBF0F8",
           "linecolor": "#EBF0F8",
           "ticks": "",
           "title": {
            "standoff": 15
           },
           "zerolinecolor": "#EBF0F8",
           "zerolinewidth": 2
          }
         }
        },
        "title": {
         "text": "Histogram of H-indices"
        },
        "xaxis": {
         "title": {
          "text": "H-index"
         }
        },
        "yaxis": {
         "title": {
          "text": "Frequency"
         }
        }
       }
      }
     },
     "metadata": {},
     "output_type": "display_data"
    }
   ],
   "source": [
    "h_indices = [professors_data[name]['Index_H'] for name in professors_names]\n",
    "\n",
    "fig = go.Figure(data=[\n",
    "    go.Histogram(x=h_indices, nbinsx=10, marker_color='green', opacity=0.7)\n",
    "])\n",
    "\n",
    "fig.update_layout(\n",
    "    title='Histogram of H-indices',\n",
    "    xaxis_title=\"H-index\",\n",
    "    yaxis_title=\"Frequency\",\n",
    "    template='plotly_white',\n",
    "    bargap=0  # Controls the gap between bars\n",
    ")\n",
    "\n",
    "fig.show()"
   ]
  },
  {
   "cell_type": "markdown",
   "metadata": {
    "pycharm": {
     "name": "#%% md\n"
    }
   },
   "source": [
    "### Citation count overtime"
   ]
  },
  {
   "cell_type": "code",
   "execution_count": 144,
   "metadata": {
    "pycharm": {
     "name": "#%%\n"
    }
   },
   "outputs": [
    {
     "data": {
      "application/vnd.plotly.v1+json": {
       "config": {
        "plotlyServerURL": "https://plot.ly"
       },
       "data": [
        {
         "line": {
          "color": "orange"
         },
         "marker": {
          "color": "orange",
          "size": 8
         },
         "mode": "lines+markers",
         "type": "scatter",
         "x": [
          1950,
          1951,
          1963,
          1967,
          1982,
          1986,
          1989,
          1992,
          1994,
          1995,
          1996,
          1997,
          1998,
          1999,
          2000,
          2001,
          2002,
          2003,
          2004,
          2005,
          2006,
          2007,
          2008,
          2009,
          2010,
          2011,
          2012,
          2013,
          2014,
          2015,
          2016,
          2017,
          2018,
          2019,
          2020,
          2021,
          2022,
          2023,
          2024
         ],
         "y": [
          0,
          0,
          0,
          0,
          0,
          0,
          9.333333333333334,
          0,
          0.5,
          35.857142857142854,
          3.3333333333333335,
          25.8,
          10.333333333333334,
          56.90909090909091,
          59.833333333333336,
          17,
          48.38095238095238,
          300.1142857142857,
          49.27777777777778,
          11.272727272727273,
          104.54,
          58.732142857142854,
          96.74509803921569,
          78.69047619047619,
          199.61290322580646,
          95.79661016949153,
          33.291666666666664,
          32,
          41.42857142857143,
          25.181818181818183,
          33.976190476190474,
          15.825581395348838,
          16.010752688172044,
          12.56043956043956,
          14.32876712328767,
          8.154929577464788,
          4.928571428571429,
          2.925925925925926,
          1.1666666666666667
         ]
        }
       ],
       "layout": {
        "template": {
         "data": {
          "bar": [
           {
            "error_x": {
             "color": "#2a3f5f"
            },
            "error_y": {
             "color": "#2a3f5f"
            },
            "marker": {
             "line": {
              "color": "white",
              "width": 0.5
             },
             "pattern": {
              "fillmode": "overlay",
              "size": 10,
              "solidity": 0.2
             }
            },
            "type": "bar"
           }
          ],
          "barpolar": [
           {
            "marker": {
             "line": {
              "color": "white",
              "width": 0.5
             },
             "pattern": {
              "fillmode": "overlay",
              "size": 10,
              "solidity": 0.2
             }
            },
            "type": "barpolar"
           }
          ],
          "carpet": [
           {
            "aaxis": {
             "endlinecolor": "#2a3f5f",
             "gridcolor": "#C8D4E3",
             "linecolor": "#C8D4E3",
             "minorgridcolor": "#C8D4E3",
             "startlinecolor": "#2a3f5f"
            },
            "baxis": {
             "endlinecolor": "#2a3f5f",
             "gridcolor": "#C8D4E3",
             "linecolor": "#C8D4E3",
             "minorgridcolor": "#C8D4E3",
             "startlinecolor": "#2a3f5f"
            },
            "type": "carpet"
           }
          ],
          "choropleth": [
           {
            "colorbar": {
             "outlinewidth": 0,
             "ticks": ""
            },
            "type": "choropleth"
           }
          ],
          "contour": [
           {
            "colorbar": {
             "outlinewidth": 0,
             "ticks": ""
            },
            "colorscale": [
             [
              0,
              "#0d0887"
             ],
             [
              0.1111111111111111,
              "#46039f"
             ],
             [
              0.2222222222222222,
              "#7201a8"
             ],
             [
              0.3333333333333333,
              "#9c179e"
             ],
             [
              0.4444444444444444,
              "#bd3786"
             ],
             [
              0.5555555555555556,
              "#d8576b"
             ],
             [
              0.6666666666666666,
              "#ed7953"
             ],
             [
              0.7777777777777778,
              "#fb9f3a"
             ],
             [
              0.8888888888888888,
              "#fdca26"
             ],
             [
              1,
              "#f0f921"
             ]
            ],
            "type": "contour"
           }
          ],
          "contourcarpet": [
           {
            "colorbar": {
             "outlinewidth": 0,
             "ticks": ""
            },
            "type": "contourcarpet"
           }
          ],
          "heatmap": [
           {
            "colorbar": {
             "outlinewidth": 0,
             "ticks": ""
            },
            "colorscale": [
             [
              0,
              "#0d0887"
             ],
             [
              0.1111111111111111,
              "#46039f"
             ],
             [
              0.2222222222222222,
              "#7201a8"
             ],
             [
              0.3333333333333333,
              "#9c179e"
             ],
             [
              0.4444444444444444,
              "#bd3786"
             ],
             [
              0.5555555555555556,
              "#d8576b"
             ],
             [
              0.6666666666666666,
              "#ed7953"
             ],
             [
              0.7777777777777778,
              "#fb9f3a"
             ],
             [
              0.8888888888888888,
              "#fdca26"
             ],
             [
              1,
              "#f0f921"
             ]
            ],
            "type": "heatmap"
           }
          ],
          "heatmapgl": [
           {
            "colorbar": {
             "outlinewidth": 0,
             "ticks": ""
            },
            "colorscale": [
             [
              0,
              "#0d0887"
             ],
             [
              0.1111111111111111,
              "#46039f"
             ],
             [
              0.2222222222222222,
              "#7201a8"
             ],
             [
              0.3333333333333333,
              "#9c179e"
             ],
             [
              0.4444444444444444,
              "#bd3786"
             ],
             [
              0.5555555555555556,
              "#d8576b"
             ],
             [
              0.6666666666666666,
              "#ed7953"
             ],
             [
              0.7777777777777778,
              "#fb9f3a"
             ],
             [
              0.8888888888888888,
              "#fdca26"
             ],
             [
              1,
              "#f0f921"
             ]
            ],
            "type": "heatmapgl"
           }
          ],
          "histogram": [
           {
            "marker": {
             "pattern": {
              "fillmode": "overlay",
              "size": 10,
              "solidity": 0.2
             }
            },
            "type": "histogram"
           }
          ],
          "histogram2d": [
           {
            "colorbar": {
             "outlinewidth": 0,
             "ticks": ""
            },
            "colorscale": [
             [
              0,
              "#0d0887"
             ],
             [
              0.1111111111111111,
              "#46039f"
             ],
             [
              0.2222222222222222,
              "#7201a8"
             ],
             [
              0.3333333333333333,
              "#9c179e"
             ],
             [
              0.4444444444444444,
              "#bd3786"
             ],
             [
              0.5555555555555556,
              "#d8576b"
             ],
             [
              0.6666666666666666,
              "#ed7953"
             ],
             [
              0.7777777777777778,
              "#fb9f3a"
             ],
             [
              0.8888888888888888,
              "#fdca26"
             ],
             [
              1,
              "#f0f921"
             ]
            ],
            "type": "histogram2d"
           }
          ],
          "histogram2dcontour": [
           {
            "colorbar": {
             "outlinewidth": 0,
             "ticks": ""
            },
            "colorscale": [
             [
              0,
              "#0d0887"
             ],
             [
              0.1111111111111111,
              "#46039f"
             ],
             [
              0.2222222222222222,
              "#7201a8"
             ],
             [
              0.3333333333333333,
              "#9c179e"
             ],
             [
              0.4444444444444444,
              "#bd3786"
             ],
             [
              0.5555555555555556,
              "#d8576b"
             ],
             [
              0.6666666666666666,
              "#ed7953"
             ],
             [
              0.7777777777777778,
              "#fb9f3a"
             ],
             [
              0.8888888888888888,
              "#fdca26"
             ],
             [
              1,
              "#f0f921"
             ]
            ],
            "type": "histogram2dcontour"
           }
          ],
          "mesh3d": [
           {
            "colorbar": {
             "outlinewidth": 0,
             "ticks": ""
            },
            "type": "mesh3d"
           }
          ],
          "parcoords": [
           {
            "line": {
             "colorbar": {
              "outlinewidth": 0,
              "ticks": ""
             }
            },
            "type": "parcoords"
           }
          ],
          "pie": [
           {
            "automargin": true,
            "type": "pie"
           }
          ],
          "scatter": [
           {
            "fillpattern": {
             "fillmode": "overlay",
             "size": 10,
             "solidity": 0.2
            },
            "type": "scatter"
           }
          ],
          "scatter3d": [
           {
            "line": {
             "colorbar": {
              "outlinewidth": 0,
              "ticks": ""
             }
            },
            "marker": {
             "colorbar": {
              "outlinewidth": 0,
              "ticks": ""
             }
            },
            "type": "scatter3d"
           }
          ],
          "scattercarpet": [
           {
            "marker": {
             "colorbar": {
              "outlinewidth": 0,
              "ticks": ""
             }
            },
            "type": "scattercarpet"
           }
          ],
          "scattergeo": [
           {
            "marker": {
             "colorbar": {
              "outlinewidth": 0,
              "ticks": ""
             }
            },
            "type": "scattergeo"
           }
          ],
          "scattergl": [
           {
            "marker": {
             "colorbar": {
              "outlinewidth": 0,
              "ticks": ""
             }
            },
            "type": "scattergl"
           }
          ],
          "scattermapbox": [
           {
            "marker": {
             "colorbar": {
              "outlinewidth": 0,
              "ticks": ""
             }
            },
            "type": "scattermapbox"
           }
          ],
          "scatterpolar": [
           {
            "marker": {
             "colorbar": {
              "outlinewidth": 0,
              "ticks": ""
             }
            },
            "type": "scatterpolar"
           }
          ],
          "scatterpolargl": [
           {
            "marker": {
             "colorbar": {
              "outlinewidth": 0,
              "ticks": ""
             }
            },
            "type": "scatterpolargl"
           }
          ],
          "scatterternary": [
           {
            "marker": {
             "colorbar": {
              "outlinewidth": 0,
              "ticks": ""
             }
            },
            "type": "scatterternary"
           }
          ],
          "surface": [
           {
            "colorbar": {
             "outlinewidth": 0,
             "ticks": ""
            },
            "colorscale": [
             [
              0,
              "#0d0887"
             ],
             [
              0.1111111111111111,
              "#46039f"
             ],
             [
              0.2222222222222222,
              "#7201a8"
             ],
             [
              0.3333333333333333,
              "#9c179e"
             ],
             [
              0.4444444444444444,
              "#bd3786"
             ],
             [
              0.5555555555555556,
              "#d8576b"
             ],
             [
              0.6666666666666666,
              "#ed7953"
             ],
             [
              0.7777777777777778,
              "#fb9f3a"
             ],
             [
              0.8888888888888888,
              "#fdca26"
             ],
             [
              1,
              "#f0f921"
             ]
            ],
            "type": "surface"
           }
          ],
          "table": [
           {
            "cells": {
             "fill": {
              "color": "#EBF0F8"
             },
             "line": {
              "color": "white"
             }
            },
            "header": {
             "fill": {
              "color": "#C8D4E3"
             },
             "line": {
              "color": "white"
             }
            },
            "type": "table"
           }
          ]
         },
         "layout": {
          "annotationdefaults": {
           "arrowcolor": "#2a3f5f",
           "arrowhead": 0,
           "arrowwidth": 1
          },
          "autotypenumbers": "strict",
          "coloraxis": {
           "colorbar": {
            "outlinewidth": 0,
            "ticks": ""
           }
          },
          "colorscale": {
           "diverging": [
            [
             0,
             "#8e0152"
            ],
            [
             0.1,
             "#c51b7d"
            ],
            [
             0.2,
             "#de77ae"
            ],
            [
             0.3,
             "#f1b6da"
            ],
            [
             0.4,
             "#fde0ef"
            ],
            [
             0.5,
             "#f7f7f7"
            ],
            [
             0.6,
             "#e6f5d0"
            ],
            [
             0.7,
             "#b8e186"
            ],
            [
             0.8,
             "#7fbc41"
            ],
            [
             0.9,
             "#4d9221"
            ],
            [
             1,
             "#276419"
            ]
           ],
           "sequential": [
            [
             0,
             "#0d0887"
            ],
            [
             0.1111111111111111,
             "#46039f"
            ],
            [
             0.2222222222222222,
             "#7201a8"
            ],
            [
             0.3333333333333333,
             "#9c179e"
            ],
            [
             0.4444444444444444,
             "#bd3786"
            ],
            [
             0.5555555555555556,
             "#d8576b"
            ],
            [
             0.6666666666666666,
             "#ed7953"
            ],
            [
             0.7777777777777778,
             "#fb9f3a"
            ],
            [
             0.8888888888888888,
             "#fdca26"
            ],
            [
             1,
             "#f0f921"
            ]
           ],
           "sequentialminus": [
            [
             0,
             "#0d0887"
            ],
            [
             0.1111111111111111,
             "#46039f"
            ],
            [
             0.2222222222222222,
             "#7201a8"
            ],
            [
             0.3333333333333333,
             "#9c179e"
            ],
            [
             0.4444444444444444,
             "#bd3786"
            ],
            [
             0.5555555555555556,
             "#d8576b"
            ],
            [
             0.6666666666666666,
             "#ed7953"
            ],
            [
             0.7777777777777778,
             "#fb9f3a"
            ],
            [
             0.8888888888888888,
             "#fdca26"
            ],
            [
             1,
             "#f0f921"
            ]
           ]
          },
          "colorway": [
           "#636efa",
           "#EF553B",
           "#00cc96",
           "#ab63fa",
           "#FFA15A",
           "#19d3f3",
           "#FF6692",
           "#B6E880",
           "#FF97FF",
           "#FECB52"
          ],
          "font": {
           "color": "#2a3f5f"
          },
          "geo": {
           "bgcolor": "white",
           "lakecolor": "white",
           "landcolor": "white",
           "showlakes": true,
           "showland": true,
           "subunitcolor": "#C8D4E3"
          },
          "hoverlabel": {
           "align": "left"
          },
          "hovermode": "closest",
          "mapbox": {
           "style": "light"
          },
          "paper_bgcolor": "white",
          "plot_bgcolor": "white",
          "polar": {
           "angularaxis": {
            "gridcolor": "#EBF0F8",
            "linecolor": "#EBF0F8",
            "ticks": ""
           },
           "bgcolor": "white",
           "radialaxis": {
            "gridcolor": "#EBF0F8",
            "linecolor": "#EBF0F8",
            "ticks": ""
           }
          },
          "scene": {
           "xaxis": {
            "backgroundcolor": "white",
            "gridcolor": "#DFE8F3",
            "gridwidth": 2,
            "linecolor": "#EBF0F8",
            "showbackground": true,
            "ticks": "",
            "zerolinecolor": "#EBF0F8"
           },
           "yaxis": {
            "backgroundcolor": "white",
            "gridcolor": "#DFE8F3",
            "gridwidth": 2,
            "linecolor": "#EBF0F8",
            "showbackground": true,
            "ticks": "",
            "zerolinecolor": "#EBF0F8"
           },
           "zaxis": {
            "backgroundcolor": "white",
            "gridcolor": "#DFE8F3",
            "gridwidth": 2,
            "linecolor": "#EBF0F8",
            "showbackground": true,
            "ticks": "",
            "zerolinecolor": "#EBF0F8"
           }
          },
          "shapedefaults": {
           "line": {
            "color": "#2a3f5f"
           }
          },
          "ternary": {
           "aaxis": {
            "gridcolor": "#DFE8F3",
            "linecolor": "#A2B1C6",
            "ticks": ""
           },
           "baxis": {
            "gridcolor": "#DFE8F3",
            "linecolor": "#A2B1C6",
            "ticks": ""
           },
           "bgcolor": "white",
           "caxis": {
            "gridcolor": "#DFE8F3",
            "linecolor": "#A2B1C6",
            "ticks": ""
           }
          },
          "title": {
           "x": 0.05
          },
          "xaxis": {
           "automargin": true,
           "gridcolor": "#EBF0F8",
           "linecolor": "#EBF0F8",
           "ticks": "",
           "title": {
            "standoff": 15
           },
           "zerolinecolor": "#EBF0F8",
           "zerolinewidth": 2
          },
          "yaxis": {
           "automargin": true,
           "gridcolor": "#EBF0F8",
           "linecolor": "#EBF0F8",
           "ticks": "",
           "title": {
            "standoff": 15
           },
           "zerolinecolor": "#EBF0F8",
           "zerolinewidth": 2
          }
         }
        },
        "title": {
         "text": "Citation Impact Over Time"
        },
        "xaxis": {
         "title": {
          "text": "Year"
         }
        },
        "yaxis": {
         "title": {
          "text": "Average Citation Count"
         }
        }
       }
      }
     },
     "metadata": {},
     "output_type": "display_data"
    }
   ],
   "source": [
    "# Extracting year and citation data\n",
    "publication_years = []\n",
    "citation_counts = []\n",
    "for prof_data in data.values():\n",
    "    for paper in prof_data.get('Papers', []):\n",
    "        year = paper.get('Year_of_Publication')\n",
    "        if year:\n",
    "            publication_years.append(year)\n",
    "            citation_counts.append(paper.get('Citation_Count', 0))\n",
    "\n",
    "# Calculate average citation count per year\n",
    "avg_citation_counts = {}\n",
    "for year, citation_count in zip(publication_years, citation_counts):\n",
    "    if year in avg_citation_counts:\n",
    "        avg_citation_counts[year].append(citation_count)\n",
    "    else:\n",
    "        avg_citation_counts[year] = [citation_count]\n",
    "\n",
    "years = sorted(avg_citation_counts.keys())\n",
    "avg_citations = [np.mean(avg_citation_counts[year]) for year in years]\n",
    "\n",
    "# Create Plotly figure\n",
    "fig = go.Figure()\n",
    "\n",
    "fig.add_trace(\n",
    "    go.Scatter(\n",
    "        x=years,\n",
    "        y=avg_citations,\n",
    "        mode='lines+markers',\n",
    "        marker=dict(color='orange', size=8),\n",
    "        line=dict(color='orange')\n",
    "    )\n",
    ")\n",
    "\n",
    "fig.update_layout(\n",
    "    title='Citation Impact Over Time',\n",
    "    xaxis_title='Year',\n",
    "    yaxis_title='Average Citation Count',\n",
    "    template='plotly_white'\n",
    ")\n",
    "\n",
    "fig.show()\n"
   ]
  },
  {
   "cell_type": "markdown",
   "metadata": {
    "pycharm": {
     "name": "#%% md\n"
    }
   },
   "source": [
    "### Gender Distribution of Authors"
   ]
  },
  {
   "cell_type": "code",
   "execution_count": 145,
   "metadata": {
    "pycharm": {
     "name": "#%%\n"
    }
   },
   "outputs": [
    {
     "data": {
      "application/vnd.plotly.v1+json": {
       "config": {
        "plotlyServerURL": "https://plot.ly"
       },
       "data": [
        {
         "hole": 0.3,
         "hoverinfo": "label+percent",
         "labels": [
          "Female",
          "Male"
         ],
         "textinfo": "value",
         "type": "pie",
         "values": [
          19,
          37
         ]
        }
       ],
       "layout": {
        "template": {
         "data": {
          "bar": [
           {
            "error_x": {
             "color": "#2a3f5f"
            },
            "error_y": {
             "color": "#2a3f5f"
            },
            "marker": {
             "line": {
              "color": "white",
              "width": 0.5
             },
             "pattern": {
              "fillmode": "overlay",
              "size": 10,
              "solidity": 0.2
             }
            },
            "type": "bar"
           }
          ],
          "barpolar": [
           {
            "marker": {
             "line": {
              "color": "white",
              "width": 0.5
             },
             "pattern": {
              "fillmode": "overlay",
              "size": 10,
              "solidity": 0.2
             }
            },
            "type": "barpolar"
           }
          ],
          "carpet": [
           {
            "aaxis": {
             "endlinecolor": "#2a3f5f",
             "gridcolor": "#C8D4E3",
             "linecolor": "#C8D4E3",
             "minorgridcolor": "#C8D4E3",
             "startlinecolor": "#2a3f5f"
            },
            "baxis": {
             "endlinecolor": "#2a3f5f",
             "gridcolor": "#C8D4E3",
             "linecolor": "#C8D4E3",
             "minorgridcolor": "#C8D4E3",
             "startlinecolor": "#2a3f5f"
            },
            "type": "carpet"
           }
          ],
          "choropleth": [
           {
            "colorbar": {
             "outlinewidth": 0,
             "ticks": ""
            },
            "type": "choropleth"
           }
          ],
          "contour": [
           {
            "colorbar": {
             "outlinewidth": 0,
             "ticks": ""
            },
            "colorscale": [
             [
              0,
              "#0d0887"
             ],
             [
              0.1111111111111111,
              "#46039f"
             ],
             [
              0.2222222222222222,
              "#7201a8"
             ],
             [
              0.3333333333333333,
              "#9c179e"
             ],
             [
              0.4444444444444444,
              "#bd3786"
             ],
             [
              0.5555555555555556,
              "#d8576b"
             ],
             [
              0.6666666666666666,
              "#ed7953"
             ],
             [
              0.7777777777777778,
              "#fb9f3a"
             ],
             [
              0.8888888888888888,
              "#fdca26"
             ],
             [
              1,
              "#f0f921"
             ]
            ],
            "type": "contour"
           }
          ],
          "contourcarpet": [
           {
            "colorbar": {
             "outlinewidth": 0,
             "ticks": ""
            },
            "type": "contourcarpet"
           }
          ],
          "heatmap": [
           {
            "colorbar": {
             "outlinewidth": 0,
             "ticks": ""
            },
            "colorscale": [
             [
              0,
              "#0d0887"
             ],
             [
              0.1111111111111111,
              "#46039f"
             ],
             [
              0.2222222222222222,
              "#7201a8"
             ],
             [
              0.3333333333333333,
              "#9c179e"
             ],
             [
              0.4444444444444444,
              "#bd3786"
             ],
             [
              0.5555555555555556,
              "#d8576b"
             ],
             [
              0.6666666666666666,
              "#ed7953"
             ],
             [
              0.7777777777777778,
              "#fb9f3a"
             ],
             [
              0.8888888888888888,
              "#fdca26"
             ],
             [
              1,
              "#f0f921"
             ]
            ],
            "type": "heatmap"
           }
          ],
          "heatmapgl": [
           {
            "colorbar": {
             "outlinewidth": 0,
             "ticks": ""
            },
            "colorscale": [
             [
              0,
              "#0d0887"
             ],
             [
              0.1111111111111111,
              "#46039f"
             ],
             [
              0.2222222222222222,
              "#7201a8"
             ],
             [
              0.3333333333333333,
              "#9c179e"
             ],
             [
              0.4444444444444444,
              "#bd3786"
             ],
             [
              0.5555555555555556,
              "#d8576b"
             ],
             [
              0.6666666666666666,
              "#ed7953"
             ],
             [
              0.7777777777777778,
              "#fb9f3a"
             ],
             [
              0.8888888888888888,
              "#fdca26"
             ],
             [
              1,
              "#f0f921"
             ]
            ],
            "type": "heatmapgl"
           }
          ],
          "histogram": [
           {
            "marker": {
             "pattern": {
              "fillmode": "overlay",
              "size": 10,
              "solidity": 0.2
             }
            },
            "type": "histogram"
           }
          ],
          "histogram2d": [
           {
            "colorbar": {
             "outlinewidth": 0,
             "ticks": ""
            },
            "colorscale": [
             [
              0,
              "#0d0887"
             ],
             [
              0.1111111111111111,
              "#46039f"
             ],
             [
              0.2222222222222222,
              "#7201a8"
             ],
             [
              0.3333333333333333,
              "#9c179e"
             ],
             [
              0.4444444444444444,
              "#bd3786"
             ],
             [
              0.5555555555555556,
              "#d8576b"
             ],
             [
              0.6666666666666666,
              "#ed7953"
             ],
             [
              0.7777777777777778,
              "#fb9f3a"
             ],
             [
              0.8888888888888888,
              "#fdca26"
             ],
             [
              1,
              "#f0f921"
             ]
            ],
            "type": "histogram2d"
           }
          ],
          "histogram2dcontour": [
           {
            "colorbar": {
             "outlinewidth": 0,
             "ticks": ""
            },
            "colorscale": [
             [
              0,
              "#0d0887"
             ],
             [
              0.1111111111111111,
              "#46039f"
             ],
             [
              0.2222222222222222,
              "#7201a8"
             ],
             [
              0.3333333333333333,
              "#9c179e"
             ],
             [
              0.4444444444444444,
              "#bd3786"
             ],
             [
              0.5555555555555556,
              "#d8576b"
             ],
             [
              0.6666666666666666,
              "#ed7953"
             ],
             [
              0.7777777777777778,
              "#fb9f3a"
             ],
             [
              0.8888888888888888,
              "#fdca26"
             ],
             [
              1,
              "#f0f921"
             ]
            ],
            "type": "histogram2dcontour"
           }
          ],
          "mesh3d": [
           {
            "colorbar": {
             "outlinewidth": 0,
             "ticks": ""
            },
            "type": "mesh3d"
           }
          ],
          "parcoords": [
           {
            "line": {
             "colorbar": {
              "outlinewidth": 0,
              "ticks": ""
             }
            },
            "type": "parcoords"
           }
          ],
          "pie": [
           {
            "automargin": true,
            "type": "pie"
           }
          ],
          "scatter": [
           {
            "fillpattern": {
             "fillmode": "overlay",
             "size": 10,
             "solidity": 0.2
            },
            "type": "scatter"
           }
          ],
          "scatter3d": [
           {
            "line": {
             "colorbar": {
              "outlinewidth": 0,
              "ticks": ""
             }
            },
            "marker": {
             "colorbar": {
              "outlinewidth": 0,
              "ticks": ""
             }
            },
            "type": "scatter3d"
           }
          ],
          "scattercarpet": [
           {
            "marker": {
             "colorbar": {
              "outlinewidth": 0,
              "ticks": ""
             }
            },
            "type": "scattercarpet"
           }
          ],
          "scattergeo": [
           {
            "marker": {
             "colorbar": {
              "outlinewidth": 0,
              "ticks": ""
             }
            },
            "type": "scattergeo"
           }
          ],
          "scattergl": [
           {
            "marker": {
             "colorbar": {
              "outlinewidth": 0,
              "ticks": ""
             }
            },
            "type": "scattergl"
           }
          ],
          "scattermapbox": [
           {
            "marker": {
             "colorbar": {
              "outlinewidth": 0,
              "ticks": ""
             }
            },
            "type": "scattermapbox"
           }
          ],
          "scatterpolar": [
           {
            "marker": {
             "colorbar": {
              "outlinewidth": 0,
              "ticks": ""
             }
            },
            "type": "scatterpolar"
           }
          ],
          "scatterpolargl": [
           {
            "marker": {
             "colorbar": {
              "outlinewidth": 0,
              "ticks": ""
             }
            },
            "type": "scatterpolargl"
           }
          ],
          "scatterternary": [
           {
            "marker": {
             "colorbar": {
              "outlinewidth": 0,
              "ticks": ""
             }
            },
            "type": "scatterternary"
           }
          ],
          "surface": [
           {
            "colorbar": {
             "outlinewidth": 0,
             "ticks": ""
            },
            "colorscale": [
             [
              0,
              "#0d0887"
             ],
             [
              0.1111111111111111,
              "#46039f"
             ],
             [
              0.2222222222222222,
              "#7201a8"
             ],
             [
              0.3333333333333333,
              "#9c179e"
             ],
             [
              0.4444444444444444,
              "#bd3786"
             ],
             [
              0.5555555555555556,
              "#d8576b"
             ],
             [
              0.6666666666666666,
              "#ed7953"
             ],
             [
              0.7777777777777778,
              "#fb9f3a"
             ],
             [
              0.8888888888888888,
              "#fdca26"
             ],
             [
              1,
              "#f0f921"
             ]
            ],
            "type": "surface"
           }
          ],
          "table": [
           {
            "cells": {
             "fill": {
              "color": "#EBF0F8"
             },
             "line": {
              "color": "white"
             }
            },
            "header": {
             "fill": {
              "color": "#C8D4E3"
             },
             "line": {
              "color": "white"
             }
            },
            "type": "table"
           }
          ]
         },
         "layout": {
          "annotationdefaults": {
           "arrowcolor": "#2a3f5f",
           "arrowhead": 0,
           "arrowwidth": 1
          },
          "autotypenumbers": "strict",
          "coloraxis": {
           "colorbar": {
            "outlinewidth": 0,
            "ticks": ""
           }
          },
          "colorscale": {
           "diverging": [
            [
             0,
             "#8e0152"
            ],
            [
             0.1,
             "#c51b7d"
            ],
            [
             0.2,
             "#de77ae"
            ],
            [
             0.3,
             "#f1b6da"
            ],
            [
             0.4,
             "#fde0ef"
            ],
            [
             0.5,
             "#f7f7f7"
            ],
            [
             0.6,
             "#e6f5d0"
            ],
            [
             0.7,
             "#b8e186"
            ],
            [
             0.8,
             "#7fbc41"
            ],
            [
             0.9,
             "#4d9221"
            ],
            [
             1,
             "#276419"
            ]
           ],
           "sequential": [
            [
             0,
             "#0d0887"
            ],
            [
             0.1111111111111111,
             "#46039f"
            ],
            [
             0.2222222222222222,
             "#7201a8"
            ],
            [
             0.3333333333333333,
             "#9c179e"
            ],
            [
             0.4444444444444444,
             "#bd3786"
            ],
            [
             0.5555555555555556,
             "#d8576b"
            ],
            [
             0.6666666666666666,
             "#ed7953"
            ],
            [
             0.7777777777777778,
             "#fb9f3a"
            ],
            [
             0.8888888888888888,
             "#fdca26"
            ],
            [
             1,
             "#f0f921"
            ]
           ],
           "sequentialminus": [
            [
             0,
             "#0d0887"
            ],
            [
             0.1111111111111111,
             "#46039f"
            ],
            [
             0.2222222222222222,
             "#7201a8"
            ],
            [
             0.3333333333333333,
             "#9c179e"
            ],
            [
             0.4444444444444444,
             "#bd3786"
            ],
            [
             0.5555555555555556,
             "#d8576b"
            ],
            [
             0.6666666666666666,
             "#ed7953"
            ],
            [
             0.7777777777777778,
             "#fb9f3a"
            ],
            [
             0.8888888888888888,
             "#fdca26"
            ],
            [
             1,
             "#f0f921"
            ]
           ]
          },
          "colorway": [
           "#636efa",
           "#EF553B",
           "#00cc96",
           "#ab63fa",
           "#FFA15A",
           "#19d3f3",
           "#FF6692",
           "#B6E880",
           "#FF97FF",
           "#FECB52"
          ],
          "font": {
           "color": "#2a3f5f"
          },
          "geo": {
           "bgcolor": "white",
           "lakecolor": "white",
           "landcolor": "white",
           "showlakes": true,
           "showland": true,
           "subunitcolor": "#C8D4E3"
          },
          "hoverlabel": {
           "align": "left"
          },
          "hovermode": "closest",
          "mapbox": {
           "style": "light"
          },
          "paper_bgcolor": "white",
          "plot_bgcolor": "white",
          "polar": {
           "angularaxis": {
            "gridcolor": "#EBF0F8",
            "linecolor": "#EBF0F8",
            "ticks": ""
           },
           "bgcolor": "white",
           "radialaxis": {
            "gridcolor": "#EBF0F8",
            "linecolor": "#EBF0F8",
            "ticks": ""
           }
          },
          "scene": {
           "xaxis": {
            "backgroundcolor": "white",
            "gridcolor": "#DFE8F3",
            "gridwidth": 2,
            "linecolor": "#EBF0F8",
            "showbackground": true,
            "ticks": "",
            "zerolinecolor": "#EBF0F8"
           },
           "yaxis": {
            "backgroundcolor": "white",
            "gridcolor": "#DFE8F3",
            "gridwidth": 2,
            "linecolor": "#EBF0F8",
            "showbackground": true,
            "ticks": "",
            "zerolinecolor": "#EBF0F8"
           },
           "zaxis": {
            "backgroundcolor": "white",
            "gridcolor": "#DFE8F3",
            "gridwidth": 2,
            "linecolor": "#EBF0F8",
            "showbackground": true,
            "ticks": "",
            "zerolinecolor": "#EBF0F8"
           }
          },
          "shapedefaults": {
           "line": {
            "color": "#2a3f5f"
           }
          },
          "ternary": {
           "aaxis": {
            "gridcolor": "#DFE8F3",
            "linecolor": "#A2B1C6",
            "ticks": ""
           },
           "baxis": {
            "gridcolor": "#DFE8F3",
            "linecolor": "#A2B1C6",
            "ticks": ""
           },
           "bgcolor": "white",
           "caxis": {
            "gridcolor": "#DFE8F3",
            "linecolor": "#A2B1C6",
            "ticks": ""
           }
          },
          "title": {
           "x": 0.05
          },
          "xaxis": {
           "automargin": true,
           "gridcolor": "#EBF0F8",
           "linecolor": "#EBF0F8",
           "ticks": "",
           "title": {
            "standoff": 15
           },
           "zerolinecolor": "#EBF0F8",
           "zerolinewidth": 2
          },
          "yaxis": {
           "automargin": true,
           "gridcolor": "#EBF0F8",
           "linecolor": "#EBF0F8",
           "ticks": "",
           "title": {
            "standoff": 15
           },
           "zerolinecolor": "#EBF0F8",
           "zerolinewidth": 2
          }
         }
        },
        "title": {
         "text": "Gender Distribution of Authors"
        }
       }
      }
     },
     "metadata": {},
     "output_type": "display_data"
    }
   ],
   "source": [
    "# Extracting gender counts\n",
    "gender_counts = {}\n",
    "for prof_data in data.values():\n",
    "    gender = prof_data.get('Gender')\n",
    "    if gender:\n",
    "        if gender in gender_counts:\n",
    "            gender_counts[gender] += 1\n",
    "        else:\n",
    "            gender_counts[gender] = 1\n",
    "\n",
    "# Create Plotly pie chart\n",
    "fig = go.Figure(data=[go.Pie(labels=list(gender_counts.keys()), \n",
    "                             values=list(gender_counts.values()), \n",
    "                             hole=.3,  # Creates a donut-shaped pie chart\n",
    "                             hoverinfo='label+percent', \n",
    "                             textinfo='value')])\n",
    "\n",
    "fig.update_layout(\n",
    "    title='Gender Distribution of Authors',\n",
    "    template='plotly_white'\n",
    ")\n",
    "\n",
    "fig.show()\n"
   ]
  },
  {
   "cell_type": "markdown",
   "metadata": {
    "pycharm": {
     "name": "#%% md\n"
    }
   },
   "source": [
    "## Dashboard 2: Analysis of fields of study"
   ]
  },
  {
   "cell_type": "code",
   "execution_count": 146,
   "metadata": {
    "pycharm": {
     "name": "#%%\n"
    }
   },
   "outputs": [],
   "source": [
    "# Publication Trends by Field\n",
    "field_publications = {}\n",
    "for prof_data in data.values():\n",
    "    for paper in prof_data.get('Papers', []):\n",
    "        fields = paper.get('Fields_of_Study', []) if paper.get('Fields_of_Study') is not None else []\n",
    "        year = paper.get('Year_of_Publication')\n",
    "        for field in fields:\n",
    "            if field not in field_publications:\n",
    "                field_publications[field] = {year: 1}\n",
    "            else:\n",
    "                if year in field_publications[field]:\n",
    "                    field_publications[field][year] += 1\n",
    "                else:\n",
    "                    field_publications[field][year] = 1\n",
    "                    \n",
    "fields_growth_rate = {}\n",
    "max_years = max(len(publications) for publications in field_publications.values())\n",
    "for field, publications in field_publications.items():\n",
    "    years = sorted(publications.keys())\n",
    "    counts = [publications[year] for year in years]\n",
    "    growth_rate = [(counts[i] - counts[i - 1]) / counts[i - 1] * 100 if i > 0 else 0 for i in range(len(counts))]\n",
    "    growth_rate += [0] * (max_years - len(growth_rate))\n",
    "    fields_growth_rate[field] = growth_rate[:max_years]"
   ]
  },
  {
   "cell_type": "markdown",
   "metadata": {
    "pycharm": {
     "name": "#%% md\n"
    }
   },
   "source": [
    "### Comparison between temporal analysis of fields growth "
   ]
  },
  {
   "cell_type": "code",
   "execution_count": 147,
   "metadata": {
    "pycharm": {
     "name": "#%%\n"
    }
   },
   "outputs": [
    {
     "data": {
      "application/vnd.jupyter.widget-view+json": {
       "model_id": "130a1e3aad074bceae825da614b39ee3",
       "version_major": 2,
       "version_minor": 0
      },
      "text/plain": [
       "Output()"
      ]
     },
     "metadata": {},
     "output_type": "display_data"
    },
    {
     "data": {
      "application/vnd.plotly.v1+json": {
       "config": {
        "plotlyServerURL": "https://plot.ly"
       },
       "data": [],
       "layout": {
        "template": {
         "data": {
          "bar": [
           {
            "error_x": {
             "color": "#2a3f5f"
            },
            "error_y": {
             "color": "#2a3f5f"
            },
            "marker": {
             "line": {
              "color": "#E5ECF6",
              "width": 0.5
             },
             "pattern": {
              "fillmode": "overlay",
              "size": 10,
              "solidity": 0.2
             }
            },
            "type": "bar"
           }
          ],
          "barpolar": [
           {
            "marker": {
             "line": {
              "color": "#E5ECF6",
              "width": 0.5
             },
             "pattern": {
              "fillmode": "overlay",
              "size": 10,
              "solidity": 0.2
             }
            },
            "type": "barpolar"
           }
          ],
          "carpet": [
           {
            "aaxis": {
             "endlinecolor": "#2a3f5f",
             "gridcolor": "white",
             "linecolor": "white",
             "minorgridcolor": "white",
             "startlinecolor": "#2a3f5f"
            },
            "baxis": {
             "endlinecolor": "#2a3f5f",
             "gridcolor": "white",
             "linecolor": "white",
             "minorgridcolor": "white",
             "startlinecolor": "#2a3f5f"
            },
            "type": "carpet"
           }
          ],
          "choropleth": [
           {
            "colorbar": {
             "outlinewidth": 0,
             "ticks": ""
            },
            "type": "choropleth"
           }
          ],
          "contour": [
           {
            "colorbar": {
             "outlinewidth": 0,
             "ticks": ""
            },
            "colorscale": [
             [
              0,
              "#0d0887"
             ],
             [
              0.1111111111111111,
              "#46039f"
             ],
             [
              0.2222222222222222,
              "#7201a8"
             ],
             [
              0.3333333333333333,
              "#9c179e"
             ],
             [
              0.4444444444444444,
              "#bd3786"
             ],
             [
              0.5555555555555556,
              "#d8576b"
             ],
             [
              0.6666666666666666,
              "#ed7953"
             ],
             [
              0.7777777777777778,
              "#fb9f3a"
             ],
             [
              0.8888888888888888,
              "#fdca26"
             ],
             [
              1,
              "#f0f921"
             ]
            ],
            "type": "contour"
           }
          ],
          "contourcarpet": [
           {
            "colorbar": {
             "outlinewidth": 0,
             "ticks": ""
            },
            "type": "contourcarpet"
           }
          ],
          "heatmap": [
           {
            "colorbar": {
             "outlinewidth": 0,
             "ticks": ""
            },
            "colorscale": [
             [
              0,
              "#0d0887"
             ],
             [
              0.1111111111111111,
              "#46039f"
             ],
             [
              0.2222222222222222,
              "#7201a8"
             ],
             [
              0.3333333333333333,
              "#9c179e"
             ],
             [
              0.4444444444444444,
              "#bd3786"
             ],
             [
              0.5555555555555556,
              "#d8576b"
             ],
             [
              0.6666666666666666,
              "#ed7953"
             ],
             [
              0.7777777777777778,
              "#fb9f3a"
             ],
             [
              0.8888888888888888,
              "#fdca26"
             ],
             [
              1,
              "#f0f921"
             ]
            ],
            "type": "heatmap"
           }
          ],
          "heatmapgl": [
           {
            "colorbar": {
             "outlinewidth": 0,
             "ticks": ""
            },
            "colorscale": [
             [
              0,
              "#0d0887"
             ],
             [
              0.1111111111111111,
              "#46039f"
             ],
             [
              0.2222222222222222,
              "#7201a8"
             ],
             [
              0.3333333333333333,
              "#9c179e"
             ],
             [
              0.4444444444444444,
              "#bd3786"
             ],
             [
              0.5555555555555556,
              "#d8576b"
             ],
             [
              0.6666666666666666,
              "#ed7953"
             ],
             [
              0.7777777777777778,
              "#fb9f3a"
             ],
             [
              0.8888888888888888,
              "#fdca26"
             ],
             [
              1,
              "#f0f921"
             ]
            ],
            "type": "heatmapgl"
           }
          ],
          "histogram": [
           {
            "marker": {
             "pattern": {
              "fillmode": "overlay",
              "size": 10,
              "solidity": 0.2
             }
            },
            "type": "histogram"
           }
          ],
          "histogram2d": [
           {
            "colorbar": {
             "outlinewidth": 0,
             "ticks": ""
            },
            "colorscale": [
             [
              0,
              "#0d0887"
             ],
             [
              0.1111111111111111,
              "#46039f"
             ],
             [
              0.2222222222222222,
              "#7201a8"
             ],
             [
              0.3333333333333333,
              "#9c179e"
             ],
             [
              0.4444444444444444,
              "#bd3786"
             ],
             [
              0.5555555555555556,
              "#d8576b"
             ],
             [
              0.6666666666666666,
              "#ed7953"
             ],
             [
              0.7777777777777778,
              "#fb9f3a"
             ],
             [
              0.8888888888888888,
              "#fdca26"
             ],
             [
              1,
              "#f0f921"
             ]
            ],
            "type": "histogram2d"
           }
          ],
          "histogram2dcontour": [
           {
            "colorbar": {
             "outlinewidth": 0,
             "ticks": ""
            },
            "colorscale": [
             [
              0,
              "#0d0887"
             ],
             [
              0.1111111111111111,
              "#46039f"
             ],
             [
              0.2222222222222222,
              "#7201a8"
             ],
             [
              0.3333333333333333,
              "#9c179e"
             ],
             [
              0.4444444444444444,
              "#bd3786"
             ],
             [
              0.5555555555555556,
              "#d8576b"
             ],
             [
              0.6666666666666666,
              "#ed7953"
             ],
             [
              0.7777777777777778,
              "#fb9f3a"
             ],
             [
              0.8888888888888888,
              "#fdca26"
             ],
             [
              1,
              "#f0f921"
             ]
            ],
            "type": "histogram2dcontour"
           }
          ],
          "mesh3d": [
           {
            "colorbar": {
             "outlinewidth": 0,
             "ticks": ""
            },
            "type": "mesh3d"
           }
          ],
          "parcoords": [
           {
            "line": {
             "colorbar": {
              "outlinewidth": 0,
              "ticks": ""
             }
            },
            "type": "parcoords"
           }
          ],
          "pie": [
           {
            "automargin": true,
            "type": "pie"
           }
          ],
          "scatter": [
           {
            "fillpattern": {
             "fillmode": "overlay",
             "size": 10,
             "solidity": 0.2
            },
            "type": "scatter"
           }
          ],
          "scatter3d": [
           {
            "line": {
             "colorbar": {
              "outlinewidth": 0,
              "ticks": ""
             }
            },
            "marker": {
             "colorbar": {
              "outlinewidth": 0,
              "ticks": ""
             }
            },
            "type": "scatter3d"
           }
          ],
          "scattercarpet": [
           {
            "marker": {
             "colorbar": {
              "outlinewidth": 0,
              "ticks": ""
             }
            },
            "type": "scattercarpet"
           }
          ],
          "scattergeo": [
           {
            "marker": {
             "colorbar": {
              "outlinewidth": 0,
              "ticks": ""
             }
            },
            "type": "scattergeo"
           }
          ],
          "scattergl": [
           {
            "marker": {
             "colorbar": {
              "outlinewidth": 0,
              "ticks": ""
             }
            },
            "type": "scattergl"
           }
          ],
          "scattermapbox": [
           {
            "marker": {
             "colorbar": {
              "outlinewidth": 0,
              "ticks": ""
             }
            },
            "type": "scattermapbox"
           }
          ],
          "scatterpolar": [
           {
            "marker": {
             "colorbar": {
              "outlinewidth": 0,
              "ticks": ""
             }
            },
            "type": "scatterpolar"
           }
          ],
          "scatterpolargl": [
           {
            "marker": {
             "colorbar": {
              "outlinewidth": 0,
              "ticks": ""
             }
            },
            "type": "scatterpolargl"
           }
          ],
          "scatterternary": [
           {
            "marker": {
             "colorbar": {
              "outlinewidth": 0,
              "ticks": ""
             }
            },
            "type": "scatterternary"
           }
          ],
          "surface": [
           {
            "colorbar": {
             "outlinewidth": 0,
             "ticks": ""
            },
            "colorscale": [
             [
              0,
              "#0d0887"
             ],
             [
              0.1111111111111111,
              "#46039f"
             ],
             [
              0.2222222222222222,
              "#7201a8"
             ],
             [
              0.3333333333333333,
              "#9c179e"
             ],
             [
              0.4444444444444444,
              "#bd3786"
             ],
             [
              0.5555555555555556,
              "#d8576b"
             ],
             [
              0.6666666666666666,
              "#ed7953"
             ],
             [
              0.7777777777777778,
              "#fb9f3a"
             ],
             [
              0.8888888888888888,
              "#fdca26"
             ],
             [
              1,
              "#f0f921"
             ]
            ],
            "type": "surface"
           }
          ],
          "table": [
           {
            "cells": {
             "fill": {
              "color": "#EBF0F8"
             },
             "line": {
              "color": "white"
             }
            },
            "header": {
             "fill": {
              "color": "#C8D4E3"
             },
             "line": {
              "color": "white"
             }
            },
            "type": "table"
           }
          ]
         },
         "layout": {
          "annotationdefaults": {
           "arrowcolor": "#2a3f5f",
           "arrowhead": 0,
           "arrowwidth": 1
          },
          "autotypenumbers": "strict",
          "coloraxis": {
           "colorbar": {
            "outlinewidth": 0,
            "ticks": ""
           }
          },
          "colorscale": {
           "diverging": [
            [
             0,
             "#8e0152"
            ],
            [
             0.1,
             "#c51b7d"
            ],
            [
             0.2,
             "#de77ae"
            ],
            [
             0.3,
             "#f1b6da"
            ],
            [
             0.4,
             "#fde0ef"
            ],
            [
             0.5,
             "#f7f7f7"
            ],
            [
             0.6,
             "#e6f5d0"
            ],
            [
             0.7,
             "#b8e186"
            ],
            [
             0.8,
             "#7fbc41"
            ],
            [
             0.9,
             "#4d9221"
            ],
            [
             1,
             "#276419"
            ]
           ],
           "sequential": [
            [
             0,
             "#0d0887"
            ],
            [
             0.1111111111111111,
             "#46039f"
            ],
            [
             0.2222222222222222,
             "#7201a8"
            ],
            [
             0.3333333333333333,
             "#9c179e"
            ],
            [
             0.4444444444444444,
             "#bd3786"
            ],
            [
             0.5555555555555556,
             "#d8576b"
            ],
            [
             0.6666666666666666,
             "#ed7953"
            ],
            [
             0.7777777777777778,
             "#fb9f3a"
            ],
            [
             0.8888888888888888,
             "#fdca26"
            ],
            [
             1,
             "#f0f921"
            ]
           ],
           "sequentialminus": [
            [
             0,
             "#0d0887"
            ],
            [
             0.1111111111111111,
             "#46039f"
            ],
            [
             0.2222222222222222,
             "#7201a8"
            ],
            [
             0.3333333333333333,
             "#9c179e"
            ],
            [
             0.4444444444444444,
             "#bd3786"
            ],
            [
             0.5555555555555556,
             "#d8576b"
            ],
            [
             0.6666666666666666,
             "#ed7953"
            ],
            [
             0.7777777777777778,
             "#fb9f3a"
            ],
            [
             0.8888888888888888,
             "#fdca26"
            ],
            [
             1,
             "#f0f921"
            ]
           ]
          },
          "colorway": [
           "#636efa",
           "#EF553B",
           "#00cc96",
           "#ab63fa",
           "#FFA15A",
           "#19d3f3",
           "#FF6692",
           "#B6E880",
           "#FF97FF",
           "#FECB52"
          ],
          "font": {
           "color": "#2a3f5f"
          },
          "geo": {
           "bgcolor": "white",
           "lakecolor": "white",
           "landcolor": "#E5ECF6",
           "showlakes": true,
           "showland": true,
           "subunitcolor": "white"
          },
          "hoverlabel": {
           "align": "left"
          },
          "hovermode": "closest",
          "mapbox": {
           "style": "light"
          },
          "paper_bgcolor": "white",
          "plot_bgcolor": "#E5ECF6",
          "polar": {
           "angularaxis": {
            "gridcolor": "white",
            "linecolor": "white",
            "ticks": ""
           },
           "bgcolor": "#E5ECF6",
           "radialaxis": {
            "gridcolor": "white",
            "linecolor": "white",
            "ticks": ""
           }
          },
          "scene": {
           "xaxis": {
            "backgroundcolor": "#E5ECF6",
            "gridcolor": "white",
            "gridwidth": 2,
            "linecolor": "white",
            "showbackground": true,
            "ticks": "",
            "zerolinecolor": "white"
           },
           "yaxis": {
            "backgroundcolor": "#E5ECF6",
            "gridcolor": "white",
            "gridwidth": 2,
            "linecolor": "white",
            "showbackground": true,
            "ticks": "",
            "zerolinecolor": "white"
           },
           "zaxis": {
            "backgroundcolor": "#E5ECF6",
            "gridcolor": "white",
            "gridwidth": 2,
            "linecolor": "white",
            "showbackground": true,
            "ticks": "",
            "zerolinecolor": "white"
           }
          },
          "shapedefaults": {
           "line": {
            "color": "#2a3f5f"
           }
          },
          "ternary": {
           "aaxis": {
            "gridcolor": "white",
            "linecolor": "white",
            "ticks": ""
           },
           "baxis": {
            "gridcolor": "white",
            "linecolor": "white",
            "ticks": ""
           },
           "bgcolor": "#E5ECF6",
           "caxis": {
            "gridcolor": "white",
            "linecolor": "white",
            "ticks": ""
           }
          },
          "title": {
           "x": 0.05
          },
          "xaxis": {
           "automargin": true,
           "gridcolor": "white",
           "linecolor": "white",
           "ticks": "",
           "title": {
            "standoff": 15
           },
           "zerolinecolor": "white",
           "zerolinewidth": 2
          },
          "yaxis": {
           "automargin": true,
           "gridcolor": "white",
           "linecolor": "white",
           "ticks": "",
           "title": {
            "standoff": 15
           },
           "zerolinecolor": "white",
           "zerolinewidth": 2
          }
         }
        }
       }
      }
     },
     "metadata": {},
     "output_type": "display_data"
    },
    {
     "data": {
      "application/vnd.jupyter.widget-view+json": {
       "model_id": "5e38ed66868c428395fac38916c02d39",
       "version_major": 2,
       "version_minor": 0
      },
      "text/plain": [
       "VBox(children=(Dropdown(description='Field 1:', options=(None, 'Computer Science', 'Engineering', 'Mathematics…"
      ]
     },
     "metadata": {},
     "output_type": "display_data"
    }
   ],
   "source": [
    "import plotly.graph_objects as go\n",
    "import ipywidgets as widgets\n",
    "from IPython.display import display\n",
    "\n",
    "# Initialize the figure and output widget\n",
    "fig = go.Figure()\n",
    "plot_output = widgets.Output()\n",
    "display(plot_output)  # This needs to be called only once\n",
    "\n",
    "# Function to update the plot based on dropdown selections\n",
    "def update_plot(field1, field2):\n",
    "    with plot_output:\n",
    "        plot_output.clear_output(wait=True)  # Clear the current output to ensure no old plots remain\n",
    "\n",
    "        # Initialize a new figure to start fresh\n",
    "        fig = go.Figure()\n",
    "\n",
    "        years = list(range(1, max_years + 1))\n",
    "        if field1:  # Add the first field if selected\n",
    "            fig.add_trace(go.Scatter(x=years, y=fields_growth_rate[field1],\n",
    "                                    mode='lines+markers', name=field1))\n",
    "        if field2:  # Add the second field if selected\n",
    "            fig.add_trace(go.Scatter(x=years, y=fields_growth_rate[field2],\n",
    "                                    mode='lines+markers', name=field2))\n",
    "\n",
    "        # Update layout only if at least one field is selected\n",
    "        if field1 or field2:\n",
    "            fig.update_layout(\n",
    "                title='Temporal Analysis of Field Growth',\n",
    "                xaxis_title='Year',\n",
    "                yaxis_title='Growth Rate (%)',\n",
    "                legend_title='Field',\n",
    "                template='plotly_white'\n",
    "            )\n",
    "            fig.update_xaxes(showgrid=True, gridwidth=1, gridcolor='LightPink')\n",
    "            fig.update_yaxes(showgrid=True, gridwidth=1, gridcolor='LightBlue')\n",
    "\n",
    "        fig.show()\n",
    "\n",
    "# Dropdown widgets for field selection\n",
    "dropdown1 = widgets.Dropdown(options=[None] + list(fields_growth_rate.keys()), value=None, description='Field 1:', disabled=False)\n",
    "dropdown2 = widgets.Dropdown(options=[None] + list(fields_growth_rate.keys()), value=None, description='Field 2:', disabled=False)\n",
    "\n",
    "# Function to handle dropdown changes\n",
    "def on_dropdown_change(change):\n",
    "    update_plot(dropdown1.value, dropdown2.value)\n",
    "\n",
    "# Observe changes in the dropdowns\n",
    "dropdown1.observe(on_dropdown_change, names='value')\n",
    "dropdown2.observe(on_dropdown_change, names='value')\n",
    "\n",
    "# Arrange the dropdowns and the plot output in a vertical layout\n",
    "dashboard = widgets.VBox([dropdown1, dropdown2])\n",
    "display(dashboard)\n",
    "\n",
    "# Initialize with no fields selected\n",
    "update_plot(None, None)"
   ]
  },
  {
   "cell_type": "markdown",
   "metadata": {
    "pycharm": {
     "name": "#%% md\n"
    }
   },
   "source": [
    "### Citation count for each field of study"
   ]
  },
  {
   "cell_type": "code",
   "execution_count": 148,
   "metadata": {
    "pycharm": {
     "name": "#%%\n"
    }
   },
   "outputs": [
    {
     "data": {
      "application/vnd.plotly.v1+json": {
       "config": {
        "plotlyServerURL": "https://plot.ly"
       },
       "data": [
        {
         "alignmentgroup": "True",
         "hovertemplate": "Field of Study=%{x}<br>Total Citation Counts=%{y}<extra></extra>",
         "legendgroup": "",
         "marker": {
          "color": "#636efa",
          "pattern": {
           "shape": ""
          }
         },
         "name": "",
         "offsetgroup": "",
         "orientation": "v",
         "showlegend": false,
         "textposition": "auto",
         "type": "bar",
         "x": [
          "Business",
          "Computer Science",
          "Psychology",
          "Economics",
          "Medicine",
          "Sociology",
          "Political Science",
          "Engineering",
          "Mathematics",
          "Biology",
          "Art",
          "Chemistry",
          "Physics",
          "Geography",
          "Philosophy",
          "History",
          "Materials Science"
         ],
         "xaxis": "x",
         "y": [
          454,
          206,
          117,
          109,
          89,
          76,
          63,
          57,
          52,
          17,
          15,
          12,
          10,
          9,
          3,
          3,
          2
         ],
         "yaxis": "y"
        }
       ],
       "layout": {
        "barmode": "relative",
        "legend": {
         "tracegroupgap": 0
        },
        "template": {
         "data": {
          "bar": [
           {
            "error_x": {
             "color": "#2a3f5f"
            },
            "error_y": {
             "color": "#2a3f5f"
            },
            "marker": {
             "line": {
              "color": "#E5ECF6",
              "width": 0.5
             },
             "pattern": {
              "fillmode": "overlay",
              "size": 10,
              "solidity": 0.2
             }
            },
            "type": "bar"
           }
          ],
          "barpolar": [
           {
            "marker": {
             "line": {
              "color": "#E5ECF6",
              "width": 0.5
             },
             "pattern": {
              "fillmode": "overlay",
              "size": 10,
              "solidity": 0.2
             }
            },
            "type": "barpolar"
           }
          ],
          "carpet": [
           {
            "aaxis": {
             "endlinecolor": "#2a3f5f",
             "gridcolor": "white",
             "linecolor": "white",
             "minorgridcolor": "white",
             "startlinecolor": "#2a3f5f"
            },
            "baxis": {
             "endlinecolor": "#2a3f5f",
             "gridcolor": "white",
             "linecolor": "white",
             "minorgridcolor": "white",
             "startlinecolor": "#2a3f5f"
            },
            "type": "carpet"
           }
          ],
          "choropleth": [
           {
            "colorbar": {
             "outlinewidth": 0,
             "ticks": ""
            },
            "type": "choropleth"
           }
          ],
          "contour": [
           {
            "colorbar": {
             "outlinewidth": 0,
             "ticks": ""
            },
            "colorscale": [
             [
              0,
              "#0d0887"
             ],
             [
              0.1111111111111111,
              "#46039f"
             ],
             [
              0.2222222222222222,
              "#7201a8"
             ],
             [
              0.3333333333333333,
              "#9c179e"
             ],
             [
              0.4444444444444444,
              "#bd3786"
             ],
             [
              0.5555555555555556,
              "#d8576b"
             ],
             [
              0.6666666666666666,
              "#ed7953"
             ],
             [
              0.7777777777777778,
              "#fb9f3a"
             ],
             [
              0.8888888888888888,
              "#fdca26"
             ],
             [
              1,
              "#f0f921"
             ]
            ],
            "type": "contour"
           }
          ],
          "contourcarpet": [
           {
            "colorbar": {
             "outlinewidth": 0,
             "ticks": ""
            },
            "type": "contourcarpet"
           }
          ],
          "heatmap": [
           {
            "colorbar": {
             "outlinewidth": 0,
             "ticks": ""
            },
            "colorscale": [
             [
              0,
              "#0d0887"
             ],
             [
              0.1111111111111111,
              "#46039f"
             ],
             [
              0.2222222222222222,
              "#7201a8"
             ],
             [
              0.3333333333333333,
              "#9c179e"
             ],
             [
              0.4444444444444444,
              "#bd3786"
             ],
             [
              0.5555555555555556,
              "#d8576b"
             ],
             [
              0.6666666666666666,
              "#ed7953"
             ],
             [
              0.7777777777777778,
              "#fb9f3a"
             ],
             [
              0.8888888888888888,
              "#fdca26"
             ],
             [
              1,
              "#f0f921"
             ]
            ],
            "type": "heatmap"
           }
          ],
          "heatmapgl": [
           {
            "colorbar": {
             "outlinewidth": 0,
             "ticks": ""
            },
            "colorscale": [
             [
              0,
              "#0d0887"
             ],
             [
              0.1111111111111111,
              "#46039f"
             ],
             [
              0.2222222222222222,
              "#7201a8"
             ],
             [
              0.3333333333333333,
              "#9c179e"
             ],
             [
              0.4444444444444444,
              "#bd3786"
             ],
             [
              0.5555555555555556,
              "#d8576b"
             ],
             [
              0.6666666666666666,
              "#ed7953"
             ],
             [
              0.7777777777777778,
              "#fb9f3a"
             ],
             [
              0.8888888888888888,
              "#fdca26"
             ],
             [
              1,
              "#f0f921"
             ]
            ],
            "type": "heatmapgl"
           }
          ],
          "histogram": [
           {
            "marker": {
             "pattern": {
              "fillmode": "overlay",
              "size": 10,
              "solidity": 0.2
             }
            },
            "type": "histogram"
           }
          ],
          "histogram2d": [
           {
            "colorbar": {
             "outlinewidth": 0,
             "ticks": ""
            },
            "colorscale": [
             [
              0,
              "#0d0887"
             ],
             [
              0.1111111111111111,
              "#46039f"
             ],
             [
              0.2222222222222222,
              "#7201a8"
             ],
             [
              0.3333333333333333,
              "#9c179e"
             ],
             [
              0.4444444444444444,
              "#bd3786"
             ],
             [
              0.5555555555555556,
              "#d8576b"
             ],
             [
              0.6666666666666666,
              "#ed7953"
             ],
             [
              0.7777777777777778,
              "#fb9f3a"
             ],
             [
              0.8888888888888888,
              "#fdca26"
             ],
             [
              1,
              "#f0f921"
             ]
            ],
            "type": "histogram2d"
           }
          ],
          "histogram2dcontour": [
           {
            "colorbar": {
             "outlinewidth": 0,
             "ticks": ""
            },
            "colorscale": [
             [
              0,
              "#0d0887"
             ],
             [
              0.1111111111111111,
              "#46039f"
             ],
             [
              0.2222222222222222,
              "#7201a8"
             ],
             [
              0.3333333333333333,
              "#9c179e"
             ],
             [
              0.4444444444444444,
              "#bd3786"
             ],
             [
              0.5555555555555556,
              "#d8576b"
             ],
             [
              0.6666666666666666,
              "#ed7953"
             ],
             [
              0.7777777777777778,
              "#fb9f3a"
             ],
             [
              0.8888888888888888,
              "#fdca26"
             ],
             [
              1,
              "#f0f921"
             ]
            ],
            "type": "histogram2dcontour"
           }
          ],
          "mesh3d": [
           {
            "colorbar": {
             "outlinewidth": 0,
             "ticks": ""
            },
            "type": "mesh3d"
           }
          ],
          "parcoords": [
           {
            "line": {
             "colorbar": {
              "outlinewidth": 0,
              "ticks": ""
             }
            },
            "type": "parcoords"
           }
          ],
          "pie": [
           {
            "automargin": true,
            "type": "pie"
           }
          ],
          "scatter": [
           {
            "fillpattern": {
             "fillmode": "overlay",
             "size": 10,
             "solidity": 0.2
            },
            "type": "scatter"
           }
          ],
          "scatter3d": [
           {
            "line": {
             "colorbar": {
              "outlinewidth": 0,
              "ticks": ""
             }
            },
            "marker": {
             "colorbar": {
              "outlinewidth": 0,
              "ticks": ""
             }
            },
            "type": "scatter3d"
           }
          ],
          "scattercarpet": [
           {
            "marker": {
             "colorbar": {
              "outlinewidth": 0,
              "ticks": ""
             }
            },
            "type": "scattercarpet"
           }
          ],
          "scattergeo": [
           {
            "marker": {
             "colorbar": {
              "outlinewidth": 0,
              "ticks": ""
             }
            },
            "type": "scattergeo"
           }
          ],
          "scattergl": [
           {
            "marker": {
             "colorbar": {
              "outlinewidth": 0,
              "ticks": ""
             }
            },
            "type": "scattergl"
           }
          ],
          "scattermapbox": [
           {
            "marker": {
             "colorbar": {
              "outlinewidth": 0,
              "ticks": ""
             }
            },
            "type": "scattermapbox"
           }
          ],
          "scatterpolar": [
           {
            "marker": {
             "colorbar": {
              "outlinewidth": 0,
              "ticks": ""
             }
            },
            "type": "scatterpolar"
           }
          ],
          "scatterpolargl": [
           {
            "marker": {
             "colorbar": {
              "outlinewidth": 0,
              "ticks": ""
             }
            },
            "type": "scatterpolargl"
           }
          ],
          "scatterternary": [
           {
            "marker": {
             "colorbar": {
              "outlinewidth": 0,
              "ticks": ""
             }
            },
            "type": "scatterternary"
           }
          ],
          "surface": [
           {
            "colorbar": {
             "outlinewidth": 0,
             "ticks": ""
            },
            "colorscale": [
             [
              0,
              "#0d0887"
             ],
             [
              0.1111111111111111,
              "#46039f"
             ],
             [
              0.2222222222222222,
              "#7201a8"
             ],
             [
              0.3333333333333333,
              "#9c179e"
             ],
             [
              0.4444444444444444,
              "#bd3786"
             ],
             [
              0.5555555555555556,
              "#d8576b"
             ],
             [
              0.6666666666666666,
              "#ed7953"
             ],
             [
              0.7777777777777778,
              "#fb9f3a"
             ],
             [
              0.8888888888888888,
              "#fdca26"
             ],
             [
              1,
              "#f0f921"
             ]
            ],
            "type": "surface"
           }
          ],
          "table": [
           {
            "cells": {
             "fill": {
              "color": "#EBF0F8"
             },
             "line": {
              "color": "white"
             }
            },
            "header": {
             "fill": {
              "color": "#C8D4E3"
             },
             "line": {
              "color": "white"
             }
            },
            "type": "table"
           }
          ]
         },
         "layout": {
          "annotationdefaults": {
           "arrowcolor": "#2a3f5f",
           "arrowhead": 0,
           "arrowwidth": 1
          },
          "autotypenumbers": "strict",
          "coloraxis": {
           "colorbar": {
            "outlinewidth": 0,
            "ticks": ""
           }
          },
          "colorscale": {
           "diverging": [
            [
             0,
             "#8e0152"
            ],
            [
             0.1,
             "#c51b7d"
            ],
            [
             0.2,
             "#de77ae"
            ],
            [
             0.3,
             "#f1b6da"
            ],
            [
             0.4,
             "#fde0ef"
            ],
            [
             0.5,
             "#f7f7f7"
            ],
            [
             0.6,
             "#e6f5d0"
            ],
            [
             0.7,
             "#b8e186"
            ],
            [
             0.8,
             "#7fbc41"
            ],
            [
             0.9,
             "#4d9221"
            ],
            [
             1,
             "#276419"
            ]
           ],
           "sequential": [
            [
             0,
             "#0d0887"
            ],
            [
             0.1111111111111111,
             "#46039f"
            ],
            [
             0.2222222222222222,
             "#7201a8"
            ],
            [
             0.3333333333333333,
             "#9c179e"
            ],
            [
             0.4444444444444444,
             "#bd3786"
            ],
            [
             0.5555555555555556,
             "#d8576b"
            ],
            [
             0.6666666666666666,
             "#ed7953"
            ],
            [
             0.7777777777777778,
             "#fb9f3a"
            ],
            [
             0.8888888888888888,
             "#fdca26"
            ],
            [
             1,
             "#f0f921"
            ]
           ],
           "sequentialminus": [
            [
             0,
             "#0d0887"
            ],
            [
             0.1111111111111111,
             "#46039f"
            ],
            [
             0.2222222222222222,
             "#7201a8"
            ],
            [
             0.3333333333333333,
             "#9c179e"
            ],
            [
             0.4444444444444444,
             "#bd3786"
            ],
            [
             0.5555555555555556,
             "#d8576b"
            ],
            [
             0.6666666666666666,
             "#ed7953"
            ],
            [
             0.7777777777777778,
             "#fb9f3a"
            ],
            [
             0.8888888888888888,
             "#fdca26"
            ],
            [
             1,
             "#f0f921"
            ]
           ]
          },
          "colorway": [
           "#636efa",
           "#EF553B",
           "#00cc96",
           "#ab63fa",
           "#FFA15A",
           "#19d3f3",
           "#FF6692",
           "#B6E880",
           "#FF97FF",
           "#FECB52"
          ],
          "font": {
           "color": "#2a3f5f"
          },
          "geo": {
           "bgcolor": "white",
           "lakecolor": "white",
           "landcolor": "#E5ECF6",
           "showlakes": true,
           "showland": true,
           "subunitcolor": "white"
          },
          "hoverlabel": {
           "align": "left"
          },
          "hovermode": "closest",
          "mapbox": {
           "style": "light"
          },
          "paper_bgcolor": "white",
          "plot_bgcolor": "#E5ECF6",
          "polar": {
           "angularaxis": {
            "gridcolor": "white",
            "linecolor": "white",
            "ticks": ""
           },
           "bgcolor": "#E5ECF6",
           "radialaxis": {
            "gridcolor": "white",
            "linecolor": "white",
            "ticks": ""
           }
          },
          "scene": {
           "xaxis": {
            "backgroundcolor": "#E5ECF6",
            "gridcolor": "white",
            "gridwidth": 2,
            "linecolor": "white",
            "showbackground": true,
            "ticks": "",
            "zerolinecolor": "white"
           },
           "yaxis": {
            "backgroundcolor": "#E5ECF6",
            "gridcolor": "white",
            "gridwidth": 2,
            "linecolor": "white",
            "showbackground": true,
            "ticks": "",
            "zerolinecolor": "white"
           },
           "zaxis": {
            "backgroundcolor": "#E5ECF6",
            "gridcolor": "white",
            "gridwidth": 2,
            "linecolor": "white",
            "showbackground": true,
            "ticks": "",
            "zerolinecolor": "white"
           }
          },
          "shapedefaults": {
           "line": {
            "color": "#2a3f5f"
           }
          },
          "ternary": {
           "aaxis": {
            "gridcolor": "white",
            "linecolor": "white",
            "ticks": ""
           },
           "baxis": {
            "gridcolor": "white",
            "linecolor": "white",
            "ticks": ""
           },
           "bgcolor": "#E5ECF6",
           "caxis": {
            "gridcolor": "white",
            "linecolor": "white",
            "ticks": ""
           }
          },
          "title": {
           "x": 0.05
          },
          "xaxis": {
           "automargin": true,
           "gridcolor": "white",
           "linecolor": "white",
           "ticks": "",
           "title": {
            "standoff": 15
           },
           "zerolinecolor": "white",
           "zerolinewidth": 2
          },
          "yaxis": {
           "automargin": true,
           "gridcolor": "white",
           "linecolor": "white",
           "ticks": "",
           "title": {
            "standoff": 15
           },
           "zerolinecolor": "white",
           "zerolinewidth": 2
          }
         }
        },
        "title": {
         "text": "Comparison of Citation Counts Across Fields"
        },
        "xaxis": {
         "anchor": "y",
         "domain": [
          0,
          1
         ],
         "tickangle": -45,
         "title": {
          "text": "Field of Study"
         }
        },
        "yaxis": {
         "anchor": "x",
         "domain": [
          0,
          1
         ],
         "title": {
          "text": "Total Citation Counts"
         }
        }
       }
      }
     },
     "metadata": {},
     "output_type": "display_data"
    }
   ],
   "source": [
    "# Comparison of Citation Counts Across Fields\n",
    "field_citation_counts = {}\n",
    "for field, publications in field_publications.items():\n",
    "    counts = sum(publications.values())\n",
    "    field_citation_counts[field] = counts\n",
    "    \n",
    "# Sorting the fields by citation counts in descending order\n",
    "sorted_fields = sorted(field_citation_counts.items(), key=lambda x: x[1], reverse=True)\n",
    "sorted_field_names = [field[0] for field in sorted_fields]\n",
    "sorted_citation_counts = [field[1] for field in sorted_fields]\n",
    "    \n",
    "# Creating the bar chart\n",
    "fig = px.bar(x=sorted_field_names, y=sorted_citation_counts,\n",
    "             labels={'x': 'Field of Study', 'y': 'Total Citation Counts'},\n",
    "             title='Comparison of Citation Counts Across Fields')\n",
    "\n",
    "# Enhancing the chart appearance\n",
    "fig.update_layout(xaxis_tickangle=-45)\n",
    "\n",
    "# Show the plot\n",
    "fig.show()"
   ]
  },
  {
   "cell_type": "code",
   "execution_count": 150,
   "metadata": {
    "pycharm": {
     "name": "#%%\n"
    }
   },
   "outputs": [
    {
     "data": {
      "application/vnd.jupyter.widget-view+json": {
       "model_id": "2aa0cfa2052841f28a0f5e6d37a10e68",
       "version_major": 2,
       "version_minor": 0
      },
      "text/plain": [
       "Output()"
      ]
     },
     "metadata": {},
     "output_type": "display_data"
    },
    {
     "data": {
      "application/vnd.plotly.v1+json": {
       "config": {
        "plotlyServerURL": "https://plot.ly"
       },
       "data": [
        {
         "mode": "lines+markers",
         "name": "Medicine",
         "type": "scatter",
         "x": [
          1951,
          1963,
          1967,
          1982,
          1995,
          1997,
          1998,
          2000,
          2002,
          2003,
          2004,
          2005,
          2008,
          2009,
          2010,
          2011,
          2012,
          2013,
          2014,
          2015,
          2016,
          2017,
          2018,
          2019,
          2020,
          2021,
          2022,
          2023
         ],
         "y": [
          1,
          1,
          1,
          1,
          1,
          2,
          1,
          3,
          1,
          2,
          1,
          2,
          3,
          1,
          2,
          5,
          1,
          4,
          6,
          6,
          2,
          5,
          3,
          6,
          9,
          10,
          7,
          2
         ]
        }
       ],
       "layout": {
        "legend": {
         "title": {
          "text": "Field"
         }
        },
        "template": {
         "data": {
          "bar": [
           {
            "error_x": {
             "color": "#2a3f5f"
            },
            "error_y": {
             "color": "#2a3f5f"
            },
            "marker": {
             "line": {
              "color": "white",
              "width": 0.5
             },
             "pattern": {
              "fillmode": "overlay",
              "size": 10,
              "solidity": 0.2
             }
            },
            "type": "bar"
           }
          ],
          "barpolar": [
           {
            "marker": {
             "line": {
              "color": "white",
              "width": 0.5
             },
             "pattern": {
              "fillmode": "overlay",
              "size": 10,
              "solidity": 0.2
             }
            },
            "type": "barpolar"
           }
          ],
          "carpet": [
           {
            "aaxis": {
             "endlinecolor": "#2a3f5f",
             "gridcolor": "#C8D4E3",
             "linecolor": "#C8D4E3",
             "minorgridcolor": "#C8D4E3",
             "startlinecolor": "#2a3f5f"
            },
            "baxis": {
             "endlinecolor": "#2a3f5f",
             "gridcolor": "#C8D4E3",
             "linecolor": "#C8D4E3",
             "minorgridcolor": "#C8D4E3",
             "startlinecolor": "#2a3f5f"
            },
            "type": "carpet"
           }
          ],
          "choropleth": [
           {
            "colorbar": {
             "outlinewidth": 0,
             "ticks": ""
            },
            "type": "choropleth"
           }
          ],
          "contour": [
           {
            "colorbar": {
             "outlinewidth": 0,
             "ticks": ""
            },
            "colorscale": [
             [
              0,
              "#0d0887"
             ],
             [
              0.1111111111111111,
              "#46039f"
             ],
             [
              0.2222222222222222,
              "#7201a8"
             ],
             [
              0.3333333333333333,
              "#9c179e"
             ],
             [
              0.4444444444444444,
              "#bd3786"
             ],
             [
              0.5555555555555556,
              "#d8576b"
             ],
             [
              0.6666666666666666,
              "#ed7953"
             ],
             [
              0.7777777777777778,
              "#fb9f3a"
             ],
             [
              0.8888888888888888,
              "#fdca26"
             ],
             [
              1,
              "#f0f921"
             ]
            ],
            "type": "contour"
           }
          ],
          "contourcarpet": [
           {
            "colorbar": {
             "outlinewidth": 0,
             "ticks": ""
            },
            "type": "contourcarpet"
           }
          ],
          "heatmap": [
           {
            "colorbar": {
             "outlinewidth": 0,
             "ticks": ""
            },
            "colorscale": [
             [
              0,
              "#0d0887"
             ],
             [
              0.1111111111111111,
              "#46039f"
             ],
             [
              0.2222222222222222,
              "#7201a8"
             ],
             [
              0.3333333333333333,
              "#9c179e"
             ],
             [
              0.4444444444444444,
              "#bd3786"
             ],
             [
              0.5555555555555556,
              "#d8576b"
             ],
             [
              0.6666666666666666,
              "#ed7953"
             ],
             [
              0.7777777777777778,
              "#fb9f3a"
             ],
             [
              0.8888888888888888,
              "#fdca26"
             ],
             [
              1,
              "#f0f921"
             ]
            ],
            "type": "heatmap"
           }
          ],
          "heatmapgl": [
           {
            "colorbar": {
             "outlinewidth": 0,
             "ticks": ""
            },
            "colorscale": [
             [
              0,
              "#0d0887"
             ],
             [
              0.1111111111111111,
              "#46039f"
             ],
             [
              0.2222222222222222,
              "#7201a8"
             ],
             [
              0.3333333333333333,
              "#9c179e"
             ],
             [
              0.4444444444444444,
              "#bd3786"
             ],
             [
              0.5555555555555556,
              "#d8576b"
             ],
             [
              0.6666666666666666,
              "#ed7953"
             ],
             [
              0.7777777777777778,
              "#fb9f3a"
             ],
             [
              0.8888888888888888,
              "#fdca26"
             ],
             [
              1,
              "#f0f921"
             ]
            ],
            "type": "heatmapgl"
           }
          ],
          "histogram": [
           {
            "marker": {
             "pattern": {
              "fillmode": "overlay",
              "size": 10,
              "solidity": 0.2
             }
            },
            "type": "histogram"
           }
          ],
          "histogram2d": [
           {
            "colorbar": {
             "outlinewidth": 0,
             "ticks": ""
            },
            "colorscale": [
             [
              0,
              "#0d0887"
             ],
             [
              0.1111111111111111,
              "#46039f"
             ],
             [
              0.2222222222222222,
              "#7201a8"
             ],
             [
              0.3333333333333333,
              "#9c179e"
             ],
             [
              0.4444444444444444,
              "#bd3786"
             ],
             [
              0.5555555555555556,
              "#d8576b"
             ],
             [
              0.6666666666666666,
              "#ed7953"
             ],
             [
              0.7777777777777778,
              "#fb9f3a"
             ],
             [
              0.8888888888888888,
              "#fdca26"
             ],
             [
              1,
              "#f0f921"
             ]
            ],
            "type": "histogram2d"
           }
          ],
          "histogram2dcontour": [
           {
            "colorbar": {
             "outlinewidth": 0,
             "ticks": ""
            },
            "colorscale": [
             [
              0,
              "#0d0887"
             ],
             [
              0.1111111111111111,
              "#46039f"
             ],
             [
              0.2222222222222222,
              "#7201a8"
             ],
             [
              0.3333333333333333,
              "#9c179e"
             ],
             [
              0.4444444444444444,
              "#bd3786"
             ],
             [
              0.5555555555555556,
              "#d8576b"
             ],
             [
              0.6666666666666666,
              "#ed7953"
             ],
             [
              0.7777777777777778,
              "#fb9f3a"
             ],
             [
              0.8888888888888888,
              "#fdca26"
             ],
             [
              1,
              "#f0f921"
             ]
            ],
            "type": "histogram2dcontour"
           }
          ],
          "mesh3d": [
           {
            "colorbar": {
             "outlinewidth": 0,
             "ticks": ""
            },
            "type": "mesh3d"
           }
          ],
          "parcoords": [
           {
            "line": {
             "colorbar": {
              "outlinewidth": 0,
              "ticks": ""
             }
            },
            "type": "parcoords"
           }
          ],
          "pie": [
           {
            "automargin": true,
            "type": "pie"
           }
          ],
          "scatter": [
           {
            "fillpattern": {
             "fillmode": "overlay",
             "size": 10,
             "solidity": 0.2
            },
            "type": "scatter"
           }
          ],
          "scatter3d": [
           {
            "line": {
             "colorbar": {
              "outlinewidth": 0,
              "ticks": ""
             }
            },
            "marker": {
             "colorbar": {
              "outlinewidth": 0,
              "ticks": ""
             }
            },
            "type": "scatter3d"
           }
          ],
          "scattercarpet": [
           {
            "marker": {
             "colorbar": {
              "outlinewidth": 0,
              "ticks": ""
             }
            },
            "type": "scattercarpet"
           }
          ],
          "scattergeo": [
           {
            "marker": {
             "colorbar": {
              "outlinewidth": 0,
              "ticks": ""
             }
            },
            "type": "scattergeo"
           }
          ],
          "scattergl": [
           {
            "marker": {
             "colorbar": {
              "outlinewidth": 0,
              "ticks": ""
             }
            },
            "type": "scattergl"
           }
          ],
          "scattermapbox": [
           {
            "marker": {
             "colorbar": {
              "outlinewidth": 0,
              "ticks": ""
             }
            },
            "type": "scattermapbox"
           }
          ],
          "scatterpolar": [
           {
            "marker": {
             "colorbar": {
              "outlinewidth": 0,
              "ticks": ""
             }
            },
            "type": "scatterpolar"
           }
          ],
          "scatterpolargl": [
           {
            "marker": {
             "colorbar": {
              "outlinewidth": 0,
              "ticks": ""
             }
            },
            "type": "scatterpolargl"
           }
          ],
          "scatterternary": [
           {
            "marker": {
             "colorbar": {
              "outlinewidth": 0,
              "ticks": ""
             }
            },
            "type": "scatterternary"
           }
          ],
          "surface": [
           {
            "colorbar": {
             "outlinewidth": 0,
             "ticks": ""
            },
            "colorscale": [
             [
              0,
              "#0d0887"
             ],
             [
              0.1111111111111111,
              "#46039f"
             ],
             [
              0.2222222222222222,
              "#7201a8"
             ],
             [
              0.3333333333333333,
              "#9c179e"
             ],
             [
              0.4444444444444444,
              "#bd3786"
             ],
             [
              0.5555555555555556,
              "#d8576b"
             ],
             [
              0.6666666666666666,
              "#ed7953"
             ],
             [
              0.7777777777777778,
              "#fb9f3a"
             ],
             [
              0.8888888888888888,
              "#fdca26"
             ],
             [
              1,
              "#f0f921"
             ]
            ],
            "type": "surface"
           }
          ],
          "table": [
           {
            "cells": {
             "fill": {
              "color": "#EBF0F8"
             },
             "line": {
              "color": "white"
             }
            },
            "header": {
             "fill": {
              "color": "#C8D4E3"
             },
             "line": {
              "color": "white"
             }
            },
            "type": "table"
           }
          ]
         },
         "layout": {
          "annotationdefaults": {
           "arrowcolor": "#2a3f5f",
           "arrowhead": 0,
           "arrowwidth": 1
          },
          "autotypenumbers": "strict",
          "coloraxis": {
           "colorbar": {
            "outlinewidth": 0,
            "ticks": ""
           }
          },
          "colorscale": {
           "diverging": [
            [
             0,
             "#8e0152"
            ],
            [
             0.1,
             "#c51b7d"
            ],
            [
             0.2,
             "#de77ae"
            ],
            [
             0.3,
             "#f1b6da"
            ],
            [
             0.4,
             "#fde0ef"
            ],
            [
             0.5,
             "#f7f7f7"
            ],
            [
             0.6,
             "#e6f5d0"
            ],
            [
             0.7,
             "#b8e186"
            ],
            [
             0.8,
             "#7fbc41"
            ],
            [
             0.9,
             "#4d9221"
            ],
            [
             1,
             "#276419"
            ]
           ],
           "sequential": [
            [
             0,
             "#0d0887"
            ],
            [
             0.1111111111111111,
             "#46039f"
            ],
            [
             0.2222222222222222,
             "#7201a8"
            ],
            [
             0.3333333333333333,
             "#9c179e"
            ],
            [
             0.4444444444444444,
             "#bd3786"
            ],
            [
             0.5555555555555556,
             "#d8576b"
            ],
            [
             0.6666666666666666,
             "#ed7953"
            ],
            [
             0.7777777777777778,
             "#fb9f3a"
            ],
            [
             0.8888888888888888,
             "#fdca26"
            ],
            [
             1,
             "#f0f921"
            ]
           ],
           "sequentialminus": [
            [
             0,
             "#0d0887"
            ],
            [
             0.1111111111111111,
             "#46039f"
            ],
            [
             0.2222222222222222,
             "#7201a8"
            ],
            [
             0.3333333333333333,
             "#9c179e"
            ],
            [
             0.4444444444444444,
             "#bd3786"
            ],
            [
             0.5555555555555556,
             "#d8576b"
            ],
            [
             0.6666666666666666,
             "#ed7953"
            ],
            [
             0.7777777777777778,
             "#fb9f3a"
            ],
            [
             0.8888888888888888,
             "#fdca26"
            ],
            [
             1,
             "#f0f921"
            ]
           ]
          },
          "colorway": [
           "#636efa",
           "#EF553B",
           "#00cc96",
           "#ab63fa",
           "#FFA15A",
           "#19d3f3",
           "#FF6692",
           "#B6E880",
           "#FF97FF",
           "#FECB52"
          ],
          "font": {
           "color": "#2a3f5f"
          },
          "geo": {
           "bgcolor": "white",
           "lakecolor": "white",
           "landcolor": "white",
           "showlakes": true,
           "showland": true,
           "subunitcolor": "#C8D4E3"
          },
          "hoverlabel": {
           "align": "left"
          },
          "hovermode": "closest",
          "mapbox": {
           "style": "light"
          },
          "paper_bgcolor": "white",
          "plot_bgcolor": "white",
          "polar": {
           "angularaxis": {
            "gridcolor": "#EBF0F8",
            "linecolor": "#EBF0F8",
            "ticks": ""
           },
           "bgcolor": "white",
           "radialaxis": {
            "gridcolor": "#EBF0F8",
            "linecolor": "#EBF0F8",
            "ticks": ""
           }
          },
          "scene": {
           "xaxis": {
            "backgroundcolor": "white",
            "gridcolor": "#DFE8F3",
            "gridwidth": 2,
            "linecolor": "#EBF0F8",
            "showbackground": true,
            "ticks": "",
            "zerolinecolor": "#EBF0F8"
           },
           "yaxis": {
            "backgroundcolor": "white",
            "gridcolor": "#DFE8F3",
            "gridwidth": 2,
            "linecolor": "#EBF0F8",
            "showbackground": true,
            "ticks": "",
            "zerolinecolor": "#EBF0F8"
           },
           "zaxis": {
            "backgroundcolor": "white",
            "gridcolor": "#DFE8F3",
            "gridwidth": 2,
            "linecolor": "#EBF0F8",
            "showbackground": true,
            "ticks": "",
            "zerolinecolor": "#EBF0F8"
           }
          },
          "shapedefaults": {
           "line": {
            "color": "#2a3f5f"
           }
          },
          "ternary": {
           "aaxis": {
            "gridcolor": "#DFE8F3",
            "linecolor": "#A2B1C6",
            "ticks": ""
           },
           "baxis": {
            "gridcolor": "#DFE8F3",
            "linecolor": "#A2B1C6",
            "ticks": ""
           },
           "bgcolor": "white",
           "caxis": {
            "gridcolor": "#DFE8F3",
            "linecolor": "#A2B1C6",
            "ticks": ""
           }
          },
          "title": {
           "x": 0.05
          },
          "xaxis": {
           "automargin": true,
           "gridcolor": "#EBF0F8",
           "linecolor": "#EBF0F8",
           "ticks": "",
           "title": {
            "standoff": 15
           },
           "zerolinecolor": "#EBF0F8",
           "zerolinewidth": 2
          },
          "yaxis": {
           "automargin": true,
           "gridcolor": "#EBF0F8",
           "linecolor": "#EBF0F8",
           "ticks": "",
           "title": {
            "standoff": 15
           },
           "zerolinecolor": "#EBF0F8",
           "zerolinewidth": 2
          }
         }
        },
        "title": {
         "text": "Publication Trends by Field"
        },
        "xaxis": {
         "gridcolor": "LightPink",
         "gridwidth": 1,
         "showgrid": true,
         "title": {
          "text": "Year"
         }
        },
        "yaxis": {
         "gridcolor": "LightBlue",
         "gridwidth": 1,
         "showgrid": true,
         "title": {
          "text": "Number of Publications"
         }
        }
       }
      }
     },
     "metadata": {},
     "output_type": "display_data"
    },
    {
     "data": {
      "application/vnd.jupyter.widget-view+json": {
       "model_id": "0df190ce3ee24bc4b64c2f0da28f70cd",
       "version_major": 2,
       "version_minor": 0
      },
      "text/plain": [
       "VBox(children=(Dropdown(description='Field:', options=(None, 'Computer Science', 'Engineering', 'Mathematics',…"
      ]
     },
     "metadata": {},
     "output_type": "display_data"
    }
   ],
   "source": [
    "import plotly.graph_objects as go\n",
    "from ipywidgets import widgets, Output, VBox\n",
    "\n",
    "# Plotting widget output\n",
    "plot_output = Output()\n",
    "display(plot_output)\n",
    "\n",
    "def update_plot(selected_field):\n",
    "    with plot_output:\n",
    "        plot_output.clear_output(wait=True)  # Clear the current output\n",
    "        fig = go.Figure()\n",
    "\n",
    "        # Add data for selected field if any\n",
    "        if selected_field:\n",
    "            years = sorted(field_publications[selected_field].keys())\n",
    "            counts = [field_publications[selected_field][year] for year in years]\n",
    "            fig.add_trace(go.Scatter(x=years, y=counts, mode='lines+markers', name=selected_field))\n",
    "        \n",
    "        # Update plot layout\n",
    "        fig.update_layout(\n",
    "            title='Publication Trends by Field',\n",
    "            xaxis_title='Year',\n",
    "            yaxis_title='Number of Publications',\n",
    "            legend_title='Field',\n",
    "            template='plotly_white'\n",
    "        )\n",
    "        fig.update_xaxes(showgrid=True, gridwidth=1, gridcolor='LightPink')\n",
    "        fig.update_yaxes(showgrid=True, gridwidth=1, gridcolor='LightBlue')\n",
    "\n",
    "        fig.show()\n",
    "\n",
    "# Dropdown widget for field selection\n",
    "dropdown = widgets.Dropdown(\n",
    "    options=[None] + list(field_publications.keys()),\n",
    "    value=None,\n",
    "    description='Field:',\n",
    "    disabled=False\n",
    ")\n",
    "\n",
    "def on_dropdown_change(change):\n",
    "    if change['type'] == 'change' and change['name'] == 'value':\n",
    "        update_plot(change['new'])\n",
    "\n",
    "# Observe changes in the dropdown\n",
    "dropdown.observe(on_dropdown_change)\n",
    "\n",
    "# Arrange the dropdown and the plot output in a vertical layout\n",
    "dashboard = VBox([dropdown])\n",
    "display(dashboard)\n",
    "\n",
    "# Initialize with no field selected\n",
    "update_plot(None)\n"
   ]
  },
  {
   "cell_type": "markdown",
   "metadata": {
    "pycharm": {
     "name": "#%% md\n"
    }
   },
   "source": [
    "# Interactive Visualizations"
   ]
  },
  {
   "cell_type": "markdown",
   "metadata": {
    "pycharm": {
     "name": "#%% md\n"
    }
   },
   "source": [
    "### Ego-Network"
   ]
  },
  {
   "cell_type": "code",
   "execution_count": 111,
   "metadata": {
    "pycharm": {
     "name": "#%%\n"
    }
   },
   "outputs": [
    {
     "data": {
      "application/vnd.jupyter.widget-view+json": {
       "model_id": "537c565ff2234e9987e97bb9d63bc225",
       "version_major": 2,
       "version_minor": 0
      },
      "text/plain": [
       "Dropdown(description='Professor:', options=('Irene Finocchi', 'Michela Altieri', 'Lakshmi Balachandran Nair', …"
      ]
     },
     "metadata": {},
     "output_type": "display_data"
    },
    {
     "data": {
      "application/vnd.jupyter.widget-view+json": {
       "model_id": "8591964d046f4aefb27e72b1c2beec85",
       "version_major": 2,
       "version_minor": 0
      },
      "text/plain": [
       "FigureWidget({\n",
       "    'data': [{'hoverinfo': 'none',\n",
       "              'line': {'color': '#888', 'width': 0.5},\n",
       "              'mode': 'lines',\n",
       "              'type': 'scatter',\n",
       "              'uid': 'e6616e65-fbd1-4edb-a29b-1645c321a155',\n",
       "              'x': [-0.006247990498508707, 0.10841492246363334, None,\n",
       "                    -0.006247990498508707, -0.16551240261880937, None,\n",
       "                    -0.006247990498508707, -0.9747547898599398, None,\n",
       "                    -0.006247990498508707, -0.4818646180052734, None,\n",
       "                    -0.006247990498508707, 0.34165144719826335, None,\n",
       "                    -0.006247990498508707, 0.5608009772430983, None,\n",
       "                    -0.006247990498508707, 0.862039699828944, None,\n",
       "                    -0.006247990498508707, 0.6973161937088883, None,\n",
       "                    -0.006247990498508707, 0.39061222009719687, None,\n",
       "                    -0.006247990498508707, -0.4300285153141932, None,\n",
       "                    -0.006247990498508707, 0.5096237549858077, None,\n",
       "                    -0.006247990498508707, -0.742283294709969, None,\n",
       "                    -0.006247990498508707, -0.17318506306505618, None,\n",
       "                    -0.006247990498508707, -0.9048818291713332, None,\n",
       "                    -0.006247990498508707, 0.9875783468129984, None,\n",
       "                    -0.006247990498508707, 0.9603250196542353, None,\n",
       "                    -0.006247990498508707, 0.6569505002903283, None,\n",
       "                    -0.006247990498508707, -0.10559110476137197, None,\n",
       "                    -0.006247990498508707, -0.9771127070065925, None,\n",
       "                    -0.006247990498508707, -0.18055868239524853, None,\n",
       "                    -0.006247990498508707, -0.43141627958531265, None,\n",
       "                    -0.006247990498508707, -0.0740800966664617, None,\n",
       "                    -0.006247990498508707, 0.5968204678633838, None,\n",
       "                    -0.006247990498508707, 0.05427520552284447, None,\n",
       "                    -0.006247990498508707, 0.1283697794307263, None,\n",
       "                    -0.006247990498508707, -0.46146069144628027, None,\n",
       "                    -0.006247990498508707, -0.3299323879036247, None,\n",
       "                    -0.006247990498508707, 0.1656987428178939, None,\n",
       "                    -0.006247990498508707, -0.6921627158236622, None,\n",
       "                    -0.006247990498508707, 0.4335667351919572, None,\n",
       "                    -0.006247990498508707, -0.4335041712395521, None,\n",
       "                    -0.006247990498508707, -0.8957067906581924, None,\n",
       "                    -0.006247990498508707, -0.7136536393565848, None,\n",
       "                    -0.006247990498508707, -0.5521284712872966, None,\n",
       "                    -0.006247990498508707, 0.3035939836144276, None,\n",
       "                    -0.006247990498508707, -0.9540424722005936, None,\n",
       "                    -0.006247990498508707, 0.15167334030730023, None,\n",
       "                    -0.006247990498508707, 0.75251734119822, None,\n",
       "                    -0.006247990498508707, 0.9671461171289059, None,\n",
       "                    -0.006247990498508707, 0.5337394282889545, None,\n",
       "                    -0.006247990498508707, -0.2257203137636311, None,\n",
       "                    -0.006247990498508707, -0.7305649902326835, None,\n",
       "                    -0.006247990498508707, 0.37649539466603327, None,\n",
       "                    -0.006247990498508707, -0.6668453666786273, None,\n",
       "                    -0.006247990498508707, -0.7109056692296104, None,\n",
       "                    -0.006247990498508707, 0.345297914148027, None,\n",
       "                    -0.006247990498508707, 0.7758371237695392, None,\n",
       "                    -0.006247990498508707, 0.46476124864579754, None,\n",
       "                    -0.006247990498508707, -0.504475990410347, None,\n",
       "                    -0.006247990498508707, 0.8968715036467898, None,\n",
       "                    -0.006247990498508707, 0.032729290469242424, None,\n",
       "                    -0.006247990498508707, -0.330581135335467, None,\n",
       "                    -0.006247990498508707, -0.742715351015937, None,\n",
       "                    -0.006247990498508707, 0.860183413359532, None,\n",
       "                    -0.006247990498508707, 0.6770274178871699, None],\n",
       "              'y': [0.0011967708833743658, -0.5214234203965009, None,\n",
       "                    0.0011967708833743658, 0.980896173639829, None,\n",
       "                    0.0011967708833743658, 0.21958041163703104, None,\n",
       "                    0.0011967708833743658, -0.23440479542259382, None,\n",
       "                    0.0011967708833743658, 0.9513987435835228, None,\n",
       "                    0.0011967708833743658, 0.8365342722847116, None,\n",
       "                    0.0011967708833743658, -0.4538737579457629, None,\n",
       "                    0.0011967708833743658, -0.28319212068912736, None,\n",
       "                    0.0011967708833743658, 0.24200068798391225, None,\n",
       "                    0.0011967708833743658, -0.5573310778975114, None,\n",
       "                    0.0011967708833743658, -0.8632592073804055, None,\n",
       "                    0.0011967708833743658, -0.31161529580918523, None,\n",
       "                    0.0011967708833743658, -0.4081959540376942, None,\n",
       "                    0.0011967708833743658, -0.4644362908919496, None,\n",
       "                    0.0011967708833743658, 0.28343224238766673, None,\n",
       "                    0.0011967708833743658, -0.26596266383952205, None,\n",
       "                    0.0011967708833743658, 0.0631644289200027, None,\n",
       "                    0.0011967708833743658, -0.982242475562098, None,\n",
       "                    0.0011967708833743658, 0.0006226934222173482, None,\n",
       "                    0.0011967708833743658, 0.4774385751416348, None,\n",
       "                    0.0011967708833743658, 0.6642692115862227, None,\n",
       "                    0.0011967708833743658, 0.7249025735935595, None,\n",
       "                    0.0011967708833743658, -0.6725522125075045, None,\n",
       "                    0.0011967708833743658, 0.9954473465812091, None,\n",
       "                    0.0011967708833743658, -1.0, None, 0.0011967708833743658,\n",
       "                    0.41359730918702103, None, 0.0011967708833743658,\n",
       "                    0.8668794753677875, None, 0.0011967708833743658,\n",
       "                    0.8063485537352821, None, 0.0011967708833743658,\n",
       "                    0.4647837940923301, None, 0.0011967708833743658,\n",
       "                    -0.4026639401980668, None, 0.0011967708833743658,\n",
       "                    0.11924529944090004, None, 0.0011967708833743658,\n",
       "                    0.44730761316117335, None, 0.0011967708833743658,\n",
       "                    -0.04065828777716152, None, 0.0011967708833743658,\n",
       "                    0.8563596864592421, None, 0.0011967708833743658,\n",
       "                    -0.8912226653907727, None, 0.0011967708833743658,\n",
       "                    -0.21009391235559344, None, 0.0011967708833743658,\n",
       "                    0.48921406742118706, None, 0.0011967708833743658,\n",
       "                    0.33191280083943014, None, 0.0011967708833743658,\n",
       "                    -0.07763185502275198, None, 0.0011967708833743658,\n",
       "                    0.4685001993987099, None, 0.0011967708833743658,\n",
       "                    -0.7190877819261695, None, 0.0011967708833743658,\n",
       "                    0.6823217438268949, None, 0.0011967708833743658,\n",
       "                    0.6768037475828476, None, 0.0011967708833743658,\n",
       "                    -0.5353784556561146, None, 0.0011967708833743658,\n",
       "                    -0.728733696169853, None, 0.0011967708833743658,\n",
       "                    -0.6428104928390352, None, 0.0011967708833743658,\n",
       "                    -0.6268576539218905, None, 0.0011967708833743658,\n",
       "                    -0.12424111451423797, None, 0.0011967708833743658,\n",
       "                    -0.8163886870259659, None, 0.0011967708833743658,\n",
       "                    0.09330665811593135, None, 0.0011967708833743658,\n",
       "                    -0.7813908044275976, None, 0.0011967708833743658,\n",
       "                    -0.9425806851711036, None, 0.0011967708833743658,\n",
       "                    0.20552377898159896, None, 0.0011967708833743658,\n",
       "                    0.5364925911188508, None, 0.0011967708833743658,\n",
       "                    0.6587478544020843, None]},\n",
       "             {'hoverinfo': 'text',\n",
       "              'marker': {'color': [55, 1, 1, 1, 1, 1, 1, 1, 1, 1, 1, 1, 1, 1, 1,\n",
       "                                   1, 1, 1, 1, 1, 1, 1, 1, 1, 1, 1, 1, 1, 1, 1, 1,\n",
       "                                   1, 1, 1, 1, 1, 1, 1, 1, 1, 1, 1, 1, 1, 1, 1, 1,\n",
       "                                   1, 1, 1, 1, 1, 1, 1, 1, 1],\n",
       "                         'line': {'width': 2},\n",
       "                         'showscale': True,\n",
       "                         'size': 10},\n",
       "              'mode': 'markers',\n",
       "              'text': [Irene Finocchi, C. Demetrescu, Andrea Ribichini, M.\n",
       "                       Schaerf, Blelloch Guy, Stefano Faralli, Simone Paolo\n",
       "                       Ponzetto, P. Velardi, Emilio Coppa, R. Garcia, N. Bansal, S.\n",
       "                       Caminiti, Emanuele G. Fusco, Francesco Silvestri, R.\n",
       "                       Baldoni, Daniele Cono D'Elia, U. Brandes, M. Nöllenburg, A.\n",
       "                       Quigley, M. Finocchi, Romolo Marotta, G. Italiano, L. Laura,\n",
       "                       T. Calamoneri, G. Ausiello, D. Firmani, J. Hershberger, U.\n",
       "                       F. Petrillo, R. Petreschi, F. Grandoni, G. Brodal, Rolf\n",
       "                       Fagerberg, A. Jørgensen, Gabriel Moruz, Thomas Mølhave,\n",
       "                       Sajal K. Das, V. Bonifaci, G. F. Italiano, A. Panconesi, R.\n",
       "                       Silvestri, Benedetto A. Colombo, H. Gabow, G. Liotta, R.\n",
       "                       Tamassia, R. Borie, R. Parker, C. Tovey, Y. Manoussakis, J.\n",
       "                       Stasko, J. Abello, Jeffrey L. Korn, S. Näher, P. Crescenzi,\n",
       "                       G. Battista, M. Patrignani, M. Pizzonia],\n",
       "              'type': 'scatter',\n",
       "              'uid': '3dc4b5f4-3b67-466f-85e0-e5c6cc247840',\n",
       "              'x': [-0.006247990498508707, 0.10841492246363334,\n",
       "                    -0.16551240261880937, -0.9747547898599398, -0.4818646180052734,\n",
       "                    0.34165144719826335, 0.5608009772430983, 0.862039699828944,\n",
       "                    0.6973161937088883, 0.39061222009719687, -0.4300285153141932,\n",
       "                    0.5096237549858077, -0.742283294709969, -0.17318506306505618,\n",
       "                    -0.9048818291713332, 0.9875783468129984, 0.9603250196542353,\n",
       "                    0.6569505002903283, -0.10559110476137197, -0.9771127070065925,\n",
       "                    -0.18055868239524853, -0.43141627958531265,\n",
       "                    -0.0740800966664617, 0.5968204678633838, 0.05427520552284447,\n",
       "                    0.1283697794307263, -0.46146069144628027, -0.3299323879036247,\n",
       "                    0.1656987428178939, -0.6921627158236622, 0.4335667351919572,\n",
       "                    -0.4335041712395521, -0.8957067906581924, -0.7136536393565848,\n",
       "                    -0.5521284712872966, 0.3035939836144276, -0.9540424722005936,\n",
       "                    0.15167334030730023, 0.75251734119822, 0.9671461171289059,\n",
       "                    0.5337394282889545, -0.2257203137636311, -0.7305649902326835,\n",
       "                    0.37649539466603327, -0.6668453666786273, -0.7109056692296104,\n",
       "                    0.345297914148027, 0.7758371237695392, 0.46476124864579754,\n",
       "                    -0.504475990410347, 0.8968715036467898, 0.032729290469242424,\n",
       "                    -0.330581135335467, -0.742715351015937, 0.860183413359532,\n",
       "                    0.6770274178871699],\n",
       "              'y': [0.0011967708833743658, -0.5214234203965009, 0.980896173639829,\n",
       "                    0.21958041163703104, -0.23440479542259382, 0.9513987435835228,\n",
       "                    0.8365342722847116, -0.4538737579457629, -0.28319212068912736,\n",
       "                    0.24200068798391225, -0.5573310778975114, -0.8632592073804055,\n",
       "                    -0.31161529580918523, -0.4081959540376942, -0.4644362908919496,\n",
       "                    0.28343224238766673, -0.26596266383952205, 0.0631644289200027,\n",
       "                    -0.982242475562098, 0.0006226934222173482, 0.4774385751416348,\n",
       "                    0.6642692115862227, 0.7249025735935595, -0.6725522125075045,\n",
       "                    0.9954473465812091, -1.0, 0.41359730918702103,\n",
       "                    0.8668794753677875, 0.8063485537352821, 0.4647837940923301,\n",
       "                    -0.4026639401980668, 0.11924529944090004, 0.44730761316117335,\n",
       "                    -0.04065828777716152, 0.8563596864592421, -0.8912226653907727,\n",
       "                    -0.21009391235559344, 0.48921406742118706, 0.33191280083943014,\n",
       "                    -0.07763185502275198, 0.4685001993987099, -0.7190877819261695,\n",
       "                    0.6823217438268949, 0.6768037475828476, -0.5353784556561146,\n",
       "                    -0.728733696169853, -0.6428104928390352, -0.6268576539218905,\n",
       "                    -0.12424111451423797, -0.8163886870259659, 0.09330665811593135,\n",
       "                    -0.7813908044275976, -0.9425806851711036, 0.20552377898159896,\n",
       "                    0.5364925911188508, 0.6587478544020843]}],\n",
       "    'layout': {'annotations': [{'showarrow': False,\n",
       "                                'text': 'This graph represents the co-author network of the selected professor.',\n",
       "                                'x': 0.005,\n",
       "                                'xref': 'paper',\n",
       "                                'y': -0.002,\n",
       "                                'yref': 'paper'}],\n",
       "               'hovermode': 'closest',\n",
       "               'margin': {'b': 20, 'l': 5, 'r': 5, 't': 40},\n",
       "               'showlegend': False,\n",
       "               'template': '...',\n",
       "               'title': {'font': {'size': 16}, 'text': '<br>Network graph of co-authorships'},\n",
       "               'xaxis': {'showgrid': False, 'showticklabels': False, 'zeroline': False},\n",
       "               'yaxis': {'showgrid': False, 'showticklabels': False, 'zeroline': False}}\n",
       "})"
      ]
     },
     "metadata": {},
     "output_type": "display_data"
    }
   ],
   "source": [
    "import json\n",
    "import networkx as nx\n",
    "import plotly.graph_objects as go\n",
    "import ipywidgets as widgets\n",
    "from IPython.display import display, clear_output\n",
    "\n",
    "# Create an empty figure widget with plotly\n",
    "fig = go.FigureWidget()\n",
    "\n",
    "# Dropdown widget\n",
    "dropdown = widgets.Dropdown(\n",
    "    options=list(professors_data.keys()),\n",
    "    value=list(professors_data.keys())[0],\n",
    "    description='Professor:',\n",
    "    disabled=False,\n",
    ")\n",
    "\n",
    "# Function to update the network graph based on selected professor\n",
    "def update_network(change):\n",
    "    selected_prof = change['new']\n",
    "    G = nx.Graph()\n",
    "    professor_data = professors_data.get(selected_prof, {})\n",
    "    co_authors = professor_data.get('Co-authors', {})\n",
    "\n",
    "    # Populate your graph with edges\n",
    "    for co_author in co_authors.keys():\n",
    "        G.add_edge(selected_prof, co_author)\n",
    "\n",
    "    # Position nodes using one of the layout options in NetworkX\n",
    "    pos = nx.spring_layout(G)\n",
    "\n",
    "    with fig.batch_update():\n",
    "        fig.data = []  # Clear existing data\n",
    "        \n",
    "        # Extract node positions for plotting\n",
    "        edge_x = []\n",
    "        edge_y = []\n",
    "        for edge in G.edges():\n",
    "            x0, y0 = pos[edge[0]]\n",
    "            x1, y1 = pos[edge[1]]\n",
    "            edge_x.extend([x0, x1, None])  # line breaks\n",
    "            edge_y.extend([y0, y1, None])  # line breaks\n",
    "\n",
    "        # Create edge traces\n",
    "        fig.add_trace(go.Scatter(\n",
    "            x=edge_x, y=edge_y,\n",
    "            line=dict(width=0.5, color='#888'),\n",
    "            hoverinfo='none',\n",
    "            mode='lines'))\n",
    "\n",
    "        # Create node traces\n",
    "        node_x = []\n",
    "        node_y = []\n",
    "        for node in G.nodes():\n",
    "            x, y = pos[node]\n",
    "            node_x.append(x)\n",
    "            node_y.append(y)\n",
    "\n",
    "        fig.add_trace(go.Scatter(\n",
    "            x=node_x, y=node_y,\n",
    "            mode='markers',\n",
    "            hoverinfo='text',\n",
    "            marker=dict(\n",
    "                showscale=True,\n",
    "                color=[len(G.adj[node]) for node in G.nodes()],\n",
    "                size=10,\n",
    "                line=dict(width=2))))\n",
    "\n",
    "        # Update layout\n",
    "        fig.update_layout(\n",
    "            title='<br>Network graph of co-authorships',\n",
    "            titlefont_size=16,\n",
    "            showlegend=False,\n",
    "            hovermode='closest',\n",
    "            margin=dict(b=20,l=5,r=5,t=40),\n",
    "            annotations=[ dict(\n",
    "                text=\"This graph represents the co-author network of the selected professor.\",\n",
    "                showarrow=False,\n",
    "                xref=\"paper\", yref=\"paper\",\n",
    "                x=0.005, y=-0.002 ) ],\n",
    "            xaxis=dict(showgrid=False, zeroline=False, showticklabels=False),\n",
    "            yaxis=dict(showgrid=False, zeroline=False, showticklabels=False)\n",
    "        )\n",
    "\n",
    "        # Set text for nodes\n",
    "        for node in G.nodes():\n",
    "            fig.data[1].text = list(G.nodes())\n",
    "\n",
    "# Observe dropdown for changes\n",
    "dropdown.observe(update_network, names='value')\n",
    "\n",
    "# Display dropdown\n",
    "display(dropdown)\n",
    "\n",
    "# Call update function initially to display the initial graph\n",
    "update_network({'new': dropdown.value})\n",
    "\n",
    "# Display graph\n",
    "display(fig)"
   ]
  },
  {
   "cell_type": "markdown",
   "metadata": {
    "pycharm": {
     "name": "#%% md\n"
    }
   },
   "source": [
    "### Tree-map of citations distribution"
   ]
  },
  {
   "cell_type": "code",
   "execution_count": 112,
   "metadata": {
    "pycharm": {
     "name": "#%%\n"
    }
   },
   "outputs": [
    {
     "name": "stderr",
     "output_type": "stream",
     "text": [
      "/var/folders/s4/w7khrzrj4894rd_vn9lr9_sh0000gn/T/ipykernel_10105/2608232399.py:35: FutureWarning:\n",
      "\n",
      "A value is trying to be set on a copy of a DataFrame or Series through chained assignment using an inplace method.\n",
      "The behavior will change in pandas 3.0. This inplace method will never work because the intermediate object on which we are setting values always behaves as a copy.\n",
      "\n",
      "For example, when doing 'df[col].method(value, inplace=True)', try using 'df.method({col: value}, inplace=True)' or df[col] = df[col].method(value) instead, to perform the operation inplace on the original object.\n",
      "\n",
      "\n",
      "\n"
     ]
    },
    {
     "data": {
      "application/vnd.plotly.v1+json": {
       "config": {
        "plotlyServerURL": "https://plot.ly"
       },
       "data": [
        {
         "branchvalues": "total",
         "customdata": [
          [
           "\"The Routines of Decision Making\" by T. Betsch and S. Haberstroh (Eds.), Lawrence Erlbaum Associates, Mahwah, NJ, 2005, BOOK REVIEW",
           1
          ],
          [
           "\"The road to food waste is paved with good intentions\": When consumers' goals inhibit the minimization of household food waste",
           68
          ],
          [
           "(In)Consistent Performance Feedback and the Locus of Search",
           2
          ],
          [
           "73 Heritability of coronary flow reserve",
           2
          ],
          [
           "A Classification of Open Innovation and Open Business Models",
           73
          ],
          [
           "A Contingency Model of Boards of Directors and Firm Innovation: The Moderating Role of Firm Size",
           160
          ],
          [
           "A FRAMEWORK FOR THE ANALYSIS OF RISK COMMUNICATION",
           38
          ],
          [
           "A General Framework for Enumerating Equivalence Classes of Solutions",
           2
          ],
          [
           "A General-Purpose Logic-Based Visualization Framework",
           9
          ],
          [
           "A Java-based system for building animated presentations over the Web",
           11
          ],
          [
           "A Multidimensional Conceptualization of Environmental Velocity",
           254
          ],
          [
           "A Parallel Approximation Algorithm for the Max Cut Problem on Cubic Graphs",
           2
          ],
          [
           "A Preliminary Analysis of SASB Reporting: Disclosure Topics, Financial Relevance, and the Financial Intensity of ESG Materiality",
           44
          ],
          [
           "A Primer on Corporate Governance: Italy",
           9
          ],
          [
           "A Structural and Evolutionary Approach to Change Management",
           11
          ],
          [
           "A Survey of Symbolic Execution Techniques",
           513
          ],
          [
           "A System for Building Animated Presentations over the Web",
           4
          ],
          [
           "A Technique for Generating Graphical Abstractions of Program Data Structures",
           9
          ],
          [
           "A Typology of Clean Technology Commercialization Accelerators",
           67
          ],
          [
           "A Unified Approach to Coding Labeled Trees",
           16
          ],
          [
           "A benchmark analysis of Canadian clean technology commercialization accelerators",
           2
          ],
          [
           "A better way to innovate.",
           153
          ],
          [
           "A bibliographic analysis of 20 years of research on innovation and new product development in technology and innovation management (TIM) journals",
           13
          ],
          [
           "A cross-country experimental study on consumers’ subjective understanding and liking on front-of-pack nutrition labels",
           28
          ],
          [
           "A data-driven graphical toolkit for software visualization",
           3
          ],
          [
           "A dynamic model of customer loyalty",
           67
          ],
          [
           "A dynamic model of customer loyalty; an empirical evidence",
           4
          ],
          [
           "A feature fatigue supply chain game with cooperative programs and ad-hoc facilitators",
           4
          ],
          [
           "A framework for the analysis of firm risk communication",
           627
          ],
          [
           "A joint maximization incentive in closed-loop supply chains with competing retailers: The case of spent-battery recycling",
           9
          ],
          [
           "A longitudinal study of MNE innovation: the case of Goodyear",
           38
          ],
          [
           "A new 1‐week therapy for Helicobacter pylori eradication: rani‐ tidine bismuth citrate plus two antibiotics",
           47
          ],
          [
           "A perspective on Salvelinus research",
           3
          ],
          [
           "A picture says more than a thousand words: Using consumer neuroscience to study instagram users' responses to influencer advertising",
           19
          ],
          [
           "A picture says more than a thousand words: Using consumer neuroscience to study instagram users' responses to influencer advertising",
           19
          ],
          [
           "A portable virtual machine for program debugging and directing",
           11
          ],
          [
           "A retailer inventory model when the reliability of inspection system affects the percentage of defective items which are delivered to final customers",
           2
          ],
          [
           "A selective survey of game-theoretic models of closed-loop supply chains",
           11.153846153846153
          ],
          [
           "A single-retailer multi-supplier multi-product inventory model with destructive testing acceptance sampling and inflation",
           6
          ],
          [
           "A survey on incumbent digital transformation: a paradoxical perspective and research agenda",
           2
          ],
          [
           "Academic buoyancy in high school: A cross-lagged multilevel modeling approach exploring reciprocal effects with perceived school support, motivation, and engagement.",
           11
          ],
          [
           "Accounting for the “transcendent self”: spirituality, narcissism, testimony and gift",
           4
          ],
          [
           "Accounting, learning and cultural integration",
           2
          ],
          [
           "Achieving Contextual Ambidexterity in R&D Organizations: A Management Control System Approach",
           68
          ],
          [
           "Achieving Resilience and Business Sustainability during COVID-19: The Role of Lean Supply Chain Practices and Digitalization",
           40
          ],
          [
           "Achieving agility using cladistics: an evolutionary analysis",
           14
          ],
          [
           "Acquisition Relatedness in Family Firms: Do the Environment and the Institutional Context Matter?",
           10
          ],
          [
           "Activating social strategies: Face-to-face interaction in technology-mediated citizen science.",
           70
          ],
          [
           "Adaptive organizational resilience: an evolutionary perspective",
           66
          ],
          [
           "Addressing low-profile misconduct in management academia through theoretical triangulation and transformative ethics education",
           1
          ],
          [
           "Advancing Service Innovation",
           6
          ],
          [
           "Advancing Services Innovation",
           11
          ],
          [
           "Advancing the Literature on Ownership Structure and Corporate Governance",
           13
          ],
          [
           "Advertising Intensity and Welfare in an Equilibrium Search Model",
           1
          ],
          [
           "Agency Conflicts and Corporate Governance",
           8
          ],
          [
           "Algorithm engineering, Algorithmics Column",
           10
          ],
          [
           "Algorithms - ESA 2015",
           7
          ],
          [
           "Algorithms - ESA 2015 :23rd annual European symposium, Patras, Greece, September 14-16, 2015 : proceedings",
           2
          ],
          [
           "Algorithms for Data Streams",
           5
          ],
          [
           "Algorithms for the quantitative Lock/Key model of cytoplasmic incompatibility",
           1
          ],
          [
           "All graphs with at most seven vertices are Pairwise Compatibility Graphs",
           29
          ],
          [
           "Ambidexterity and Unit Performance: Intellectual Capital Antecedents and Cross-Level Moderating Effects of Human Resource Practices",
           68
          ],
          [
           "Amendments to the IAS 41 and IAS 16 – Implications for accounting of bearer plants",
           11
          ],
          [
           "An Empirical Investigation on Reactivity and Performance",
           1
          ],
          [
           "An Experimental Analysis of Simple, Distributed Vertex Coloring Algorithms",
           8
          ],
          [
           "An Integrated Approach to Studying Multiplexity in Entrepreneurial Networks",
           29
          ],
          [
           "An Unbiased Approach To Identify Endogenous Substrates of “Histone” Deacetylase 8",
           80
          ],
          [
           "An Upper Echelons Perspective of Organizational Capacity for Change: An International Study of Initial Public Offerings",
           1
          ],
          [
           "An analysis of the co-inventor networks associated with the Chinese pharmaceutical industry",
           2
          ],
          [
           "An audience with… Henry Chesbrough. Interview by Asher Mullard.",
           1
          ],
          [
           "An evaluation model for determining the business process benefits of thixoforming",
           12
          ],
          [
           "An evolutionary approach to benchmarking",
           98
          ],
          [
           "An evolutionary overview of the ownership, governance and strategy of Mediobanca: from the kingmaker of Italian capitalism to a large financial conglomerate",
           3
          ],
          [
           "An investigation on the effectiveness of hedonic versus utilitarian message appeals in luxury product communication",
           56
          ],
          [
           "Analisi della domanda",
           38
          ],
          [
           "Analysis of hand kinematics reveals inter-individual differences in intertemporal decision dynamics",
           25
          ],
          [
           "Analyzing online reviews in hospitality: data-driven opportunities for predicting the sharing of negative emotional content",
           36
          ],
          [
           "Anatomy of Green Specialisation: Evidence from EU Production Data, 1995–2015",
           12
          ],
          [
           "Antimicrobial study of the resinous exudate and of diterpenoids isolated from Eupatorium salvia (Asteraceae).",
           70
          ],
          [
           "Anti‐counterfeiting\n strategy unfolded a closer look to the case of a large multinational manufacturer",
           4
          ],
          [
           "Anxious attachment style and consumer physiological emotional responses to human–robot service interactions.",
           5
          ],
          [
           "Anxious attachment style and consumer physiological emotional responses to human–robot service interactions.",
           5
          ],
          [
           "Approximate Solutions to the Food Selection Problem ( or How to Pig Out in the Eternal City )",
           1
          ],
          [
           "Are Relationally Transparent Leaders More Receptive to the Relational Transparency of Others? An Authentic Dialog Perspective",
           5
          ],
          [
           "Are we truly wicked when gossiping at work? The role of valence, interpersonal closeness and social awareness",
           29
          ],
          [
           "Are you telling me the truth? Authenticity of responses in virtual world research",
           3
          ],
          [
           "Arrested development: the experience of European hard disk drive firms in comparison with US and Japanese firms",
           48
          ],
          [
           "Assembling the elephant: A review of empirical studies on the impact of technical change upon incumbent firms",
           49
          ],
          [
           "Asymmetries in Global Value Chain Integration, Technology and Employment Structures in Europe: Country and Sectoral Evidence",
           2
          ],
          [
           "Attachment styles moderate customer responses to frontline service robots: Evidence from affective, attitudinal, and behavioral measures",
           40
          ],
          [
           "Attachment styles moderate customer responses to frontline service robots: Evidence from affective, attitudinal, and behavioral measures",
           40
          ],
          [
           "Attachment styles moderate customer responses to frontline service robots: Evidence from affective, attitudinal, and behavioral measures",
           40
          ],
          [
           "Attitudes Toward Responsible Tourism and Behavioral Change to Practice it: A Demand-Side Perspective in the Context of Italy",
           23
          ],
          [
           "Averting the rise of the dark side of social media: The role of sensitization and regulation",
           15
          ],
          [
           "BOARD DIVERSITY AND FIRM PERFORMANCE: AN EMPIRICAL INVESTIGATION OF THE MEDIATING EFFECTS OF BOARD PROCESSES AND TASK PERFORMANCE.",
           3
          ],
          [
           "BOARDS OF DIRECTORS AND FIRM INNOVATION: TOWARD A CONTINGENCY PERSPECTIVE ON BOARD EFFECTIVENESS.",
           1
          ],
          [
           "Balancing the Trade-Off between Learning Prospects and Spillover Risks: MNC Subsidiaries' Vertical Linkage Patterns in Developed Countries",
           69
          ],
          [
           "Ball-Larus path profiling across multiple loop iterations",
           14
          ],
          [
           "Bank-Firm Relation Changes and Earnings Quality - An Analysis on Italian Small-Medium Sized Companies",
           1
          ],
          [
           "Being observed in the digital era: Conceptualization and scale development of the perception of being observed",
           3
          ],
          [
           "Between Sponge and Titanium:Designing micro and macro features for the resilient organization",
           8
          ],
          [
           "Beyond Compliance: an Integrated Governance Framework",
           3
          ],
          [
           "Beyond Compliance: why integrated governance matters today",
           27
          ],
          [
           "Beyond High Tech: Early Adopters of Open Innovation in Other Industries",
           1873
          ],
          [
           "Beyond compliance: why integrated governance matters today: the idea is for financial professionals to help their companies address performance and knowledge management, too",
           5
          ],
          [
           "Beyond persuasive representations of facts: “figuring out” what sustainable value creation means in practice",
           1
          ],
          [
           "Beyond the Black Box of Demography: Board Processes and Task Effectiveness Within Italian Firms",
           230
          ],
          [
           "Blockchain Adoption in the Winery Industry",
           1
          ],
          [
           "Blockchain Adoption in the Winery Industry",
           1
          ],
          [
           "Blockchain Technology Applications in Businesses and Organizations",
           3
          ],
          [
           "Blockchain, logistics and omnichannel for last mile and performance",
           20
          ],
          [
           "Board Tasks in Small Firms: The Importance of Motivation and Evaluations",
           8
          ],
          [
           "Board activity in large italian companies. A behavioural perspective",
           2
          ],
          [
           "Board diversity’s antecedents and consequences: A review and research agenda",
           10
          ],
          [
           "Board monitoring and effectiveness: Antecedents and implications",
           10
          ],
          [
           "Board monitoring and internal control system disclosure in different regulatory environments",
           44
          ],
          [
           "Board task performance in small firms: the role of personal incentives and board processes",
           1
          ],
          [
           "Board task performance: An exploration of micro- and macro-level determinants of board effectiveness",
           197
          ],
          [
           "Boards of Directors and Firm Innovation: an Empirical Analysis on Large Italian Companies",
           5
          ],
          [
           "Boards of Directors' Contribution to Strategy: A Literature Review and Research Agenda",
           371
          ],
          [
           "Boards' contribution to strategy and innovation",
           12
          ],
          [
           "Brain metabolic differences between pure bulbar and pure spinal ALS: a 2-[18F]FDG-PET study",
           5
          ],
          [
           "Brand Dislike: The Dark Side of Consumer Preferences",
           23
          ],
          [
           "Brand dislike: evidence from qualitative research and scale development",
           12
          ],
          [
           "Brand dislike: representing the negative side of consumer preferences",
           49
          ],
          [
           "Break the \"Right\" Cycles and Get the \"Best\" Drawing",
           18
          ],
          [
           "Breaking cycles for minimizing crossings",
           25
          ],
          [
           "Bring them aboard: Rewarding participation in technology-mediated citizen science projects",
           57
          ],
          [
           "Building a manufacturing cladogram",
           63
          ],
          [
           "Building an Integrated Governance Framework",
           1
          ],
          [
           "Building and reinforcing organizational resilience through international mobility: A multi-level framework",
           1
          ],
          [
           "Business Model Innovation: Opportunities and Barriers",
           3345
          ],
          [
           "Business Models for Technology in the Developing World: The Role of Non-Governmental Organizations",
           153
          ],
          [
           "Business Opportunities in the Middle East",
           1
          ],
          [
           "Business model innovation paths",
           22
          ],
          [
           "Business models in technology-based firms: A cognitive approach to regional differences",
           2
          ],
          [
           "Business outcomes of outsourcing: Lessons from management research",
           4
          ],
          [
           "CARING MORE BY DOING LESS? AN ENQUIRY ABOUT THE IMPACTS OF OUTSOURCING ON PATIENT CARE",
           9
          ],
          [
           "CEO Entrepreneurial Orientation, Entrenchment, and Firm Value Creation",
           73
          ],
          [
           "CGIP: Managing Consumer-Generated Intellectual Property",
           55
          ],
          [
           "CORPORATE SOCIAL RESPONSIBILITY AND STOCK PRICES: A STUDY ON THE ITALIAN MARKET",
           17
          ],
          [
           "COVER STORY • Open Innovation: A Key to Achieving Socioeconomic Evolution • 3 How Smaller Companies Can Benefit from Open Innovation",
           21
          ],
          [
           "Can you change my preferences? Effect of social influence on intertemporal choice behavior",
           17
          ],
          [
           "Capital Market Consequences of the Libor Scandal and Phaseout for Public Borrowers",
           1
          ],
          [
           "Capybara: equivalence ClAss enumeration of coPhylogenY event-BAsed ReconciliAtions",
           6
          ],
          [
           "Case 9: Stressed and Demotivated Public Servants… Looking for a (Motivational) Miracle at Paywell Agency",
           1
          ],
          [
           "Centralità e performance scientifica: alcune evidenze dai network di ricerca clinica",
           3
          ],
          [
           "Centralità e performance scientifica: alcune evidenze dai network di ricerca clinica",
           3
          ],
          [
           "Changing Collaboration in Knowledge Work: Design Implications for Jobs, Teams, and Organizations",
           1
          ],
          [
           "Chapter 10 A Survey on the Economics of the U.S. Pharmaceutical Industry",
           2
          ],
          [
           "Chapter 5 The GFT Utility Function",
           1
          ],
          [
           "Chez Panisse: Building an Open Innovation Ecosystem",
           151
          ],
          [
           "Cladistics: a taxonomy for manufacturing organizations",
           55
          ],
          [
           "Click Here to Agree: Managing Intellectual Property When Crowdsourcing Solutions",
           46
          ],
          [
           "Clique Counting in MapReduce",
           24
          ],
          [
           "Close together or far apart? The geography of host-country knowledge sourcing and MNCs’ innovation performance",
           3
          ],
          [
           "Co-divergence and tree topology",
           1
          ],
          [
           "Cogema - la Hague : the waste production techniques with special emphasis on the study of Japanese reprocessing wastes",
           1
          ],
          [
           "Cognitive Dynamics of Religiosity and Intertemporal Choice Behavior",
           6
          ],
          [
           "Cognitive Dynamics of Religiosity and Intertemporal Choice Behavior",
           6
          ],
          [
           "Cognitive dynamics of intertemporal choice in gambling disorder.",
           14
          ],
          [
           "Combinatorial algorithms for feedback problems in directed graphs",
           60
          ],
          [
           "Company Post-Crisis Communication Strategies and the Psychological Mechanism Underlying Consumer Reactions",
           57
          ],
          [
           "Comparative Studies of Technological Evolution",
           17
          ],
          [
           "Competing with or Against Cozmo, the Robot: Influence of Interaction Context and Outcome on Mind Perception",
           14
          ],
          [
           "Competitive Convergence: Construct Definition and Measurement",
           1
          ],
          [
           "Complex systems theory: implications and promises for manufacturing organisations",
           50
          ],
          [
           "Compressed Weighted de Bruijn Graphs",
           3
          ],
          [
           "Computing an Evolutionary Ordering is Hard",
           1
          ],
          [
           "Concreteness and emotional valence of episodic future thinking (EFT) independently affect the dynamics of intertemporal decisions",
           22
          ],
          [
           "Configurations of Capacity for Change in Entrepreneurial Threshold Firms: Imprinting and Strategic Choice Perspectives",
           63
          ],
          [
           "Configuring a new business model through conceptual combination: The rise of the Huffington Post",
           2
          ],
          [
           "Conflict-free star-access in parallel memory systems",
           28
          ],
          [
           "Confronting indifference toward truth: Dealing with workplace bullshit",
           29
          ],
          [
           "Connecting product innovation management and marketing",
           3
          ],
          [
           "Connectivity of information in Integrated Reporting: exploring the holistic representation of the organization’s value creation process",
           1
          ],
          [
           "Consumer Reshoring Sentiment and Animosity: Expanding Our Understanding of Market Responses to Reshoring",
           25
          ],
          [
           "Consumer attitude toward reshoring: Related effects and relevant boundary conditions",
           1
          ],
          [
           "Consumer reactions to corporate decisions to outsource labor abroad",
           1
          ],
          [
           "Consumer response to corporate irresponsible behavior: Moral emotions and virtues",
           338
          ],
          [
           "Consumer responses to corporate offshoring practices",
           8
          ],
          [
           "Consumer self-reported and testosterone responses to advertising of luxury goods in social context",
           3
          ],
          [
           "Consumer self-reported and testosterone responses to advertising of luxury goods in social context",
           3
          ],
          [
           "Consumer stakeholder responses to reshoring strategies",
           68
          ],
          [
           "Consumer – brand relationships in West Bank. Non-western grounded theory?",
           1
          ],
          [
           "Consumers' perceptions of luxury brands’ CSR initiatives: An investigation of the role of status and conspicuous consumption",
           109
          ],
          [
           "Consumers’ Attitudes Toward Sustainable Luxury Products: The Role of Perceived Uniqueness and Conspicuous Consumption Orientation",
           2
          ],
          [
           "Consumers’ self-reported and brain responses to advertising post on Instagram: the effect of number of followers and argument quality",
           12
          ],
          [
           "Consumers’ self-reported and brain responses to advertising post on Instagram: the effect of number of followers and argument quality",
           12
          ],
          [
           "Consumption experiences and product meanings: pasta for young Italian consumers",
           14
          ],
          [
           "Consumption practices of counterfeit luxury goods in the Italian context",
           83
          ],
          [
           "Context Effects in Word-Of-Mouth Communications: the Effect of Crowdedness on Social Transmission",
           2
          ],
          [
           "Coopetition dynamics in convergent industries: designing scope connections to combine heterogeneous resources",
           20
          ],
          [
           "Coordination in a distribution channel with decisions on the nature of incentives and share-dependency on pricing",
           12
          ],
          [
           "Cophylogeny Reconstruction via an Approximate Bayesian Computation",
           37
          ],
          [
           "Coping with Different Types of Innovation: What Do Metaphors Reveal About How Entrepreneurs Describe the Innovation Process?",
           4
          ],
          [
           "Corporate Governance Codes: A Review and Research Agenda",
           183
          ],
          [
           "Corporate Governance Research in the Wake of a Systemic Crisis: Lessons and Opportunities from the COVID‐19 Pandemic",
           40
          ],
          [
           "Corporate Governance and Initial Public Offerings: An International Perspective",
           13
          ],
          [
           "Corporate Governance and Initial Public Offerings: Contributors",
           2
          ],
          [
           "Corporate Governance and Initial Public Offerings: Corporate governance and initial public offerings in Italy",
           2
          ],
          [
           "Corporate Governance in large UK family firms",
           3
          ],
          [
           "Corporate Governance, Board Gender Diversity and Firm Performance",
           28
          ],
          [
           "Corporate Governance, Board of Directors, and Firm Performance",
           45
          ],
          [
           "Corporate Governance, Board of Directors, and the Firm: A Maturing Field",
           23
          ],
          [
           "Corporate Governance, Information, and Investor Confidence",
           14
          ],
          [
           "Corporate Social Responsibility and Earnings Quality: International Evidence",
           155
          ],
          [
           "Corporate Social Responsibility and Firms Performance - An Analysis on Italian Listed Companies",
           95
          ],
          [
           "Corporate Socially Responsible Initiatives and Their Effects on Consumption of Green Products",
           142
          ],
          [
           "Corporate governance adrift: A critique of shareholder value",
           28
          ],
          [
           "Corporate governance and IPO underpricing in a cross‐national sample: A multilevel knowledge‐based view",
           63
          ],
          [
           "Corporate governance and IPO underpricing throughout the world: agency and institutional perspectives",
           1
          ],
          [
           "Corporate governance and institutions—A review and research agenda",
           29
          ],
          [
           "Corporate governance in Italy: the structural conflict of interests between majority and minority shareholders",
           3
          ],
          [
           "Corporate governance, boards of directors, and firm performance: Avenues for future research",
           13
          ],
          [
           "Corporate governance, firm performance, and managerial incentives",
           4
          ],
          [
           "Corporate strategy : una prospettiva organizzativa e finanziaria per la crescita",
           1
          ],
          [
           "Correlations between fitness and heterozygosity at allozyme and microsatellite loci in the Atlantic salmon, Salmo salar L.",
           69
          ],
          [
           "Counting cliques in parallel without a cluster: Engineering a fork/join algorithm for shared-memory platforms",
           2
          ],
          [
           "Counting small cliques in MapReduce",
           11
          ],
          [
           "Covert brand recognition engages emotion-specific brain networks.",
           4
          ],
          [
           "Creating New Ventures from Bell Labs Technologies",
           34
          ],
          [
           "Creative consumers: awareness, attitude and action",
           14
          ],
          [
           "Crossing-constrained hierarchical drawings",
           4
          ],
          [
           "Crowd-Open and Crowd-Based Collaborations: Facilitating the emergence of organization design",
           4
          ],
          [
           "CrumbTrail: An efficient methodology to reduce multiple inheritance in knowledge graphs",
           2
          ],
          [
           "Customer base segmentation and relationship management. Applying latent class regression to the mobile communications business",
           1
          ],
          [
           "Customer satisfaction and trust into the resource-based perspective. Research propositions endorsing the confirmation/disconfirmation paradigm",
           14
          ],
          [
           "Customer value metrics",
           11
          ],
          [
           "Customizing customization: A conceptual framework for interactive personalization",
           145
          ],
          [
           "D'un soi émietté.",
           2
          ],
          [
           "Dealing with the Unknown: Leading in uncertain times by rethinking the design of management accounting and reporting systems",
           6
          ],
          [
           "Decision and action planning signals in human posterior parietal cortex during delayed perceptual choices",
           30
          ],
          [
           "Deepfakes: Trick or treat?",
           166
          ],
          [
           "Demand Forecasting in the Fashion Industry: A Review",
           117
          ],
          [
           "Design Science and eTrust: Designing Organizational Artifacts as Nexus of Social and Technical Interactions",
           7
          ],
          [
           "Designing Corporate Ventures in the Shadow of Private Venture Capital",
           272
          ],
          [
           "Designing reliable algorithms in unreliable memories",
           36
          ],
          [
           "Developing Corporate Governance Research Through Qualitative Methods: A Review of Previous Studies",
           184
          ],
          [
           "Developing Corporate Governance Theory through Qualitative Research",
           52
          ],
          [
           "Developing Entrepreneurial Competencies in Vietnam: Evidence from the Bac Ninh Province",
           1
          ],
          [
           "Developing organizational resilience via international mobility: a conceptual framework",
           2
          ],
          [
           "Development of 30 microsatellite markers for dab (Limanda limanda L.): a key UK marine biomonitoring species",
           8
          ],
          [
           "Dinamismo ambientale, esperienza digitale del board, e cambiamento strategico delle imprese. L'integrazione tra Dynamic Managerial Capabilities e Resource Dependence Theory",
           1
          ],
          [
           "Disclosure on Internal Control Systems as Substitute of Alternative Governance Mechanisms",
           12
          ],
          [
           "Discovery of the first histone deacetylase 6/8 dual inhibitors.",
           75
          ],
          [
           "Distinct Patterns of Cognitive Conflict Dynamics in Promise Keepers and Promise Breakers",
           6
          ],
          [
           "Divider-based algorithms for hierarchical tree partitioning",
           1
          ],
          [
           "Do not put the blame on me: Asymmetric responses to service outcome with autonomous vehicles versus human agents",
           3
          ],
          [
           "Do not put the blame on me: Asymmetric responses to service outcome with autonomous vehicles versus human agents",
           3
          ],
          [
           "Do your employees think your slogan is “fake news?” A framework for understanding the impact of fake company slogans on employees",
           11
          ],
          [
           "Does CSR Engender Trust? Evidence From Investor Reactions to Corporate Disclosures",
           1
          ],
          [
           "Does Family Involvement Influence Firm Performance? Exploring the Mediating Effects of Board Processes and Tasks",
           180
          ],
          [
           "Does board independence influence financial performance in IPO firms? The moderating role of the national business system",
           62
          ],
          [
           "Does getting along matter? Tourist-tourist rapport in guided group activities",
           7
          ],
          [
           "Does patenting help or hinder open innovation? Evidence from new entrants in the solar industry",
           66
          ],
          [
           "Domestic food practices: A study of food management behaviors and the role of food preparation planning in reducing waste",
           158
          ],
          [
           "Dominant-owner CEOs, board of directors and firm performance in emerging economies: Exploring the moderating impact of quad-qualified directors",
           4
          ],
          [
           "Dynamic Game Plans: Using Gamification to Entrain Strategic Renewal with Environmental Velocity",
           2
          ],
          [
           "Dynamic Graphs",
           3
          ],
          [
           "Dynamic game plans",
           2
          ],
          [
           "Dynamic programming in faulty memory hierarchies (cache-obliviously)",
           8
          ],
          [
           "Dynamics of Industry and Innovation: Organizations, Networks and Systems Enablers, Outcomes, and Effets of Product Bundling: towards an Analytical Model Enablers, Outcomes, and Effects of Product Bundling: towards an Analytical Model",
           2
          ],
          [
           "E-business and its role in small business networks",
           3
          ],
          [
           "EUCALYPT: efficient tree reconciliation enumerator",
           38
          ],
          [
           "EXPERIMENTAL EVALUATION OF BENDING AND TORSIONAL DEFORMABILITY OF FRP PULTRUDED BEAMS",
           8
          ],
          [
           "Earnings management, forecast guidance and the banking crisis",
           16
          ],
          [
           "Eco-Digital Supply Chains through Blockchains",
           8
          ],
          [
           "Edinburgh Research Explorer In search of the \"Perfect One\"",
           64
          ],
          [
           "Editorial: Corporate Governance, Institutions and Industry Regulation",
           4
          ],
          [
           "Editorial: Preface to the special issue",
           7
          ],
          [
           "Effects of Individual Discount Rate and Uncertainty Perception on Compliance with Containment Measures during the COVID-19 Pandemic",
           3
          ],
          [
           "Effects of the transition from Lira to Euro on buyers’ product evaluation. An analysis before and after the introduction of the new currency",
           3
          ],
          [
           "Effects of the transition from lira to euro on buyers' product evaluations",
           2
          ],
          [
           "Effects on consumers’ subjective understanding of a new front-of-pack nutritional label: a study on Italian consumers",
           25
          ],
          [
           "Efficient Pruning of Large Knowledge Graphs",
           12
          ],
          [
           "El mercado, la empresa y la primacia del conocimiento",
           1
          ],
          [
           "Elgar Introduction to Theories of Organizational Resilience",
           30
          ],
          [
           "Emotional and Social Intelligence Competencies in the Digital Era",
           3
          ],
          [
           "Emotions that Drive Consumers Away from Brands: Measuring Negative Emotions Toward Brands and Their Behavioral Effects",
           232
          ],
          [
           "Empirical Evaluation for Graph Drawing (Dagstuhl Seminar 15052)",
           2
          ],
          [
           "Enacting governance at the local level through management control systems: the case of a multinational energy company",
           1
          ],
          [
           "Enel X: Driving Digital Transformation in the Energy Sector",
           2
          ],
          [
           "Engaging public servants: Public service motivation, work engagement and work-related stress",
           38
          ],
          [
           "Engineering Tree Labeling Schemes: A Case Study on Least Common Ancestors",
           13
          ],
          [
           "Environmental Influences Upon Firm Entry into New Sub-Markets: Evidence from the Worldwide Hard Disk Drive Industry",
           13
          ],
          [
           "Environmental influences upon firm entry into new sub-markets: Evidence from the worldwide hard disk drive industry conditionally",
           70
          ],
          [
           "Environmental reporting: transparency to stakeholders or stakeholders’ manipulation? An analysis of disclosure tone and the role of board of directors",
           161
          ],
          [
           "Erratum to “Trade-in and save: A two-period closed-loop supply chain game with price and technology dependent returns” [Int. J. Prod. Econ. 183 B (2017) 514–527]",
           2
          ],
          [
           "Erratum to: Corporate Socially Responsible Initiatives and Their Effects on Consumption of Green Products",
           2
          ],
          [
           "Estimating the Empirical Cost Function of Routines with Dynamic Workloads",
           15
          ],
          [
           "Evidence Accumulates for Individual Attributes in Risky Choice",
           1
          ],
          [
           "Evolution of multiple organisational identities after an M&A event: A case study from Europe",
           17
          ],
          [
           "Executive Compensation, Board Functioning, and Corporate Governance",
           20
          ],
          [
           "Experiences with Gamification: The MDE Framework",
           4
          ],
          [
           "Experimental Study of Resilient Algorithms and Data Structures",
           9
          ],
          [
           "Experimental analysis of simple, distributed vertex coloring algorithms",
           40
          ],
          [
           "Explaining Consumer Brand-Related Activities on Social Media: The Role of Self-Determination Theory",
           1
          ],
          [
           "Explaining Consumer Reactions to Corporate Social Responsibility: The Role of Gratitude and Altruistic Values",
           271
          ],
          [
           "Explaining consumer brand-related activities on social media: An investigation of the different roles of self-expression and socializing motivations",
           96
          ],
          [
           "Explicating Open Innovation",
           218
          ],
          [
           "Explicating Open Innovation: Clarifying an Emerging Paradigm for Understanding Innovation",
           862
          ],
          [
           "Exploiting the business opportunities in biotech connections: The power of social networks",
           16
          ],
          [
           "Exploring How the Balanced Scorecard Engages and Unfolds: Articulating the Visual Power of Accounting Inscriptions",
           171
          ],
          [
           "Exploring and Visualizing Spaces of Tree Reconciliations.",
           5
          ],
          [
           "Exploring open innovation in the digital age: A maturity model and future research directions",
           73
          ],
          [
           "Exploring pairwise compatibility graphs",
           28
          ],
          [
           "Exploring the Effects of Corporate Governance on Voluntary Disclosure: An Explanatory Study on the Adoption of Integrated Report",
           17
          ],
          [
           "Exploring the International Connectivity of Chinese Inventors in the Pharmaceutical Industry",
           1
          ],
          [
           "Exploring the Political Side of Board Involvement in Strategy: A Study of Mixed-Ownership Institutions",
           141
          ],
          [
           "Exploring the Robustness of the Parsimonious Reconciliation Method in Host-Symbiont Cophylogeny",
           3
          ],
          [
           "Exploring the craft of visual accounts through arts: Fear, voids and illusion in corporate reporting practices",
           2
          ],
          [
           "Extending Open Innovation: Orchestrating Knowledge Flows from Corporate Venture Capital Investments",
           6
          ],
          [
           "FEEDING POST-MODERN FAMILIES: FOOD PREPARATION AND CONSUMPTION PRACTICES IN NEW FAMILY STRUCTURES",
           19
          ],
          [
           "Family Business, Corporate Governance, and Firm Performance",
           11
          ],
          [
           "Family Ownership and Impression Management: An Integrated Approach",
           1
          ],
          [
           "Farewell editorial: Exiting editors' perspective on current and future challenges in corporate governance research",
           29
          ],
          [
           "Fashion without pollution: How consumers evaluate brands after an NGO campaign aimed at reducing toxic chemicals in the fashion industry",
           45
          ],
          [
           "Fatigue increases the perception of future effort during decision making",
           33
          ],
          [
           "Feasibility of a screening programme for lung cancer in former asbestos workers.",
           33
          ],
          [
           "Figureheads or Potentates? CEO Power and Board Oversight in the Context of Sarbanes Oxley",
           23
          ],
          [
           "Fluid Shifts Due to Microgravity and Their Effects on Bone: A Review of Current Knowledge",
           50
          ],
          [
           "Focusing strategies in reasoning about games",
           2
          ],
          [
           "Forward-Looking Disclosures, Financial Verifiability and Analysts' Forecasts: A Study of Cross-Listed European Firms",
           102
          ],
          [
           "Framing a trust game as a power game greatly affects interbrain synchronicity between trustor and trustee",
           10
          ],
          [
           "From Collaborative Community to Competitive Market: The Quest to Build a Crowdsourcing Platform for Social Innovation",
           44
          ],
          [
           "From Internal Auditing to Enterprise Risk Management : the Case of the Telecomitalia Group",
           1
          ],
          [
           "From Open Science to Open Innovation",
           32
          ],
          [
           "From utilities to mental models: A critical survey on decision rules and cognition in consumer choice",
           70
          ],
          [
           "Gait assessment as an outcome measure in total knee replacement",
           1
          ],
          [
           "Game on: Engaging customers and employees through gamification",
           240
          ],
          [
           "Geometric medians in reconciliation spaces of phylogenetic trees",
           10
          ],
          [
           "Geometrical dimensions of the lower lumbar vertebrae – analysis of data from digitised CT images",
           198
          ],
          [
           "Giddens’ structuration theory and its implications for management accounting research",
           69
          ],
          [
           "Gli enti conferenti: aspetti economici e di bilancio",
           1
          ],
          [
           "Globalization and the international convergence of management accounting",
           12
          ],
          [
           "Graceful Exits and Missed Opportunities: Xerox's Management of its Technology Spin-off Organizations",
           119
          ],
          [
           "Gradual disaggregation of the casein micelle improves its emulsifying capacity and decreases the stability of dairy emulsions",
           24
          ],
          [
           "Graph Coloring with Distance Constraints",
           1
          ],
          [
           "Graph sketches",
           24
          ],
          [
           "Graphs in Computer Science",
           3
          ],
          [
           "Green practices and operational performance: The moderating role of agility",
           10
          ],
          [
           "Gritty Leaders Promoting Employees’ Thriving at Work",
           31
          ],
          [
           "Growing global by acquisitions: the role of measurement as GE met Italy",
           4
          ],
          [
           "Growth goal setting in high school: A large-scale study of perceived instructional support, personal background attributes, and engagement outcomes.",
           9
          ],
          [
           "Guest editorial",
           1
          ],
          [
           "HOW DO WE UNDERSTAND PARTICIPATION IN GLOBAL VALUE CHAINS? A STRUCTURED REVIEW OF THE LITERATURE",
           1
          ],
          [
           "Hands on Algorithms:an Experience with Algorithm Animation in Advanced Computer Science Classes",
           2
          ],
          [
           "Hierarchical Clustering of Trees: Algorithms and Experiments",
           6
          ],
          [
           "Hierarchical Decompositions for Visualizing Large Graphs",
           9
          ],
          [
           "How Big Data Creates New Job Opportunities: Skill Profiles of Emerging Professional Roles",
           3
          ],
          [
           "How ENI Can Improve Procurement Through Blockchain Technology",
           1
          ],
          [
           "How Exchanges Work: Trading Venues, Algorithmic and High-Frequency Transactions",
           1
          ],
          [
           "How Independent, Competent and Incentivized Should Non-Executive Directors Be? An Empirical Investigation of Good Governance Codes",
           143
          ],
          [
           "How Much Do Country-Level or Firm-Level Variables Matter in Corporate Governance Studies?",
           70
          ],
          [
           "How Relationship Age Moderates Loyalty Formation",
           109
          ],
          [
           "How Sensory Language Shapes Influencer’s Impact",
           10
          ],
          [
           "How Sensory Language Shapes Influencer’s Impact",
           10
          ],
          [
           "How companies’ good deeds encourage consumers to adopt pro-social behavior",
           69
          ],
          [
           "How does organizational space help organizations cope with the challenges of ambidexterity and continue to innovate? A space reorganization experiment in a transitioning organization",
           3
          ],
          [
           "How independent are boards and independent directors? An empirical analysis of the content of good governance codes",
           1
          ],
          [
           "How knowledge collecting fosters organizational creativity",
           35
          ],
          [
           "How language abstractness affects service referral persuasiveness",
           24
          ],
          [
           "How managers detect paradox: critical realism, moderate constructivism and sensemaking in action",
           1
          ],
          [
           "How much are flexibility and uncertainty worth in patent licensing?",
           4
          ],
          [
           "How to Appropriate Value from General-Purpose Technology by Applying Open Innovation",
           20
          ],
          [
           "How to Contribute to the Development of a Global Understanding of Corporate Governance? Reflections from Submitted and Published Articles in CGIR",
           46
          ],
          [
           "How to Work a Crowd: Developing Crowd Capital Through Crowdsourcing",
           233
          ],
          [
           "Hyperloop Transportation Technologies, Inc.: A Startup Using the Gig Economy for Its Core Business",
           1
          ],
          [
           "I might try it: Marketing actions to reduce consumer disgust toward insect-based food",
           7
          ],
          [
           "I might try it: Marketing actions to reduce consumer disgust toward insect-based food",
           7
          ],
          [
           "I modelli di business nel settore cinematografico",
           1
          ],
          [
           "IFRS AND INTERNATIONAL DIFFERENCES: AN EMPIRICAL ANALYSIS ON THEIR APPLICATION WORLDWIDE",
           2
          ],
          [
           "IMEC(A+B):Creating value through a New Approach to IPR Managenment",
           1
          ],
          [
           "INFORMATION ASYMMETRIES, FAMILY OWNERSHIP AND DIVESTITURE FINANCIAL PERFORMANCE: EVIDENCE FROM WESTERN EUROPEAN COUNTRIES",
           6
          ],
          [
           "INTERNATIONALIZATION OF A CHINESE \"BORN GLOCAL\" BRAND IN A FOREIGN SECTOR: THE CASE STUDY OF GOODBABY",
           1
          ],
          [
           "Il ruolo delle istituzioni nella teoria organizzativa",
           1
          ],
          [
           "Implementation of Focused Manufacturing Techniques in a Hand Tool Company",
           1
          ],
          [
           "Impression Management and Organizational Audiences: The Fiat Group Case",
           63
          ],
          [
           "Improvement of Manufacturing Operations through a Lean Management Approach: A Case Study in the Pharmaceutical Industry",
           28
          ],
          [
           "Improvising Agility: Organizations as Structured-Extemporaneous Hybrids",
           3
          ],
          [
           "Improvising Prescription: Evidence from the Emergency Room",
           37
          ],
          [
           "Improvising in the shade of power: The rise of paradoxes under the radar of formal compliance",
           1
          ],
          [
           "Improvising resilience: The unfolding of resilient leadership in COVID-19 times",
           51
          ],
          [
           "In Search of Entrepreneurial Network Configurations: Using Q-Analysis to Study Network Structures and Flows",
           2
          ],
          [
           "In Search of a Greater Pluralism of Theories and Methods in Governance Research",
           15
          ],
          [
           "Increasing Integration Across the Supply Chain Through an Approach to Match Performance and Risk",
           15
          ],
          [
           "Indirect effect of open innovation on clinical and economic value creation in digital healthcare: A comparative study of European countries",
           3
          ],
          [
           "Industry 4.0 and the emerging challenges to leadership",
           3
          ],
          [
           "Infinite Trees and the Future",
           13
          ],
          [
           "Information Asymmetries and IPO Underpricing: The Role of Voluntary Disclosure of Forward-Looking Information in the Prospectus",
           16
          ],
          [
           "Inhibitors of Glycogen Synthase Kinase 3 with Exquisite Kinome-Wide Selectivity and Their Functional Effects.",
           53
          ],
          [
           "Innovating through Clusters",
           15
          ],
          [
           "Innovation @ ENEL: From Monopoly Power to Open Power",
           2
          ],
          [
           "Innovation and the Multinational Firm: Perspectives on Foreign Subsidiaries and Host Locations",
           5
          ],
          [
           "Innovation in US metropolitan areas: the role of global connectivity",
           1
          ],
          [
           "Innovation in manufacturing as an evolutionary complex system",
           61
          ],
          [
           "Innovations in Fashion Industry Demand Forecasting in the Fashion Industry : A Review Regular Paper",
           3
          ],
          [
           "Innovations in Pharmaceutical Industry Improvement of Manufacturing Operations through a Lean Management Approach : A Case Study in the Pharmaceutical Industry Regular Paper",
           1
          ],
          [
           "Innovazione Tecnologica e Strategia d’Impresa. Lo Sviluppo e la Gestione delle Competenze Aziendali nel Settore delle Telecomunicazioni",
           1
          ],
          [
           "Input-Sensitive Profiling",
           91
          ],
          [
           "Inside Luxury: Main Features, Evolving Trends, and Marketing Paradoxes",
           1
          ],
          [
           "Inside the conceptual innovation: The Huffington Post case study Working",
           1
          ],
          [
           "Institutional Change and Ownership Patterns in Italy",
           3
          ],
          [
           "Institutional Environment and Corporate Governance",
           28
          ],
          [
           "Integrated Thinking: Aligning purpose and the business model to market opportunities and sustainable performance",
           16
          ],
          [
           "Integrated reporting assurance",
           2
          ],
          [
           "Integrated reporting.: Concepts and Cases that Redefine Corporate Accountability",
           143
          ],
          [
           "Integrating Agency and Resource Dependence Theory: Firm Profitability, Industry Regulation, and Board Tasks Performance",
           106
          ],
          [
           "Integrating global organizations through performance measurement systems",
           15
          ],
          [
           "Integration in Global Value Chains and Employment",
           4
          ],
          [
           "Integration in Global Value Chains and Employment in Europe",
           10
          ],
          [
           "Intellectual Capital Disclosure (ICD) across Europe: A comparison between Italy, Ireland and the UK",
           9
          ],
          [
           "Intellectual capital disclosure (ICD): A comparison of Italy and the UK",
           169
          ],
          [
           "Interindividual Variability in Functional Connectivity as Long-Term Correlate of Temporal Discounting",
           22
          ],
          [
           "Internal culture and outside influence in corporate governance",
           4
          ],
          [
           "International Journal of Mass",
           1
          ],
          [
           "International connectivity and the location of multinational enterprises'\n knowledge‐intensive\n activities: Evidence from\n US\n metropolitan areas",
           23
          ],
          [
           "Introducing the Front-Of-Pack Acceptance Model: the role of usefulness and ease of use in European consumers’ acceptance of Front-Of-Pack Labels",
           8
          ],
          [
           "Introduction",
           1
          ],
          [
           "Introduction to comparative studies of technological evolution",
           2
          ],
          [
           "Introduction: Sustainability in Luxury Branding",
           1
          ],
          [
           "Investigating the drivers of higher education expectations among students from low and high socio-economic backgrounds in Australia",
           1
          ],
          [
           "Investor’s Intrinsic Motives and the Valence of Word-of-Mouth in Sequential Decision-Making",
           3
          ],
          [
           "Is environmental management an economically sustainable business?",
           126
          ],
          [
           "Is it all a game? Understanding the principles of gamification",
           629
          ],
          [
           "Is more expensive better? An analysis of the relationship between price and objective quality in the Italian market",
           1
          ],
          [
           "Isolation and characterization of 12 dinucleotide microsatellite loci in the anadromous fish Osmerus eperlanus (L.)",
           1
          ],
          [
           "Istituzioni, Mercati e Imprese. Il ruolo delle istituzioni nelle strategie di crescita",
           3
          ],
          [
           "Istituzioni, Mercati e Imprese. Il ruolo delle istituzioni nelle strategie di crescita",
           3
          ],
          [
           "It&Apos;S a Cruel Summer: Household Responses to Reductions in Government Nutrition Assistance",
           7
          ],
          [
           "Italian annual intellectual capital disclosure: An empirical analysis",
           601
          ],
          [
           "Knowledge Breadth of MNC Subsidiaries and the Duration of Host-Country Firms’ Search",
           1
          ],
          [
           "Knowledge Outflows from Foreign Subsidiaries: The Tension between Knowledge Creation and Knowledge Protection",
           5
          ],
          [
           "Knowledge Spillovers from FDI: A Critical Review from the International Business Perspective",
           97
          ],
          [
           "Knowledge connectedness within and across home country borders: Spatial heterogeneity and the technological scope of firm innovations",
           55
          ],
          [
           "Knowledge integration in multinational enterprises: The role of inventors crossing national and organizational boundaries",
           14
          ],
          [
           "Knowledge outflows from foreign subsidiaries and the tension between knowledge creation and knowledge protection: Evidence from the semiconductor industry",
           50
          ],
          [
           "Knowledge sharing in knowledge-intensive manufacturing firms. An empirical study of its enablers",
           93
          ],
          [
           "L'Outsourcing nella sanità.",
           4
          ],
          [
           "L'economia delle imprese in regime di concessione",
           2
          ],
          [
           "L'evoluzione del sistema di corporate reporting. Lo Shared Value all'interno del bilancio integrato di un gruppo bancario",
           1
          ],
          [
           "L(2, 1)-Labeling of Oriented Planar Graphs (Extended Abstract)",
           1
          ],
          [
           "L(2, 1)L(2, 1)-labeling of oriented planar graphs",
           7
          ],
          [
           "LEONARDO: a software visualization system",
           13
          ],
          [
           "La creazione di valore nelle strategie di disinvestimento: evidenze dal contesto europeo",
           1
          ],
          [
           "La diffusione dell'ICT nelle Piccole e Medie Imprese: un' indagine nel settore dei servizi di arredamento",
           3
          ],
          [
           "La filosofia dell’Open Services Innovation",
           1
          ],
          [
           "La gestione dell’impresa in una prospettiva relazionale: Il ruolo del social capital nello sviluppo strategico aziendale",
           1
          ],
          [
           "La producción e internacionalización de los servicios: determinantes e implicaciones para la innovación y el crecimiento en Europa",
           1
          ],
          [
           "La relación entre las estructuras de propiedad y la inversión en I+D en las empresas europeas",
           3
          ],
          [
           "Large shareholders and corporate governance outside the United States and United Kingdom",
           19
          ],
          [
           "Latin America’s faltering manufacturing competitiveness: What role for intermediate services?",
           2
          ],
          [
           "Layered Drawings of Graphs with Crossing Constraints",
           12
          ],
          [
           "Lazy listing of equivalence classes - A paper on dynamic programming and tropical circuits",
           2
          ],
          [
           "Le decisioni di outsourcing oggi",
           3
          ],
          [
           "Le dinamiche di diffusione della pratica del riuso software",
           2
          ],
          [
           "Leadership styles scale: Conceptualization and initial validation",
           1
          ],
          [
           "Leading practices in Integrated Reporting",
           13
          ],
          [
           "Leading practices in integrated reporting: management accountants will guide their companies on the journey to value creation",
           16
          ],
          [
           "Leading well pays off: mediating effects and multi-group analysis of strategic performance",
           14
          ],
          [
           "Lean Startup and Open Innovation",
           1
          ],
          [
           "Learning from the first wave: Lessons about managing patient flow and resource utilization on medical wards at providence health during the COVID-19 pandemic",
           3
          ],
          [
           "Levels of Multiplexity in Entrepreneur’s Networks: Implications for Dynamism and Value Creation",
           17
          ],
          [
           "Leveraging Dynamic Capabilities: A Contingent Management Control System Approach",
           6
          ],
          [
           "Leveraging domestic and foreign learning to develop marketing capabilities: The case of the Chinese company Goodbaby",
           12
          ],
          [
           "Leveraging social capital in university-industry knowledge transfer strategies: a comparative positioning framework",
           24
          ],
          [
           "Leveraging the circular economy with a closed-loop supply chain and a reverse omnichannel using blockchain technology and incentives",
           21
          ],
          [
           "Leveraging users as innovators",
           3
          ],
          [
           "Linking Open Innovation to Business Models",
           2
          ],
          [
           "Linking governance to strategy: the role of the finance organization",
           17
          ],
          [
           "Local dependency dynamic programming in the presence of memory faults",
           10
          ],
          [
           "Localized networks and innovation in the life-science sector. Inter-cluster and intra-cluster dynamics",
           1
          ],
          [
           "Luxury Consumption and Sustainability",
           1
          ],
          [
           "Luxury, Sustainability, and “Made In”",
           5
          ],
          [
           "L’Open Services Innovation è il futuro",
           4
          ],
          [
           "L’“impresa” di diventare digitale. Come la rivoluzione tecnologica sta influenzando la gestione d’impresa",
           1
          ],
          [
           "MNC strategies to limit spillovers: How subsidiaries manage knowledge breadth to decrease spillovers",
           1
          ],
          [
           "Make Sustainable Development Goals Happen through Integrated Thinking: An Introduction",
           4
          ],
          [
           "Making Boards Effective: An Empirical Examination of Board Task Performance",
           339
          ],
          [
           "Making Sustainable Development Goals happen through integrated thinking and reporting",
           2
          ],
          [
           "Making a Face: Graphical Illustrations of Managerial Stances toward Customer Creativity",
           4
          ],
          [
           "Making sense of corporate venture capital.",
           440
          ],
          [
           "Making sense of text: artificial intelligence-enabled content analysis",
           32
          ],
          [
           "Making sustainability meaningful: aspirations, discourses and reporting practices",
           35
          ],
          [
           "Management Accounting Change",
           1
          ],
          [
           "Management Accounting Systems and Organisational Culture: an Institutional Framework for Interpreting their Linkages and Processes of Change*",
           16
          ],
          [
           "Management Accounting: Issues in interpreting its nature and change",
           146
          ],
          [
           "Management accounting systems and organisational culture: Interpreting their linkages and processes of change",
           59
          ],
          [
           "Management and accounting innovations: reflecting on what they are and why they are adopted",
           20
          ],
          [
           "Managing Big Data Professionals through a Competency-Based Approach",
           1
          ],
          [
           "Managing Customer-to-Customer Interaction in Group Service Encounters: An Abstract",
           1
          ],
          [
           "Managing Innovation in Emerging Economies: Organizational Arrangements and Resources of Foreign MNEs in the Chinese Pharmaceutical Industry",
           8
          ],
          [
           "Managing Inside-Out Open Innovation",
           4
          ],
          [
           "Managing Open Innovation",
           457
          ],
          [
           "Managing and measuring social impact through integrated thinking and reporting",
           2
          ],
          [
           "Managing open invitation",
           3
          ],
          [
           "Managing the tensions in integrating global organisations: The role of performance management systems",
           109
          ],
          [
           "Manufacturing classification: Lessons from organizational systematics and biological taxonomy",
           121
          ],
          [
           "Manufacturing competitiveness and fitness landscape theory",
           42
          ],
          [
           "Manufacturing strategy: understanding the fitness landscape",
           92
          ],
          [
           "Market versus Internal Factors in Corporate Governance",
           6
          ],
          [
           "Measurement of the Branching Fractions for the Exclusive Decays of B^0 and B^+ to Dbar^(*)D^(*)K",
           4
          ],
          [
           "Measuring negative emotions to brands. Implications for brand strategy",
           2
          ],
          [
           "Mediterranean shoes conquer the world. Global branding from local resources: The Camper case",
           2
          ],
          [
           "Merely Being with you Increases My Attention to Luxury Products: Using EEG to Understand Consumers’ Emotional Experience with Luxury Branded Products",
           152
          ],
          [
           "Mind in the Machine: Perceived Minds Induce Decision Change",
           2
          ],
          [
           "Mining hot calling contexts in small space",
           36
          ],
          [
           "Mission impossible? The paradoxes of stretch goal setting",
           42
          ],
          [
           "Mobility in the built environment: Age‐related changes in gait characteristics when walking on complex terrain",
           1
          ],
          [
           "Modeling the Uncertainty of the Remanufacturing Process for Consideration of Extended Producer Responsibility (EPR)",
           3
          ],
          [
           "Models of a Man: Essays in Memory of Herbert A. Simon, by Mie Augier, James G. March, The MIT Press Cambridge, Massachusetts, 2004 (book review)",
           10
          ],
          [
           "Morten Huse: Boards, Governance and Value Creation: The Human Side of Corporate Governance",
           15
          ],
          [
           "Motion Characteristics of the Lumbar Spine in the Normal Population",
           128
          ],
          [
           "Motivating Crowds to Do Good: How to Build Crowdsourcing Platforms for Social Innovation",
           2
          ],
          [
           "Moving up the value chain with South-South cooperation for trade and technology? An analysis of India’s trade with East Africa",
           1
          ],
          [
           "Multiple Organisational Identities after M&As",
           1
          ],
          [
           "Multithreaded Input-Sensitive Profiling",
           3
          ],
          [
           "My Anger Is Your Gain, My Contempt Your Loss: Explaining Consumer Responses to Corporate Wrongdoing",
           115
          ],
          [
           "Myopia during emergency improvisation: lessons from a catastrophic wildfire",
           1
          ],
          [
           "Narrative Reporting on Intangibles: an analysis of Italian listed companies",
           6
          ],
          [
           "National corporate systems and outsourcing decisions: A cross-country analysis",
           9
          ],
          [
           "Navigating in a Sea of Repeats in RNA-seq without Drowning",
           7
          ],
          [
           "Networked incubators. Hothouses of the new economy.",
           473
          ],
          [
           "Networks, Clusters, and Small Worlds: Are they related?",
           6
          ],
          [
           "New Product Development as a Complex Adaptive System of Decisions",
           342
          ],
          [
           "New frontiers in open innovation",
           369
          ],
          [
           "New perspectives on board research",
           20
          ],
          [
           "New perspectives on board research: changing the research agenda",
           225
          ],
          [
           "New product development as a complex system of decisions",
           10
          ],
          [
           "Nudging and citizen science: The effectiveness of feedback in energy-demand management.",
           47
          ],
          [
           "Nurturing International Business research through Global Value Chains literature: A review and discussion of future research opportunities",
           74
          ],
          [
           "OCI Value Relevance in Continental Europe: An Examination of the Adoption of IAS 1 Revised",
           4
          ],
          [
           "ON MAX CUT IN CUBIC GRAPHS",
           1
          ],
          [
           "Offshoring motivations driven by sustainability factors",
           3
          ],
          [
           "Omnichannel Shopping Experiences for Fast Fashion and Luxury Brands",
           6
          ],
          [
           "On Braggarts and Gossips: A Self-Enhancement Account of Word-of-Mouth Generation and Transmission",
           351
          ],
          [
           "On Braggarts and Gossips: A Self-Enhancement Account of Word-of-Mouth Generation and Transmission",
           351
          ],
          [
           "On Braggarts and Gossips: Why Consumers Generate Positive but Transmit Negative Word-of-Mouth",
           2
          ],
          [
           "On Bubble Generators in Directed Graphs",
           3
          ],
          [
           "On Cancellative Set Families",
           7
          ],
          [
           "On Generalizations of Pairwise Compatibility Graphs",
           2
          ],
          [
           "On Graphs that are not Star-k-PCGs (short paper)",
           1
          ],
          [
           "On Maximal Chain Subgraphs and Covers of Bipartite Graphs",
           3
          ],
          [
           "On Pairwise Compatibility of Some Graph (Super)Classes",
           1
          ],
          [
           "On Relaxing the Constraints in Pairwise Compatibility Graphs",
           20
          ],
          [
           "On Reverse-Free Codes and Permutations",
           6
          ],
          [
           "On bibliometrics in academic promotions: a case study in computer science and engineering in Italy",
           11
          ],
          [
           "On coding labeled trees",
           26
          ],
          [
           "On computer science research and its temporal evolution",
           2
          ],
          [
           "On data skewness, stragglers, and MapReduce progress indicators",
           30
          ],
          [
           "On star-$k$-PCGs: Exploring class boundaries for small $k$ values",
           1
          ],
          [
           "On the Pairwise Compatibility Property of some Superclasses of Threshold Graphs",
           12
          ],
          [
           "On the Validity of Hierarchical Decompositions",
           4
          ],
          [
           "On types of growth for graph-different permutations",
           14
          ],
          [
           "On variants of Vertex Geography on undirected graphs",
           2
          ],
          [
           "On your marks, headset, go! Understanding the building blocks of metaverse realms",
           2
          ],
          [
           "Open Business Models: How to Thrive in the New Innovation Landscape",
           98
          ],
          [
           "Open Innovation : Has its time come in Japan?",
           2
          ],
          [
           "Open Innovation Results: Going Beyond the Hype and Getting Down to Business",
           71
          ],
          [
           "Open Innovation and Intellectual Property",
           11
          ],
          [
           "Open Innovation and Public Policy in the EU with Implications for SMEs",
           17
          ],
          [
           "Open Innovation and Strategy",
           1210
          ],
          [
           "Open Innovation as a Response to Constraints and Risks: Evidence from China*",
           33
          ],
          [
           "Open Innovation: A New Paradigm for Understanding Industrial Innovation",
           1567
          ],
          [
           "Open Innovation: A research agenda",
           328
          ],
          [
           "Open Innovation: The New Imperative for Creating and Profiting from Technology",
           5045
          ],
          [
           "Open Innovation: The Next Decade",
           847
          ],
          [
           "Open R&D and Open Innovation: Exploring the Phenomenon",
           1867
          ],
          [
           "Open Services Innovation: An Interview with Henry Chesbrough",
           14
          ],
          [
           "Open Services Innovation: Competere in una nuova era",
           142
          ],
          [
           "Open Services Innovation: Rethinking Your Business to Grow and Compete in a New Era",
           581
          ],
          [
           "Open Social Innovation",
           54
          ],
          [
           "Open branding: Managing the unauthorized use of brand-related intellectual property",
           6
          ],
          [
           "Open coopetition",
           3
          ],
          [
           "Open innovation : researching a new paradigm",
           3484
          ],
          [
           "Open innovation and Public policy in Europe",
           50
          ],
          [
           "Open innovation in Brazil Exploring opportunities and challenges",
           1
          ],
          [
           "Open innovation with Chinese characteristics: a dynamic capabilities perspective",
           39
          ],
          [
           "Opening the black box of boards of directors: taking stock of recent studies on board dynamics",
           9
          ],
          [
           "Optimal Resilient Dynamic Dictionaries",
           47
          ],
          [
           "Optimal resilient sorting and searching in the presence of memory faults",
           61
          ],
          [
           "Organisational diversity, evolution and cladistic classifications",
           75
          ],
          [
           "Organizing for innovation: When is virtual virtuous?",
           325
          ],
          [
           "Other Comprehensive Income and its Determinants In Continental Europe",
           4
          ],
          [
           "Outsourcing, business performance and vertical integration boundaries: An empirical analysis",
           4
          ],
          [
           "Overcoming Consumer Resistance to AI in General Health Care",
           4
          ],
          [
           "Overcoming the blockchain technology credibility gap",
           2
          ],
          [
           "Ownership Structure and the Strategic Decision Process: A Comparative Case Study",
           5
          ],
          [
           "Ownership Structure, Board Composition and Investors’ Protection: Evidence from S&P 500 Firms",
           1
          ],
          [
           "Ownership Structure, Corporate Governance and Firm Performance",
           47
          ],
          [
           "Ownership and Corporate Governance across Institutional Contexts",
           8
          ],
          [
           "Ownership structure and corporate governance: The need to further explore mutual and complex relationships",
           5
          ],
          [
           "Ownership structure, corporate governance and institutional environment: Going beyond managerial opportunism and the principal‐agent framework",
           11
          ],
          [
           "Ownership, Managerial Entrenchment, and Corporate Performance",
           30
          ],
          [
           "Pairwise Compatibility Graphs of Caterpillars",
           16
          ],
          [
           "Pairwise Compatibility Graphs: A Survey",
           33
          ],
          [
           "Parole a buon rendere, ovvero L'invasione dei termini anglo-italiani",
           4
          ],
          [
           "Performance Measurement Systems and Organisational Culture: Interpreting Processes of Unlearning and Change",
           3
          ],
          [
           "Performance measurement, (un)learning and change: an interdisciplinary perspective",
           2
          ],
          [
           "Performing business and social innovation through accounting inscriptions: An introduction",
           41
          ],
          [
           "Physically processing imperfect produce: The impact of prototypicality",
           3
          ],
          [
           "Playing hide and seek with repeats in local and global de novo transcriptome assembly of short RNA-seq reads",
           18
          ],
          [
           "Portfolios of sustainable practices for packaging in the circular economy: an analysis of Italian firms",
           1
          ],
          [
           "Portraying Algorithms with Leonardo Web",
           9
          ],
          [
           "Power and Export Sophistication in Buyer-Supplier Relationships: Insights from Colombian Customs Data",
           4
          ],
          [
           "Practicing Integrated Thinking: Towards a New Era of Corporate Management Accounting and Reporting",
           3
          ],
          [
           "Preference Inferences from Eye-Related Cues in Sales-Consumer Settings: ERP Timing and Localization in Relation to Inferring Performance and Oxytocin Receptor (OXTR) Gene Polymorphisms",
           3
          ],
          [
           "Price misleading advertising: effects on consumers’ attitudes and intentions",
           5
          ],
          [
           "Price misleading advertising: effects on trustworthiness toward the source of information and willingness to buy",
           51
          ],
          [
           "Price spillovers and specialization in health care: The case of children's hospitals.",
           1
          ],
          [
           "Principi di economia delle aziende pubbliche e di contabilità finanziaria",
           1
          ],
          [
           "Privacy in Europe After Regulation (EU) No 2016/679: What Will Remain of the Right to Be Forgotten?",
           4
          ],
          [
           "Proceedings of the Eleventh Workshop on Algorithm Engineering and Experiments, ALENEX 2009, New York, New York, USA, January 3, 2009",
           1
          ],
          [
           "Product Lifecycle Management as a Tool to Create Value in the Fashion System",
           31
          ],
          [
           "Product and marketing actions in a competitive scenario",
           2
          ],
          [
           "Product lifecycle management and compliance with international standards: a case study analysis in the footwear industry",
           3
          ],
          [
           "Product recovery decisions within the context of Extended Producer Responsibility",
           96
          ],
          [
           "Product touch in the real and digital world: How do consumers react?",
           27
          ],
          [
           "Profiling and segmenting customers on the internet: an analytical framework for dynamic and interactive personalization",
           1
          ],
          [
           "Psychological Underpinnings of Brands.",
           16
          ],
          [
           "Psychosocial Training: A Case of Self-Efficacy Improvement in an Italian School",
           17
          ],
          [
           "Qualitative un-verifiable disclosures to inform or mislead: insights from insider trading activity",
           5
          ],
          [
           "Quality Ratings and Premiums in the Medicare Advantage Market",
           1
          ],
          [
           "Quality versus Quantity: The Case of Forward-Looking Disclosure",
           263
          ],
          [
           "Quantitative assessment of the motion of the lumbar spine in the low back pain population and the effect of different spinal pathologies on this motion",
           67
          ],
          [
           "Quantitizing findings from qualitative studies for integration in mixed methods reviewing",
           12
          ],
          [
           "Quantity vs Quality: the case of Forward Looking Disclosure",
           32
          ],
          [
           "Rainbow graph splitting",
           2
          ],
          [
           "Reactive Imperative Programming with Dataflow Constraints",
           1
          ],
          [
           "Reactive imperative programming with dataflow constraints",
           31
          ],
          [
           "Reconceptualizing Conceptual Engineering",
           3
          ],
          [
           "Recursive Effects to Study Feature-Based Capabilities in Supply Chain Management",
           1
          ],
          [
           "Redefining corporate accountability through integrated reporting: what happens when values and value creation meet?",
           64
          ],
          [
           "Regional Products and Internationalization Processes in the Internet Era: Does Location Still Matter?",
           1
          ],
          [
           "Relating threshold tolerance graphs to other graph classes",
           4
          ],
          [
           "Relational capital and appropriate incentives",
           4
          ],
          [
           "Remanufacturing Optimization within the context of Extended Producer Responsibility",
           2
          ],
          [
           "Reply to: Discussions of “A framework for the analysis of firm risk communication”",
           7
          ],
          [
           "Rescheduling Multiproduct Delivery Planning With Digital Technologies for Smart Mobility and Sustainability Goals",
           2
          ],
          [
           "Reshoring from a demand-side perspective: Consumer reshoring sentiment and its market effects",
           50
          ],
          [
           "Resilient Dynamic Programming",
           2
          ],
          [
           "Resilient Leadership as Paradox Work: Notes from COVID-19",
           45
          ],
          [
           "Resilient dictionaries",
           102
          ],
          [
           "Resilient search trees",
           45
          ],
          [
           "Responding to Inconsistent Performance Feedback on Multiple Goals: The Contingency Role of Decision Maker's Status in Introducing Changes",
           6
          ],
          [
           "Responsible digitalization through digital technologies and green practices",
           35
          ],
          [
           "Rethinking employability: New managerial competencies in a global labour market",
           6
          ],
          [
           "Reti strategiche come evoluzione delle reti emergenti: L'esperienza di due contratti di rete nel bresciano",
           4
          ],
          [
           "Reverse-free codes and permutations",
           9
          ],
          [
           "Reversible Execution and Visualization of Programs with LEONARDO",
           83
          ],
          [
           "Revisiting the Natural Resource Curse: Backward Linkages for Export Diversification and Structural Economic Transformation",
           2
          ],
          [
           "Revisiting the Natural Resource Industries “curse”: Beneficiation or Hirschman Backward Linkages?",
           2
          ],
          [
           "Revisiting the Natural Resource ‘Curse’ in the Context of Trade in Value Added: Enclave or High-Development Backward Linkages?",
           2
          ],
          [
           "Revitalising the Outsourcing Discourse within the Boundaries of Firms Debate",
           25
          ],
          [
           "Risky decisions are influenced by individual attributes as a function of risk preference",
           1
          ],
          [
           "Robustness of the Parsimonious Reconciliation Method in Cophylogeny",
           4
          ],
          [
           "Role of brain 2-[18F]fluoro-2-deoxy-D-glucose-positron-emission tomography as survival predictor in amyotrophic lateral sclerosis",
           3
          ],
          [
           "Scientific Committee",
           17
          ],
          [
           "Search Costs and Medicare Plan Choice",
           7
          ],
          [
           "Service Customization Through Dramaturgy",
           15
          ],
          [
           "Service, Emotional Labor, and Mindfulness",
           14
          ],
          [
           "Servus or Pater? How Paradoxical Intent Can Qualify Leadership: Inductions from the Kingdom of Bhutan",
           1
          ],
          [
           "Shared Services: Exploring the New Frontier",
           1
          ],
          [
           "Sharing with Friends versus Strangers: How Interpersonal Closeness Influences Word-of-Mouth Valence",
           160
          ],
          [
           "Signing the letter to shareholders: Does the Signatory's role relate to impression management?",
           1
          ],
          [
           "Simulating Sequential Search Models with Genetic Algorithms: Analysis of Price Ceilings, Taxes, Advertising and Welfare",
           5
          ],
          [
           "Smooth animation of algorithms in a declarative framework",
           27
          ],
          [
           "Social Consumer Neuroscience: Neurophysiological Measures of Advertising Effectiveness in a Social Context",
           70
          ],
          [
           "Social Desirability in Virtual Communities",
           11
          ],
          [
           "Social Media? Get Serious! Understanding the Functional Building Blocks of Social Media",
           4297
          ],
          [
           "Social Neuromarketing: The role of social context in measuring advertising effectiveness",
           26
          ],
          [
           "Social media? It's serious! Understanding the dark side of social media",
           282
          ],
          [
           "Software Streams: Big Data Challenges in Dynamic Program Analysis",
           1
          ],
          [
           "Sorting and Searching in Faulty Memories",
           37
          ],
          [
           "Sorting and searching in the presence of memory faults (without redundancy)",
           43
          ],
          [
           "Special Issue on the European Symposium on Algorithms",
           1
          ],
          [
           "Special issue editorial: the what, why and how of mass customization",
           111
          ],
          [
           "Specifying Algorithm Visualizations: Interesting Events or State Mapping?",
           40
          ],
          [
           "Standardization efforts: The relationship between knowledge dimensions, search processes and innovation outcomes",
           84
          ],
          [
           "Standardization for platform ecosystems",
           2
          ],
          [
           "Star-coloring of graphs for conflict-free access to parallel memory systems",
           13
          ],
          [
           "State- and Control-Dependent Incentives in a Closed-Loop Supply Chain with Dynamic Returns",
           16
          ],
          [
           "Stock incentive plans in Europe: empirical evidence and design implications",
           29
          ],
          [
           "Strategic Management of Open Innovation: A Dynamic Capabilities Perspective",
           247
          ],
          [
           "Strategic plan presentations to financial analysts: the effects on earnings forecasts' revision and cost of capital",
           7
          ],
          [
           "Strategic scenario analysis combining dynamic balanced scorecards and statistics",
           8
          ],
          [
           "Strategie e modelli di business nell'industria del video entertainment",
           2
          ],
          [
           "Strategies for agility: an evolutionary and configurational approach",
           38
          ],
          [
           "Strategies for the Circular Economy",
           6
          ],
          [
           "Strategy, Valuation, and Forecast Accuracy: Evidence from Italian Strategic Plan Disclosures",
           7
          ],
          [
           "Structure-Preserving Hierarchical Decompositions",
           1
          ],
          [
           "Structures of Diversity",
           2
          ],
          [
           "Stuck in the Middle",
           183
          ],
          [
           "Subscription-based business models in the context of tech firms: theory and applications",
           1
          ],
          [
           "Subscription-based business models in the context of tech firms: theory and applications",
           1
          ],
          [
           "Supply chains for mass customisation",
           1
          ],
          [
           "Surfing the New Wave of Open Innovation Research",
           115
          ],
          [
           "Sustainability Through Open Innovation: Carlsberg and the Green Fiber Bottle",
           4
          ],
          [
           "Sustainability of the Metaverse: A Transition to Industry 5.0",
           28
          ],
          [
           "Sustainable Development Goals and Integrated Reporting",
           16
          ],
          [
           "Sustainable Development Goals: integrating sustainability initiatives with long term value creation",
           14
          ],
          [
           "Sustainable Luxury Brands: Evidence from Research and Implications for Managers",
           64
          ],
          [
           "Sustainable Open Innovation to Address a Grand Challenge: Lessons from Carlsberg and the Green Fiber Bottle",
           90
          ],
          [
           "Sustainable value creation in multinational enterprises: The role of corporate governance actors",
           2
          ],
          [
           "Sustaining Venture Creation from Industrial Laboratories",
           9
          ],
          [
           "Sustaining innovation and the search for value creation : Accounting , inscriptions and the mediation of ‘ in-tensions ’",
           2
          ],
          [
           "Sustaining multiple logics within hybrid organisations: Accounting, mediation and the search for innovation",
           56
          ],
          [
           "Synthesis of Chiral 1,2-Diamines.",
           1
          ],
          [
           "Synthesis of chiral 1,2-diamines",
           27
          ],
          [
           "THE DETERMINANTS OF SMES CAPITAL STRUCTURE: OVERCOMING SUPPLY CONSTRAINTS",
           3
          ],
          [
           "Tackling Societal Challenges with Open Innovation",
           68
          ],
          [
           "Tailoring the structure of casein micelles through a multifactorial approach to manipulate rennet coagulation properties",
           8
          ],
          [
           "Technologies of government in public sector's networks:In search of cooperation through management control innovations",
           73
          ],
          [
           "Technology Markets, Technology Organization, and Appropriating the Returns of Research",
           3
          ],
          [
           "Technology management - a complex adaptive systems approach",
           87
          ],
          [
           "Technology, global value chains and functional specialisation in Europe",
           1
          ],
          [
           "Tecnología y competitividad internacional: la interdependencia entre manufacturas y servicios a la producción",
           3
          ],
          [
           "The Adoption of Open Innovation in Large Firms",
           158
          ],
          [
           "The Analysis of Organizational Identity, Change and Sensemaking via Causal Maps: The Case of an M&A in the Banking Industry",
           2
          ],
          [
           "The Back End of Open Innovation",
           1
          ],
          [
           "The Bmte Command: Methods for the Estimation of Treatment Effects when Exclusion Restrictions are Unavailable",
           16
          ],
          [
           "The Brand Dislike Construct: Scale Development and Application to Actual Brands",
           9
          ],
          [
           "The COVID-19 pandemic, cultural work, and resilience",
           2
          ],
          [
           "The Case of Eni",
           5
          ],
          [
           "The Case of Monnalisa",
           1
          ],
          [
           "The City as a Lab",
           102
          ],
          [
           "The Customer Relationship Management in Omnitel Vodafone",
           2
          ],
          [
           "The Diffusion of Equity Incentive Plans in Italian Listed Companies: What is the Trigger?",
           52
          ],
          [
           "The Dispersed Multinational: Does Connectedness Across Spatial Dimensions Lead to Broader Technological Search?",
           2
          ],
          [
           "The Dynamics of Open Strategy: From Adoption to Reversion",
           183
          ],
          [
           "The Effect of Social Density on Word of Mouth",
           73
          ],
          [
           "The Effects of Accounting and Financial Regulation on Corporate Governance",
           3
          ],
          [
           "The Effects of legal reforms on the ownership structure of listed companies",
           46
          ],
          [
           "The Era of Open Innovation",
           3307
          ],
          [
           "The Era of Open Innovation Companies are increasingly rethinking the fundamental ways in which they generate ideas and bring them to market — harnessing external ideas while leveraging their in-house R & D outside their current operations .",
           1
          ],
          [
           "The Evolution of Sustainability Reporting: Integrated Reporting and Sustainable Development Challenges",
           5
          ],
          [
           "The Future of Open Innovation",
           1689.335461404527
          ],
          [
           "The Geography of International Knowledge Sourcing: Looking Back and Moving Forward",
           1
          ],
          [
           "The Governance and Performance of Xerox's Technology Spin-Off Companies",
           171
          ],
          [
           "The Hidden Costs of Going Global: Insights from Firms’ Entry into Foreign Markets",
           2
          ],
          [
           "The Impact of Digital Technologies and Sustainable Practices on Circular Supply Chain Management",
           18
          ],
          [
           "The Impact of Digital Technologies and Sustainable Practices on Circular Supply Chain Management",
           18
          ],
          [
           "The Impact of Digital Technologies on Company Restoration Time Following the COVID-19 Pandemic",
           1
          ],
          [
           "The Impact of Digital Technologies on Company Restoration Time Following the COVID-19 Pandemic",
           1
          ],
          [
           "The Impact of Effective Teaching Practices on Academic Achievement When Mediated by Student Engagement: Evidence from Australian High Schools",
           5
          ],
          [
           "The Impact of Outsourcing on Business Performance: An Empirical Analysis",
           20
          ],
          [
           "The Importance of Connecting Open Innovation to Strategy",
           28
          ],
          [
           "The Influence of Corporate Governance on the Adoption of The Integrated Report: A first Study on IIRC Pilot Programme",
           10
          ],
          [
           "The Italian Footwear Industry: An Empirical Analysis",
           9
          ],
          [
           "The Logic of Open Innovation",
           73
          ],
          [
           "The Logic of Open Innovation: Managing Intellectual Property",
           814
          ],
          [
           "The MiFID II Framework",
           1
          ],
          [
           "The Need for a New Narrative on Value Capture in Open Innovation Environments",
           1
          ],
          [
           "The Organizational Challenges of Big Data",
           1
          ],
          [
           "The Organizational Impact of Technological Change: A Comparative Theory of National Institutional Factors",
           142
          ],
          [
           "The Performance of Business Group Firms During Institutional Transition: A Longitudinal Study of Indian Firms",
           55
          ],
          [
           "The Performance of Group‐affiliated Firms during Institutional Transition: A Longitudinal Study of Indian Firms",
           106
          ],
          [
           "The Price of Resiliency: A Case Study on Sorting with Memory Faults",
           6
          ],
          [
           "The Price of Resiliency: a Case Study on Sorting with Memory Faults",
           23
          ],
          [
           "The Quality of Mandatory Non-Financial (Risk) Disclosures: The Moderating Role of Audit Firm and Partner Characteristics",
           15
          ],
          [
           "The Relation between Earnings Management Independent Directors and Audit Committee: A Study of Italian Listed Companies",
           5
          ],
          [
           "The Role and the Impacts of ICT in the Social Networks",
           1
          ],
          [
           "The Role of Leadership in a Digitalized World: A Review",
           266
          ],
          [
           "The Role of Performance Measurement Systems within Global Organisations",
           2
          ],
          [
           "The Selection of Industry 4.0 Technologies Through Bayesian Networks: An Operational Perspective",
           4
          ],
          [
           "The Star Treatment",
           23
          ],
          [
           "The Structure of Corporate Groups: the Italian case",
           81
          ],
          [
           "The Trade-Off Between Mandatory and Voluntary Disclosure: Evidence From Oil Companies’ Risk Reporting",
           4
          ],
          [
           "The Two Sides of Open Business Models",
           28
          ],
          [
           "The atypicality of sustainable luxury products",
           18
          ],
          [
           "The bittersweet experience of being envied in a consumption context",
           13
          ],
          [
           "The causal relationships between performance drivers and outcomes",
           46
          ],
          [
           "The dark side of organizational improvisation: Lessons from the sinking of Costa Concordia",
           31
          ],
          [
           "The determinants of companies’ levels of integration: Does one size fit all?",
           53
          ],
          [
           "The effect of augmented reality versus traditional advertising: a comparison between neurophysiological and self-reported measures",
           22
          ],
          [
           "The effect of augmented reality versus traditional advertising: a comparison between neurophysiological and self-reported measures",
           22
          ],
          [
           "The effect of environmental crowdedness on word-of-mouth",
           1
          ],
          [
           "The effect of reward expectation on the time course of perceptual decisions",
           5
          ],
          [
           "The effects of company offshoring strategies on consumer responses",
           77
          ],
          [
           "The effects of reshoring decisions on employees",
           6
          ],
          [
           "The emotional and social side of analytics professionals: an exploratory study of the behavioral profile of data scientists and data analysts",
           3
          ],
          [
           "The evolution of corporate governance in Italy: formal convergence or path-dependence?",
           5
          ],
          [
           "The impact of board of directors and CEO's characteristics on firm's innovation",
           2
          ],
          [
           "The impact of outsourcing on the transaction costs and boundaries of manufacturing",
           258
          ],
          [
           "The increasing need for a new Italian legislation to facilitate execution of observational studies assuring ethics and the highest standards of scientific and methodological quality. Editorial.",
           5
          ],
          [
           "The institutional understanding of technological innovation: considerations on international R&D networks",
           3
          ],
          [
           "The modularity trap : innovation, technology phase-shifts, and resulting limits of virtual organizations",
           182
          ],
          [
           "The nature of innovation in global value chains",
           55
          ],
          [
           "The open academic: Why and how business academics should use social media to be more ‘open’ and impactful",
           5
          ],
          [
           "The open innovation model: Implications for innovation in Japan",
           10
          ],
          [
           "The open innovation research landscape: established perspectives and emerging themes across different levels of analysis",
           702
          ],
          [
           "The relationship between physical activity and leg health in the broiler chicken",
           52
          ],
          [
           "The revenge of the consumer! How brand moral violations lead to consumer anti-brand activism",
           134
          ],
          [
           "The role of corporate culture in the choice of integrated reporting",
           3
          ],
          [
           "The role of the board and external stakeholders in corporate governance",
           5
          ],
          [
           "The satiating power of sustainability: the effect of package sustainability on perceived satiation of healthy food",
           12
          ],
          [
           "The strategic micro‐firm: a role play in management training for dynamic businesses",
           5
          ],
          [
           "The virtual internationalisation process of Italian SMEs in the food industry",
           14
          ],
          [
           "Theta resting EEG in TPJ/pSTS is associated with individual differences in the feeling of being looked at",
           16
          ],
          [
           "This Place Is Full of It: Towards an Organizational Bullshit Perception Scale",
           8
          ],
          [
           "Ties that bind: Ethnic inventors in multinational enterprises’ knowledge integration and exploitation",
           21
          ],
          [
           "Timing of first feeding and life-history strategies in salmon: genetic data.",
           8
          ],
          [
           "To discard or to ado(a)pt? Looking at qualitative research templates through the lens of organizational routines",
           6
          ],
          [
           "Toward a Phylogenetic Reconstruction of Organizational Life",
           27
          ],
          [
           "Toward a synthesis of the board‐strategy relationship: A literature review and future research agenda",
           9
          ],
          [
           "Toward business 2030",
           1
          ],
          [
           "Towards 'Integrated Governance': The Role of Performance Measurement Systems",
           8
          ],
          [
           "Towards Integrated Reporting : Concepts , Elements and Principles 1",
           1
          ],
          [
           "Towards Integrated Reporting: Concepts, Elements and Principles",
           34
          ],
          [
           "Towards a Dynamics of Modularity",
           36
          ],
          [
           "Trade Specialisation and Performance in Global Value Chains",
           5
          ],
          [
           "Trade specialization and performance in global value chains",
           1
          ],
          [
           "Trading off space for passes in graph streaming problems",
           75.65517241379311
          ],
          [
           "Trajectories of brand hate",
           106
          ],
          [
           "Tree partitioning via vertex deletion",
           1
          ],
          [
           "Triple Helix and Innovation in the Life-Science Industry",
           3
          ],
          [
           "Trust for accounting and accounting for trust",
           244
          ],
          [
           "Trust in Project Financing: An Italian Health Care Example",
           21
          ],
          [
           "Trust, Firm Life Cycle, and Actual Board Behavior: Evidence from \"One of the Lads\" in the Board of Three Small Firms",
           71
          ],
          [
           "Un modello dinamico di customer loyalty",
           5
          ],
          [
           "Understanding Gamification of Consumer Experiences",
           59
          ],
          [
           "Understanding Outsourcing of Information Systems",
           9
          ],
          [
           "Understanding integrated thinking: evidence from the field, the development of a framework and avenues for future research",
           11
          ],
          [
           "Understanding outsourcing contexts through information asymmetry and capability fit",
           43
          ],
          [
           "Understanding the advantages of open innovation practices in corporate venturing in terms of real options",
           253
          ],
          [
           "Understanding the effects of outsourcing: unpacking the total factor productivity variable",
           22
          ],
          [
           "Unpacking the Social Media Phenomenon: Towards a Research Agenda",
           245
          ],
          [
           "Unveiling the Dark Side of Business Models: A Novel Framework for Managerial Cognition and Decision-Making",
           3
          ],
          [
           "Unveiling the Dark Side of Business Models: A Novel Framework for Managerial Cognition and Decision-Making",
           3
          ],
          [
           "UvA-DARE ( Digital Academic Repository ) Why Some People Just “ Can ’ t Get No Satisfaction ” : Secure versus Insecure Attachment Styles Affect One ’ s “ Style of Being in the Social World ”",
           3
          ],
          [
           "Value Creation and Value Capture in Open Innovation",
           181
          ],
          [
           "Vertical Alignment Between Hospitals and Physicians as a Bargaining Response to Commercial Insurance Markets",
           8
          ],
          [
           "Visual editing of animated algorithms: the Leonardo Web builder",
           5
          ],
          [
           "Visualization in Algorithm Engineering: Tools and Techniques",
           1
          ],
          [
           "Visualization in Algorithm Engineering: Tools and Techniques 1",
           12
          ],
          [
           "Visualizing Algorithms over the Web with the Publication-Driven Approach",
           18
          ],
          [
           "We're Leaking, and Everything's Fine: How and Why Companies Deliberately Leak Secrets",
           20
          ],
          [
           "WebIsAGraph: A Very Large Hypernymy Graph from a Web Corpus",
           4
          ],
          [
           "Webasto: Co-Creating Innovation with Lead Users",
           2
          ],
          [
           "West Bank Consumer–Brand Relationships. Non-Western Grounded Theory?",
           1
          ],
          [
           "What Can We Learn About the Effects of Food Stamps on Obesity in the Presence of Misreporting?",
           15
          ],
          [
           "What Money Cannot Buy: The Detrimental Effect of Rewards on Knowledge Sharing",
           30
          ],
          [
           "What are the most promising conduits for foreign knowledge inflows? innovation networks in the Chinese pharmaceutical industry",
           55
          ],
          [
           "What drives value relevance? The visibility effect in the adoption of a new accounting standard",
           3
          ],
          [
           "What is the Harm in Fake Luxury Brands? Moving Beyond the Conventional Wisdom",
           10
          ],
          [
           "When Creativity Meets Control: A Fashion Industry Case Study",
           14
          ],
          [
           "When Culture Matters: Processes of Organizational Learning and Transformation",
           17
          ],
          [
           "When Customers Get Clever: Managerial Approaches to Dealing with Creative Consumers",
           351
          ],
          [
           "When Good is Not Enough: The Importance of Brokers’ Metaknowledge to Their Creativity (WITHDRAWN)",
           1
          ],
          [
           "When Hard Skills Are Not Enough: Behavioral Competencies of Data Scientists and Data Analysts",
           1
          ],
          [
           "When counterfeits raise the appeal of luxury brands",
           81
          ],
          [
           "When is Virtual Virtuous? Organizing for Innovation",
           673
          ],
          [
           "When the Brand is Bad, I'm Mad! An Exploration of Negative Emotions to Brands",
           31
          ],
          [
           "Which Conference Is That? A Case Study in Computer Science",
           2
          ],
          [
           "Who Should Control a Corporation? Toward a Contingency Stakeholder Model for Allocating Ownership Rights",
           63
          ],
          [
           "Why Adopt Codes of Good Governance? A Comparison of Institutional and Efficiency Perspectives",
           366
          ],
          [
           "Why Companies Should Have Open Business Models",
           844
          ],
          [
           "Why Do Some Patents Get Licensed While Others Do Not?",
           35
          ],
          [
           "Wine consumption practices and meanings as depicted in Italian TV fiction",
           2
          ],
          [
           "[Measuring vibrations of transport stress in premature and newborn infants during incubator transport].",
           6
          ],
          [
           "k-Calling context profiling",
           11
          ],
          [
           "“Heaven or Las Vegas”: Competing Institutional Logics and Individual Experience",
           6
          ],
          [
           "“I Feel Therefore I Decide”: Effect of Negative Emotions on Temporal Discounting and Probability Discounting",
           3
          ],
          [
           "“I Feel Therefore I Decide”: Effect of Negative Emotions on Temporal Discounting and Probability Discounting",
           3
          ],
          [
           "“I am resting but rest less well with you.” The moderating effect of anxious attachment style on alpha power during EEG resting state in a social context",
           58
          ],
          [
           "■ Special Issue Paper Unpacking the social media phenomenon: towards a research agenda",
           3
          ],
          [
           "Alessandra Perri",
           56.549668874172184
          ],
          [
           "Alessandro Zattoni",
           178.99171270718233
          ],
          [
           "Alessio Martino",
           4.25
          ],
          [
           "Andrea Prencipe",
           2
          ],
          [
           "Behzad Maleki Vishkaei",
           12.655172413793103
          ],
          [
           "Blerina Sinaimeri",
           21.6158357771261
          ],
          [
           "Cinzia Calluso",
           21.492753623188406
          ],
          [
           "Cristiano Busco",
           102.32624510352547
          ],
          [
           "Deniz Lefkeli",
           11
          ],
          [
           "ELENA BRUNI",
           225.70031545741324
          ],
          [
           "Eugenio Pinto",
           1.5
          ],
          [
           "Evangelos Syrigos",
           67.06711409395973
          ],
          [
           "Fabian Kurt Falk Homberg",
           5.285714285714286
          ],
          [
           "Fabrizio Di Lazzaro",
           61.72222222222222
          ],
          [
           "Federica Brunetta",
           3.4
          ],
          [
           "Filippo Bontadini",
           6.63265306122449
          ],
          [
           "Francesco Di Ciommo",
           4
          ],
          [
           "Giovanni Fiori",
           59.08433734939759
          ],
          [
           "Giuseppe Francesco Italiano",
           4
          ],
          [
           "Henry William Chesbrough",
           2266.203187938773
          ],
          [
           "Ian Paul McCarthy",
           1899.0280180518992
          ],
          [
           "Irene Finocchi",
           165.44712990936557
          ],
          [
           "Jannis Kallinikos",
           2
          ],
          [
           "Jonathan Berkovitch",
           1
          ],
          [
           "Lakshmi Balachandran Nair",
           9.526315789473685
          ],
          [
           "Luca Giustiniano",
           47.54729109274564
          ],
          [
           "Luca Pirolo",
           36.15
          ],
          [
           "Luigi Marengo",
           1
          ],
          [
           "Maria Giovanna Devetag",
           54.31182795698925
          ],
          [
           "Maria Isabella Leone",
           4
          ],
          [
           "Mario Comana",
           1
          ],
          [
           "Matteo De Angelis",
           197.12616339193383
          ],
          [
           "Matteo Giuliano Caroli",
           60.76068376068376
          ],
          [
           "Michela Altieri",
           17
          ],
          [
           "Michele Costabile",
           181.82489451476792
          ],
          [
           "Paolo Boccardelli",
           2.25
          ],
          [
           "Paolo Spagnoletti",
           2
          ],
          [
           "Pietro De Giovanni",
           55.38560411311054
          ],
          [
           "Raffaele Oriani",
           3
          ],
          [
           "Rumen Ivaylov Pozharliev",
           77.86859688195992
          ],
          [
           "Saverio Bozzolan",
           379.608052588332
          ],
          [
           "Simona Romani",
           146.62876861605523
          ],
          [
           "Valentina Meliciani",
           2.5
          ]
         ],
         "domain": {
          "x": [
           0,
           1
          ],
          "y": [
           0,
           1
          ]
         },
         "hovertemplate": "labels=%{customdata[0]}<br>values_sum=%{value}<br>parent=%{parent}<br>id=%{id}<br>values=%{color}<extra></extra>",
         "ids": [
          "Maria Giovanna Devetag/\"The Routines of Decision Making\" by T. Betsch and S. Haberstroh (Eds.), Lawrence Erlbaum Associates, Mahwah, NJ, 2005, BOOK REVIEW",
          "Simona Romani/\"The road to food waste is paved with good intentions\": When consumers' goals inhibit the minimization of household food waste",
          "Evangelos Syrigos/(In)Consistent Performance Feedback and the Locus of Search",
          "Ian Paul McCarthy/73 Heritability of coronary flow reserve",
          "Henry William Chesbrough/A Classification of Open Innovation and Open Business Models",
          "Alessandro Zattoni/A Contingency Model of Boards of Directors and Firm Innovation: The Moderating Role of Firm Size",
          "Saverio Bozzolan/A FRAMEWORK FOR THE ANALYSIS OF RISK COMMUNICATION",
          "Blerina Sinaimeri/A General Framework for Enumerating Equivalence Classes of Solutions",
          "Irene Finocchi/A General-Purpose Logic-Based Visualization Framework",
          "Irene Finocchi/A Java-based system for building animated presentations over the Web",
          "Ian Paul McCarthy/A Multidimensional Conceptualization of Environmental Velocity",
          "Irene Finocchi/A Parallel Approximation Algorithm for the Max Cut Problem on Cubic Graphs",
          "Cristiano Busco/A Preliminary Analysis of SASB Reporting: Disclosure Topics, Financial Relevance, and the Financial Intensity of ESG Materiality",
          "Alessandro Zattoni/A Primer on Corporate Governance: Italy",
          "Ian Paul McCarthy/A Structural and Evolutionary Approach to Change Management",
          "Irene Finocchi/A Survey of Symbolic Execution Techniques",
          "Irene Finocchi/A System for Building Animated Presentations over the Web",
          "Irene Finocchi/A Technique for Generating Graphical Abstractions of Program Data Structures",
          "Ian Paul McCarthy/A Typology of Clean Technology Commercialization Accelerators",
          "Irene Finocchi/A Unified Approach to Coding Labeled Trees",
          "Ian Paul McCarthy/A benchmark analysis of Canadian clean technology commercialization accelerators",
          "Henry William Chesbrough/A better way to innovate.",
          "Ian Paul McCarthy/A bibliographic analysis of 20 years of research on innovation and new product development in technology and innovation management (TIM) journals",
          "Simona Romani/A cross-country experimental study on consumers’ subjective understanding and liking on front-of-pack nutrition labels",
          "Irene Finocchi/A data-driven graphical toolkit for software visualization",
          "Michele Costabile/A dynamic model of customer loyalty",
          "Michele Costabile/A dynamic model of customer loyalty; an empirical evidence",
          "Pietro De Giovanni/A feature fatigue supply chain game with cooperative programs and ad-hoc facilitators",
          "Saverio Bozzolan/A framework for the analysis of firm risk communication",
          "Pietro De Giovanni/A joint maximization incentive in closed-loop supply chains with competing retailers: The case of spent-battery recycling",
          "Alessandra Perri/A longitudinal study of MNE innovation: the case of Goodyear",
          "Matteo Giuliano Caroli/A new 1‐week therapy for Helicobacter pylori eradication: rani‐ tidine bismuth citrate plus two antibiotics",
          "Ian Paul McCarthy/A perspective on Salvelinus research",
          "Matteo De Angelis/A picture says more than a thousand words: Using consumer neuroscience to study instagram users' responses to influencer advertising",
          "Rumen Ivaylov Pozharliev/A picture says more than a thousand words: Using consumer neuroscience to study instagram users' responses to influencer advertising",
          "Irene Finocchi/A portable virtual machine for program debugging and directing",
          "Behzad Maleki Vishkaei/A retailer inventory model when the reliability of inspection system affects the percentage of defective items which are delivered to final customers",
          "Pietro De Giovanni/A selective survey of game-theoretic models of closed-loop supply chains",
          "Behzad Maleki Vishkaei/A single-retailer multi-supplier multi-product inventory model with destructive testing acceptance sampling and inflation",
          "Pietro De Giovanni/A survey on incumbent digital transformation: a paradoxical perspective and research agenda",
          "Ian Paul McCarthy/Academic buoyancy in high school: A cross-lagged multilevel modeling approach exploring reciprocal effects with perceived school support, motivation, and engagement.",
          "Cristiano Busco/Accounting for the “transcendent self”: spirituality, narcissism, testimony and gift",
          "Cristiano Busco/Accounting, learning and cultural integration",
          "Ian Paul McCarthy/Achieving Contextual Ambidexterity in R&D Organizations: A Management Control System Approach",
          "Pietro De Giovanni/Achieving Resilience and Business Sustainability during COVID-19: The Role of Lean Supply Chain Practices and Digitalization",
          "Ian Paul McCarthy/Achieving agility using cladistics: an evolutionary analysis",
          "Alessandro Zattoni/Acquisition Relatedness in Family Firms: Do the Environment and the Institutional Context Matter?",
          "Luca Giustiniano/Activating social strategies: Face-to-face interaction in technology-mediated citizen science.",
          "Ian Paul McCarthy/Adaptive organizational resilience: an evolutionary perspective",
          "Lakshmi Balachandran Nair/Addressing low-profile misconduct in management academia through theoretical triangulation and transformative ethics education",
          "Henry William Chesbrough/Advancing Service Innovation",
          "Henry William Chesbrough/Advancing Services Innovation",
          "Alessandro Zattoni/Advancing the Literature on Ownership Structure and Corporate Governance",
          "Ian Paul McCarthy/Advertising Intensity and Welfare in an Equilibrium Search Model",
          "Alessandro Zattoni/Agency Conflicts and Corporate Governance",
          "Irene Finocchi/Algorithm engineering, Algorithmics Column",
          "Irene Finocchi/Algorithms - ESA 2015",
          "Irene Finocchi/Algorithms - ESA 2015 :23rd annual European symposium, Patras, Greece, September 14-16, 2015 : proceedings",
          "Irene Finocchi/Algorithms for Data Streams",
          "Blerina Sinaimeri/Algorithms for the quantitative Lock/Key model of cytoplasmic incompatibility",
          "Blerina Sinaimeri/All graphs with at most seven vertices are Pairwise Compatibility Graphs",
          "Evangelos Syrigos/Ambidexterity and Unit Performance: Intellectual Capital Antecedents and Cross-Level Moderating Effects of Human Resource Practices",
          "Saverio Bozzolan/Amendments to the IAS 41 and IAS 16 – Implications for accounting of bearer plants",
          "Pietro De Giovanni/An Empirical Investigation on Reactivity and Performance",
          "Irene Finocchi/An Experimental Analysis of Simple, Distributed Vertex Coloring Algorithms",
          "Ian Paul McCarthy/An Integrated Approach to Studying Multiplexity in Entrepreneurial Networks",
          "Fabrizio Di Lazzaro/An Unbiased Approach To Identify Endogenous Substrates of “Histone” Deacetylase 8",
          "Alessandro Zattoni/An Upper Echelons Perspective of Organizational Capacity for Change: An International Study of Initial Public Offerings",
          "Alessandra Perri/An analysis of the co-inventor networks associated with the Chinese pharmaceutical industry",
          "Henry William Chesbrough/An audience with… Henry Chesbrough. Interview by Asher Mullard.",
          "Ian Paul McCarthy/An evaluation model for determining the business process benefits of thixoforming",
          "Ian Paul McCarthy/An evolutionary approach to benchmarking",
          "Alessandro Zattoni/An evolutionary overview of the ownership, governance and strategy of Mediobanca: from the kingmaker of Italian capitalism to a large financial conglomerate",
          "Matteo De Angelis/An investigation on the effectiveness of hedonic versus utilitarian message appeals in luxury product communication",
          "Luca Pirolo/Analisi della domanda",
          "Cinzia Calluso/Analysis of hand kinematics reveals inter-individual differences in intertemporal decision dynamics",
          "Matteo De Angelis/Analyzing online reviews in hospitality: data-driven opportunities for predicting the sharing of negative emotional content",
          "Filippo Bontadini/Anatomy of Green Specialisation: Evidence from EU Production Data, 1995–2015",
          "Matteo Giuliano Caroli/Antimicrobial study of the resinous exudate and of diterpenoids isolated from Eupatorium salvia (Asteraceae).",
          "Matteo De Angelis/Anti‐counterfeiting\n strategy unfolded a closer look to the case of a large multinational manufacturer",
          "Matteo De Angelis/Anxious attachment style and consumer physiological emotional responses to human–robot service interactions.",
          "Rumen Ivaylov Pozharliev/Anxious attachment style and consumer physiological emotional responses to human–robot service interactions.",
          "Irene Finocchi/Approximate Solutions to the Food Selection Problem ( or How to Pig Out in the Eternal City )",
          "Luca Giustiniano/Are Relationally Transparent Leaders More Receptive to the Relational Transparency of Others? An Authentic Dialog Perspective",
          "Michele Costabile/Are we truly wicked when gossiping at work? The role of valence, interpersonal closeness and social awareness",
          "Michele Costabile/Are you telling me the truth? Authenticity of responses in virtual world research",
          "Henry William Chesbrough/Arrested development: the experience of European hard disk drive firms in comparison with US and Japanese firms",
          "Henry William Chesbrough/Assembling the elephant: A review of empirical studies on the impact of technical change upon incumbent firms",
          "Filippo Bontadini/Asymmetries in Global Value Chain Integration, Technology and Employment Structures in Europe: Country and Sectoral Evidence",
          "Matteo De Angelis/Attachment styles moderate customer responses to frontline service robots: Evidence from affective, attitudinal, and behavioral measures",
          "Rumen Ivaylov Pozharliev/Attachment styles moderate customer responses to frontline service robots: Evidence from affective, attitudinal, and behavioral measures",
          "Simona Romani/Attachment styles moderate customer responses to frontline service robots: Evidence from affective, attitudinal, and behavioral measures",
          "Simona Romani/Attitudes Toward Responsible Tourism and Behavioral Change to Practice it: A Demand-Side Perspective in the Context of Italy",
          "Ian Paul McCarthy/Averting the rise of the dark side of social media: The role of sensitization and regulation",
          "Alessandro Zattoni/BOARD DIVERSITY AND FIRM PERFORMANCE: AN EMPIRICAL INVESTIGATION OF THE MEDIATING EFFECTS OF BOARD PROCESSES AND TASK PERFORMANCE.",
          "Alessandro Zattoni/BOARDS OF DIRECTORS AND FIRM INNOVATION: TOWARD A CONTINGENCY PERSPECTIVE ON BOARD EFFECTIVENESS.",
          "Alessandra Perri/Balancing the Trade-Off between Learning Prospects and Spillover Risks: MNC Subsidiaries' Vertical Linkage Patterns in Developed Countries",
          "Irene Finocchi/Ball-Larus path profiling across multiple loop iterations",
          "Giovanni Fiori/Bank-Firm Relation Changes and Earnings Quality - An Analysis on Italian Small-Medium Sized Companies",
          "Deniz Lefkeli/Being observed in the digital era: Conceptualization and scale development of the perception of being observed",
          "Luca Giustiniano/Between Sponge and Titanium:Designing micro and macro features for the resilient organization",
          "Cristiano Busco/Beyond Compliance: an Integrated Governance Framework",
          "Cristiano Busco/Beyond Compliance: why integrated governance matters today",
          "Henry William Chesbrough/Beyond High Tech: Early Adopters of Open Innovation in Other Industries",
          "Cristiano Busco/Beyond compliance: why integrated governance matters today: the idea is for financial professionals to help their companies address performance and knowledge management, too",
          "Cristiano Busco/Beyond persuasive representations of facts: “figuring out” what sustainable value creation means in practice",
          "Alessandro Zattoni/Beyond the Black Box of Demography: Board Processes and Task Effectiveness Within Italian Firms",
          "Behzad Maleki Vishkaei/Blockchain Adoption in the Winery Industry",
          "Pietro De Giovanni/Blockchain Adoption in the Winery Industry",
          "Pietro De Giovanni/Blockchain Technology Applications in Businesses and Organizations",
          "Pietro De Giovanni/Blockchain, logistics and omnichannel for last mile and performance",
          "Alessandro Zattoni/Board Tasks in Small Firms: The Importance of Motivation and Evaluations",
          "Alessandro Zattoni/Board activity in large italian companies. A behavioural perspective",
          "Alessandro Zattoni/Board diversity’s antecedents and consequences: A review and research agenda",
          "Alessandro Zattoni/Board monitoring and effectiveness: Antecedents and implications",
          "Saverio Bozzolan/Board monitoring and internal control system disclosure in different regulatory environments",
          "Alessandro Zattoni/Board task performance in small firms: the role of personal incentives and board processes",
          "Alessandro Zattoni/Board task performance: An exploration of micro- and macro-level determinants of board effectiveness",
          "Alessandro Zattoni/Boards of Directors and Firm Innovation: an Empirical Analysis on Large Italian Companies",
          "Alessandro Zattoni/Boards of Directors' Contribution to Strategy: A Literature Review and Research Agenda",
          "Alessandro Zattoni/Boards' contribution to strategy and innovation",
          "Alessio Martino/Brain metabolic differences between pure bulbar and pure spinal ALS: a 2-[18F]FDG-PET study",
          "Simona Romani/Brand Dislike: The Dark Side of Consumer Preferences",
          "Simona Romani/Brand dislike: evidence from qualitative research and scale development",
          "Simona Romani/Brand dislike: representing the negative side of consumer preferences",
          "Irene Finocchi/Break the \"Right\" Cycles and Get the \"Best\" Drawing",
          "Irene Finocchi/Breaking cycles for minimizing crossings",
          "Luca Giustiniano/Bring them aboard: Rewarding participation in technology-mediated citizen science projects",
          "Ian Paul McCarthy/Building a manufacturing cladogram",
          "Cristiano Busco/Building an Integrated Governance Framework",
          "Luca Giustiniano/Building and reinforcing organizational resilience through international mobility: A multi-level framework",
          "Henry William Chesbrough/Business Model Innovation: Opportunities and Barriers",
          "Henry William Chesbrough/Business Models for Technology in the Developing World: The Role of Non-Governmental Organizations",
          "Luca Giustiniano/Business Opportunities in the Middle East",
          "Henry William Chesbrough/Business model innovation paths",
          "Ian Paul McCarthy/Business models in technology-based firms: A cognitive approach to regional differences",
          "Luca Giustiniano/Business outcomes of outsourcing: Lessons from management research",
          "Luca Giustiniano/CARING MORE BY DOING LESS? AN ENQUIRY ABOUT THE IMPACTS OF OUTSOURCING ON PATIENT CARE",
          "Evangelos Syrigos/CEO Entrepreneurial Orientation, Entrenchment, and Firm Value Creation",
          "Ian Paul McCarthy/CGIP: Managing Consumer-Generated Intellectual Property",
          "Giovanni Fiori/CORPORATE SOCIAL RESPONSIBILITY AND STOCK PRICES: A STUDY ON THE ITALIAN MARKET",
          "Henry William Chesbrough/COVER STORY • Open Innovation: A Key to Achieving Socioeconomic Evolution • 3 How Smaller Companies Can Benefit from Open Innovation",
          "Cinzia Calluso/Can you change my preferences? Effect of social influence on intertemporal choice behavior",
          "Jonathan Berkovitch/Capital Market Consequences of the Libor Scandal and Phaseout for Public Borrowers",
          "Blerina Sinaimeri/Capybara: equivalence ClAss enumeration of coPhylogenY event-BAsed ReconciliAtions",
          "Luca Giustiniano/Case 9: Stressed and Demotivated Public Servants… Looking for a (Motivational) Miracle at Paywell Agency",
          "Federica Brunetta/Centralità e performance scientifica: alcune evidenze dai network di ricerca clinica",
          "Paolo Boccardelli/Centralità e performance scientifica: alcune evidenze dai network di ricerca clinica",
          "Luca Giustiniano/Changing Collaboration in Knowledge Work: Design Implications for Jobs, Teams, and Organizations",
          "Ian Paul McCarthy/Chapter 10 A Survey on the Economics of the U.S. Pharmaceutical Industry",
          "Ian Paul McCarthy/Chapter 5 The GFT Utility Function",
          "Henry William Chesbrough/Chez Panisse: Building an Open Innovation Ecosystem",
          "Ian Paul McCarthy/Cladistics: a taxonomy for manufacturing organizations",
          "Ian Paul McCarthy/Click Here to Agree: Managing Intellectual Property When Crowdsourcing Solutions",
          "Irene Finocchi/Clique Counting in MapReduce",
          "Alessandra Perri/Close together or far apart? The geography of host-country knowledge sourcing and MNCs’ innovation performance",
          "Blerina Sinaimeri/Co-divergence and tree topology",
          "Fabian Kurt Falk Homberg/Cogema - la Hague : the waste production techniques with special emphasis on the study of Japanese reprocessing wastes",
          "Cinzia Calluso/Cognitive Dynamics of Religiosity and Intertemporal Choice Behavior",
          "Maria Giovanna Devetag/Cognitive Dynamics of Religiosity and Intertemporal Choice Behavior",
          "Cinzia Calluso/Cognitive dynamics of intertemporal choice in gambling disorder.",
          "Irene Finocchi/Combinatorial algorithms for feedback problems in directed graphs",
          "Simona Romani/Company Post-Crisis Communication Strategies and the Psychological Mechanism Underlying Consumer Reactions",
          "Henry William Chesbrough/Comparative Studies of Technological Evolution",
          "Deniz Lefkeli/Competing with or Against Cozmo, the Robot: Influence of Interaction Context and Outcome on Mind Perception",
          "Michele Costabile/Competitive Convergence: Construct Definition and Measurement",
          "Ian Paul McCarthy/Complex systems theory: implications and promises for manufacturing organisations",
          "Blerina Sinaimeri/Compressed Weighted de Bruijn Graphs",
          "Blerina Sinaimeri/Computing an Evolutionary Ordering is Hard",
          "Cinzia Calluso/Concreteness and emotional valence of episodic future thinking (EFT) independently affect the dynamics of intertemporal decisions",
          "Alessandro Zattoni/Configurations of Capacity for Change in Entrepreneurial Threshold Firms: Imprinting and Strategic Choice Perspectives",
          "ELENA BRUNI/Configuring a new business model through conceptual combination: The rise of the Huffington Post",
          "Irene Finocchi/Conflict-free star-access in parallel memory systems",
          "Ian Paul McCarthy/Confronting indifference toward truth: Dealing with workplace bullshit",
          "Ian Paul McCarthy/Connecting product innovation management and marketing",
          "Cristiano Busco/Connectivity of information in Integrated Reporting: exploring the holistic representation of the organization’s value creation process",
          "Simona Romani/Consumer Reshoring Sentiment and Animosity: Expanding Our Understanding of Market Responses to Reshoring",
          "Simona Romani/Consumer attitude toward reshoring: Related effects and relevant boundary conditions",
          "Simona Romani/Consumer reactions to corporate decisions to outsource labor abroad",
          "Simona Romani/Consumer response to corporate irresponsible behavior: Moral emotions and virtues",
          "Simona Romani/Consumer responses to corporate offshoring practices",
          "Matteo De Angelis/Consumer self-reported and testosterone responses to advertising of luxury goods in social context",
          "Rumen Ivaylov Pozharliev/Consumer self-reported and testosterone responses to advertising of luxury goods in social context",
          "Simona Romani/Consumer stakeholder responses to reshoring strategies",
          "Simona Romani/Consumer – brand relationships in West Bank. Non-western grounded theory?",
          "Simona Romani/Consumers' perceptions of luxury brands’ CSR initiatives: An investigation of the role of status and conspicuous consumption",
          "Matteo De Angelis/Consumers’ Attitudes Toward Sustainable Luxury Products: The Role of Perceived Uniqueness and Conspicuous Consumption Orientation",
          "Matteo De Angelis/Consumers’ self-reported and brain responses to advertising post on Instagram: the effect of number of followers and argument quality",
          "Rumen Ivaylov Pozharliev/Consumers’ self-reported and brain responses to advertising post on Instagram: the effect of number of followers and argument quality",
          "Simona Romani/Consumption experiences and product meanings: pasta for young Italian consumers",
          "Simona Romani/Consumption practices of counterfeit luxury goods in the Italian context",
          "Michele Costabile/Context Effects in Word-Of-Mouth Communications: the Effect of Crowdedness on Social Transmission",
          "Michele Costabile/Coopetition dynamics in convergent industries: designing scope connections to combine heterogeneous resources",
          "Pietro De Giovanni/Coordination in a distribution channel with decisions on the nature of incentives and share-dependency on pricing",
          "Blerina Sinaimeri/Cophylogeny Reconstruction via an Approximate Bayesian Computation",
          "ELENA BRUNI/Coping with Different Types of Innovation: What Do Metaphors Reveal About How Entrepreneurs Describe the Innovation Process?",
          "Alessandro Zattoni/Corporate Governance Codes: A Review and Research Agenda",
          "Alessandro Zattoni/Corporate Governance Research in the Wake of a Systemic Crisis: Lessons and Opportunities from the COVID‐19 Pandemic",
          "Alessandro Zattoni/Corporate Governance and Initial Public Offerings: An International Perspective",
          "Alessandro Zattoni/Corporate Governance and Initial Public Offerings: Contributors",
          "Alessandro Zattoni/Corporate Governance and Initial Public Offerings: Corporate governance and initial public offerings in Italy",
          "Alessandro Zattoni/Corporate Governance in large UK family firms",
          "Alessandro Zattoni/Corporate Governance, Board Gender Diversity and Firm Performance",
          "Alessandro Zattoni/Corporate Governance, Board of Directors, and Firm Performance",
          "Alessandro Zattoni/Corporate Governance, Board of Directors, and the Firm: A Maturing Field",
          "Alessandro Zattoni/Corporate Governance, Information, and Investor Confidence",
          "Saverio Bozzolan/Corporate Social Responsibility and Earnings Quality: International Evidence",
          "Giovanni Fiori/Corporate Social Responsibility and Firms Performance - An Analysis on Italian Listed Companies",
          "Simona Romani/Corporate Socially Responsible Initiatives and Their Effects on Consumption of Green Products",
          "Saverio Bozzolan/Corporate governance adrift: A critique of shareholder value",
          "Alessandro Zattoni/Corporate governance and IPO underpricing in a cross‐national sample: A multilevel knowledge‐based view",
          "Alessandro Zattoni/Corporate governance and IPO underpricing throughout the world: agency and institutional perspectives",
          "Alessandro Zattoni/Corporate governance and institutions—A review and research agenda",
          "Alessandro Zattoni/Corporate governance in Italy: the structural conflict of interests between majority and minority shareholders",
          "Alessandro Zattoni/Corporate governance, boards of directors, and firm performance: Avenues for future research",
          "Alessandro Zattoni/Corporate governance, firm performance, and managerial incentives",
          "Paolo Boccardelli/Corporate strategy : una prospettiva organizzativa e finanziaria per la crescita",
          "Ian Paul McCarthy/Correlations between fitness and heterozygosity at allozyme and microsatellite loci in the Atlantic salmon, Salmo salar L.",
          "Irene Finocchi/Counting cliques in parallel without a cluster: Engineering a fork/join algorithm for shared-memory platforms",
          "Irene Finocchi/Counting small cliques in MapReduce",
          "Simona Romani/Covert brand recognition engages emotion-specific brain networks.",
          "Henry William Chesbrough/Creating New Ventures from Bell Labs Technologies",
          "Ian Paul McCarthy/Creative consumers: awareness, attitude and action",
          "Irene Finocchi/Crossing-constrained hierarchical drawings",
          "Luca Giustiniano/Crowd-Open and Crowd-Based Collaborations: Facilitating the emergence of organization design",
          "Irene Finocchi/CrumbTrail: An efficient methodology to reduce multiple inheritance in knowledge graphs",
          "Michele Costabile/Customer base segmentation and relationship management. Applying latent class regression to the mobile communications business",
          "Michele Costabile/Customer satisfaction and trust into the resource-based perspective. Research propositions endorsing the confirmation/disconfirmation paradigm",
          "Michele Costabile/Customer value metrics",
          "Michele Costabile/Customizing customization: A conceptual framework for interactive personalization",
          "Jannis Kallinikos/D'un soi émietté.",
          "Cristiano Busco/Dealing with the Unknown: Leading in uncertain times by rethinking the design of management accounting and reporting systems",
          "Cinzia Calluso/Decision and action planning signals in human posterior parietal cortex during delayed perceptual choices",
          "Ian Paul McCarthy/Deepfakes: Trick or treat?",
          "Luca Giustiniano/Demand Forecasting in the Fashion Industry: A Review",
          "Luca Giustiniano/Design Science and eTrust: Designing Organizational Artifacts as Nexus of Social and Technical Interactions",
          "Henry William Chesbrough/Designing Corporate Ventures in the Shadow of Private Venture Capital",
          "Irene Finocchi/Designing reliable algorithms in unreliable memories",
          "Alessandro Zattoni/Developing Corporate Governance Research Through Qualitative Methods: A Review of Previous Studies",
          "Alessandro Zattoni/Developing Corporate Governance Theory through Qualitative Research",
          "Maria Giovanna Devetag/Developing Entrepreneurial Competencies in Vietnam: Evidence from the Bac Ninh Province",
          "Luca Giustiniano/Developing organizational resilience via international mobility: a conceptual framework",
          "Ian Paul McCarthy/Development of 30 microsatellite markers for dab (Limanda limanda L.): a key UK marine biomonitoring species",
          "Paolo Boccardelli/Dinamismo ambientale, esperienza digitale del board, e cambiamento strategico delle imprese. L'integrazione tra Dynamic Managerial Capabilities e Resource Dependence Theory",
          "Saverio Bozzolan/Disclosure on Internal Control Systems as Substitute of Alternative Governance Mechanisms",
          "Fabrizio Di Lazzaro/Discovery of the first histone deacetylase 6/8 dual inhibitors.",
          "Cinzia Calluso/Distinct Patterns of Cognitive Conflict Dynamics in Promise Keepers and Promise Breakers",
          "Irene Finocchi/Divider-based algorithms for hierarchical tree partitioning",
          "Matteo De Angelis/Do not put the blame on me: Asymmetric responses to service outcome with autonomous vehicles versus human agents",
          "Rumen Ivaylov Pozharliev/Do not put the blame on me: Asymmetric responses to service outcome with autonomous vehicles versus human agents",
          "Ian Paul McCarthy/Do your employees think your slogan is “fake news?” A framework for understanding the impact of fake company slogans on employees",
          "Jonathan Berkovitch/Does CSR Engender Trust? Evidence From Investor Reactions to Corporate Disclosures",
          "Alessandro Zattoni/Does Family Involvement Influence Firm Performance? Exploring the Mediating Effects of Board Processes and Tasks",
          "Alessandro Zattoni/Does board independence influence financial performance in IPO firms? The moderating role of the national business system",
          "Ian Paul McCarthy/Does getting along matter? Tourist-tourist rapport in guided group activities",
          "Henry William Chesbrough/Does patenting help or hinder open innovation? Evidence from new entrants in the solar industry",
          "Simona Romani/Domestic food practices: A study of food management behaviors and the role of food preparation planning in reducing waste",
          "Alessandro Zattoni/Dominant-owner CEOs, board of directors and firm performance in emerging economies: Exploring the moderating impact of quad-qualified directors",
          "Ian Paul McCarthy/Dynamic Game Plans: Using Gamification to Entrain Strategic Renewal with Environmental Velocity",
          "Irene Finocchi/Dynamic Graphs",
          "Ian Paul McCarthy/Dynamic game plans",
          "Irene Finocchi/Dynamic programming in faulty memory hierarchies (cache-obliviously)",
          "Andrea Prencipe/Dynamics of Industry and Innovation: Organizations, Networks and Systems Enablers, Outcomes, and Effets of Product Bundling: towards an Analytical Model Enablers, Outcomes, and Effects of Product Bundling: towards an Analytical Model",
          "Ian Paul McCarthy/E-business and its role in small business networks",
          "Blerina Sinaimeri/EUCALYPT: efficient tree reconciliation enumerator",
          "Fabrizio Di Lazzaro/EXPERIMENTAL EVALUATION OF BENDING AND TORSIONAL DEFORMABILITY OF FRP PULTRUDED BEAMS",
          "Saverio Bozzolan/Earnings management, forecast guidance and the banking crisis",
          "Pietro De Giovanni/Eco-Digital Supply Chains through Blockchains",
          "Cristiano Busco/Edinburgh Research Explorer In search of the \"Perfect One\"",
          "Alessandro Zattoni/Editorial: Corporate Governance, Institutions and Industry Regulation",
          "Irene Finocchi/Editorial: Preface to the special issue",
          "Cinzia Calluso/Effects of Individual Discount Rate and Uncertainty Perception on Compliance with Containment Measures during the COVID-19 Pandemic",
          "Simona Romani/Effects of the transition from Lira to Euro on buyers’ product evaluation. An analysis before and after the introduction of the new currency",
          "Simona Romani/Effects of the transition from lira to euro on buyers' product evaluations",
          "Simona Romani/Effects on consumers’ subjective understanding of a new front-of-pack nutritional label: a study on Italian consumers",
          "Irene Finocchi/Efficient Pruning of Large Knowledge Graphs",
          "Luigi Marengo/El mercado, la empresa y la primacia del conocimiento",
          "Luca Giustiniano/Elgar Introduction to Theories of Organizational Resilience",
          "ELENA BRUNI/Emotional and Social Intelligence Competencies in the Digital Era",
          "Simona Romani/Emotions that Drive Consumers Away from Brands: Measuring Negative Emotions Toward Brands and Their Behavioral Effects",
          "Irene Finocchi/Empirical Evaluation for Graph Drawing (Dagstuhl Seminar 15052)",
          "Cristiano Busco/Enacting governance at the local level through management control systems: the case of a multinational energy company",
          "Henry William Chesbrough/Enel X: Driving Digital Transformation in the Energy Sector",
          "Luca Giustiniano/Engaging public servants: Public service motivation, work engagement and work-related stress",
          "Irene Finocchi/Engineering Tree Labeling Schemes: A Case Study on Least Common Ancestors",
          "Henry William Chesbrough/Environmental Influences Upon Firm Entry into New Sub-Markets: Evidence from the Worldwide Hard Disk Drive Industry",
          "Henry William Chesbrough/Environmental influences upon firm entry into new sub-markets: Evidence from the worldwide hard disk drive industry conditionally",
          "Saverio Bozzolan/Environmental reporting: transparency to stakeholders or stakeholders’ manipulation? An analysis of disclosure tone and the role of board of directors",
          "Pietro De Giovanni/Erratum to “Trade-in and save: A two-period closed-loop supply chain game with price and technology dependent returns” [Int. J. Prod. Econ. 183 B (2017) 514–527]",
          "Simona Romani/Erratum to: Corporate Socially Responsible Initiatives and Their Effects on Consumption of Green Products",
          "Irene Finocchi/Estimating the Empirical Cost Function of Routines with Dynamic Workloads",
          "Cinzia Calluso/Evidence Accumulates for Individual Attributes in Risky Choice",
          "Luca Giustiniano/Evolution of multiple organisational identities after an M&A event: A case study from Europe",
          "Alessandro Zattoni/Executive Compensation, Board Functioning, and Corporate Governance",
          "Ian Paul McCarthy/Experiences with Gamification: The MDE Framework",
          "Irene Finocchi/Experimental Study of Resilient Algorithms and Data Structures",
          "Irene Finocchi/Experimental analysis of simple, distributed vertex coloring algorithms",
          "Simona Romani/Explaining Consumer Brand-Related Activities on Social Media: The Role of Self-Determination Theory",
          "Simona Romani/Explaining Consumer Reactions to Corporate Social Responsibility: The Role of Gratitude and Altruistic Values",
          "Simona Romani/Explaining consumer brand-related activities on social media: An investigation of the different roles of self-expression and socializing motivations",
          "Henry William Chesbrough/Explicating Open Innovation",
          "Henry William Chesbrough/Explicating Open Innovation: Clarifying an Emerging Paradigm for Understanding Innovation",
          "Ian Paul McCarthy/Exploiting the business opportunities in biotech connections: The power of social networks",
          "Cristiano Busco/Exploring How the Balanced Scorecard Engages and Unfolds: Articulating the Visual Power of Accounting Inscriptions",
          "Blerina Sinaimeri/Exploring and Visualizing Spaces of Tree Reconciliations.",
          "Henry William Chesbrough/Exploring open innovation in the digital age: A maturity model and future research directions",
          "Blerina Sinaimeri/Exploring pairwise compatibility graphs",
          "Giovanni Fiori/Exploring the Effects of Corporate Governance on Voluntary Disclosure: An Explanatory Study on the Adoption of Integrated Report",
          "Alessandra Perri/Exploring the International Connectivity of Chinese Inventors in the Pharmaceutical Industry",
          "Alessandro Zattoni/Exploring the Political Side of Board Involvement in Strategy: A Study of Mixed-Ownership Institutions",
          "Blerina Sinaimeri/Exploring the Robustness of the Parsimonious Reconciliation Method in Host-Symbiont Cophylogeny",
          "Cristiano Busco/Exploring the craft of visual accounts through arts: Fear, voids and illusion in corporate reporting practices",
          "Henry William Chesbrough/Extending Open Innovation: Orchestrating Knowledge Flows from Corporate Venture Capital Investments",
          "Simona Romani/FEEDING POST-MODERN FAMILIES: FOOD PREPARATION AND CONSUMPTION PRACTICES IN NEW FAMILY STRUCTURES",
          "Alessandro Zattoni/Family Business, Corporate Governance, and Firm Performance",
          "Saverio Bozzolan/Family Ownership and Impression Management: An Integrated Approach",
          "Alessandro Zattoni/Farewell editorial: Exiting editors' perspective on current and future challenges in corporate governance research",
          "Simona Romani/Fashion without pollution: How consumers evaluate brands after an NGO campaign aimed at reducing toxic chemicals in the fashion industry",
          "Cinzia Calluso/Fatigue increases the perception of future effort during decision making",
          "Saverio Bozzolan/Feasibility of a screening programme for lung cancer in former asbestos workers.",
          "Alessandro Zattoni/Figureheads or Potentates? CEO Power and Board Oversight in the Context of Sarbanes Oxley",
          "Ian Paul McCarthy/Fluid Shifts Due to Microgravity and Their Effects on Bone: A Review of Current Knowledge",
          "Maria Giovanna Devetag/Focusing strategies in reasoning about games",
          "Saverio Bozzolan/Forward-Looking Disclosures, Financial Verifiability and Analysts' Forecasts: A Study of Cross-Listed European Firms",
          "Rumen Ivaylov Pozharliev/Framing a trust game as a power game greatly affects interbrain synchronicity between trustor and trustee",
          "Henry William Chesbrough/From Collaborative Community to Competitive Market: The Quest to Build a Crowdsourcing Platform for Social Innovation",
          "Saverio Bozzolan/From Internal Auditing to Enterprise Risk Management : the Case of the Telecomitalia Group",
          "Henry William Chesbrough/From Open Science to Open Innovation",
          "Maria Giovanna Devetag/From utilities to mental models: A critical survey on decision rules and cognition in consumer choice",
          "Ian Paul McCarthy/Gait assessment as an outcome measure in total knee replacement",
          "Ian Paul McCarthy/Game on: Engaging customers and employees through gamification",
          "Blerina Sinaimeri/Geometric medians in reconciliation spaces of phylogenetic trees",
          "Ian Paul McCarthy/Geometrical dimensions of the lower lumbar vertebrae – analysis of data from digitised CT images",
          "Cristiano Busco/Giddens’ structuration theory and its implications for management accounting research",
          "Eugenio Pinto/Gli enti conferenti: aspetti economici e di bilancio",
          "Cristiano Busco/Globalization and the international convergence of management accounting",
          "Henry William Chesbrough/Graceful Exits and Missed Opportunities: Xerox's Management of its Technology Spin-off Organizations",
          "Fabrizio Di Lazzaro/Gradual disaggregation of the casein micelle improves its emulsifying capacity and decreases the stability of dairy emulsions",
          "Irene Finocchi/Graph Coloring with Distance Constraints",
          "Irene Finocchi/Graph sketches",
          "Irene Finocchi/Graphs in Computer Science",
          "Pietro De Giovanni/Green practices and operational performance: The moderating role of agility",
          "Luca Giustiniano/Gritty Leaders Promoting Employees’ Thriving at Work",
          "Cristiano Busco/Growing global by acquisitions: the role of measurement as GE met Italy",
          "Ian Paul McCarthy/Growth goal setting in high school: A large-scale study of perceived instructional support, personal background attributes, and engagement outcomes.",
          "Simona Romani/Guest editorial",
          "Filippo Bontadini/HOW DO WE UNDERSTAND PARTICIPATION IN GLOBAL VALUE CHAINS? A STRUCTURED REVIEW OF THE LITERATURE",
          "Irene Finocchi/Hands on Algorithms:an Experience with Algorithm Animation in Advanced Computer Science Classes",
          "Irene Finocchi/Hierarchical Clustering of Trees: Algorithms and Experiments",
          "Irene Finocchi/Hierarchical Decompositions for Visualizing Large Graphs",
          "ELENA BRUNI/How Big Data Creates New Job Opportunities: Skill Profiles of Emerging Professional Roles",
          "Pietro De Giovanni/How ENI Can Improve Procurement Through Blockchain Technology",
          "Mario Comana/How Exchanges Work: Trading Venues, Algorithmic and High-Frequency Transactions",
          "Alessandro Zattoni/How Independent, Competent and Incentivized Should Non-Executive Directors Be? An Empirical Investigation of Good Governance Codes",
          "Alessandro Zattoni/How Much Do Country-Level or Firm-Level Variables Matter in Corporate Governance Studies?",
          "Michele Costabile/How Relationship Age Moderates Loyalty Formation",
          "Matteo De Angelis/How Sensory Language Shapes Influencer’s Impact",
          "Rumen Ivaylov Pozharliev/How Sensory Language Shapes Influencer’s Impact",
          "Simona Romani/How companies’ good deeds encourage consumers to adopt pro-social behavior",
          "Luca Giustiniano/How does organizational space help organizations cope with the challenges of ambidexterity and continue to innovate? A space reorganization experiment in a transitioning organization",
          "Alessandro Zattoni/How independent are boards and independent directors? An empirical analysis of the content of good governance codes",
          "Luca Giustiniano/How knowledge collecting fosters organizational creativity",
          "Michele Costabile/How language abstractness affects service referral persuasiveness",
          "Luca Giustiniano/How managers detect paradox: critical realism, moderate constructivism and sensemaking in action",
          "Maria Isabella Leone/How much are flexibility and uncertainty worth in patent licensing?",
          "Henry William Chesbrough/How to Appropriate Value from General-Purpose Technology by Applying Open Innovation",
          "Alessandro Zattoni/How to Contribute to the Development of a Global Understanding of Corporate Governance? Reflections from Submitted and Published Articles in CGIR",
          "Ian Paul McCarthy/How to Work a Crowd: Developing Crowd Capital Through Crowdsourcing",
          "Luca Giustiniano/Hyperloop Transportation Technologies, Inc.: A Startup Using the Gig Economy for Its Core Business",
          "Matteo De Angelis/I might try it: Marketing actions to reduce consumer disgust toward insect-based food",
          "Rumen Ivaylov Pozharliev/I might try it: Marketing actions to reduce consumer disgust toward insect-based food",
          "Paolo Boccardelli/I modelli di business nel settore cinematografico",
          "Giovanni Fiori/IFRS AND INTERNATIONAL DIFFERENCES: AN EMPIRICAL ANALYSIS ON THEIR APPLICATION WORLDWIDE",
          "Henry William Chesbrough/IMEC(A+B):Creating value through a New Approach to IPR Managenment",
          "Alessandra Perri/INFORMATION ASYMMETRIES, FAMILY OWNERSHIP AND DIVESTITURE FINANCIAL PERFORMANCE: EVIDENCE FROM WESTERN EUROPEAN COUNTRIES",
          "Alessandra Perri/INTERNATIONALIZATION OF A CHINESE \"BORN GLOCAL\" BRAND IN A FOREIGN SECTOR: THE CASE STUDY OF GOODBABY",
          "Federica Brunetta/Il ruolo delle istituzioni nella teoria organizzativa",
          "Ian Paul McCarthy/Implementation of Focused Manufacturing Techniques in a Hand Tool Company",
          "Saverio Bozzolan/Impression Management and Organizational Audiences: The Fiat Group Case",
          "Luca Giustiniano/Improvement of Manufacturing Operations through a Lean Management Approach: A Case Study in the Pharmaceutical Industry",
          "Luca Giustiniano/Improvising Agility: Organizations as Structured-Extemporaneous Hybrids",
          "Luca Giustiniano/Improvising Prescription: Evidence from the Emergency Room",
          "Luca Giustiniano/Improvising in the shade of power: The rise of paradoxes under the radar of formal compliance",
          "Luca Giustiniano/Improvising resilience: The unfolding of resilient leadership in COVID-19 times",
          "Ian Paul McCarthy/In Search of Entrepreneurial Network Configurations: Using Q-Analysis to Study Network Structures and Flows",
          "Alessandro Zattoni/In Search of a Greater Pluralism of Theories and Methods in Governance Research",
          "Luca Giustiniano/Increasing Integration Across the Supply Chain Through an Approach to Match Performance and Risk",
          "Henry William Chesbrough/Indirect effect of open innovation on clinical and economic value creation in digital healthcare: A comparative study of European countries",
          "Luca Giustiniano/Industry 4.0 and the emerging challenges to leadership",
          "Irene Finocchi/Infinite Trees and the Future",
          "Saverio Bozzolan/Information Asymmetries and IPO Underpricing: The Role of Voluntary Disclosure of Forward-Looking Information in the Prospectus",
          "Fabrizio Di Lazzaro/Inhibitors of Glycogen Synthase Kinase 3 with Exquisite Kinome-Wide Selectivity and Their Functional Effects.",
          "Luca Giustiniano/Innovating through Clusters",
          "Henry William Chesbrough/Innovation @ ENEL: From Monopoly Power to Open Power",
          "Alessandra Perri/Innovation and the Multinational Firm: Perspectives on Foreign Subsidiaries and Host Locations",
          "Alessandra Perri/Innovation in US metropolitan areas: the role of global connectivity",
          "Ian Paul McCarthy/Innovation in manufacturing as an evolutionary complex system",
          "Luca Giustiniano/Innovations in Fashion Industry Demand Forecasting in the Fashion Industry : A Review Regular Paper",
          "Luca Giustiniano/Innovations in Pharmaceutical Industry Improvement of Manufacturing Operations through a Lean Management Approach : A Case Study in the Pharmaceutical Industry Regular Paper",
          "Paolo Boccardelli/Innovazione Tecnologica e Strategia d’Impresa. Lo Sviluppo e la Gestione delle Competenze Aziendali nel Settore delle Telecomunicazioni",
          "Irene Finocchi/Input-Sensitive Profiling",
          "Michele Costabile/Inside Luxury: Main Features, Evolving Trends, and Marketing Paradoxes",
          "ELENA BRUNI/Inside the conceptual innovation: The Huffington Post case study Working",
          "Alessandro Zattoni/Institutional Change and Ownership Patterns in Italy",
          "Alessandro Zattoni/Institutional Environment and Corporate Governance",
          "Cristiano Busco/Integrated Thinking: Aligning purpose and the business model to market opportunities and sustainable performance",
          "Cristiano Busco/Integrated reporting assurance",
          "Cristiano Busco/Integrated reporting.: Concepts and Cases that Redefine Corporate Accountability",
          "Alessandro Zattoni/Integrating Agency and Resource Dependence Theory: Firm Profitability, Industry Regulation, and Board Tasks Performance",
          "Cristiano Busco/Integrating global organizations through performance measurement systems",
          "Filippo Bontadini/Integration in Global Value Chains and Employment",
          "Filippo Bontadini/Integration in Global Value Chains and Employment in Europe",
          "Saverio Bozzolan/Intellectual Capital Disclosure (ICD) across Europe: A comparison between Italy, Ireland and the UK",
          "Saverio Bozzolan/Intellectual capital disclosure (ICD): A comparison of Italy and the UK",
          "Cinzia Calluso/Interindividual Variability in Functional Connectivity as Long-Term Correlate of Temporal Discounting",
          "Alessandro Zattoni/Internal culture and outside influence in corporate governance",
          "Ian Paul McCarthy/International Journal of Mass",
          "Alessandra Perri/International connectivity and the location of multinational enterprises'\n knowledge‐intensive\n activities: Evidence from\n US\n metropolitan areas",
          "Simona Romani/Introducing the Front-Of-Pack Acceptance Model: the role of usefulness and ease of use in European consumers’ acceptance of Front-Of-Pack Labels",
          "Henry William Chesbrough/Introduction",
          "Henry William Chesbrough/Introduction to comparative studies of technological evolution",
          "Michele Costabile/Introduction: Sustainability in Luxury Branding",
          "Ian Paul McCarthy/Investigating the drivers of higher education expectations among students from low and high socio-economic backgrounds in Australia",
          "Matteo De Angelis/Investor’s Intrinsic Motives and the Valence of Word-of-Mouth in Sequential Decision-Making",
          "Pietro De Giovanni/Is environmental management an economically sustainable business?",
          "Ian Paul McCarthy/Is it all a game? Understanding the principles of gamification",
          "Simona Romani/Is more expensive better? An analysis of the relationship between price and objective quality in the Italian market",
          "Ian Paul McCarthy/Isolation and characterization of 12 dinucleotide microsatellite loci in the anadromous fish Osmerus eperlanus (L.)",
          "Federica Brunetta/Istituzioni, Mercati e Imprese. Il ruolo delle istituzioni nelle strategie di crescita",
          "Paolo Boccardelli/Istituzioni, Mercati e Imprese. Il ruolo delle istituzioni nelle strategie di crescita",
          "Ian Paul McCarthy/It&Apos;S a Cruel Summer: Household Responses to Reductions in Government Nutrition Assistance",
          "Saverio Bozzolan/Italian annual intellectual capital disclosure: An empirical analysis",
          "Alessandra Perri/Knowledge Breadth of MNC Subsidiaries and the Duration of Host-Country Firms’ Search",
          "Alessandra Perri/Knowledge Outflows from Foreign Subsidiaries: The Tension between Knowledge Creation and Knowledge Protection",
          "Alessandra Perri/Knowledge Spillovers from FDI: A Critical Review from the International Business Perspective",
          "Alessandra Perri/Knowledge connectedness within and across home country borders: Spatial heterogeneity and the technological scope of firm innovations",
          "Alessandra Perri/Knowledge integration in multinational enterprises: The role of inventors crossing national and organizational boundaries",
          "Alessandra Perri/Knowledge outflows from foreign subsidiaries and the tension between knowledge creation and knowledge protection: Evidence from the semiconductor industry",
          "Luca Giustiniano/Knowledge sharing in knowledge-intensive manufacturing firms. An empirical study of its enablers",
          "Federica Brunetta/L'Outsourcing nella sanità.",
          "Eugenio Pinto/L'economia delle imprese in regime di concessione",
          "Cristiano Busco/L'evoluzione del sistema di corporate reporting. Lo Shared Value all'interno del bilancio integrato di un gruppo bancario",
          "Blerina Sinaimeri/L(2, 1)-Labeling of Oriented Planar Graphs (Extended Abstract)",
          "Blerina Sinaimeri/L(2, 1)L(2, 1)-labeling of oriented planar graphs",
          "Irene Finocchi/LEONARDO: a software visualization system",
          "Luca Pirolo/La creazione di valore nelle strategie di disinvestimento: evidenze dal contesto europeo",
          "Paolo Boccardelli/La diffusione dell'ICT nelle Piccole e Medie Imprese: un' indagine nel settore dei servizi di arredamento",
          "Henry William Chesbrough/La filosofia dell’Open Services Innovation",
          "Luca Pirolo/La gestione dell’impresa in una prospettiva relazionale: Il ruolo del social capital nello sviluppo strategico aziendale",
          "Valentina Meliciani/La producción e internacionalización de los servicios: determinantes e implicaciones para la innovación y el crecimiento en Europa",
          "Raffaele Oriani/La relación entre las estructuras de propiedad y la inversión en I+D en las empresas europeas",
          "Alessandro Zattoni/Large shareholders and corporate governance outside the United States and United Kingdom",
          "Filippo Bontadini/Latin America’s faltering manufacturing competitiveness: What role for intermediate services?",
          "Irene Finocchi/Layered Drawings of Graphs with Crossing Constraints",
          "Blerina Sinaimeri/Lazy listing of equivalence classes - A paper on dynamic programming and tropical circuits",
          "Luca Giustiniano/Le decisioni di outsourcing oggi",
          "Paolo Spagnoletti/Le dinamiche di diffusione della pratica del riuso software",
          "ELENA BRUNI/Leadership styles scale: Conceptualization and initial validation",
          "Cristiano Busco/Leading practices in Integrated Reporting",
          "Cristiano Busco/Leading practices in integrated reporting: management accountants will guide their companies on the journey to value creation",
          "Luca Giustiniano/Leading well pays off: mediating effects and multi-group analysis of strategic performance",
          "Henry William Chesbrough/Lean Startup and Open Innovation",
          "Ian Paul McCarthy/Learning from the first wave: Lessons about managing patient flow and resource utilization on medical wards at providence health during the COVID-19 pandemic",
          "Ian Paul McCarthy/Levels of Multiplexity in Entrepreneur’s Networks: Implications for Dynamism and Value Creation",
          "Ian Paul McCarthy/Leveraging Dynamic Capabilities: A Contingent Management Control System Approach",
          "Alessandra Perri/Leveraging domestic and foreign learning to develop marketing capabilities: The case of the Chinese company Goodbaby",
          "Ian Paul McCarthy/Leveraging social capital in university-industry knowledge transfer strategies: a comparative positioning framework",
          "Pietro De Giovanni/Leveraging the circular economy with a closed-loop supply chain and a reverse omnichannel using blockchain technology and incentives",
          "Ian Paul McCarthy/Leveraging users as innovators",
          "Henry William Chesbrough/Linking Open Innovation to Business Models",
          "Cristiano Busco/Linking governance to strategy: the role of the finance organization",
          "Irene Finocchi/Local dependency dynamic programming in the presence of memory faults",
          "Luca Giustiniano/Localized networks and innovation in the life-science sector. Inter-cluster and intra-cluster dynamics",
          "Michele Costabile/Luxury Consumption and Sustainability",
          "Michele Costabile/Luxury, Sustainability, and “Made In”",
          "Henry William Chesbrough/L’Open Services Innovation è il futuro",
          "Paolo Boccardelli/L’“impresa” di diventare digitale. Come la rivoluzione tecnologica sta influenzando la gestione d’impresa",
          "Alessandra Perri/MNC strategies to limit spillovers: How subsidiaries manage knowledge breadth to decrease spillovers",
          "Cristiano Busco/Make Sustainable Development Goals Happen through Integrated Thinking: An Introduction",
          "Alessandro Zattoni/Making Boards Effective: An Empirical Examination of Board Task Performance",
          "Cristiano Busco/Making Sustainable Development Goals happen through integrated thinking and reporting",
          "Ian Paul McCarthy/Making a Face: Graphical Illustrations of Managerial Stances toward Customer Creativity",
          "Henry William Chesbrough/Making sense of corporate venture capital.",
          "Ian Paul McCarthy/Making sense of text: artificial intelligence-enabled content analysis",
          "Cristiano Busco/Making sustainability meaningful: aspirations, discourses and reporting practices",
          "Cristiano Busco/Management Accounting Change",
          "Cristiano Busco/Management Accounting Systems and Organisational Culture: an Institutional Framework for Interpreting their Linkages and Processes of Change*",
          "Cristiano Busco/Management Accounting: Issues in interpreting its nature and change",
          "Cristiano Busco/Management accounting systems and organisational culture: Interpreting their linkages and processes of change",
          "Cristiano Busco/Management and accounting innovations: reflecting on what they are and why they are adopted",
          "ELENA BRUNI/Managing Big Data Professionals through a Competency-Based Approach",
          "Ian Paul McCarthy/Managing Customer-to-Customer Interaction in Group Service Encounters: An Abstract",
          "Alessandra Perri/Managing Innovation in Emerging Economies: Organizational Arrangements and Resources of Foreign MNEs in the Chinese Pharmaceutical Industry",
          "Henry William Chesbrough/Managing Inside-Out Open Innovation",
          "Henry William Chesbrough/Managing Open Innovation",
          "Cristiano Busco/Managing and measuring social impact through integrated thinking and reporting",
          "Henry William Chesbrough/Managing open invitation",
          "Cristiano Busco/Managing the tensions in integrating global organisations: The role of performance management systems",
          "Ian Paul McCarthy/Manufacturing classification: Lessons from organizational systematics and biological taxonomy",
          "Ian Paul McCarthy/Manufacturing competitiveness and fitness landscape theory",
          "Ian Paul McCarthy/Manufacturing strategy: understanding the fitness landscape",
          "Alessandro Zattoni/Market versus Internal Factors in Corporate Governance",
          "Fabrizio Di Lazzaro/Measurement of the Branching Fractions for the Exclusive Decays of B^0 and B^+ to Dbar^(*)D^(*)K",
          "Simona Romani/Measuring negative emotions to brands. Implications for brand strategy",
          "Simona Romani/Mediterranean shoes conquer the world. Global branding from local resources: The Camper case",
          "Rumen Ivaylov Pozharliev/Merely Being with you Increases My Attention to Luxury Products: Using EEG to Understand Consumers’ Emotional Experience with Luxury Branded Products",
          "Deniz Lefkeli/Mind in the Machine: Perceived Minds Induce Decision Change",
          "Irene Finocchi/Mining hot calling contexts in small space",
          "Luca Giustiniano/Mission impossible? The paradoxes of stretch goal setting",
          "Ian Paul McCarthy/Mobility in the built environment: Age‐related changes in gait characteristics when walking on complex terrain",
          "Ian Paul McCarthy/Modeling the Uncertainty of the Remanufacturing Process for Consideration of Extended Producer Responsibility (EPR)",
          "Maria Giovanna Devetag/Models of a Man: Essays in Memory of Herbert A. Simon, by Mie Augier, James G. March, The MIT Press Cambridge, Massachusetts, 2004 (book review)",
          "Alessandro Zattoni/Morten Huse: Boards, Governance and Value Creation: The Human Side of Corporate Governance",
          "Ian Paul McCarthy/Motion Characteristics of the Lumbar Spine in the Normal Population",
          "Henry William Chesbrough/Motivating Crowds to Do Good: How to Build Crowdsourcing Platforms for Social Innovation",
          "Filippo Bontadini/Moving up the value chain with South-South cooperation for trade and technology? An analysis of India’s trade with East Africa",
          "Luca Giustiniano/Multiple Organisational Identities after M&As",
          "Irene Finocchi/Multithreaded Input-Sensitive Profiling",
          "Simona Romani/My Anger Is Your Gain, My Contempt Your Loss: Explaining Consumer Responses to Corporate Wrongdoing",
          "Luca Giustiniano/Myopia during emergency improvisation: lessons from a catastrophic wildfire",
          "Saverio Bozzolan/Narrative Reporting on Intangibles: an analysis of Italian listed companies",
          "Luca Giustiniano/National corporate systems and outsourcing decisions: A cross-country analysis",
          "Blerina Sinaimeri/Navigating in a Sea of Repeats in RNA-seq without Drowning",
          "Henry William Chesbrough/Networked incubators. Hothouses of the new economy.",
          "Luca Giustiniano/Networks, Clusters, and Small Worlds: Are they related?",
          "Ian Paul McCarthy/New Product Development as a Complex Adaptive System of Decisions",
          "Henry William Chesbrough/New frontiers in open innovation",
          "Alessandro Zattoni/New perspectives on board research",
          "Alessandro Zattoni/New perspectives on board research: changing the research agenda",
          "Ian Paul McCarthy/New product development as a complex system of decisions",
          "Luca Giustiniano/Nudging and citizen science: The effectiveness of feedback in energy-demand management.",
          "Alessandra Perri/Nurturing International Business research through Global Value Chains literature: A review and discussion of future research opportunities",
          "Giovanni Fiori/OCI Value Relevance in Continental Europe: An Examination of the Adoption of IAS 1 Revised",
          "Irene Finocchi/ON MAX CUT IN CUBIC GRAPHS",
          "Pietro De Giovanni/Offshoring motivations driven by sustainability factors",
          "Matteo De Angelis/Omnichannel Shopping Experiences for Fast Fashion and Luxury Brands",
          "Matteo De Angelis/On Braggarts and Gossips: A Self-Enhancement Account of Word-of-Mouth Generation and Transmission",
          "Michele Costabile/On Braggarts and Gossips: A Self-Enhancement Account of Word-of-Mouth Generation and Transmission",
          "Michele Costabile/On Braggarts and Gossips: Why Consumers Generate Positive but Transmit Negative Word-of-Mouth",
          "Blerina Sinaimeri/On Bubble Generators in Directed Graphs",
          "Blerina Sinaimeri/On Cancellative Set Families",
          "Blerina Sinaimeri/On Generalizations of Pairwise Compatibility Graphs",
          "Blerina Sinaimeri/On Graphs that are not Star-k-PCGs (short paper)",
          "Blerina Sinaimeri/On Maximal Chain Subgraphs and Covers of Bipartite Graphs",
          "Blerina Sinaimeri/On Pairwise Compatibility of Some Graph (Super)Classes",
          "Blerina Sinaimeri/On Relaxing the Constraints in Pairwise Compatibility Graphs",
          "Blerina Sinaimeri/On Reverse-Free Codes and Permutations",
          "Irene Finocchi/On bibliometrics in academic promotions: a case study in computer science and engineering in Italy",
          "Irene Finocchi/On coding labeled trees",
          "Irene Finocchi/On computer science research and its temporal evolution",
          "Irene Finocchi/On data skewness, stragglers, and MapReduce progress indicators",
          "Blerina Sinaimeri/On star-$k$-PCGs: Exploring class boundaries for small $k$ values",
          "Blerina Sinaimeri/On the Pairwise Compatibility Property of some Superclasses of Threshold Graphs",
          "Irene Finocchi/On the Validity of Hierarchical Decompositions",
          "Blerina Sinaimeri/On types of growth for graph-different permutations",
          "Blerina Sinaimeri/On variants of Vertex Geography on undirected graphs",
          "Ian Paul McCarthy/On your marks, headset, go! Understanding the building blocks of metaverse realms",
          "Henry William Chesbrough/Open Business Models: How to Thrive in the New Innovation Landscape",
          "Henry William Chesbrough/Open Innovation : Has its time come in Japan?",
          "Henry William Chesbrough/Open Innovation Results: Going Beyond the Hype and Getting Down to Business",
          "Henry William Chesbrough/Open Innovation and Intellectual Property",
          "Henry William Chesbrough/Open Innovation and Public Policy in the EU with Implications for SMEs",
          "Henry William Chesbrough/Open Innovation and Strategy",
          "Henry William Chesbrough/Open Innovation as a Response to Constraints and Risks: Evidence from China*",
          "Henry William Chesbrough/Open Innovation: A New Paradigm for Understanding Industrial Innovation",
          "Henry William Chesbrough/Open Innovation: A research agenda",
          "Henry William Chesbrough/Open Innovation: The New Imperative for Creating and Profiting from Technology",
          "Henry William Chesbrough/Open Innovation: The Next Decade",
          "Henry William Chesbrough/Open R&D and Open Innovation: Exploring the Phenomenon",
          "Henry William Chesbrough/Open Services Innovation: An Interview with Henry Chesbrough",
          "Henry William Chesbrough/Open Services Innovation: Competere in una nuova era",
          "Henry William Chesbrough/Open Services Innovation: Rethinking Your Business to Grow and Compete in a New Era",
          "Henry William Chesbrough/Open Social Innovation",
          "Ian Paul McCarthy/Open branding: Managing the unauthorized use of brand-related intellectual property",
          "Henry William Chesbrough/Open coopetition",
          "Henry William Chesbrough/Open innovation : researching a new paradigm",
          "Henry William Chesbrough/Open innovation and Public policy in Europe",
          "Henry William Chesbrough/Open innovation in Brazil Exploring opportunities and challenges",
          "Henry William Chesbrough/Open innovation with Chinese characteristics: a dynamic capabilities perspective",
          "Alessandro Zattoni/Opening the black box of boards of directors: taking stock of recent studies on board dynamics",
          "Irene Finocchi/Optimal Resilient Dynamic Dictionaries",
          "Irene Finocchi/Optimal resilient sorting and searching in the presence of memory faults",
          "Ian Paul McCarthy/Organisational diversity, evolution and cladistic classifications",
          "Henry William Chesbrough/Organizing for innovation: When is virtual virtuous?",
          "Giovanni Fiori/Other Comprehensive Income and its Determinants In Continental Europe",
          "Luca Giustiniano/Outsourcing, business performance and vertical integration boundaries: An empirical analysis",
          "Rumen Ivaylov Pozharliev/Overcoming Consumer Resistance to AI in General Health Care",
          "Rumen Ivaylov Pozharliev/Overcoming the blockchain technology credibility gap",
          "Alessandro Zattoni/Ownership Structure and the Strategic Decision Process: A Comparative Case Study",
          "Alessandro Zattoni/Ownership Structure, Board Composition and Investors’ Protection: Evidence from S&P 500 Firms",
          "Alessandro Zattoni/Ownership Structure, Corporate Governance and Firm Performance",
          "Alessandro Zattoni/Ownership and Corporate Governance across Institutional Contexts",
          "Alessandro Zattoni/Ownership structure and corporate governance: The need to further explore mutual and complex relationships",
          "Alessandro Zattoni/Ownership structure, corporate governance and institutional environment: Going beyond managerial opportunism and the principal‐agent framework",
          "Alessandro Zattoni/Ownership, Managerial Entrenchment, and Corporate Performance",
          "Blerina Sinaimeri/Pairwise Compatibility Graphs of Caterpillars",
          "Blerina Sinaimeri/Pairwise Compatibility Graphs: A Survey",
          "Giuseppe Francesco Italiano/Parole a buon rendere, ovvero L'invasione dei termini anglo-italiani",
          "Cristiano Busco/Performance Measurement Systems and Organisational Culture: Interpreting Processes of Unlearning and Change",
          "Cristiano Busco/Performance measurement, (un)learning and change: an interdisciplinary perspective",
          "Cristiano Busco/Performing business and social innovation through accounting inscriptions: An introduction",
          "Simona Romani/Physically processing imperfect produce: The impact of prototypicality",
          "Blerina Sinaimeri/Playing hide and seek with repeats in local and global de novo transcriptome assembly of short RNA-seq reads",
          "Pietro De Giovanni/Portfolios of sustainable practices for packaging in the circular economy: an analysis of Italian firms",
          "Irene Finocchi/Portraying Algorithms with Leonardo Web",
          "Filippo Bontadini/Power and Export Sophistication in Buyer-Supplier Relationships: Insights from Colombian Customs Data",
          "Cristiano Busco/Practicing Integrated Thinking: Towards a New Era of Corporate Management Accounting and Reporting",
          "Rumen Ivaylov Pozharliev/Preference Inferences from Eye-Related Cues in Sales-Consumer Settings: ERP Timing and Localization in Relation to Inferring Performance and Oxytocin Receptor (OXTR) Gene Polymorphisms",
          "Simona Romani/Price misleading advertising: effects on consumers’ attitudes and intentions",
          "Simona Romani/Price misleading advertising: effects on trustworthiness toward the source of information and willingness to buy",
          "Ian Paul McCarthy/Price spillovers and specialization in health care: The case of children's hospitals.",
          "Eugenio Pinto/Principi di economia delle aziende pubbliche e di contabilità finanziaria",
          "Francesco Di Ciommo/Privacy in Europe After Regulation (EU) No 2016/679: What Will Remain of the Right to Be Forgotten?",
          "Irene Finocchi/Proceedings of the Eleventh Workshop on Algorithm Engineering and Experiments, ALENEX 2009, New York, New York, USA, January 3, 2009",
          "Luca Giustiniano/Product Lifecycle Management as a Tool to Create Value in the Fashion System",
          "Alessandra Perri/Product and marketing actions in a competitive scenario",
          "Luca Giustiniano/Product lifecycle management and compliance with international standards: a case study analysis in the footwear industry",
          "Ian Paul McCarthy/Product recovery decisions within the context of Extended Producer Responsibility",
          "Matteo De Angelis/Product touch in the real and digital world: How do consumers react?",
          "Michele Costabile/Profiling and segmenting customers on the internet: an analytical framework for dynamic and interactive personalization",
          "Simona Romani/Psychological Underpinnings of Brands.",
          "Luca Giustiniano/Psychosocial Training: A Case of Self-Efficacy Improvement in an Italian School",
          "Saverio Bozzolan/Qualitative un-verifiable disclosures to inform or mislead: insights from insider trading activity",
          "Ian Paul McCarthy/Quality Ratings and Premiums in the Medicare Advantage Market",
          "Saverio Bozzolan/Quality versus Quantity: The Case of Forward-Looking Disclosure",
          "Ian Paul McCarthy/Quantitative assessment of the motion of the lumbar spine in the low back pain population and the effect of different spinal pathologies on this motion",
          "Lakshmi Balachandran Nair/Quantitizing findings from qualitative studies for integration in mixed methods reviewing",
          "Saverio Bozzolan/Quantity vs Quality: the case of Forward Looking Disclosure",
          "Blerina Sinaimeri/Rainbow graph splitting",
          "Irene Finocchi/Reactive Imperative Programming with Dataflow Constraints",
          "Irene Finocchi/Reactive imperative programming with dataflow constraints",
          "ELENA BRUNI/Reconceptualizing Conceptual Engineering",
          "Pietro De Giovanni/Recursive Effects to Study Feature-Based Capabilities in Supply Chain Management",
          "Cristiano Busco/Redefining corporate accountability through integrated reporting: what happens when values and value creation meet?",
          "Luca Giustiniano/Regional Products and Internationalization Processes in the Internet Era: Does Location Still Matter?",
          "Blerina Sinaimeri/Relating threshold tolerance graphs to other graph classes",
          "Luca Giustiniano/Relational capital and appropriate incentives",
          "Ian Paul McCarthy/Remanufacturing Optimization within the context of Extended Producer Responsibility",
          "Saverio Bozzolan/Reply to: Discussions of “A framework for the analysis of firm risk communication”",
          "Pietro De Giovanni/Rescheduling Multiproduct Delivery Planning With Digital Technologies for Smart Mobility and Sustainability Goals",
          "Simona Romani/Reshoring from a demand-side perspective: Consumer reshoring sentiment and its market effects",
          "Irene Finocchi/Resilient Dynamic Programming",
          "Luca Giustiniano/Resilient Leadership as Paradox Work: Notes from COVID-19",
          "Irene Finocchi/Resilient dictionaries",
          "Irene Finocchi/Resilient search trees",
          "Evangelos Syrigos/Responding to Inconsistent Performance Feedback on Multiple Goals: The Contingency Role of Decision Maker's Status in Introducing Changes",
          "Pietro De Giovanni/Responsible digitalization through digital technologies and green practices",
          "Luca Giustiniano/Rethinking employability: New managerial competencies in a global labour market",
          "Federica Brunetta/Reti strategiche come evoluzione delle reti emergenti: L'esperienza di due contratti di rete nel bresciano",
          "Blerina Sinaimeri/Reverse-free codes and permutations",
          "Irene Finocchi/Reversible Execution and Visualization of Programs with LEONARDO",
          "Filippo Bontadini/Revisiting the Natural Resource Curse: Backward Linkages for Export Diversification and Structural Economic Transformation",
          "Filippo Bontadini/Revisiting the Natural Resource Industries “curse”: Beneficiation or Hirschman Backward Linkages?",
          "Filippo Bontadini/Revisiting the Natural Resource ‘Curse’ in the Context of Trade in Value Added: Enclave or High-Development Backward Linkages?",
          "Luca Giustiniano/Revitalising the Outsourcing Discourse within the Boundaries of Firms Debate",
          "Cinzia Calluso/Risky decisions are influenced by individual attributes as a function of risk preference",
          "Blerina Sinaimeri/Robustness of the Parsimonious Reconciliation Method in Cophylogeny",
          "Alessio Martino/Role of brain 2-[18F]fluoro-2-deoxy-D-glucose-positron-emission tomography as survival predictor in amyotrophic lateral sclerosis",
          "Michela Altieri/Scientific Committee",
          "Ian Paul McCarthy/Search Costs and Medicare Plan Choice",
          "Ian Paul McCarthy/Service Customization Through Dramaturgy",
          "Ian Paul McCarthy/Service, Emotional Labor, and Mindfulness",
          "Luca Giustiniano/Servus or Pater? How Paradoxical Intent Can Qualify Leadership: Inductions from the Kingdom of Bhutan",
          "Luca Giustiniano/Shared Services: Exploring the New Frontier",
          "Matteo De Angelis/Sharing with Friends versus Strangers: How Interpersonal Closeness Influences Word-of-Mouth Valence",
          "Saverio Bozzolan/Signing the letter to shareholders: Does the Signatory's role relate to impression management?",
          "Ian Paul McCarthy/Simulating Sequential Search Models with Genetic Algorithms: Analysis of Price Ceilings, Taxes, Advertising and Welfare",
          "Irene Finocchi/Smooth animation of algorithms in a declarative framework",
          "Rumen Ivaylov Pozharliev/Social Consumer Neuroscience: Neurophysiological Measures of Advertising Effectiveness in a Social Context",
          "Michele Costabile/Social Desirability in Virtual Communities",
          "Ian Paul McCarthy/Social Media? Get Serious! Understanding the Functional Building Blocks of Social Media",
          "Rumen Ivaylov Pozharliev/Social Neuromarketing: The role of social context in measuring advertising effectiveness",
          "Ian Paul McCarthy/Social media? It's serious! Understanding the dark side of social media",
          "Irene Finocchi/Software Streams: Big Data Challenges in Dynamic Program Analysis",
          "Irene Finocchi/Sorting and Searching in Faulty Memories",
          "Irene Finocchi/Sorting and searching in the presence of memory faults (without redundancy)",
          "Irene Finocchi/Special Issue on the European Symposium on Algorithms",
          "Ian Paul McCarthy/Special issue editorial: the what, why and how of mass customization",
          "Irene Finocchi/Specifying Algorithm Visualizations: Interesting Events or State Mapping?",
          "Ian Paul McCarthy/Standardization efforts: The relationship between knowledge dimensions, search processes and innovation outcomes",
          "Ian Paul McCarthy/Standardization for platform ecosystems",
          "Irene Finocchi/Star-coloring of graphs for conflict-free access to parallel memory systems",
          "Pietro De Giovanni/State- and Control-Dependent Incentives in a Closed-Loop Supply Chain with Dynamic Returns",
          "Alessandro Zattoni/Stock incentive plans in Europe: empirical evidence and design implications",
          "Henry William Chesbrough/Strategic Management of Open Innovation: A Dynamic Capabilities Perspective",
          "Saverio Bozzolan/Strategic plan presentations to financial analysts: the effects on earnings forecasts' revision and cost of capital",
          "Cristiano Busco/Strategic scenario analysis combining dynamic balanced scorecards and statistics",
          "Paolo Boccardelli/Strategie e modelli di business nell'industria del video entertainment",
          "Ian Paul McCarthy/Strategies for agility: an evolutionary and configurational approach",
          "Pietro De Giovanni/Strategies for the Circular Economy",
          "Saverio Bozzolan/Strategy, Valuation, and Forecast Accuracy: Evidence from Italian Strategic Plan Disclosures",
          "Irene Finocchi/Structure-Preserving Hierarchical Decompositions",
          "Blerina Sinaimeri/Structures of Diversity",
          "Matteo De Angelis/Stuck in the Middle",
          "Behzad Maleki Vishkaei/Subscription-based business models in the context of tech firms: theory and applications",
          "Pietro De Giovanni/Subscription-based business models in the context of tech firms: theory and applications",
          "Ian Paul McCarthy/Supply chains for mass customisation",
          "Henry William Chesbrough/Surfing the New Wave of Open Innovation Research",
          "Henry William Chesbrough/Sustainability Through Open Innovation: Carlsberg and the Green Fiber Bottle",
          "Pietro De Giovanni/Sustainability of the Metaverse: A Transition to Industry 5.0",
          "Cristiano Busco/Sustainable Development Goals and Integrated Reporting",
          "Cristiano Busco/Sustainable Development Goals: integrating sustainability initiatives with long term value creation",
          "Michele Costabile/Sustainable Luxury Brands: Evidence from Research and Implications for Managers",
          "Henry William Chesbrough/Sustainable Open Innovation to Address a Grand Challenge: Lessons from Carlsberg and the Green Fiber Bottle",
          "Alessandro Zattoni/Sustainable value creation in multinational enterprises: The role of corporate governance actors",
          "Henry William Chesbrough/Sustaining Venture Creation from Industrial Laboratories",
          "Cristiano Busco/Sustaining innovation and the search for value creation : Accounting , inscriptions and the mediation of ‘ in-tensions ’",
          "Cristiano Busco/Sustaining multiple logics within hybrid organisations: Accounting, mediation and the search for innovation",
          "ELENA BRUNI/Synthesis of Chiral 1,2-Diamines.",
          "ELENA BRUNI/Synthesis of chiral 1,2-diamines",
          "Giovanni Fiori/THE DETERMINANTS OF SMES CAPITAL STRUCTURE: OVERCOMING SUPPLY CONSTRAINTS",
          "Henry William Chesbrough/Tackling Societal Challenges with Open Innovation",
          "Fabrizio Di Lazzaro/Tailoring the structure of casein micelles through a multifactorial approach to manipulate rennet coagulation properties",
          "Cristiano Busco/Technologies of government in public sector's networks:In search of cooperation through management control innovations",
          "Henry William Chesbrough/Technology Markets, Technology Organization, and Appropriating the Returns of Research",
          "Ian Paul McCarthy/Technology management - a complex adaptive systems approach",
          "Filippo Bontadini/Technology, global value chains and functional specialisation in Europe",
          "Valentina Meliciani/Tecnología y competitividad internacional: la interdependencia entre manufacturas y servicios a la producción",
          "Henry William Chesbrough/The Adoption of Open Innovation in Large Firms",
          "Luca Giustiniano/The Analysis of Organizational Identity, Change and Sensemaking via Causal Maps: The Case of an M&A in the Banking Industry",
          "Henry William Chesbrough/The Back End of Open Innovation",
          "Ian Paul McCarthy/The Bmte Command: Methods for the Estimation of Treatment Effects when Exclusion Restrictions are Unavailable",
          "Simona Romani/The Brand Dislike Construct: Scale Development and Application to Actual Brands",
          "Luca Giustiniano/The COVID-19 pandemic, cultural work, and resilience",
          "Cristiano Busco/The Case of Eni",
          "Cristiano Busco/The Case of Monnalisa",
          "Henry William Chesbrough/The City as a Lab",
          "Michele Costabile/The Customer Relationship Management in Omnitel Vodafone",
          "Alessandro Zattoni/The Diffusion of Equity Incentive Plans in Italian Listed Companies: What is the Trigger?",
          "Alessandra Perri/The Dispersed Multinational: Does Connectedness Across Spatial Dimensions Lead to Broader Technological Search?",
          "Henry William Chesbrough/The Dynamics of Open Strategy: From Adoption to Reversion",
          "Michele Costabile/The Effect of Social Density on Word of Mouth",
          "Alessandro Zattoni/The Effects of Accounting and Financial Regulation on Corporate Governance",
          "Alessandro Zattoni/The Effects of legal reforms on the ownership structure of listed companies",
          "Henry William Chesbrough/The Era of Open Innovation",
          "Henry William Chesbrough/The Era of Open Innovation Companies are increasingly rethinking the fundamental ways in which they generate ideas and bring them to market — harnessing external ideas while leveraging their in-house R & D outside their current operations .",
          "Cristiano Busco/The Evolution of Sustainability Reporting: Integrated Reporting and Sustainable Development Challenges",
          "Henry William Chesbrough/The Future of Open Innovation",
          "Alessandra Perri/The Geography of International Knowledge Sourcing: Looking Back and Moving Forward",
          "Henry William Chesbrough/The Governance and Performance of Xerox's Technology Spin-Off Companies",
          "Alessandra Perri/The Hidden Costs of Going Global: Insights from Firms’ Entry into Foreign Markets",
          "Behzad Maleki Vishkaei/The Impact of Digital Technologies and Sustainable Practices on Circular Supply Chain Management",
          "Pietro De Giovanni/The Impact of Digital Technologies and Sustainable Practices on Circular Supply Chain Management",
          "Behzad Maleki Vishkaei/The Impact of Digital Technologies on Company Restoration Time Following the COVID-19 Pandemic",
          "Pietro De Giovanni/The Impact of Digital Technologies on Company Restoration Time Following the COVID-19 Pandemic",
          "Ian Paul McCarthy/The Impact of Effective Teaching Practices on Academic Achievement When Mediated by Student Engagement: Evidence from Australian High Schools",
          "Luca Giustiniano/The Impact of Outsourcing on Business Performance: An Empirical Analysis",
          "Henry William Chesbrough/The Importance of Connecting Open Innovation to Strategy",
          "Giovanni Fiori/The Influence of Corporate Governance on the Adoption of The Integrated Report: A first Study on IIRC Pilot Programme",
          "Luca Giustiniano/The Italian Footwear Industry: An Empirical Analysis",
          "Henry William Chesbrough/The Logic of Open Innovation",
          "Henry William Chesbrough/The Logic of Open Innovation: Managing Intellectual Property",
          "Mario Comana/The MiFID II Framework",
          "Ian Paul McCarthy/The Need for a New Narrative on Value Capture in Open Innovation Environments",
          "ELENA BRUNI/The Organizational Challenges of Big Data",
          "Henry William Chesbrough/The Organizational Impact of Technological Change: A Comparative Theory of National Institutional Factors",
          "Alessandro Zattoni/The Performance of Business Group Firms During Institutional Transition: A Longitudinal Study of Indian Firms",
          "Alessandro Zattoni/The Performance of Group‐affiliated Firms during Institutional Transition: A Longitudinal Study of Indian Firms",
          "Irene Finocchi/The Price of Resiliency: A Case Study on Sorting with Memory Faults",
          "Irene Finocchi/The Price of Resiliency: a Case Study on Sorting with Memory Faults",
          "Saverio Bozzolan/The Quality of Mandatory Non-Financial (Risk) Disclosures: The Moderating Role of Audit Firm and Partner Characteristics",
          "Giovanni Fiori/The Relation between Earnings Management Independent Directors and Audit Committee: A Study of Italian Listed Companies",
          "Luca Giustiniano/The Role and the Impacts of ICT in the Social Networks",
          "ELENA BRUNI/The Role of Leadership in a Digitalized World: A Review",
          "Cristiano Busco/The Role of Performance Measurement Systems within Global Organisations",
          "Pietro De Giovanni/The Selection of Industry 4.0 Technologies Through Bayesian Networks: An Operational Perspective",
          "Ian Paul McCarthy/The Star Treatment",
          "Alessandro Zattoni/The Structure of Corporate Groups: the Italian case",
          "Saverio Bozzolan/The Trade-Off Between Mandatory and Voluntary Disclosure: Evidence From Oil Companies’ Risk Reporting",
          "Henry William Chesbrough/The Two Sides of Open Business Models",
          "Matteo De Angelis/The atypicality of sustainable luxury products",
          "Simona Romani/The bittersweet experience of being envied in a consumption context",
          "Cristiano Busco/The causal relationships between performance drivers and outcomes",
          "Luca Giustiniano/The dark side of organizational improvisation: Lessons from the sinking of Costa Concordia",
          "Cristiano Busco/The determinants of companies’ levels of integration: Does one size fit all?",
          "Matteo De Angelis/The effect of augmented reality versus traditional advertising: a comparison between neurophysiological and self-reported measures",
          "Rumen Ivaylov Pozharliev/The effect of augmented reality versus traditional advertising: a comparison between neurophysiological and self-reported measures",
          "Michele Costabile/The effect of environmental crowdedness on word-of-mouth",
          "Cinzia Calluso/The effect of reward expectation on the time course of perceptual decisions",
          "Simona Romani/The effects of company offshoring strategies on consumer responses",
          "Simona Romani/The effects of reshoring decisions on employees",
          "ELENA BRUNI/The emotional and social side of analytics professionals: an exploratory study of the behavioral profile of data scientists and data analysts",
          "Alessandro Zattoni/The evolution of corporate governance in Italy: formal convergence or path-dependence?",
          "Alessandro Zattoni/The impact of board of directors and CEO's characteristics on firm's innovation",
          "Ian Paul McCarthy/The impact of outsourcing on the transaction costs and boundaries of manufacturing",
          "Giovanni Fiori/The increasing need for a new Italian legislation to facilitate execution of observational studies assuring ethics and the highest standards of scientific and methodological quality. Editorial.",
          "Luca Giustiniano/The institutional understanding of technological innovation: considerations on international R&D networks",
          "Henry William Chesbrough/The modularity trap : innovation, technology phase-shifts, and resulting limits of virtual organizations",
          "Alessandra Perri/The nature of innovation in global value chains",
          "Ian Paul McCarthy/The open academic: Why and how business academics should use social media to be more ‘open’ and impactful",
          "Henry William Chesbrough/The open innovation model: Implications for innovation in Japan",
          "Ian Paul McCarthy/The open innovation research landscape: established perspectives and emerging themes across different levels of analysis",
          "Ian Paul McCarthy/The relationship between physical activity and leg health in the broiler chicken",
          "Simona Romani/The revenge of the consumer! How brand moral violations lead to consumer anti-brand activism",
          "Cristiano Busco/The role of corporate culture in the choice of integrated reporting",
          "Alessandro Zattoni/The role of the board and external stakeholders in corporate governance",
          "Simona Romani/The satiating power of sustainability: the effect of package sustainability on perceived satiation of healthy food",
          "Cristiano Busco/The strategic micro‐firm: a role play in management training for dynamic businesses",
          "Luca Giustiniano/The virtual internationalisation process of Italian SMEs in the food industry",
          "Cinzia Calluso/Theta resting EEG in TPJ/pSTS is associated with individual differences in the feeling of being looked at",
          "Ian Paul McCarthy/This Place Is Full of It: Towards an Organizational Bullshit Perception Scale",
          "Alessandra Perri/Ties that bind: Ethnic inventors in multinational enterprises’ knowledge integration and exploitation",
          "Ian Paul McCarthy/Timing of first feeding and life-history strategies in salmon: genetic data.",
          "Lakshmi Balachandran Nair/To discard or to ado(a)pt? Looking at qualitative research templates through the lens of organizational routines",
          "Ian Paul McCarthy/Toward a Phylogenetic Reconstruction of Organizational Life",
          "Alessandro Zattoni/Toward a synthesis of the board‐strategy relationship: A literature review and future research agenda",
          "Cristiano Busco/Toward business 2030",
          "Cristiano Busco/Towards 'Integrated Governance': The Role of Performance Measurement Systems",
          "Cristiano Busco/Towards Integrated Reporting : Concepts , Elements and Principles 1",
          "Cristiano Busco/Towards Integrated Reporting: Concepts, Elements and Principles",
          "Henry William Chesbrough/Towards a Dynamics of Modularity",
          "Filippo Bontadini/Trade Specialisation and Performance in Global Value Chains",
          "Filippo Bontadini/Trade specialization and performance in global value chains",
          "Irene Finocchi/Trading off space for passes in graph streaming problems",
          "Simona Romani/Trajectories of brand hate",
          "Irene Finocchi/Tree partitioning via vertex deletion",
          "Luca Giustiniano/Triple Helix and Innovation in the Life-Science Industry",
          "Cristiano Busco/Trust for accounting and accounting for trust",
          "Cristiano Busco/Trust in Project Financing: An Italian Health Care Example",
          "Alessandro Zattoni/Trust, Firm Life Cycle, and Actual Board Behavior: Evidence from \"One of the Lads\" in the Board of Three Small Firms",
          "Michele Costabile/Un modello dinamico di customer loyalty",
          "Ian Paul McCarthy/Understanding Gamification of Consumer Experiences",
          "Luca Giustiniano/Understanding Outsourcing of Information Systems",
          "Cristiano Busco/Understanding integrated thinking: evidence from the field, the development of a framework and avenues for future research",
          "Ian Paul McCarthy/Understanding outsourcing contexts through information asymmetry and capability fit",
          "Henry William Chesbrough/Understanding the advantages of open innovation practices in corporate venturing in terms of real options",
          "Ian Paul McCarthy/Understanding the effects of outsourcing: unpacking the total factor productivity variable",
          "Ian Paul McCarthy/Unpacking the Social Media Phenomenon: Towards a Research Agenda",
          "Cinzia Calluso/Unveiling the Dark Side of Business Models: A Novel Framework for Managerial Cognition and Decision-Making",
          "Luca Giustiniano/Unveiling the Dark Side of Business Models: A Novel Framework for Managerial Cognition and Decision-Making",
          "Rumen Ivaylov Pozharliev/UvA-DARE ( Digital Academic Repository ) Why Some People Just “ Can ’ t Get No Satisfaction ” : Secure versus Insecure Attachment Styles Affect One ’ s “ Style of Being in the Social World ”",
          "Henry William Chesbrough/Value Creation and Value Capture in Open Innovation",
          "Ian Paul McCarthy/Vertical Alignment Between Hospitals and Physicians as a Bargaining Response to Commercial Insurance Markets",
          "Irene Finocchi/Visual editing of animated algorithms: the Leonardo Web builder",
          "Irene Finocchi/Visualization in Algorithm Engineering: Tools and Techniques",
          "Irene Finocchi/Visualization in Algorithm Engineering: Tools and Techniques 1",
          "Irene Finocchi/Visualizing Algorithms over the Web with the Publication-Driven Approach",
          "Ian Paul McCarthy/We're Leaking, and Everything's Fine: How and Why Companies Deliberately Leak Secrets",
          "Irene Finocchi/WebIsAGraph: A Very Large Hypernymy Graph from a Web Corpus",
          "Henry William Chesbrough/Webasto: Co-Creating Innovation with Lead Users",
          "Simona Romani/West Bank Consumer–Brand Relationships. Non-Western Grounded Theory?",
          "Ian Paul McCarthy/What Can We Learn About the Effects of Food Stamps on Obesity in the Presence of Misreporting?",
          "Luca Giustiniano/What Money Cannot Buy: The Detrimental Effect of Rewards on Knowledge Sharing",
          "Alessandra Perri/What are the most promising conduits for foreign knowledge inflows? innovation networks in the Chinese pharmaceutical industry",
          "Giovanni Fiori/What drives value relevance? The visibility effect in the adoption of a new accounting standard",
          "Simona Romani/What is the Harm in Fake Luxury Brands? Moving Beyond the Conventional Wisdom",
          "Cristiano Busco/When Creativity Meets Control: A Fashion Industry Case Study",
          "Cristiano Busco/When Culture Matters: Processes of Organizational Learning and Transformation",
          "Ian Paul McCarthy/When Customers Get Clever: Managerial Approaches to Dealing with Creative Consumers",
          "Luca Giustiniano/When Good is Not Enough: The Importance of Brokers’ Metaknowledge to Their Creativity (WITHDRAWN)",
          "ELENA BRUNI/When Hard Skills Are Not Enough: Behavioral Competencies of Data Scientists and Data Analysts",
          "Simona Romani/When counterfeits raise the appeal of luxury brands",
          "Henry William Chesbrough/When is Virtual Virtuous? Organizing for Innovation",
          "Simona Romani/When the Brand is Bad, I'm Mad! An Exploration of Negative Emotions to Brands",
          "Irene Finocchi/Which Conference Is That? A Case Study in Computer Science",
          "Alessandro Zattoni/Who Should Control a Corporation? Toward a Contingency Stakeholder Model for Allocating Ownership Rights",
          "Alessandro Zattoni/Why Adopt Codes of Good Governance? A Comparison of Institutional and Efficiency Perspectives",
          "Henry William Chesbrough/Why Companies Should Have Open Business Models",
          "Ian Paul McCarthy/Why Do Some Patents Get Licensed While Others Do Not?",
          "Simona Romani/Wine consumption practices and meanings as depicted in Italian TV fiction",
          "Fabian Kurt Falk Homberg/[Measuring vibrations of transport stress in premature and newborn infants during incubator transport].",
          "Irene Finocchi/k-Calling context profiling",
          "Luca Giustiniano/“Heaven or Las Vegas”: Competing Institutional Logics and Individual Experience",
          "Cinzia Calluso/“I Feel Therefore I Decide”: Effect of Negative Emotions on Temporal Discounting and Probability Discounting",
          "Maria Giovanna Devetag/“I Feel Therefore I Decide”: Effect of Negative Emotions on Temporal Discounting and Probability Discounting",
          "Rumen Ivaylov Pozharliev/“I am resting but rest less well with you.” The moderating effect of anxious attachment style on alpha power during EEG resting state in a social context",
          "Ian Paul McCarthy/■ Special Issue Paper Unpacking the social media phenomenon: towards a research agenda",
          "Alessandra Perri",
          "Alessandro Zattoni",
          "Alessio Martino",
          "Andrea Prencipe",
          "Behzad Maleki Vishkaei",
          "Blerina Sinaimeri",
          "Cinzia Calluso",
          "Cristiano Busco",
          "Deniz Lefkeli",
          "ELENA BRUNI",
          "Eugenio Pinto",
          "Evangelos Syrigos",
          "Fabian Kurt Falk Homberg",
          "Fabrizio Di Lazzaro",
          "Federica Brunetta",
          "Filippo Bontadini",
          "Francesco Di Ciommo",
          "Giovanni Fiori",
          "Giuseppe Francesco Italiano",
          "Henry William Chesbrough",
          "Ian Paul McCarthy",
          "Irene Finocchi",
          "Jannis Kallinikos",
          "Jonathan Berkovitch",
          "Lakshmi Balachandran Nair",
          "Luca Giustiniano",
          "Luca Pirolo",
          "Luigi Marengo",
          "Maria Giovanna Devetag",
          "Maria Isabella Leone",
          "Mario Comana",
          "Matteo De Angelis",
          "Matteo Giuliano Caroli",
          "Michela Altieri",
          "Michele Costabile",
          "Paolo Boccardelli",
          "Paolo Spagnoletti",
          "Pietro De Giovanni",
          "Raffaele Oriani",
          "Rumen Ivaylov Pozharliev",
          "Saverio Bozzolan",
          "Simona Romani",
          "Valentina Meliciani"
         ],
         "labels": [
          "\"The Routines of Decision Making\" by T. Betsch and S. Haberstroh (Eds.), Lawrence Erlbaum Associates, Mahwah, NJ, 2005, BOOK REVIEW",
          "\"The road to food waste is paved with good intentions\": When consumers' goals inhibit the minimization of household food waste",
          "(In)Consistent Performance Feedback and the Locus of Search",
          "73 Heritability of coronary flow reserve",
          "A Classification of Open Innovation and Open Business Models",
          "A Contingency Model of Boards of Directors and Firm Innovation: The Moderating Role of Firm Size",
          "A FRAMEWORK FOR THE ANALYSIS OF RISK COMMUNICATION",
          "A General Framework for Enumerating Equivalence Classes of Solutions",
          "A General-Purpose Logic-Based Visualization Framework",
          "A Java-based system for building animated presentations over the Web",
          "A Multidimensional Conceptualization of Environmental Velocity",
          "A Parallel Approximation Algorithm for the Max Cut Problem on Cubic Graphs",
          "A Preliminary Analysis of SASB Reporting: Disclosure Topics, Financial Relevance, and the Financial Intensity of ESG Materiality",
          "A Primer on Corporate Governance: Italy",
          "A Structural and Evolutionary Approach to Change Management",
          "A Survey of Symbolic Execution Techniques",
          "A System for Building Animated Presentations over the Web",
          "A Technique for Generating Graphical Abstractions of Program Data Structures",
          "A Typology of Clean Technology Commercialization Accelerators",
          "A Unified Approach to Coding Labeled Trees",
          "A benchmark analysis of Canadian clean technology commercialization accelerators",
          "A better way to innovate.",
          "A bibliographic analysis of 20 years of research on innovation and new product development in technology and innovation management (TIM) journals",
          "A cross-country experimental study on consumers’ subjective understanding and liking on front-of-pack nutrition labels",
          "A data-driven graphical toolkit for software visualization",
          "A dynamic model of customer loyalty",
          "A dynamic model of customer loyalty; an empirical evidence",
          "A feature fatigue supply chain game with cooperative programs and ad-hoc facilitators",
          "A framework for the analysis of firm risk communication",
          "A joint maximization incentive in closed-loop supply chains with competing retailers: The case of spent-battery recycling",
          "A longitudinal study of MNE innovation: the case of Goodyear",
          "A new 1‐week therapy for Helicobacter pylori eradication: rani‐ tidine bismuth citrate plus two antibiotics",
          "A perspective on Salvelinus research",
          "A picture says more than a thousand words: Using consumer neuroscience to study instagram users' responses to influencer advertising",
          "A picture says more than a thousand words: Using consumer neuroscience to study instagram users' responses to influencer advertising",
          "A portable virtual machine for program debugging and directing",
          "A retailer inventory model when the reliability of inspection system affects the percentage of defective items which are delivered to final customers",
          "A selective survey of game-theoretic models of closed-loop supply chains",
          "A single-retailer multi-supplier multi-product inventory model with destructive testing acceptance sampling and inflation",
          "A survey on incumbent digital transformation: a paradoxical perspective and research agenda",
          "Academic buoyancy in high school: A cross-lagged multilevel modeling approach exploring reciprocal effects with perceived school support, motivation, and engagement.",
          "Accounting for the “transcendent self”: spirituality, narcissism, testimony and gift",
          "Accounting, learning and cultural integration",
          "Achieving Contextual Ambidexterity in R&D Organizations: A Management Control System Approach",
          "Achieving Resilience and Business Sustainability during COVID-19: The Role of Lean Supply Chain Practices and Digitalization",
          "Achieving agility using cladistics: an evolutionary analysis",
          "Acquisition Relatedness in Family Firms: Do the Environment and the Institutional Context Matter?",
          "Activating social strategies: Face-to-face interaction in technology-mediated citizen science.",
          "Adaptive organizational resilience: an evolutionary perspective",
          "Addressing low-profile misconduct in management academia through theoretical triangulation and transformative ethics education",
          "Advancing Service Innovation",
          "Advancing Services Innovation",
          "Advancing the Literature on Ownership Structure and Corporate Governance",
          "Advertising Intensity and Welfare in an Equilibrium Search Model",
          "Agency Conflicts and Corporate Governance",
          "Algorithm engineering, Algorithmics Column",
          "Algorithms - ESA 2015",
          "Algorithms - ESA 2015 :23rd annual European symposium, Patras, Greece, September 14-16, 2015 : proceedings",
          "Algorithms for Data Streams",
          "Algorithms for the quantitative Lock/Key model of cytoplasmic incompatibility",
          "All graphs with at most seven vertices are Pairwise Compatibility Graphs",
          "Ambidexterity and Unit Performance: Intellectual Capital Antecedents and Cross-Level Moderating Effects of Human Resource Practices",
          "Amendments to the IAS 41 and IAS 16 – Implications for accounting of bearer plants",
          "An Empirical Investigation on Reactivity and Performance",
          "An Experimental Analysis of Simple, Distributed Vertex Coloring Algorithms",
          "An Integrated Approach to Studying Multiplexity in Entrepreneurial Networks",
          "An Unbiased Approach To Identify Endogenous Substrates of “Histone” Deacetylase 8",
          "An Upper Echelons Perspective of Organizational Capacity for Change: An International Study of Initial Public Offerings",
          "An analysis of the co-inventor networks associated with the Chinese pharmaceutical industry",
          "An audience with… Henry Chesbrough. Interview by Asher Mullard.",
          "An evaluation model for determining the business process benefits of thixoforming",
          "An evolutionary approach to benchmarking",
          "An evolutionary overview of the ownership, governance and strategy of Mediobanca: from the kingmaker of Italian capitalism to a large financial conglomerate",
          "An investigation on the effectiveness of hedonic versus utilitarian message appeals in luxury product communication",
          "Analisi della domanda",
          "Analysis of hand kinematics reveals inter-individual differences in intertemporal decision dynamics",
          "Analyzing online reviews in hospitality: data-driven opportunities for predicting the sharing of negative emotional content",
          "Anatomy of Green Specialisation: Evidence from EU Production Data, 1995–2015",
          "Antimicrobial study of the resinous exudate and of diterpenoids isolated from Eupatorium salvia (Asteraceae).",
          "Anti‐counterfeiting\n strategy unfolded a closer look to the case of a large multinational manufacturer",
          "Anxious attachment style and consumer physiological emotional responses to human–robot service interactions.",
          "Anxious attachment style and consumer physiological emotional responses to human–robot service interactions.",
          "Approximate Solutions to the Food Selection Problem ( or How to Pig Out in the Eternal City )",
          "Are Relationally Transparent Leaders More Receptive to the Relational Transparency of Others? An Authentic Dialog Perspective",
          "Are we truly wicked when gossiping at work? The role of valence, interpersonal closeness and social awareness",
          "Are you telling me the truth? Authenticity of responses in virtual world research",
          "Arrested development: the experience of European hard disk drive firms in comparison with US and Japanese firms",
          "Assembling the elephant: A review of empirical studies on the impact of technical change upon incumbent firms",
          "Asymmetries in Global Value Chain Integration, Technology and Employment Structures in Europe: Country and Sectoral Evidence",
          "Attachment styles moderate customer responses to frontline service robots: Evidence from affective, attitudinal, and behavioral measures",
          "Attachment styles moderate customer responses to frontline service robots: Evidence from affective, attitudinal, and behavioral measures",
          "Attachment styles moderate customer responses to frontline service robots: Evidence from affective, attitudinal, and behavioral measures",
          "Attitudes Toward Responsible Tourism and Behavioral Change to Practice it: A Demand-Side Perspective in the Context of Italy",
          "Averting the rise of the dark side of social media: The role of sensitization and regulation",
          "BOARD DIVERSITY AND FIRM PERFORMANCE: AN EMPIRICAL INVESTIGATION OF THE MEDIATING EFFECTS OF BOARD PROCESSES AND TASK PERFORMANCE.",
          "BOARDS OF DIRECTORS AND FIRM INNOVATION: TOWARD A CONTINGENCY PERSPECTIVE ON BOARD EFFECTIVENESS.",
          "Balancing the Trade-Off between Learning Prospects and Spillover Risks: MNC Subsidiaries' Vertical Linkage Patterns in Developed Countries",
          "Ball-Larus path profiling across multiple loop iterations",
          "Bank-Firm Relation Changes and Earnings Quality - An Analysis on Italian Small-Medium Sized Companies",
          "Being observed in the digital era: Conceptualization and scale development of the perception of being observed",
          "Between Sponge and Titanium:Designing micro and macro features for the resilient organization",
          "Beyond Compliance: an Integrated Governance Framework",
          "Beyond Compliance: why integrated governance matters today",
          "Beyond High Tech: Early Adopters of Open Innovation in Other Industries",
          "Beyond compliance: why integrated governance matters today: the idea is for financial professionals to help their companies address performance and knowledge management, too",
          "Beyond persuasive representations of facts: “figuring out” what sustainable value creation means in practice",
          "Beyond the Black Box of Demography: Board Processes and Task Effectiveness Within Italian Firms",
          "Blockchain Adoption in the Winery Industry",
          "Blockchain Adoption in the Winery Industry",
          "Blockchain Technology Applications in Businesses and Organizations",
          "Blockchain, logistics and omnichannel for last mile and performance",
          "Board Tasks in Small Firms: The Importance of Motivation and Evaluations",
          "Board activity in large italian companies. A behavioural perspective",
          "Board diversity’s antecedents and consequences: A review and research agenda",
          "Board monitoring and effectiveness: Antecedents and implications",
          "Board monitoring and internal control system disclosure in different regulatory environments",
          "Board task performance in small firms: the role of personal incentives and board processes",
          "Board task performance: An exploration of micro- and macro-level determinants of board effectiveness",
          "Boards of Directors and Firm Innovation: an Empirical Analysis on Large Italian Companies",
          "Boards of Directors' Contribution to Strategy: A Literature Review and Research Agenda",
          "Boards' contribution to strategy and innovation",
          "Brain metabolic differences between pure bulbar and pure spinal ALS: a 2-[18F]FDG-PET study",
          "Brand Dislike: The Dark Side of Consumer Preferences",
          "Brand dislike: evidence from qualitative research and scale development",
          "Brand dislike: representing the negative side of consumer preferences",
          "Break the \"Right\" Cycles and Get the \"Best\" Drawing",
          "Breaking cycles for minimizing crossings",
          "Bring them aboard: Rewarding participation in technology-mediated citizen science projects",
          "Building a manufacturing cladogram",
          "Building an Integrated Governance Framework",
          "Building and reinforcing organizational resilience through international mobility: A multi-level framework",
          "Business Model Innovation: Opportunities and Barriers",
          "Business Models for Technology in the Developing World: The Role of Non-Governmental Organizations",
          "Business Opportunities in the Middle East",
          "Business model innovation paths",
          "Business models in technology-based firms: A cognitive approach to regional differences",
          "Business outcomes of outsourcing: Lessons from management research",
          "CARING MORE BY DOING LESS? AN ENQUIRY ABOUT THE IMPACTS OF OUTSOURCING ON PATIENT CARE",
          "CEO Entrepreneurial Orientation, Entrenchment, and Firm Value Creation",
          "CGIP: Managing Consumer-Generated Intellectual Property",
          "CORPORATE SOCIAL RESPONSIBILITY AND STOCK PRICES: A STUDY ON THE ITALIAN MARKET",
          "COVER STORY • Open Innovation: A Key to Achieving Socioeconomic Evolution • 3 How Smaller Companies Can Benefit from Open Innovation",
          "Can you change my preferences? Effect of social influence on intertemporal choice behavior",
          "Capital Market Consequences of the Libor Scandal and Phaseout for Public Borrowers",
          "Capybara: equivalence ClAss enumeration of coPhylogenY event-BAsed ReconciliAtions",
          "Case 9: Stressed and Demotivated Public Servants… Looking for a (Motivational) Miracle at Paywell Agency",
          "Centralità e performance scientifica: alcune evidenze dai network di ricerca clinica",
          "Centralità e performance scientifica: alcune evidenze dai network di ricerca clinica",
          "Changing Collaboration in Knowledge Work: Design Implications for Jobs, Teams, and Organizations",
          "Chapter 10 A Survey on the Economics of the U.S. Pharmaceutical Industry",
          "Chapter 5 The GFT Utility Function",
          "Chez Panisse: Building an Open Innovation Ecosystem",
          "Cladistics: a taxonomy for manufacturing organizations",
          "Click Here to Agree: Managing Intellectual Property When Crowdsourcing Solutions",
          "Clique Counting in MapReduce",
          "Close together or far apart? The geography of host-country knowledge sourcing and MNCs’ innovation performance",
          "Co-divergence and tree topology",
          "Cogema - la Hague : the waste production techniques with special emphasis on the study of Japanese reprocessing wastes",
          "Cognitive Dynamics of Religiosity and Intertemporal Choice Behavior",
          "Cognitive Dynamics of Religiosity and Intertemporal Choice Behavior",
          "Cognitive dynamics of intertemporal choice in gambling disorder.",
          "Combinatorial algorithms for feedback problems in directed graphs",
          "Company Post-Crisis Communication Strategies and the Psychological Mechanism Underlying Consumer Reactions",
          "Comparative Studies of Technological Evolution",
          "Competing with or Against Cozmo, the Robot: Influence of Interaction Context and Outcome on Mind Perception",
          "Competitive Convergence: Construct Definition and Measurement",
          "Complex systems theory: implications and promises for manufacturing organisations",
          "Compressed Weighted de Bruijn Graphs",
          "Computing an Evolutionary Ordering is Hard",
          "Concreteness and emotional valence of episodic future thinking (EFT) independently affect the dynamics of intertemporal decisions",
          "Configurations of Capacity for Change in Entrepreneurial Threshold Firms: Imprinting and Strategic Choice Perspectives",
          "Configuring a new business model through conceptual combination: The rise of the Huffington Post",
          "Conflict-free star-access in parallel memory systems",
          "Confronting indifference toward truth: Dealing with workplace bullshit",
          "Connecting product innovation management and marketing",
          "Connectivity of information in Integrated Reporting: exploring the holistic representation of the organization’s value creation process",
          "Consumer Reshoring Sentiment and Animosity: Expanding Our Understanding of Market Responses to Reshoring",
          "Consumer attitude toward reshoring: Related effects and relevant boundary conditions",
          "Consumer reactions to corporate decisions to outsource labor abroad",
          "Consumer response to corporate irresponsible behavior: Moral emotions and virtues",
          "Consumer responses to corporate offshoring practices",
          "Consumer self-reported and testosterone responses to advertising of luxury goods in social context",
          "Consumer self-reported and testosterone responses to advertising of luxury goods in social context",
          "Consumer stakeholder responses to reshoring strategies",
          "Consumer – brand relationships in West Bank. Non-western grounded theory?",
          "Consumers' perceptions of luxury brands’ CSR initiatives: An investigation of the role of status and conspicuous consumption",
          "Consumers’ Attitudes Toward Sustainable Luxury Products: The Role of Perceived Uniqueness and Conspicuous Consumption Orientation",
          "Consumers’ self-reported and brain responses to advertising post on Instagram: the effect of number of followers and argument quality",
          "Consumers’ self-reported and brain responses to advertising post on Instagram: the effect of number of followers and argument quality",
          "Consumption experiences and product meanings: pasta for young Italian consumers",
          "Consumption practices of counterfeit luxury goods in the Italian context",
          "Context Effects in Word-Of-Mouth Communications: the Effect of Crowdedness on Social Transmission",
          "Coopetition dynamics in convergent industries: designing scope connections to combine heterogeneous resources",
          "Coordination in a distribution channel with decisions on the nature of incentives and share-dependency on pricing",
          "Cophylogeny Reconstruction via an Approximate Bayesian Computation",
          "Coping with Different Types of Innovation: What Do Metaphors Reveal About How Entrepreneurs Describe the Innovation Process?",
          "Corporate Governance Codes: A Review and Research Agenda",
          "Corporate Governance Research in the Wake of a Systemic Crisis: Lessons and Opportunities from the COVID‐19 Pandemic",
          "Corporate Governance and Initial Public Offerings: An International Perspective",
          "Corporate Governance and Initial Public Offerings: Contributors",
          "Corporate Governance and Initial Public Offerings: Corporate governance and initial public offerings in Italy",
          "Corporate Governance in large UK family firms",
          "Corporate Governance, Board Gender Diversity and Firm Performance",
          "Corporate Governance, Board of Directors, and Firm Performance",
          "Corporate Governance, Board of Directors, and the Firm: A Maturing Field",
          "Corporate Governance, Information, and Investor Confidence",
          "Corporate Social Responsibility and Earnings Quality: International Evidence",
          "Corporate Social Responsibility and Firms Performance - An Analysis on Italian Listed Companies",
          "Corporate Socially Responsible Initiatives and Their Effects on Consumption of Green Products",
          "Corporate governance adrift: A critique of shareholder value",
          "Corporate governance and IPO underpricing in a cross‐national sample: A multilevel knowledge‐based view",
          "Corporate governance and IPO underpricing throughout the world: agency and institutional perspectives",
          "Corporate governance and institutions—A review and research agenda",
          "Corporate governance in Italy: the structural conflict of interests between majority and minority shareholders",
          "Corporate governance, boards of directors, and firm performance: Avenues for future research",
          "Corporate governance, firm performance, and managerial incentives",
          "Corporate strategy : una prospettiva organizzativa e finanziaria per la crescita",
          "Correlations between fitness and heterozygosity at allozyme and microsatellite loci in the Atlantic salmon, Salmo salar L.",
          "Counting cliques in parallel without a cluster: Engineering a fork/join algorithm for shared-memory platforms",
          "Counting small cliques in MapReduce",
          "Covert brand recognition engages emotion-specific brain networks.",
          "Creating New Ventures from Bell Labs Technologies",
          "Creative consumers: awareness, attitude and action",
          "Crossing-constrained hierarchical drawings",
          "Crowd-Open and Crowd-Based Collaborations: Facilitating the emergence of organization design",
          "CrumbTrail: An efficient methodology to reduce multiple inheritance in knowledge graphs",
          "Customer base segmentation and relationship management. Applying latent class regression to the mobile communications business",
          "Customer satisfaction and trust into the resource-based perspective. Research propositions endorsing the confirmation/disconfirmation paradigm",
          "Customer value metrics",
          "Customizing customization: A conceptual framework for interactive personalization",
          "D'un soi émietté.",
          "Dealing with the Unknown: Leading in uncertain times by rethinking the design of management accounting and reporting systems",
          "Decision and action planning signals in human posterior parietal cortex during delayed perceptual choices",
          "Deepfakes: Trick or treat?",
          "Demand Forecasting in the Fashion Industry: A Review",
          "Design Science and eTrust: Designing Organizational Artifacts as Nexus of Social and Technical Interactions",
          "Designing Corporate Ventures in the Shadow of Private Venture Capital",
          "Designing reliable algorithms in unreliable memories",
          "Developing Corporate Governance Research Through Qualitative Methods: A Review of Previous Studies",
          "Developing Corporate Governance Theory through Qualitative Research",
          "Developing Entrepreneurial Competencies in Vietnam: Evidence from the Bac Ninh Province",
          "Developing organizational resilience via international mobility: a conceptual framework",
          "Development of 30 microsatellite markers for dab (Limanda limanda L.): a key UK marine biomonitoring species",
          "Dinamismo ambientale, esperienza digitale del board, e cambiamento strategico delle imprese. L'integrazione tra Dynamic Managerial Capabilities e Resource Dependence Theory",
          "Disclosure on Internal Control Systems as Substitute of Alternative Governance Mechanisms",
          "Discovery of the first histone deacetylase 6/8 dual inhibitors.",
          "Distinct Patterns of Cognitive Conflict Dynamics in Promise Keepers and Promise Breakers",
          "Divider-based algorithms for hierarchical tree partitioning",
          "Do not put the blame on me: Asymmetric responses to service outcome with autonomous vehicles versus human agents",
          "Do not put the blame on me: Asymmetric responses to service outcome with autonomous vehicles versus human agents",
          "Do your employees think your slogan is “fake news?” A framework for understanding the impact of fake company slogans on employees",
          "Does CSR Engender Trust? Evidence From Investor Reactions to Corporate Disclosures",
          "Does Family Involvement Influence Firm Performance? Exploring the Mediating Effects of Board Processes and Tasks",
          "Does board independence influence financial performance in IPO firms? The moderating role of the national business system",
          "Does getting along matter? Tourist-tourist rapport in guided group activities",
          "Does patenting help or hinder open innovation? Evidence from new entrants in the solar industry",
          "Domestic food practices: A study of food management behaviors and the role of food preparation planning in reducing waste",
          "Dominant-owner CEOs, board of directors and firm performance in emerging economies: Exploring the moderating impact of quad-qualified directors",
          "Dynamic Game Plans: Using Gamification to Entrain Strategic Renewal with Environmental Velocity",
          "Dynamic Graphs",
          "Dynamic game plans",
          "Dynamic programming in faulty memory hierarchies (cache-obliviously)",
          "Dynamics of Industry and Innovation: Organizations, Networks and Systems Enablers, Outcomes, and Effets of Product Bundling: towards an Analytical Model Enablers, Outcomes, and Effects of Product Bundling: towards an Analytical Model",
          "E-business and its role in small business networks",
          "EUCALYPT: efficient tree reconciliation enumerator",
          "EXPERIMENTAL EVALUATION OF BENDING AND TORSIONAL DEFORMABILITY OF FRP PULTRUDED BEAMS",
          "Earnings management, forecast guidance and the banking crisis",
          "Eco-Digital Supply Chains through Blockchains",
          "Edinburgh Research Explorer In search of the \"Perfect One\"",
          "Editorial: Corporate Governance, Institutions and Industry Regulation",
          "Editorial: Preface to the special issue",
          "Effects of Individual Discount Rate and Uncertainty Perception on Compliance with Containment Measures during the COVID-19 Pandemic",
          "Effects of the transition from Lira to Euro on buyers’ product evaluation. An analysis before and after the introduction of the new currency",
          "Effects of the transition from lira to euro on buyers' product evaluations",
          "Effects on consumers’ subjective understanding of a new front-of-pack nutritional label: a study on Italian consumers",
          "Efficient Pruning of Large Knowledge Graphs",
          "El mercado, la empresa y la primacia del conocimiento",
          "Elgar Introduction to Theories of Organizational Resilience",
          "Emotional and Social Intelligence Competencies in the Digital Era",
          "Emotions that Drive Consumers Away from Brands: Measuring Negative Emotions Toward Brands and Their Behavioral Effects",
          "Empirical Evaluation for Graph Drawing (Dagstuhl Seminar 15052)",
          "Enacting governance at the local level through management control systems: the case of a multinational energy company",
          "Enel X: Driving Digital Transformation in the Energy Sector",
          "Engaging public servants: Public service motivation, work engagement and work-related stress",
          "Engineering Tree Labeling Schemes: A Case Study on Least Common Ancestors",
          "Environmental Influences Upon Firm Entry into New Sub-Markets: Evidence from the Worldwide Hard Disk Drive Industry",
          "Environmental influences upon firm entry into new sub-markets: Evidence from the worldwide hard disk drive industry conditionally",
          "Environmental reporting: transparency to stakeholders or stakeholders’ manipulation? An analysis of disclosure tone and the role of board of directors",
          "Erratum to “Trade-in and save: A two-period closed-loop supply chain game with price and technology dependent returns” [Int. J. Prod. Econ. 183 B (2017) 514–527]",
          "Erratum to: Corporate Socially Responsible Initiatives and Their Effects on Consumption of Green Products",
          "Estimating the Empirical Cost Function of Routines with Dynamic Workloads",
          "Evidence Accumulates for Individual Attributes in Risky Choice",
          "Evolution of multiple organisational identities after an M&A event: A case study from Europe",
          "Executive Compensation, Board Functioning, and Corporate Governance",
          "Experiences with Gamification: The MDE Framework",
          "Experimental Study of Resilient Algorithms and Data Structures",
          "Experimental analysis of simple, distributed vertex coloring algorithms",
          "Explaining Consumer Brand-Related Activities on Social Media: The Role of Self-Determination Theory",
          "Explaining Consumer Reactions to Corporate Social Responsibility: The Role of Gratitude and Altruistic Values",
          "Explaining consumer brand-related activities on social media: An investigation of the different roles of self-expression and socializing motivations",
          "Explicating Open Innovation",
          "Explicating Open Innovation: Clarifying an Emerging Paradigm for Understanding Innovation",
          "Exploiting the business opportunities in biotech connections: The power of social networks",
          "Exploring How the Balanced Scorecard Engages and Unfolds: Articulating the Visual Power of Accounting Inscriptions",
          "Exploring and Visualizing Spaces of Tree Reconciliations.",
          "Exploring open innovation in the digital age: A maturity model and future research directions",
          "Exploring pairwise compatibility graphs",
          "Exploring the Effects of Corporate Governance on Voluntary Disclosure: An Explanatory Study on the Adoption of Integrated Report",
          "Exploring the International Connectivity of Chinese Inventors in the Pharmaceutical Industry",
          "Exploring the Political Side of Board Involvement in Strategy: A Study of Mixed-Ownership Institutions",
          "Exploring the Robustness of the Parsimonious Reconciliation Method in Host-Symbiont Cophylogeny",
          "Exploring the craft of visual accounts through arts: Fear, voids and illusion in corporate reporting practices",
          "Extending Open Innovation: Orchestrating Knowledge Flows from Corporate Venture Capital Investments",
          "FEEDING POST-MODERN FAMILIES: FOOD PREPARATION AND CONSUMPTION PRACTICES IN NEW FAMILY STRUCTURES",
          "Family Business, Corporate Governance, and Firm Performance",
          "Family Ownership and Impression Management: An Integrated Approach",
          "Farewell editorial: Exiting editors' perspective on current and future challenges in corporate governance research",
          "Fashion without pollution: How consumers evaluate brands after an NGO campaign aimed at reducing toxic chemicals in the fashion industry",
          "Fatigue increases the perception of future effort during decision making",
          "Feasibility of a screening programme for lung cancer in former asbestos workers.",
          "Figureheads or Potentates? CEO Power and Board Oversight in the Context of Sarbanes Oxley",
          "Fluid Shifts Due to Microgravity and Their Effects on Bone: A Review of Current Knowledge",
          "Focusing strategies in reasoning about games",
          "Forward-Looking Disclosures, Financial Verifiability and Analysts' Forecasts: A Study of Cross-Listed European Firms",
          "Framing a trust game as a power game greatly affects interbrain synchronicity between trustor and trustee",
          "From Collaborative Community to Competitive Market: The Quest to Build a Crowdsourcing Platform for Social Innovation",
          "From Internal Auditing to Enterprise Risk Management : the Case of the Telecomitalia Group",
          "From Open Science to Open Innovation",
          "From utilities to mental models: A critical survey on decision rules and cognition in consumer choice",
          "Gait assessment as an outcome measure in total knee replacement",
          "Game on: Engaging customers and employees through gamification",
          "Geometric medians in reconciliation spaces of phylogenetic trees",
          "Geometrical dimensions of the lower lumbar vertebrae – analysis of data from digitised CT images",
          "Giddens’ structuration theory and its implications for management accounting research",
          "Gli enti conferenti: aspetti economici e di bilancio",
          "Globalization and the international convergence of management accounting",
          "Graceful Exits and Missed Opportunities: Xerox's Management of its Technology Spin-off Organizations",
          "Gradual disaggregation of the casein micelle improves its emulsifying capacity and decreases the stability of dairy emulsions",
          "Graph Coloring with Distance Constraints",
          "Graph sketches",
          "Graphs in Computer Science",
          "Green practices and operational performance: The moderating role of agility",
          "Gritty Leaders Promoting Employees’ Thriving at Work",
          "Growing global by acquisitions: the role of measurement as GE met Italy",
          "Growth goal setting in high school: A large-scale study of perceived instructional support, personal background attributes, and engagement outcomes.",
          "Guest editorial",
          "HOW DO WE UNDERSTAND PARTICIPATION IN GLOBAL VALUE CHAINS? A STRUCTURED REVIEW OF THE LITERATURE",
          "Hands on Algorithms:an Experience with Algorithm Animation in Advanced Computer Science Classes",
          "Hierarchical Clustering of Trees: Algorithms and Experiments",
          "Hierarchical Decompositions for Visualizing Large Graphs",
          "How Big Data Creates New Job Opportunities: Skill Profiles of Emerging Professional Roles",
          "How ENI Can Improve Procurement Through Blockchain Technology",
          "How Exchanges Work: Trading Venues, Algorithmic and High-Frequency Transactions",
          "How Independent, Competent and Incentivized Should Non-Executive Directors Be? An Empirical Investigation of Good Governance Codes",
          "How Much Do Country-Level or Firm-Level Variables Matter in Corporate Governance Studies?",
          "How Relationship Age Moderates Loyalty Formation",
          "How Sensory Language Shapes Influencer’s Impact",
          "How Sensory Language Shapes Influencer’s Impact",
          "How companies’ good deeds encourage consumers to adopt pro-social behavior",
          "How does organizational space help organizations cope with the challenges of ambidexterity and continue to innovate? A space reorganization experiment in a transitioning organization",
          "How independent are boards and independent directors? An empirical analysis of the content of good governance codes",
          "How knowledge collecting fosters organizational creativity",
          "How language abstractness affects service referral persuasiveness",
          "How managers detect paradox: critical realism, moderate constructivism and sensemaking in action",
          "How much are flexibility and uncertainty worth in patent licensing?",
          "How to Appropriate Value from General-Purpose Technology by Applying Open Innovation",
          "How to Contribute to the Development of a Global Understanding of Corporate Governance? Reflections from Submitted and Published Articles in CGIR",
          "How to Work a Crowd: Developing Crowd Capital Through Crowdsourcing",
          "Hyperloop Transportation Technologies, Inc.: A Startup Using the Gig Economy for Its Core Business",
          "I might try it: Marketing actions to reduce consumer disgust toward insect-based food",
          "I might try it: Marketing actions to reduce consumer disgust toward insect-based food",
          "I modelli di business nel settore cinematografico",
          "IFRS AND INTERNATIONAL DIFFERENCES: AN EMPIRICAL ANALYSIS ON THEIR APPLICATION WORLDWIDE",
          "IMEC(A+B):Creating value through a New Approach to IPR Managenment",
          "INFORMATION ASYMMETRIES, FAMILY OWNERSHIP AND DIVESTITURE FINANCIAL PERFORMANCE: EVIDENCE FROM WESTERN EUROPEAN COUNTRIES",
          "INTERNATIONALIZATION OF A CHINESE \"BORN GLOCAL\" BRAND IN A FOREIGN SECTOR: THE CASE STUDY OF GOODBABY",
          "Il ruolo delle istituzioni nella teoria organizzativa",
          "Implementation of Focused Manufacturing Techniques in a Hand Tool Company",
          "Impression Management and Organizational Audiences: The Fiat Group Case",
          "Improvement of Manufacturing Operations through a Lean Management Approach: A Case Study in the Pharmaceutical Industry",
          "Improvising Agility: Organizations as Structured-Extemporaneous Hybrids",
          "Improvising Prescription: Evidence from the Emergency Room",
          "Improvising in the shade of power: The rise of paradoxes under the radar of formal compliance",
          "Improvising resilience: The unfolding of resilient leadership in COVID-19 times",
          "In Search of Entrepreneurial Network Configurations: Using Q-Analysis to Study Network Structures and Flows",
          "In Search of a Greater Pluralism of Theories and Methods in Governance Research",
          "Increasing Integration Across the Supply Chain Through an Approach to Match Performance and Risk",
          "Indirect effect of open innovation on clinical and economic value creation in digital healthcare: A comparative study of European countries",
          "Industry 4.0 and the emerging challenges to leadership",
          "Infinite Trees and the Future",
          "Information Asymmetries and IPO Underpricing: The Role of Voluntary Disclosure of Forward-Looking Information in the Prospectus",
          "Inhibitors of Glycogen Synthase Kinase 3 with Exquisite Kinome-Wide Selectivity and Their Functional Effects.",
          "Innovating through Clusters",
          "Innovation @ ENEL: From Monopoly Power to Open Power",
          "Innovation and the Multinational Firm: Perspectives on Foreign Subsidiaries and Host Locations",
          "Innovation in US metropolitan areas: the role of global connectivity",
          "Innovation in manufacturing as an evolutionary complex system",
          "Innovations in Fashion Industry Demand Forecasting in the Fashion Industry : A Review Regular Paper",
          "Innovations in Pharmaceutical Industry Improvement of Manufacturing Operations through a Lean Management Approach : A Case Study in the Pharmaceutical Industry Regular Paper",
          "Innovazione Tecnologica e Strategia d’Impresa. Lo Sviluppo e la Gestione delle Competenze Aziendali nel Settore delle Telecomunicazioni",
          "Input-Sensitive Profiling",
          "Inside Luxury: Main Features, Evolving Trends, and Marketing Paradoxes",
          "Inside the conceptual innovation: The Huffington Post case study Working",
          "Institutional Change and Ownership Patterns in Italy",
          "Institutional Environment and Corporate Governance",
          "Integrated Thinking: Aligning purpose and the business model to market opportunities and sustainable performance",
          "Integrated reporting assurance",
          "Integrated reporting.: Concepts and Cases that Redefine Corporate Accountability",
          "Integrating Agency and Resource Dependence Theory: Firm Profitability, Industry Regulation, and Board Tasks Performance",
          "Integrating global organizations through performance measurement systems",
          "Integration in Global Value Chains and Employment",
          "Integration in Global Value Chains and Employment in Europe",
          "Intellectual Capital Disclosure (ICD) across Europe: A comparison between Italy, Ireland and the UK",
          "Intellectual capital disclosure (ICD): A comparison of Italy and the UK",
          "Interindividual Variability in Functional Connectivity as Long-Term Correlate of Temporal Discounting",
          "Internal culture and outside influence in corporate governance",
          "International Journal of Mass",
          "International connectivity and the location of multinational enterprises'\n knowledge‐intensive\n activities: Evidence from\n US\n metropolitan areas",
          "Introducing the Front-Of-Pack Acceptance Model: the role of usefulness and ease of use in European consumers’ acceptance of Front-Of-Pack Labels",
          "Introduction",
          "Introduction to comparative studies of technological evolution",
          "Introduction: Sustainability in Luxury Branding",
          "Investigating the drivers of higher education expectations among students from low and high socio-economic backgrounds in Australia",
          "Investor’s Intrinsic Motives and the Valence of Word-of-Mouth in Sequential Decision-Making",
          "Is environmental management an economically sustainable business?",
          "Is it all a game? Understanding the principles of gamification",
          "Is more expensive better? An analysis of the relationship between price and objective quality in the Italian market",
          "Isolation and characterization of 12 dinucleotide microsatellite loci in the anadromous fish Osmerus eperlanus (L.)",
          "Istituzioni, Mercati e Imprese. Il ruolo delle istituzioni nelle strategie di crescita",
          "Istituzioni, Mercati e Imprese. Il ruolo delle istituzioni nelle strategie di crescita",
          "It&Apos;S a Cruel Summer: Household Responses to Reductions in Government Nutrition Assistance",
          "Italian annual intellectual capital disclosure: An empirical analysis",
          "Knowledge Breadth of MNC Subsidiaries and the Duration of Host-Country Firms’ Search",
          "Knowledge Outflows from Foreign Subsidiaries: The Tension between Knowledge Creation and Knowledge Protection",
          "Knowledge Spillovers from FDI: A Critical Review from the International Business Perspective",
          "Knowledge connectedness within and across home country borders: Spatial heterogeneity and the technological scope of firm innovations",
          "Knowledge integration in multinational enterprises: The role of inventors crossing national and organizational boundaries",
          "Knowledge outflows from foreign subsidiaries and the tension between knowledge creation and knowledge protection: Evidence from the semiconductor industry",
          "Knowledge sharing in knowledge-intensive manufacturing firms. An empirical study of its enablers",
          "L'Outsourcing nella sanità.",
          "L'economia delle imprese in regime di concessione",
          "L'evoluzione del sistema di corporate reporting. Lo Shared Value all'interno del bilancio integrato di un gruppo bancario",
          "L(2, 1)-Labeling of Oriented Planar Graphs (Extended Abstract)",
          "L(2, 1)L(2, 1)-labeling of oriented planar graphs",
          "LEONARDO: a software visualization system",
          "La creazione di valore nelle strategie di disinvestimento: evidenze dal contesto europeo",
          "La diffusione dell'ICT nelle Piccole e Medie Imprese: un' indagine nel settore dei servizi di arredamento",
          "La filosofia dell’Open Services Innovation",
          "La gestione dell’impresa in una prospettiva relazionale: Il ruolo del social capital nello sviluppo strategico aziendale",
          "La producción e internacionalización de los servicios: determinantes e implicaciones para la innovación y el crecimiento en Europa",
          "La relación entre las estructuras de propiedad y la inversión en I+D en las empresas europeas",
          "Large shareholders and corporate governance outside the United States and United Kingdom",
          "Latin America’s faltering manufacturing competitiveness: What role for intermediate services?",
          "Layered Drawings of Graphs with Crossing Constraints",
          "Lazy listing of equivalence classes - A paper on dynamic programming and tropical circuits",
          "Le decisioni di outsourcing oggi",
          "Le dinamiche di diffusione della pratica del riuso software",
          "Leadership styles scale: Conceptualization and initial validation",
          "Leading practices in Integrated Reporting",
          "Leading practices in integrated reporting: management accountants will guide their companies on the journey to value creation",
          "Leading well pays off: mediating effects and multi-group analysis of strategic performance",
          "Lean Startup and Open Innovation",
          "Learning from the first wave: Lessons about managing patient flow and resource utilization on medical wards at providence health during the COVID-19 pandemic",
          "Levels of Multiplexity in Entrepreneur’s Networks: Implications for Dynamism and Value Creation",
          "Leveraging Dynamic Capabilities: A Contingent Management Control System Approach",
          "Leveraging domestic and foreign learning to develop marketing capabilities: The case of the Chinese company Goodbaby",
          "Leveraging social capital in university-industry knowledge transfer strategies: a comparative positioning framework",
          "Leveraging the circular economy with a closed-loop supply chain and a reverse omnichannel using blockchain technology and incentives",
          "Leveraging users as innovators",
          "Linking Open Innovation to Business Models",
          "Linking governance to strategy: the role of the finance organization",
          "Local dependency dynamic programming in the presence of memory faults",
          "Localized networks and innovation in the life-science sector. Inter-cluster and intra-cluster dynamics",
          "Luxury Consumption and Sustainability",
          "Luxury, Sustainability, and “Made In”",
          "L’Open Services Innovation è il futuro",
          "L’“impresa” di diventare digitale. Come la rivoluzione tecnologica sta influenzando la gestione d’impresa",
          "MNC strategies to limit spillovers: How subsidiaries manage knowledge breadth to decrease spillovers",
          "Make Sustainable Development Goals Happen through Integrated Thinking: An Introduction",
          "Making Boards Effective: An Empirical Examination of Board Task Performance",
          "Making Sustainable Development Goals happen through integrated thinking and reporting",
          "Making a Face: Graphical Illustrations of Managerial Stances toward Customer Creativity",
          "Making sense of corporate venture capital.",
          "Making sense of text: artificial intelligence-enabled content analysis",
          "Making sustainability meaningful: aspirations, discourses and reporting practices",
          "Management Accounting Change",
          "Management Accounting Systems and Organisational Culture: an Institutional Framework for Interpreting their Linkages and Processes of Change*",
          "Management Accounting: Issues in interpreting its nature and change",
          "Management accounting systems and organisational culture: Interpreting their linkages and processes of change",
          "Management and accounting innovations: reflecting on what they are and why they are adopted",
          "Managing Big Data Professionals through a Competency-Based Approach",
          "Managing Customer-to-Customer Interaction in Group Service Encounters: An Abstract",
          "Managing Innovation in Emerging Economies: Organizational Arrangements and Resources of Foreign MNEs in the Chinese Pharmaceutical Industry",
          "Managing Inside-Out Open Innovation",
          "Managing Open Innovation",
          "Managing and measuring social impact through integrated thinking and reporting",
          "Managing open invitation",
          "Managing the tensions in integrating global organisations: The role of performance management systems",
          "Manufacturing classification: Lessons from organizational systematics and biological taxonomy",
          "Manufacturing competitiveness and fitness landscape theory",
          "Manufacturing strategy: understanding the fitness landscape",
          "Market versus Internal Factors in Corporate Governance",
          "Measurement of the Branching Fractions for the Exclusive Decays of B^0 and B^+ to Dbar^(*)D^(*)K",
          "Measuring negative emotions to brands. Implications for brand strategy",
          "Mediterranean shoes conquer the world. Global branding from local resources: The Camper case",
          "Merely Being with you Increases My Attention to Luxury Products: Using EEG to Understand Consumers’ Emotional Experience with Luxury Branded Products",
          "Mind in the Machine: Perceived Minds Induce Decision Change",
          "Mining hot calling contexts in small space",
          "Mission impossible? The paradoxes of stretch goal setting",
          "Mobility in the built environment: Age‐related changes in gait characteristics when walking on complex terrain",
          "Modeling the Uncertainty of the Remanufacturing Process for Consideration of Extended Producer Responsibility (EPR)",
          "Models of a Man: Essays in Memory of Herbert A. Simon, by Mie Augier, James G. March, The MIT Press Cambridge, Massachusetts, 2004 (book review)",
          "Morten Huse: Boards, Governance and Value Creation: The Human Side of Corporate Governance",
          "Motion Characteristics of the Lumbar Spine in the Normal Population",
          "Motivating Crowds to Do Good: How to Build Crowdsourcing Platforms for Social Innovation",
          "Moving up the value chain with South-South cooperation for trade and technology? An analysis of India’s trade with East Africa",
          "Multiple Organisational Identities after M&As",
          "Multithreaded Input-Sensitive Profiling",
          "My Anger Is Your Gain, My Contempt Your Loss: Explaining Consumer Responses to Corporate Wrongdoing",
          "Myopia during emergency improvisation: lessons from a catastrophic wildfire",
          "Narrative Reporting on Intangibles: an analysis of Italian listed companies",
          "National corporate systems and outsourcing decisions: A cross-country analysis",
          "Navigating in a Sea of Repeats in RNA-seq without Drowning",
          "Networked incubators. Hothouses of the new economy.",
          "Networks, Clusters, and Small Worlds: Are they related?",
          "New Product Development as a Complex Adaptive System of Decisions",
          "New frontiers in open innovation",
          "New perspectives on board research",
          "New perspectives on board research: changing the research agenda",
          "New product development as a complex system of decisions",
          "Nudging and citizen science: The effectiveness of feedback in energy-demand management.",
          "Nurturing International Business research through Global Value Chains literature: A review and discussion of future research opportunities",
          "OCI Value Relevance in Continental Europe: An Examination of the Adoption of IAS 1 Revised",
          "ON MAX CUT IN CUBIC GRAPHS",
          "Offshoring motivations driven by sustainability factors",
          "Omnichannel Shopping Experiences for Fast Fashion and Luxury Brands",
          "On Braggarts and Gossips: A Self-Enhancement Account of Word-of-Mouth Generation and Transmission",
          "On Braggarts and Gossips: A Self-Enhancement Account of Word-of-Mouth Generation and Transmission",
          "On Braggarts and Gossips: Why Consumers Generate Positive but Transmit Negative Word-of-Mouth",
          "On Bubble Generators in Directed Graphs",
          "On Cancellative Set Families",
          "On Generalizations of Pairwise Compatibility Graphs",
          "On Graphs that are not Star-k-PCGs (short paper)",
          "On Maximal Chain Subgraphs and Covers of Bipartite Graphs",
          "On Pairwise Compatibility of Some Graph (Super)Classes",
          "On Relaxing the Constraints in Pairwise Compatibility Graphs",
          "On Reverse-Free Codes and Permutations",
          "On bibliometrics in academic promotions: a case study in computer science and engineering in Italy",
          "On coding labeled trees",
          "On computer science research and its temporal evolution",
          "On data skewness, stragglers, and MapReduce progress indicators",
          "On star-$k$-PCGs: Exploring class boundaries for small $k$ values",
          "On the Pairwise Compatibility Property of some Superclasses of Threshold Graphs",
          "On the Validity of Hierarchical Decompositions",
          "On types of growth for graph-different permutations",
          "On variants of Vertex Geography on undirected graphs",
          "On your marks, headset, go! Understanding the building blocks of metaverse realms",
          "Open Business Models: How to Thrive in the New Innovation Landscape",
          "Open Innovation : Has its time come in Japan?",
          "Open Innovation Results: Going Beyond the Hype and Getting Down to Business",
          "Open Innovation and Intellectual Property",
          "Open Innovation and Public Policy in the EU with Implications for SMEs",
          "Open Innovation and Strategy",
          "Open Innovation as a Response to Constraints and Risks: Evidence from China*",
          "Open Innovation: A New Paradigm for Understanding Industrial Innovation",
          "Open Innovation: A research agenda",
          "Open Innovation: The New Imperative for Creating and Profiting from Technology",
          "Open Innovation: The Next Decade",
          "Open R&D and Open Innovation: Exploring the Phenomenon",
          "Open Services Innovation: An Interview with Henry Chesbrough",
          "Open Services Innovation: Competere in una nuova era",
          "Open Services Innovation: Rethinking Your Business to Grow and Compete in a New Era",
          "Open Social Innovation",
          "Open branding: Managing the unauthorized use of brand-related intellectual property",
          "Open coopetition",
          "Open innovation : researching a new paradigm",
          "Open innovation and Public policy in Europe",
          "Open innovation in Brazil Exploring opportunities and challenges",
          "Open innovation with Chinese characteristics: a dynamic capabilities perspective",
          "Opening the black box of boards of directors: taking stock of recent studies on board dynamics",
          "Optimal Resilient Dynamic Dictionaries",
          "Optimal resilient sorting and searching in the presence of memory faults",
          "Organisational diversity, evolution and cladistic classifications",
          "Organizing for innovation: When is virtual virtuous?",
          "Other Comprehensive Income and its Determinants In Continental Europe",
          "Outsourcing, business performance and vertical integration boundaries: An empirical analysis",
          "Overcoming Consumer Resistance to AI in General Health Care",
          "Overcoming the blockchain technology credibility gap",
          "Ownership Structure and the Strategic Decision Process: A Comparative Case Study",
          "Ownership Structure, Board Composition and Investors’ Protection: Evidence from S&P 500 Firms",
          "Ownership Structure, Corporate Governance and Firm Performance",
          "Ownership and Corporate Governance across Institutional Contexts",
          "Ownership structure and corporate governance: The need to further explore mutual and complex relationships",
          "Ownership structure, corporate governance and institutional environment: Going beyond managerial opportunism and the principal‐agent framework",
          "Ownership, Managerial Entrenchment, and Corporate Performance",
          "Pairwise Compatibility Graphs of Caterpillars",
          "Pairwise Compatibility Graphs: A Survey",
          "Parole a buon rendere, ovvero L'invasione dei termini anglo-italiani",
          "Performance Measurement Systems and Organisational Culture: Interpreting Processes of Unlearning and Change",
          "Performance measurement, (un)learning and change: an interdisciplinary perspective",
          "Performing business and social innovation through accounting inscriptions: An introduction",
          "Physically processing imperfect produce: The impact of prototypicality",
          "Playing hide and seek with repeats in local and global de novo transcriptome assembly of short RNA-seq reads",
          "Portfolios of sustainable practices for packaging in the circular economy: an analysis of Italian firms",
          "Portraying Algorithms with Leonardo Web",
          "Power and Export Sophistication in Buyer-Supplier Relationships: Insights from Colombian Customs Data",
          "Practicing Integrated Thinking: Towards a New Era of Corporate Management Accounting and Reporting",
          "Preference Inferences from Eye-Related Cues in Sales-Consumer Settings: ERP Timing and Localization in Relation to Inferring Performance and Oxytocin Receptor (OXTR) Gene Polymorphisms",
          "Price misleading advertising: effects on consumers’ attitudes and intentions",
          "Price misleading advertising: effects on trustworthiness toward the source of information and willingness to buy",
          "Price spillovers and specialization in health care: The case of children's hospitals.",
          "Principi di economia delle aziende pubbliche e di contabilità finanziaria",
          "Privacy in Europe After Regulation (EU) No 2016/679: What Will Remain of the Right to Be Forgotten?",
          "Proceedings of the Eleventh Workshop on Algorithm Engineering and Experiments, ALENEX 2009, New York, New York, USA, January 3, 2009",
          "Product Lifecycle Management as a Tool to Create Value in the Fashion System",
          "Product and marketing actions in a competitive scenario",
          "Product lifecycle management and compliance with international standards: a case study analysis in the footwear industry",
          "Product recovery decisions within the context of Extended Producer Responsibility",
          "Product touch in the real and digital world: How do consumers react?",
          "Profiling and segmenting customers on the internet: an analytical framework for dynamic and interactive personalization",
          "Psychological Underpinnings of Brands.",
          "Psychosocial Training: A Case of Self-Efficacy Improvement in an Italian School",
          "Qualitative un-verifiable disclosures to inform or mislead: insights from insider trading activity",
          "Quality Ratings and Premiums in the Medicare Advantage Market",
          "Quality versus Quantity: The Case of Forward-Looking Disclosure",
          "Quantitative assessment of the motion of the lumbar spine in the low back pain population and the effect of different spinal pathologies on this motion",
          "Quantitizing findings from qualitative studies for integration in mixed methods reviewing",
          "Quantity vs Quality: the case of Forward Looking Disclosure",
          "Rainbow graph splitting",
          "Reactive Imperative Programming with Dataflow Constraints",
          "Reactive imperative programming with dataflow constraints",
          "Reconceptualizing Conceptual Engineering",
          "Recursive Effects to Study Feature-Based Capabilities in Supply Chain Management",
          "Redefining corporate accountability through integrated reporting: what happens when values and value creation meet?",
          "Regional Products and Internationalization Processes in the Internet Era: Does Location Still Matter?",
          "Relating threshold tolerance graphs to other graph classes",
          "Relational capital and appropriate incentives",
          "Remanufacturing Optimization within the context of Extended Producer Responsibility",
          "Reply to: Discussions of “A framework for the analysis of firm risk communication”",
          "Rescheduling Multiproduct Delivery Planning With Digital Technologies for Smart Mobility and Sustainability Goals",
          "Reshoring from a demand-side perspective: Consumer reshoring sentiment and its market effects",
          "Resilient Dynamic Programming",
          "Resilient Leadership as Paradox Work: Notes from COVID-19",
          "Resilient dictionaries",
          "Resilient search trees",
          "Responding to Inconsistent Performance Feedback on Multiple Goals: The Contingency Role of Decision Maker's Status in Introducing Changes",
          "Responsible digitalization through digital technologies and green practices",
          "Rethinking employability: New managerial competencies in a global labour market",
          "Reti strategiche come evoluzione delle reti emergenti: L'esperienza di due contratti di rete nel bresciano",
          "Reverse-free codes and permutations",
          "Reversible Execution and Visualization of Programs with LEONARDO",
          "Revisiting the Natural Resource Curse: Backward Linkages for Export Diversification and Structural Economic Transformation",
          "Revisiting the Natural Resource Industries “curse”: Beneficiation or Hirschman Backward Linkages?",
          "Revisiting the Natural Resource ‘Curse’ in the Context of Trade in Value Added: Enclave or High-Development Backward Linkages?",
          "Revitalising the Outsourcing Discourse within the Boundaries of Firms Debate",
          "Risky decisions are influenced by individual attributes as a function of risk preference",
          "Robustness of the Parsimonious Reconciliation Method in Cophylogeny",
          "Role of brain 2-[18F]fluoro-2-deoxy-D-glucose-positron-emission tomography as survival predictor in amyotrophic lateral sclerosis",
          "Scientific Committee",
          "Search Costs and Medicare Plan Choice",
          "Service Customization Through Dramaturgy",
          "Service, Emotional Labor, and Mindfulness",
          "Servus or Pater? How Paradoxical Intent Can Qualify Leadership: Inductions from the Kingdom of Bhutan",
          "Shared Services: Exploring the New Frontier",
          "Sharing with Friends versus Strangers: How Interpersonal Closeness Influences Word-of-Mouth Valence",
          "Signing the letter to shareholders: Does the Signatory's role relate to impression management?",
          "Simulating Sequential Search Models with Genetic Algorithms: Analysis of Price Ceilings, Taxes, Advertising and Welfare",
          "Smooth animation of algorithms in a declarative framework",
          "Social Consumer Neuroscience: Neurophysiological Measures of Advertising Effectiveness in a Social Context",
          "Social Desirability in Virtual Communities",
          "Social Media? Get Serious! Understanding the Functional Building Blocks of Social Media",
          "Social Neuromarketing: The role of social context in measuring advertising effectiveness",
          "Social media? It's serious! Understanding the dark side of social media",
          "Software Streams: Big Data Challenges in Dynamic Program Analysis",
          "Sorting and Searching in Faulty Memories",
          "Sorting and searching in the presence of memory faults (without redundancy)",
          "Special Issue on the European Symposium on Algorithms",
          "Special issue editorial: the what, why and how of mass customization",
          "Specifying Algorithm Visualizations: Interesting Events or State Mapping?",
          "Standardization efforts: The relationship between knowledge dimensions, search processes and innovation outcomes",
          "Standardization for platform ecosystems",
          "Star-coloring of graphs for conflict-free access to parallel memory systems",
          "State- and Control-Dependent Incentives in a Closed-Loop Supply Chain with Dynamic Returns",
          "Stock incentive plans in Europe: empirical evidence and design implications",
          "Strategic Management of Open Innovation: A Dynamic Capabilities Perspective",
          "Strategic plan presentations to financial analysts: the effects on earnings forecasts' revision and cost of capital",
          "Strategic scenario analysis combining dynamic balanced scorecards and statistics",
          "Strategie e modelli di business nell'industria del video entertainment",
          "Strategies for agility: an evolutionary and configurational approach",
          "Strategies for the Circular Economy",
          "Strategy, Valuation, and Forecast Accuracy: Evidence from Italian Strategic Plan Disclosures",
          "Structure-Preserving Hierarchical Decompositions",
          "Structures of Diversity",
          "Stuck in the Middle",
          "Subscription-based business models in the context of tech firms: theory and applications",
          "Subscription-based business models in the context of tech firms: theory and applications",
          "Supply chains for mass customisation",
          "Surfing the New Wave of Open Innovation Research",
          "Sustainability Through Open Innovation: Carlsberg and the Green Fiber Bottle",
          "Sustainability of the Metaverse: A Transition to Industry 5.0",
          "Sustainable Development Goals and Integrated Reporting",
          "Sustainable Development Goals: integrating sustainability initiatives with long term value creation",
          "Sustainable Luxury Brands: Evidence from Research and Implications for Managers",
          "Sustainable Open Innovation to Address a Grand Challenge: Lessons from Carlsberg and the Green Fiber Bottle",
          "Sustainable value creation in multinational enterprises: The role of corporate governance actors",
          "Sustaining Venture Creation from Industrial Laboratories",
          "Sustaining innovation and the search for value creation : Accounting , inscriptions and the mediation of ‘ in-tensions ’",
          "Sustaining multiple logics within hybrid organisations: Accounting, mediation and the search for innovation",
          "Synthesis of Chiral 1,2-Diamines.",
          "Synthesis of chiral 1,2-diamines",
          "THE DETERMINANTS OF SMES CAPITAL STRUCTURE: OVERCOMING SUPPLY CONSTRAINTS",
          "Tackling Societal Challenges with Open Innovation",
          "Tailoring the structure of casein micelles through a multifactorial approach to manipulate rennet coagulation properties",
          "Technologies of government in public sector's networks:In search of cooperation through management control innovations",
          "Technology Markets, Technology Organization, and Appropriating the Returns of Research",
          "Technology management - a complex adaptive systems approach",
          "Technology, global value chains and functional specialisation in Europe",
          "Tecnología y competitividad internacional: la interdependencia entre manufacturas y servicios a la producción",
          "The Adoption of Open Innovation in Large Firms",
          "The Analysis of Organizational Identity, Change and Sensemaking via Causal Maps: The Case of an M&A in the Banking Industry",
          "The Back End of Open Innovation",
          "The Bmte Command: Methods for the Estimation of Treatment Effects when Exclusion Restrictions are Unavailable",
          "The Brand Dislike Construct: Scale Development and Application to Actual Brands",
          "The COVID-19 pandemic, cultural work, and resilience",
          "The Case of Eni",
          "The Case of Monnalisa",
          "The City as a Lab",
          "The Customer Relationship Management in Omnitel Vodafone",
          "The Diffusion of Equity Incentive Plans in Italian Listed Companies: What is the Trigger?",
          "The Dispersed Multinational: Does Connectedness Across Spatial Dimensions Lead to Broader Technological Search?",
          "The Dynamics of Open Strategy: From Adoption to Reversion",
          "The Effect of Social Density on Word of Mouth",
          "The Effects of Accounting and Financial Regulation on Corporate Governance",
          "The Effects of legal reforms on the ownership structure of listed companies",
          "The Era of Open Innovation",
          "The Era of Open Innovation Companies are increasingly rethinking the fundamental ways in which they generate ideas and bring them to market — harnessing external ideas while leveraging their in-house R & D outside their current operations .",
          "The Evolution of Sustainability Reporting: Integrated Reporting and Sustainable Development Challenges",
          "The Future of Open Innovation",
          "The Geography of International Knowledge Sourcing: Looking Back and Moving Forward",
          "The Governance and Performance of Xerox's Technology Spin-Off Companies",
          "The Hidden Costs of Going Global: Insights from Firms’ Entry into Foreign Markets",
          "The Impact of Digital Technologies and Sustainable Practices on Circular Supply Chain Management",
          "The Impact of Digital Technologies and Sustainable Practices on Circular Supply Chain Management",
          "The Impact of Digital Technologies on Company Restoration Time Following the COVID-19 Pandemic",
          "The Impact of Digital Technologies on Company Restoration Time Following the COVID-19 Pandemic",
          "The Impact of Effective Teaching Practices on Academic Achievement When Mediated by Student Engagement: Evidence from Australian High Schools",
          "The Impact of Outsourcing on Business Performance: An Empirical Analysis",
          "The Importance of Connecting Open Innovation to Strategy",
          "The Influence of Corporate Governance on the Adoption of The Integrated Report: A first Study on IIRC Pilot Programme",
          "The Italian Footwear Industry: An Empirical Analysis",
          "The Logic of Open Innovation",
          "The Logic of Open Innovation: Managing Intellectual Property",
          "The MiFID II Framework",
          "The Need for a New Narrative on Value Capture in Open Innovation Environments",
          "The Organizational Challenges of Big Data",
          "The Organizational Impact of Technological Change: A Comparative Theory of National Institutional Factors",
          "The Performance of Business Group Firms During Institutional Transition: A Longitudinal Study of Indian Firms",
          "The Performance of Group‐affiliated Firms during Institutional Transition: A Longitudinal Study of Indian Firms",
          "The Price of Resiliency: A Case Study on Sorting with Memory Faults",
          "The Price of Resiliency: a Case Study on Sorting with Memory Faults",
          "The Quality of Mandatory Non-Financial (Risk) Disclosures: The Moderating Role of Audit Firm and Partner Characteristics",
          "The Relation between Earnings Management Independent Directors and Audit Committee: A Study of Italian Listed Companies",
          "The Role and the Impacts of ICT in the Social Networks",
          "The Role of Leadership in a Digitalized World: A Review",
          "The Role of Performance Measurement Systems within Global Organisations",
          "The Selection of Industry 4.0 Technologies Through Bayesian Networks: An Operational Perspective",
          "The Star Treatment",
          "The Structure of Corporate Groups: the Italian case",
          "The Trade-Off Between Mandatory and Voluntary Disclosure: Evidence From Oil Companies’ Risk Reporting",
          "The Two Sides of Open Business Models",
          "The atypicality of sustainable luxury products",
          "The bittersweet experience of being envied in a consumption context",
          "The causal relationships between performance drivers and outcomes",
          "The dark side of organizational improvisation: Lessons from the sinking of Costa Concordia",
          "The determinants of companies’ levels of integration: Does one size fit all?",
          "The effect of augmented reality versus traditional advertising: a comparison between neurophysiological and self-reported measures",
          "The effect of augmented reality versus traditional advertising: a comparison between neurophysiological and self-reported measures",
          "The effect of environmental crowdedness on word-of-mouth",
          "The effect of reward expectation on the time course of perceptual decisions",
          "The effects of company offshoring strategies on consumer responses",
          "The effects of reshoring decisions on employees",
          "The emotional and social side of analytics professionals: an exploratory study of the behavioral profile of data scientists and data analysts",
          "The evolution of corporate governance in Italy: formal convergence or path-dependence?",
          "The impact of board of directors and CEO's characteristics on firm's innovation",
          "The impact of outsourcing on the transaction costs and boundaries of manufacturing",
          "The increasing need for a new Italian legislation to facilitate execution of observational studies assuring ethics and the highest standards of scientific and methodological quality. Editorial.",
          "The institutional understanding of technological innovation: considerations on international R&D networks",
          "The modularity trap : innovation, technology phase-shifts, and resulting limits of virtual organizations",
          "The nature of innovation in global value chains",
          "The open academic: Why and how business academics should use social media to be more ‘open’ and impactful",
          "The open innovation model: Implications for innovation in Japan",
          "The open innovation research landscape: established perspectives and emerging themes across different levels of analysis",
          "The relationship between physical activity and leg health in the broiler chicken",
          "The revenge of the consumer! How brand moral violations lead to consumer anti-brand activism",
          "The role of corporate culture in the choice of integrated reporting",
          "The role of the board and external stakeholders in corporate governance",
          "The satiating power of sustainability: the effect of package sustainability on perceived satiation of healthy food",
          "The strategic micro‐firm: a role play in management training for dynamic businesses",
          "The virtual internationalisation process of Italian SMEs in the food industry",
          "Theta resting EEG in TPJ/pSTS is associated with individual differences in the feeling of being looked at",
          "This Place Is Full of It: Towards an Organizational Bullshit Perception Scale",
          "Ties that bind: Ethnic inventors in multinational enterprises’ knowledge integration and exploitation",
          "Timing of first feeding and life-history strategies in salmon: genetic data.",
          "To discard or to ado(a)pt? Looking at qualitative research templates through the lens of organizational routines",
          "Toward a Phylogenetic Reconstruction of Organizational Life",
          "Toward a synthesis of the board‐strategy relationship: A literature review and future research agenda",
          "Toward business 2030",
          "Towards 'Integrated Governance': The Role of Performance Measurement Systems",
          "Towards Integrated Reporting : Concepts , Elements and Principles 1",
          "Towards Integrated Reporting: Concepts, Elements and Principles",
          "Towards a Dynamics of Modularity",
          "Trade Specialisation and Performance in Global Value Chains",
          "Trade specialization and performance in global value chains",
          "Trading off space for passes in graph streaming problems",
          "Trajectories of brand hate",
          "Tree partitioning via vertex deletion",
          "Triple Helix and Innovation in the Life-Science Industry",
          "Trust for accounting and accounting for trust",
          "Trust in Project Financing: An Italian Health Care Example",
          "Trust, Firm Life Cycle, and Actual Board Behavior: Evidence from \"One of the Lads\" in the Board of Three Small Firms",
          "Un modello dinamico di customer loyalty",
          "Understanding Gamification of Consumer Experiences",
          "Understanding Outsourcing of Information Systems",
          "Understanding integrated thinking: evidence from the field, the development of a framework and avenues for future research",
          "Understanding outsourcing contexts through information asymmetry and capability fit",
          "Understanding the advantages of open innovation practices in corporate venturing in terms of real options",
          "Understanding the effects of outsourcing: unpacking the total factor productivity variable",
          "Unpacking the Social Media Phenomenon: Towards a Research Agenda",
          "Unveiling the Dark Side of Business Models: A Novel Framework for Managerial Cognition and Decision-Making",
          "Unveiling the Dark Side of Business Models: A Novel Framework for Managerial Cognition and Decision-Making",
          "UvA-DARE ( Digital Academic Repository ) Why Some People Just “ Can ’ t Get No Satisfaction ” : Secure versus Insecure Attachment Styles Affect One ’ s “ Style of Being in the Social World ”",
          "Value Creation and Value Capture in Open Innovation",
          "Vertical Alignment Between Hospitals and Physicians as a Bargaining Response to Commercial Insurance Markets",
          "Visual editing of animated algorithms: the Leonardo Web builder",
          "Visualization in Algorithm Engineering: Tools and Techniques",
          "Visualization in Algorithm Engineering: Tools and Techniques 1",
          "Visualizing Algorithms over the Web with the Publication-Driven Approach",
          "We're Leaking, and Everything's Fine: How and Why Companies Deliberately Leak Secrets",
          "WebIsAGraph: A Very Large Hypernymy Graph from a Web Corpus",
          "Webasto: Co-Creating Innovation with Lead Users",
          "West Bank Consumer–Brand Relationships. Non-Western Grounded Theory?",
          "What Can We Learn About the Effects of Food Stamps on Obesity in the Presence of Misreporting?",
          "What Money Cannot Buy: The Detrimental Effect of Rewards on Knowledge Sharing",
          "What are the most promising conduits for foreign knowledge inflows? innovation networks in the Chinese pharmaceutical industry",
          "What drives value relevance? The visibility effect in the adoption of a new accounting standard",
          "What is the Harm in Fake Luxury Brands? Moving Beyond the Conventional Wisdom",
          "When Creativity Meets Control: A Fashion Industry Case Study",
          "When Culture Matters: Processes of Organizational Learning and Transformation",
          "When Customers Get Clever: Managerial Approaches to Dealing with Creative Consumers",
          "When Good is Not Enough: The Importance of Brokers’ Metaknowledge to Their Creativity (WITHDRAWN)",
          "When Hard Skills Are Not Enough: Behavioral Competencies of Data Scientists and Data Analysts",
          "When counterfeits raise the appeal of luxury brands",
          "When is Virtual Virtuous? Organizing for Innovation",
          "When the Brand is Bad, I'm Mad! An Exploration of Negative Emotions to Brands",
          "Which Conference Is That? A Case Study in Computer Science",
          "Who Should Control a Corporation? Toward a Contingency Stakeholder Model for Allocating Ownership Rights",
          "Why Adopt Codes of Good Governance? A Comparison of Institutional and Efficiency Perspectives",
          "Why Companies Should Have Open Business Models",
          "Why Do Some Patents Get Licensed While Others Do Not?",
          "Wine consumption practices and meanings as depicted in Italian TV fiction",
          "[Measuring vibrations of transport stress in premature and newborn infants during incubator transport].",
          "k-Calling context profiling",
          "“Heaven or Las Vegas”: Competing Institutional Logics and Individual Experience",
          "“I Feel Therefore I Decide”: Effect of Negative Emotions on Temporal Discounting and Probability Discounting",
          "“I Feel Therefore I Decide”: Effect of Negative Emotions on Temporal Discounting and Probability Discounting",
          "“I am resting but rest less well with you.” The moderating effect of anxious attachment style on alpha power during EEG resting state in a social context",
          "■ Special Issue Paper Unpacking the social media phenomenon: towards a research agenda",
          "Alessandra Perri",
          "Alessandro Zattoni",
          "Alessio Martino",
          "Andrea Prencipe",
          "Behzad Maleki Vishkaei",
          "Blerina Sinaimeri",
          "Cinzia Calluso",
          "Cristiano Busco",
          "Deniz Lefkeli",
          "ELENA BRUNI",
          "Eugenio Pinto",
          "Evangelos Syrigos",
          "Fabian Kurt Falk Homberg",
          "Fabrizio Di Lazzaro",
          "Federica Brunetta",
          "Filippo Bontadini",
          "Francesco Di Ciommo",
          "Giovanni Fiori",
          "Giuseppe Francesco Italiano",
          "Henry William Chesbrough",
          "Ian Paul McCarthy",
          "Irene Finocchi",
          "Jannis Kallinikos",
          "Jonathan Berkovitch",
          "Lakshmi Balachandran Nair",
          "Luca Giustiniano",
          "Luca Pirolo",
          "Luigi Marengo",
          "Maria Giovanna Devetag",
          "Maria Isabella Leone",
          "Mario Comana",
          "Matteo De Angelis",
          "Matteo Giuliano Caroli",
          "Michela Altieri",
          "Michele Costabile",
          "Paolo Boccardelli",
          "Paolo Spagnoletti",
          "Pietro De Giovanni",
          "Raffaele Oriani",
          "Rumen Ivaylov Pozharliev",
          "Saverio Bozzolan",
          "Simona Romani",
          "Valentina Meliciani"
         ],
         "marker": {
          "coloraxis": "coloraxis",
          "colors": [
           1,
           68,
           2,
           2,
           73,
           160,
           38,
           2,
           9,
           11,
           254,
           2,
           44,
           9,
           11,
           513,
           4,
           9,
           67,
           16,
           2,
           153,
           13,
           28,
           3,
           67,
           4,
           4,
           627,
           9,
           38,
           47,
           3,
           19,
           19,
           11,
           2,
           11.153846153846153,
           6,
           2,
           11,
           4,
           2,
           68,
           40,
           14,
           10,
           70,
           66,
           1,
           6,
           11,
           13,
           1,
           8,
           10,
           7,
           2,
           5,
           1,
           29,
           68,
           11,
           1,
           8,
           29,
           80,
           1,
           2,
           1,
           12,
           98,
           3,
           56,
           38,
           25,
           36,
           12,
           70,
           4,
           5,
           5,
           1,
           5,
           29,
           3,
           48,
           49,
           2,
           40,
           40,
           40,
           23,
           15,
           3,
           1,
           69,
           14,
           1,
           3,
           8,
           3,
           27,
           1873,
           5,
           1,
           230,
           1,
           1,
           3,
           20,
           8,
           2,
           10,
           10,
           44,
           1,
           197,
           5,
           371,
           12,
           5,
           23,
           12,
           49,
           18,
           25,
           57,
           63,
           1,
           1,
           3345,
           153,
           1,
           22,
           2,
           4,
           9,
           73,
           55,
           17,
           21,
           17,
           1,
           6,
           1,
           3,
           3,
           1,
           2,
           1,
           151,
           55,
           46,
           24,
           3,
           1,
           1,
           6,
           6,
           14,
           60,
           57,
           17,
           14,
           1,
           50,
           3,
           1,
           22,
           63,
           2,
           28,
           29,
           3,
           1,
           25,
           1,
           1,
           338,
           8,
           3,
           3,
           68,
           1,
           109,
           2,
           12,
           12,
           14,
           83,
           2,
           20,
           12,
           37,
           4,
           183,
           40,
           13,
           2,
           2,
           3,
           28,
           45,
           23,
           14,
           155,
           95,
           142,
           28,
           63,
           1,
           29,
           3,
           13,
           4,
           1,
           69,
           2,
           11,
           4,
           34,
           14,
           4,
           4,
           2,
           1,
           14,
           11,
           145,
           2,
           6,
           30,
           166,
           117,
           7,
           272,
           36,
           184,
           52,
           1,
           2,
           8,
           1,
           12,
           75,
           6,
           1,
           3,
           3,
           11,
           1,
           180,
           62,
           7,
           66,
           158,
           4,
           2,
           3,
           2,
           8,
           2,
           3,
           38,
           8,
           16,
           8,
           64,
           4,
           7,
           3,
           3,
           2,
           25,
           12,
           1,
           30,
           3,
           232,
           2,
           1,
           2,
           38,
           13,
           13,
           70,
           161,
           2,
           2,
           15,
           1,
           17,
           20,
           4,
           9,
           40,
           1,
           271,
           96,
           218,
           862,
           16,
           171,
           5,
           73,
           28,
           17,
           1,
           141,
           3,
           2,
           6,
           19,
           11,
           1,
           29,
           45,
           33,
           33,
           23,
           50,
           2,
           102,
           10,
           44,
           1,
           32,
           70,
           1,
           240,
           10,
           198,
           69,
           1,
           12,
           119,
           24,
           1,
           24,
           3,
           10,
           31,
           4,
           9,
           1,
           1,
           2,
           6,
           9,
           3,
           1,
           1,
           143,
           70,
           109,
           10,
           10,
           69,
           3,
           1,
           35,
           24,
           1,
           4,
           20,
           46,
           233,
           1,
           7,
           7,
           1,
           2,
           1,
           6,
           1,
           1,
           1,
           63,
           28,
           3,
           37,
           1,
           51,
           2,
           15,
           15,
           3,
           3,
           13,
           16,
           53,
           15,
           2,
           5,
           1,
           61,
           3,
           1,
           1,
           91,
           1,
           1,
           3,
           28,
           16,
           2,
           143,
           106,
           15,
           4,
           10,
           9,
           169,
           22,
           4,
           1,
           23,
           8,
           1,
           2,
           1,
           1,
           3,
           126,
           629,
           1,
           1,
           3,
           3,
           7,
           601,
           1,
           5,
           97,
           55,
           14,
           50,
           93,
           4,
           2,
           1,
           1,
           7,
           13,
           1,
           3,
           1,
           1,
           1,
           3,
           19,
           2,
           12,
           2,
           3,
           2,
           1,
           13,
           16,
           14,
           1,
           3,
           17,
           6,
           12,
           24,
           21,
           3,
           2,
           17,
           10,
           1,
           1,
           5,
           4,
           1,
           1,
           4,
           339,
           2,
           4,
           440,
           32,
           35,
           1,
           16,
           146,
           59,
           20,
           1,
           1,
           8,
           4,
           457,
           2,
           3,
           109,
           121,
           42,
           92,
           6,
           4,
           2,
           2,
           152,
           2,
           36,
           42,
           1,
           3,
           10,
           15,
           128,
           2,
           1,
           1,
           3,
           115,
           1,
           6,
           9,
           7,
           473,
           6,
           342,
           369,
           20,
           225,
           10,
           47,
           74,
           4,
           1,
           3,
           6,
           351,
           351,
           2,
           3,
           7,
           2,
           1,
           3,
           1,
           20,
           6,
           11,
           26,
           2,
           30,
           1,
           12,
           4,
           14,
           2,
           2,
           98,
           2,
           71,
           11,
           17,
           1210,
           33,
           1567,
           328,
           5045,
           847,
           1867,
           14,
           142,
           581,
           54,
           6,
           3,
           3484,
           50,
           1,
           39,
           9,
           47,
           61,
           75,
           325,
           4,
           4,
           4,
           2,
           5,
           1,
           47,
           8,
           5,
           11,
           30,
           16,
           33,
           4,
           3,
           2,
           41,
           3,
           18,
           1,
           9,
           4,
           3,
           3,
           5,
           51,
           1,
           1,
           4,
           1,
           31,
           2,
           3,
           96,
           27,
           1,
           16,
           17,
           5,
           1,
           263,
           67,
           12,
           32,
           2,
           1,
           31,
           3,
           1,
           64,
           1,
           4,
           4,
           2,
           7,
           2,
           50,
           2,
           45,
           102,
           45,
           6,
           35,
           6,
           4,
           9,
           83,
           2,
           2,
           2,
           25,
           1,
           4,
           3,
           17,
           7,
           15,
           14,
           1,
           1,
           160,
           1,
           5,
           27,
           70,
           11,
           4297,
           26,
           282,
           1,
           37,
           43,
           1,
           111,
           40,
           84,
           2,
           13,
           16,
           29,
           247,
           7,
           8,
           2,
           38,
           6,
           7,
           1,
           2,
           183,
           1,
           1,
           1,
           115,
           4,
           28,
           16,
           14,
           64,
           90,
           2,
           9,
           2,
           56,
           1,
           27,
           3,
           68,
           8,
           73,
           3,
           87,
           1,
           3,
           158,
           2,
           1,
           16,
           9,
           2,
           5,
           1,
           102,
           2,
           52,
           2,
           183,
           73,
           3,
           46,
           3307,
           1,
           5,
           1689.335461404527,
           1,
           171,
           2,
           18,
           18,
           1,
           1,
           5,
           20,
           28,
           10,
           9,
           73,
           814,
           1,
           1,
           1,
           142,
           55,
           106,
           6,
           23,
           15,
           5,
           1,
           266,
           2,
           4,
           23,
           81,
           4,
           28,
           18,
           13,
           46,
           31,
           53,
           22,
           22,
           1,
           5,
           77,
           6,
           3,
           5,
           2,
           258,
           5,
           3,
           182,
           55,
           5,
           10,
           702,
           52,
           134,
           3,
           5,
           12,
           5,
           14,
           16,
           8,
           21,
           8,
           6,
           27,
           9,
           1,
           8,
           1,
           34,
           36,
           5,
           1,
           75.65517241379311,
           106,
           1,
           3,
           244,
           21,
           71,
           5,
           59,
           9,
           11,
           43,
           253,
           22,
           245,
           3,
           3,
           3,
           181,
           8,
           5,
           1,
           12,
           18,
           20,
           4,
           2,
           1,
           15,
           30,
           55,
           3,
           10,
           14,
           17,
           351,
           1,
           1,
           81,
           673,
           31,
           2,
           63,
           366,
           844,
           35,
           2,
           6,
           11,
           6,
           3,
           3,
           58,
           3,
           56.549668874172184,
           178.99171270718233,
           4.25,
           2,
           12.655172413793103,
           21.6158357771261,
           21.492753623188406,
           102.32624510352547,
           11,
           225.70031545741324,
           1.5,
           67.06711409395973,
           5.285714285714286,
           61.72222222222222,
           3.4,
           6.63265306122449,
           4,
           59.08433734939759,
           4,
           2266.203187938773,
           1899.0280180518992,
           165.44712990936557,
           2,
           1,
           9.526315789473685,
           47.54729109274564,
           36.15,
           1,
           54.31182795698925,
           4,
           1,
           197.12616339193383,
           60.76068376068376,
           17,
           181.82489451476792,
           2.25,
           2,
           55.38560411311054,
           3,
           77.86859688195992,
           379.608052588332,
           146.62876861605523,
           2.5
          ]
         },
         "name": "",
         "parents": [
          "Maria Giovanna Devetag",
          "Simona Romani",
          "Evangelos Syrigos",
          "Ian Paul McCarthy",
          "Henry William Chesbrough",
          "Alessandro Zattoni",
          "Saverio Bozzolan",
          "Blerina Sinaimeri",
          "Irene Finocchi",
          "Irene Finocchi",
          "Ian Paul McCarthy",
          "Irene Finocchi",
          "Cristiano Busco",
          "Alessandro Zattoni",
          "Ian Paul McCarthy",
          "Irene Finocchi",
          "Irene Finocchi",
          "Irene Finocchi",
          "Ian Paul McCarthy",
          "Irene Finocchi",
          "Ian Paul McCarthy",
          "Henry William Chesbrough",
          "Ian Paul McCarthy",
          "Simona Romani",
          "Irene Finocchi",
          "Michele Costabile",
          "Michele Costabile",
          "Pietro De Giovanni",
          "Saverio Bozzolan",
          "Pietro De Giovanni",
          "Alessandra Perri",
          "Matteo Giuliano Caroli",
          "Ian Paul McCarthy",
          "Matteo De Angelis",
          "Rumen Ivaylov Pozharliev",
          "Irene Finocchi",
          "Behzad Maleki Vishkaei",
          "Pietro De Giovanni",
          "Behzad Maleki Vishkaei",
          "Pietro De Giovanni",
          "Ian Paul McCarthy",
          "Cristiano Busco",
          "Cristiano Busco",
          "Ian Paul McCarthy",
          "Pietro De Giovanni",
          "Ian Paul McCarthy",
          "Alessandro Zattoni",
          "Luca Giustiniano",
          "Ian Paul McCarthy",
          "Lakshmi Balachandran Nair",
          "Henry William Chesbrough",
          "Henry William Chesbrough",
          "Alessandro Zattoni",
          "Ian Paul McCarthy",
          "Alessandro Zattoni",
          "Irene Finocchi",
          "Irene Finocchi",
          "Irene Finocchi",
          "Irene Finocchi",
          "Blerina Sinaimeri",
          "Blerina Sinaimeri",
          "Evangelos Syrigos",
          "Saverio Bozzolan",
          "Pietro De Giovanni",
          "Irene Finocchi",
          "Ian Paul McCarthy",
          "Fabrizio Di Lazzaro",
          "Alessandro Zattoni",
          "Alessandra Perri",
          "Henry William Chesbrough",
          "Ian Paul McCarthy",
          "Ian Paul McCarthy",
          "Alessandro Zattoni",
          "Matteo De Angelis",
          "Luca Pirolo",
          "Cinzia Calluso",
          "Matteo De Angelis",
          "Filippo Bontadini",
          "Matteo Giuliano Caroli",
          "Matteo De Angelis",
          "Matteo De Angelis",
          "Rumen Ivaylov Pozharliev",
          "Irene Finocchi",
          "Luca Giustiniano",
          "Michele Costabile",
          "Michele Costabile",
          "Henry William Chesbrough",
          "Henry William Chesbrough",
          "Filippo Bontadini",
          "Matteo De Angelis",
          "Rumen Ivaylov Pozharliev",
          "Simona Romani",
          "Simona Romani",
          "Ian Paul McCarthy",
          "Alessandro Zattoni",
          "Alessandro Zattoni",
          "Alessandra Perri",
          "Irene Finocchi",
          "Giovanni Fiori",
          "Deniz Lefkeli",
          "Luca Giustiniano",
          "Cristiano Busco",
          "Cristiano Busco",
          "Henry William Chesbrough",
          "Cristiano Busco",
          "Cristiano Busco",
          "Alessandro Zattoni",
          "Behzad Maleki Vishkaei",
          "Pietro De Giovanni",
          "Pietro De Giovanni",
          "Pietro De Giovanni",
          "Alessandro Zattoni",
          "Alessandro Zattoni",
          "Alessandro Zattoni",
          "Alessandro Zattoni",
          "Saverio Bozzolan",
          "Alessandro Zattoni",
          "Alessandro Zattoni",
          "Alessandro Zattoni",
          "Alessandro Zattoni",
          "Alessandro Zattoni",
          "Alessio Martino",
          "Simona Romani",
          "Simona Romani",
          "Simona Romani",
          "Irene Finocchi",
          "Irene Finocchi",
          "Luca Giustiniano",
          "Ian Paul McCarthy",
          "Cristiano Busco",
          "Luca Giustiniano",
          "Henry William Chesbrough",
          "Henry William Chesbrough",
          "Luca Giustiniano",
          "Henry William Chesbrough",
          "Ian Paul McCarthy",
          "Luca Giustiniano",
          "Luca Giustiniano",
          "Evangelos Syrigos",
          "Ian Paul McCarthy",
          "Giovanni Fiori",
          "Henry William Chesbrough",
          "Cinzia Calluso",
          "Jonathan Berkovitch",
          "Blerina Sinaimeri",
          "Luca Giustiniano",
          "Federica Brunetta",
          "Paolo Boccardelli",
          "Luca Giustiniano",
          "Ian Paul McCarthy",
          "Ian Paul McCarthy",
          "Henry William Chesbrough",
          "Ian Paul McCarthy",
          "Ian Paul McCarthy",
          "Irene Finocchi",
          "Alessandra Perri",
          "Blerina Sinaimeri",
          "Fabian Kurt Falk Homberg",
          "Cinzia Calluso",
          "Maria Giovanna Devetag",
          "Cinzia Calluso",
          "Irene Finocchi",
          "Simona Romani",
          "Henry William Chesbrough",
          "Deniz Lefkeli",
          "Michele Costabile",
          "Ian Paul McCarthy",
          "Blerina Sinaimeri",
          "Blerina Sinaimeri",
          "Cinzia Calluso",
          "Alessandro Zattoni",
          "ELENA BRUNI",
          "Irene Finocchi",
          "Ian Paul McCarthy",
          "Ian Paul McCarthy",
          "Cristiano Busco",
          "Simona Romani",
          "Simona Romani",
          "Simona Romani",
          "Simona Romani",
          "Simona Romani",
          "Matteo De Angelis",
          "Rumen Ivaylov Pozharliev",
          "Simona Romani",
          "Simona Romani",
          "Simona Romani",
          "Matteo De Angelis",
          "Matteo De Angelis",
          "Rumen Ivaylov Pozharliev",
          "Simona Romani",
          "Simona Romani",
          "Michele Costabile",
          "Michele Costabile",
          "Pietro De Giovanni",
          "Blerina Sinaimeri",
          "ELENA BRUNI",
          "Alessandro Zattoni",
          "Alessandro Zattoni",
          "Alessandro Zattoni",
          "Alessandro Zattoni",
          "Alessandro Zattoni",
          "Alessandro Zattoni",
          "Alessandro Zattoni",
          "Alessandro Zattoni",
          "Alessandro Zattoni",
          "Alessandro Zattoni",
          "Saverio Bozzolan",
          "Giovanni Fiori",
          "Simona Romani",
          "Saverio Bozzolan",
          "Alessandro Zattoni",
          "Alessandro Zattoni",
          "Alessandro Zattoni",
          "Alessandro Zattoni",
          "Alessandro Zattoni",
          "Alessandro Zattoni",
          "Paolo Boccardelli",
          "Ian Paul McCarthy",
          "Irene Finocchi",
          "Irene Finocchi",
          "Simona Romani",
          "Henry William Chesbrough",
          "Ian Paul McCarthy",
          "Irene Finocchi",
          "Luca Giustiniano",
          "Irene Finocchi",
          "Michele Costabile",
          "Michele Costabile",
          "Michele Costabile",
          "Michele Costabile",
          "Jannis Kallinikos",
          "Cristiano Busco",
          "Cinzia Calluso",
          "Ian Paul McCarthy",
          "Luca Giustiniano",
          "Luca Giustiniano",
          "Henry William Chesbrough",
          "Irene Finocchi",
          "Alessandro Zattoni",
          "Alessandro Zattoni",
          "Maria Giovanna Devetag",
          "Luca Giustiniano",
          "Ian Paul McCarthy",
          "Paolo Boccardelli",
          "Saverio Bozzolan",
          "Fabrizio Di Lazzaro",
          "Cinzia Calluso",
          "Irene Finocchi",
          "Matteo De Angelis",
          "Rumen Ivaylov Pozharliev",
          "Ian Paul McCarthy",
          "Jonathan Berkovitch",
          "Alessandro Zattoni",
          "Alessandro Zattoni",
          "Ian Paul McCarthy",
          "Henry William Chesbrough",
          "Simona Romani",
          "Alessandro Zattoni",
          "Ian Paul McCarthy",
          "Irene Finocchi",
          "Ian Paul McCarthy",
          "Irene Finocchi",
          "Andrea Prencipe",
          "Ian Paul McCarthy",
          "Blerina Sinaimeri",
          "Fabrizio Di Lazzaro",
          "Saverio Bozzolan",
          "Pietro De Giovanni",
          "Cristiano Busco",
          "Alessandro Zattoni",
          "Irene Finocchi",
          "Cinzia Calluso",
          "Simona Romani",
          "Simona Romani",
          "Simona Romani",
          "Irene Finocchi",
          "Luigi Marengo",
          "Luca Giustiniano",
          "ELENA BRUNI",
          "Simona Romani",
          "Irene Finocchi",
          "Cristiano Busco",
          "Henry William Chesbrough",
          "Luca Giustiniano",
          "Irene Finocchi",
          "Henry William Chesbrough",
          "Henry William Chesbrough",
          "Saverio Bozzolan",
          "Pietro De Giovanni",
          "Simona Romani",
          "Irene Finocchi",
          "Cinzia Calluso",
          "Luca Giustiniano",
          "Alessandro Zattoni",
          "Ian Paul McCarthy",
          "Irene Finocchi",
          "Irene Finocchi",
          "Simona Romani",
          "Simona Romani",
          "Simona Romani",
          "Henry William Chesbrough",
          "Henry William Chesbrough",
          "Ian Paul McCarthy",
          "Cristiano Busco",
          "Blerina Sinaimeri",
          "Henry William Chesbrough",
          "Blerina Sinaimeri",
          "Giovanni Fiori",
          "Alessandra Perri",
          "Alessandro Zattoni",
          "Blerina Sinaimeri",
          "Cristiano Busco",
          "Henry William Chesbrough",
          "Simona Romani",
          "Alessandro Zattoni",
          "Saverio Bozzolan",
          "Alessandro Zattoni",
          "Simona Romani",
          "Cinzia Calluso",
          "Saverio Bozzolan",
          "Alessandro Zattoni",
          "Ian Paul McCarthy",
          "Maria Giovanna Devetag",
          "Saverio Bozzolan",
          "Rumen Ivaylov Pozharliev",
          "Henry William Chesbrough",
          "Saverio Bozzolan",
          "Henry William Chesbrough",
          "Maria Giovanna Devetag",
          "Ian Paul McCarthy",
          "Ian Paul McCarthy",
          "Blerina Sinaimeri",
          "Ian Paul McCarthy",
          "Cristiano Busco",
          "Eugenio Pinto",
          "Cristiano Busco",
          "Henry William Chesbrough",
          "Fabrizio Di Lazzaro",
          "Irene Finocchi",
          "Irene Finocchi",
          "Irene Finocchi",
          "Pietro De Giovanni",
          "Luca Giustiniano",
          "Cristiano Busco",
          "Ian Paul McCarthy",
          "Simona Romani",
          "Filippo Bontadini",
          "Irene Finocchi",
          "Irene Finocchi",
          "Irene Finocchi",
          "ELENA BRUNI",
          "Pietro De Giovanni",
          "Mario Comana",
          "Alessandro Zattoni",
          "Alessandro Zattoni",
          "Michele Costabile",
          "Matteo De Angelis",
          "Rumen Ivaylov Pozharliev",
          "Simona Romani",
          "Luca Giustiniano",
          "Alessandro Zattoni",
          "Luca Giustiniano",
          "Michele Costabile",
          "Luca Giustiniano",
          "Maria Isabella Leone",
          "Henry William Chesbrough",
          "Alessandro Zattoni",
          "Ian Paul McCarthy",
          "Luca Giustiniano",
          "Matteo De Angelis",
          "Rumen Ivaylov Pozharliev",
          "Paolo Boccardelli",
          "Giovanni Fiori",
          "Henry William Chesbrough",
          "Alessandra Perri",
          "Alessandra Perri",
          "Federica Brunetta",
          "Ian Paul McCarthy",
          "Saverio Bozzolan",
          "Luca Giustiniano",
          "Luca Giustiniano",
          "Luca Giustiniano",
          "Luca Giustiniano",
          "Luca Giustiniano",
          "Ian Paul McCarthy",
          "Alessandro Zattoni",
          "Luca Giustiniano",
          "Henry William Chesbrough",
          "Luca Giustiniano",
          "Irene Finocchi",
          "Saverio Bozzolan",
          "Fabrizio Di Lazzaro",
          "Luca Giustiniano",
          "Henry William Chesbrough",
          "Alessandra Perri",
          "Alessandra Perri",
          "Ian Paul McCarthy",
          "Luca Giustiniano",
          "Luca Giustiniano",
          "Paolo Boccardelli",
          "Irene Finocchi",
          "Michele Costabile",
          "ELENA BRUNI",
          "Alessandro Zattoni",
          "Alessandro Zattoni",
          "Cristiano Busco",
          "Cristiano Busco",
          "Cristiano Busco",
          "Alessandro Zattoni",
          "Cristiano Busco",
          "Filippo Bontadini",
          "Filippo Bontadini",
          "Saverio Bozzolan",
          "Saverio Bozzolan",
          "Cinzia Calluso",
          "Alessandro Zattoni",
          "Ian Paul McCarthy",
          "Alessandra Perri",
          "Simona Romani",
          "Henry William Chesbrough",
          "Henry William Chesbrough",
          "Michele Costabile",
          "Ian Paul McCarthy",
          "Matteo De Angelis",
          "Pietro De Giovanni",
          "Ian Paul McCarthy",
          "Simona Romani",
          "Ian Paul McCarthy",
          "Federica Brunetta",
          "Paolo Boccardelli",
          "Ian Paul McCarthy",
          "Saverio Bozzolan",
          "Alessandra Perri",
          "Alessandra Perri",
          "Alessandra Perri",
          "Alessandra Perri",
          "Alessandra Perri",
          "Alessandra Perri",
          "Luca Giustiniano",
          "Federica Brunetta",
          "Eugenio Pinto",
          "Cristiano Busco",
          "Blerina Sinaimeri",
          "Blerina Sinaimeri",
          "Irene Finocchi",
          "Luca Pirolo",
          "Paolo Boccardelli",
          "Henry William Chesbrough",
          "Luca Pirolo",
          "Valentina Meliciani",
          "Raffaele Oriani",
          "Alessandro Zattoni",
          "Filippo Bontadini",
          "Irene Finocchi",
          "Blerina Sinaimeri",
          "Luca Giustiniano",
          "Paolo Spagnoletti",
          "ELENA BRUNI",
          "Cristiano Busco",
          "Cristiano Busco",
          "Luca Giustiniano",
          "Henry William Chesbrough",
          "Ian Paul McCarthy",
          "Ian Paul McCarthy",
          "Ian Paul McCarthy",
          "Alessandra Perri",
          "Ian Paul McCarthy",
          "Pietro De Giovanni",
          "Ian Paul McCarthy",
          "Henry William Chesbrough",
          "Cristiano Busco",
          "Irene Finocchi",
          "Luca Giustiniano",
          "Michele Costabile",
          "Michele Costabile",
          "Henry William Chesbrough",
          "Paolo Boccardelli",
          "Alessandra Perri",
          "Cristiano Busco",
          "Alessandro Zattoni",
          "Cristiano Busco",
          "Ian Paul McCarthy",
          "Henry William Chesbrough",
          "Ian Paul McCarthy",
          "Cristiano Busco",
          "Cristiano Busco",
          "Cristiano Busco",
          "Cristiano Busco",
          "Cristiano Busco",
          "Cristiano Busco",
          "ELENA BRUNI",
          "Ian Paul McCarthy",
          "Alessandra Perri",
          "Henry William Chesbrough",
          "Henry William Chesbrough",
          "Cristiano Busco",
          "Henry William Chesbrough",
          "Cristiano Busco",
          "Ian Paul McCarthy",
          "Ian Paul McCarthy",
          "Ian Paul McCarthy",
          "Alessandro Zattoni",
          "Fabrizio Di Lazzaro",
          "Simona Romani",
          "Simona Romani",
          "Rumen Ivaylov Pozharliev",
          "Deniz Lefkeli",
          "Irene Finocchi",
          "Luca Giustiniano",
          "Ian Paul McCarthy",
          "Ian Paul McCarthy",
          "Maria Giovanna Devetag",
          "Alessandro Zattoni",
          "Ian Paul McCarthy",
          "Henry William Chesbrough",
          "Filippo Bontadini",
          "Luca Giustiniano",
          "Irene Finocchi",
          "Simona Romani",
          "Luca Giustiniano",
          "Saverio Bozzolan",
          "Luca Giustiniano",
          "Blerina Sinaimeri",
          "Henry William Chesbrough",
          "Luca Giustiniano",
          "Ian Paul McCarthy",
          "Henry William Chesbrough",
          "Alessandro Zattoni",
          "Alessandro Zattoni",
          "Ian Paul McCarthy",
          "Luca Giustiniano",
          "Alessandra Perri",
          "Giovanni Fiori",
          "Irene Finocchi",
          "Pietro De Giovanni",
          "Matteo De Angelis",
          "Matteo De Angelis",
          "Michele Costabile",
          "Michele Costabile",
          "Blerina Sinaimeri",
          "Blerina Sinaimeri",
          "Blerina Sinaimeri",
          "Blerina Sinaimeri",
          "Blerina Sinaimeri",
          "Blerina Sinaimeri",
          "Blerina Sinaimeri",
          "Blerina Sinaimeri",
          "Irene Finocchi",
          "Irene Finocchi",
          "Irene Finocchi",
          "Irene Finocchi",
          "Blerina Sinaimeri",
          "Blerina Sinaimeri",
          "Irene Finocchi",
          "Blerina Sinaimeri",
          "Blerina Sinaimeri",
          "Ian Paul McCarthy",
          "Henry William Chesbrough",
          "Henry William Chesbrough",
          "Henry William Chesbrough",
          "Henry William Chesbrough",
          "Henry William Chesbrough",
          "Henry William Chesbrough",
          "Henry William Chesbrough",
          "Henry William Chesbrough",
          "Henry William Chesbrough",
          "Henry William Chesbrough",
          "Henry William Chesbrough",
          "Henry William Chesbrough",
          "Henry William Chesbrough",
          "Henry William Chesbrough",
          "Henry William Chesbrough",
          "Henry William Chesbrough",
          "Ian Paul McCarthy",
          "Henry William Chesbrough",
          "Henry William Chesbrough",
          "Henry William Chesbrough",
          "Henry William Chesbrough",
          "Henry William Chesbrough",
          "Alessandro Zattoni",
          "Irene Finocchi",
          "Irene Finocchi",
          "Ian Paul McCarthy",
          "Henry William Chesbrough",
          "Giovanni Fiori",
          "Luca Giustiniano",
          "Rumen Ivaylov Pozharliev",
          "Rumen Ivaylov Pozharliev",
          "Alessandro Zattoni",
          "Alessandro Zattoni",
          "Alessandro Zattoni",
          "Alessandro Zattoni",
          "Alessandro Zattoni",
          "Alessandro Zattoni",
          "Alessandro Zattoni",
          "Blerina Sinaimeri",
          "Blerina Sinaimeri",
          "Giuseppe Francesco Italiano",
          "Cristiano Busco",
          "Cristiano Busco",
          "Cristiano Busco",
          "Simona Romani",
          "Blerina Sinaimeri",
          "Pietro De Giovanni",
          "Irene Finocchi",
          "Filippo Bontadini",
          "Cristiano Busco",
          "Rumen Ivaylov Pozharliev",
          "Simona Romani",
          "Simona Romani",
          "Ian Paul McCarthy",
          "Eugenio Pinto",
          "Francesco Di Ciommo",
          "Irene Finocchi",
          "Luca Giustiniano",
          "Alessandra Perri",
          "Luca Giustiniano",
          "Ian Paul McCarthy",
          "Matteo De Angelis",
          "Michele Costabile",
          "Simona Romani",
          "Luca Giustiniano",
          "Saverio Bozzolan",
          "Ian Paul McCarthy",
          "Saverio Bozzolan",
          "Ian Paul McCarthy",
          "Lakshmi Balachandran Nair",
          "Saverio Bozzolan",
          "Blerina Sinaimeri",
          "Irene Finocchi",
          "Irene Finocchi",
          "ELENA BRUNI",
          "Pietro De Giovanni",
          "Cristiano Busco",
          "Luca Giustiniano",
          "Blerina Sinaimeri",
          "Luca Giustiniano",
          "Ian Paul McCarthy",
          "Saverio Bozzolan",
          "Pietro De Giovanni",
          "Simona Romani",
          "Irene Finocchi",
          "Luca Giustiniano",
          "Irene Finocchi",
          "Irene Finocchi",
          "Evangelos Syrigos",
          "Pietro De Giovanni",
          "Luca Giustiniano",
          "Federica Brunetta",
          "Blerina Sinaimeri",
          "Irene Finocchi",
          "Filippo Bontadini",
          "Filippo Bontadini",
          "Filippo Bontadini",
          "Luca Giustiniano",
          "Cinzia Calluso",
          "Blerina Sinaimeri",
          "Alessio Martino",
          "Michela Altieri",
          "Ian Paul McCarthy",
          "Ian Paul McCarthy",
          "Ian Paul McCarthy",
          "Luca Giustiniano",
          "Luca Giustiniano",
          "Matteo De Angelis",
          "Saverio Bozzolan",
          "Ian Paul McCarthy",
          "Irene Finocchi",
          "Rumen Ivaylov Pozharliev",
          "Michele Costabile",
          "Ian Paul McCarthy",
          "Rumen Ivaylov Pozharliev",
          "Ian Paul McCarthy",
          "Irene Finocchi",
          "Irene Finocchi",
          "Irene Finocchi",
          "Irene Finocchi",
          "Ian Paul McCarthy",
          "Irene Finocchi",
          "Ian Paul McCarthy",
          "Ian Paul McCarthy",
          "Irene Finocchi",
          "Pietro De Giovanni",
          "Alessandro Zattoni",
          "Henry William Chesbrough",
          "Saverio Bozzolan",
          "Cristiano Busco",
          "Paolo Boccardelli",
          "Ian Paul McCarthy",
          "Pietro De Giovanni",
          "Saverio Bozzolan",
          "Irene Finocchi",
          "Blerina Sinaimeri",
          "Matteo De Angelis",
          "Behzad Maleki Vishkaei",
          "Pietro De Giovanni",
          "Ian Paul McCarthy",
          "Henry William Chesbrough",
          "Henry William Chesbrough",
          "Pietro De Giovanni",
          "Cristiano Busco",
          "Cristiano Busco",
          "Michele Costabile",
          "Henry William Chesbrough",
          "Alessandro Zattoni",
          "Henry William Chesbrough",
          "Cristiano Busco",
          "Cristiano Busco",
          "ELENA BRUNI",
          "ELENA BRUNI",
          "Giovanni Fiori",
          "Henry William Chesbrough",
          "Fabrizio Di Lazzaro",
          "Cristiano Busco",
          "Henry William Chesbrough",
          "Ian Paul McCarthy",
          "Filippo Bontadini",
          "Valentina Meliciani",
          "Henry William Chesbrough",
          "Luca Giustiniano",
          "Henry William Chesbrough",
          "Ian Paul McCarthy",
          "Simona Romani",
          "Luca Giustiniano",
          "Cristiano Busco",
          "Cristiano Busco",
          "Henry William Chesbrough",
          "Michele Costabile",
          "Alessandro Zattoni",
          "Alessandra Perri",
          "Henry William Chesbrough",
          "Michele Costabile",
          "Alessandro Zattoni",
          "Alessandro Zattoni",
          "Henry William Chesbrough",
          "Henry William Chesbrough",
          "Cristiano Busco",
          "Henry William Chesbrough",
          "Alessandra Perri",
          "Henry William Chesbrough",
          "Alessandra Perri",
          "Behzad Maleki Vishkaei",
          "Pietro De Giovanni",
          "Behzad Maleki Vishkaei",
          "Pietro De Giovanni",
          "Ian Paul McCarthy",
          "Luca Giustiniano",
          "Henry William Chesbrough",
          "Giovanni Fiori",
          "Luca Giustiniano",
          "Henry William Chesbrough",
          "Henry William Chesbrough",
          "Mario Comana",
          "Ian Paul McCarthy",
          "ELENA BRUNI",
          "Henry William Chesbrough",
          "Alessandro Zattoni",
          "Alessandro Zattoni",
          "Irene Finocchi",
          "Irene Finocchi",
          "Saverio Bozzolan",
          "Giovanni Fiori",
          "Luca Giustiniano",
          "ELENA BRUNI",
          "Cristiano Busco",
          "Pietro De Giovanni",
          "Ian Paul McCarthy",
          "Alessandro Zattoni",
          "Saverio Bozzolan",
          "Henry William Chesbrough",
          "Matteo De Angelis",
          "Simona Romani",
          "Cristiano Busco",
          "Luca Giustiniano",
          "Cristiano Busco",
          "Matteo De Angelis",
          "Rumen Ivaylov Pozharliev",
          "Michele Costabile",
          "Cinzia Calluso",
          "Simona Romani",
          "Simona Romani",
          "ELENA BRUNI",
          "Alessandro Zattoni",
          "Alessandro Zattoni",
          "Ian Paul McCarthy",
          "Giovanni Fiori",
          "Luca Giustiniano",
          "Henry William Chesbrough",
          "Alessandra Perri",
          "Ian Paul McCarthy",
          "Henry William Chesbrough",
          "Ian Paul McCarthy",
          "Ian Paul McCarthy",
          "Simona Romani",
          "Cristiano Busco",
          "Alessandro Zattoni",
          "Simona Romani",
          "Cristiano Busco",
          "Luca Giustiniano",
          "Cinzia Calluso",
          "Ian Paul McCarthy",
          "Alessandra Perri",
          "Ian Paul McCarthy",
          "Lakshmi Balachandran Nair",
          "Ian Paul McCarthy",
          "Alessandro Zattoni",
          "Cristiano Busco",
          "Cristiano Busco",
          "Cristiano Busco",
          "Cristiano Busco",
          "Henry William Chesbrough",
          "Filippo Bontadini",
          "Filippo Bontadini",
          "Irene Finocchi",
          "Simona Romani",
          "Irene Finocchi",
          "Luca Giustiniano",
          "Cristiano Busco",
          "Cristiano Busco",
          "Alessandro Zattoni",
          "Michele Costabile",
          "Ian Paul McCarthy",
          "Luca Giustiniano",
          "Cristiano Busco",
          "Ian Paul McCarthy",
          "Henry William Chesbrough",
          "Ian Paul McCarthy",
          "Ian Paul McCarthy",
          "Cinzia Calluso",
          "Luca Giustiniano",
          "Rumen Ivaylov Pozharliev",
          "Henry William Chesbrough",
          "Ian Paul McCarthy",
          "Irene Finocchi",
          "Irene Finocchi",
          "Irene Finocchi",
          "Irene Finocchi",
          "Ian Paul McCarthy",
          "Irene Finocchi",
          "Henry William Chesbrough",
          "Simona Romani",
          "Ian Paul McCarthy",
          "Luca Giustiniano",
          "Alessandra Perri",
          "Giovanni Fiori",
          "Simona Romani",
          "Cristiano Busco",
          "Cristiano Busco",
          "Ian Paul McCarthy",
          "Luca Giustiniano",
          "ELENA BRUNI",
          "Simona Romani",
          "Henry William Chesbrough",
          "Simona Romani",
          "Irene Finocchi",
          "Alessandro Zattoni",
          "Alessandro Zattoni",
          "Henry William Chesbrough",
          "Ian Paul McCarthy",
          "Simona Romani",
          "Fabian Kurt Falk Homberg",
          "Irene Finocchi",
          "Luca Giustiniano",
          "Cinzia Calluso",
          "Maria Giovanna Devetag",
          "Rumen Ivaylov Pozharliev",
          "Ian Paul McCarthy",
          "",
          "",
          "",
          "",
          "",
          "",
          "",
          "",
          "",
          "",
          "",
          "",
          "",
          "",
          "",
          "",
          "",
          "",
          "",
          "",
          "",
          "",
          "",
          "",
          "",
          "",
          "",
          "",
          "",
          "",
          "",
          "",
          "",
          "",
          "",
          "",
          "",
          "",
          "",
          "",
          "",
          "",
          ""
         ],
         "type": "treemap",
         "values": [
          1,
          68,
          2,
          2,
          73,
          160,
          38,
          2,
          9,
          11,
          254,
          2,
          44,
          9,
          11,
          513,
          4,
          9,
          67,
          16,
          2,
          153,
          13,
          28,
          3,
          67,
          4,
          4,
          627,
          9,
          38,
          47,
          3,
          19,
          19,
          11,
          2,
          13,
          6,
          2,
          11,
          4,
          2,
          68,
          40,
          14,
          10,
          70,
          66,
          1,
          6,
          11,
          13,
          1,
          8,
          10,
          7,
          2,
          5,
          1,
          29,
          68,
          11,
          1,
          8,
          29,
          80,
          1,
          2,
          1,
          12,
          98,
          3,
          56,
          38,
          25,
          36,
          12,
          70,
          4,
          5,
          5,
          1,
          5,
          29,
          3,
          48,
          49,
          2,
          40,
          40,
          40,
          23,
          15,
          3,
          1,
          69,
          14,
          1,
          3,
          8,
          3,
          27,
          1873,
          5,
          1,
          230,
          1,
          1,
          3,
          20,
          8,
          2,
          10,
          10,
          44,
          1,
          197,
          5,
          371,
          12,
          5,
          23,
          12,
          49,
          18,
          25,
          57,
          63,
          1,
          1,
          3345,
          153,
          1,
          22,
          2,
          4,
          9,
          73,
          55,
          17,
          21,
          17,
          1,
          6,
          1,
          3,
          3,
          1,
          2,
          1,
          151,
          55,
          46,
          24,
          3,
          1,
          1,
          6,
          6,
          14,
          60,
          57,
          17,
          14,
          1,
          50,
          3,
          1,
          22,
          63,
          2,
          28,
          29,
          3,
          1,
          25,
          1,
          1,
          338,
          8,
          3,
          3,
          68,
          1,
          109,
          2,
          12,
          12,
          14,
          83,
          2,
          20,
          12,
          37,
          4,
          183,
          40,
          13,
          2,
          2,
          3,
          28,
          45,
          23,
          14,
          155,
          95,
          142,
          28,
          63,
          1,
          29,
          3,
          13,
          4,
          1,
          69,
          2,
          11,
          4,
          34,
          14,
          4,
          4,
          2,
          1,
          14,
          11,
          145,
          2,
          6,
          30,
          166,
          117,
          7,
          272,
          36,
          184,
          52,
          1,
          2,
          8,
          1,
          12,
          75,
          6,
          1,
          3,
          3,
          11,
          1,
          180,
          62,
          7,
          66,
          158,
          4,
          2,
          3,
          2,
          8,
          2,
          3,
          38,
          8,
          16,
          8,
          64,
          4,
          7,
          3,
          3,
          2,
          25,
          12,
          1,
          30,
          3,
          232,
          2,
          1,
          2,
          38,
          13,
          13,
          70,
          161,
          2,
          2,
          15,
          1,
          17,
          20,
          4,
          9,
          40,
          1,
          271,
          96,
          218,
          862,
          16,
          171,
          5,
          73,
          28,
          17,
          1,
          141,
          3,
          2,
          6,
          19,
          11,
          1,
          29,
          45,
          33,
          33,
          23,
          50,
          2,
          102,
          10,
          44,
          1,
          32,
          70,
          1,
          240,
          10,
          198,
          69,
          1,
          12,
          119,
          24,
          1,
          24,
          3,
          10,
          31,
          4,
          9,
          1,
          1,
          2,
          6,
          9,
          3,
          1,
          1,
          143,
          70,
          109,
          10,
          10,
          69,
          3,
          1,
          35,
          24,
          1,
          4,
          20,
          46,
          233,
          1,
          7,
          7,
          1,
          2,
          1,
          6,
          1,
          1,
          1,
          63,
          28,
          3,
          37,
          1,
          51,
          2,
          15,
          15,
          3,
          3,
          13,
          16,
          53,
          15,
          2,
          5,
          1,
          61,
          3,
          1,
          1,
          91,
          1,
          1,
          3,
          28,
          16,
          2,
          143,
          106,
          15,
          4,
          10,
          9,
          169,
          22,
          4,
          1,
          23,
          8,
          1,
          2,
          1,
          1,
          3,
          126,
          629,
          1,
          1,
          3,
          3,
          7,
          601,
          1,
          5,
          97,
          55,
          14,
          50,
          93,
          4,
          2,
          1,
          1,
          7,
          13,
          1,
          3,
          1,
          1,
          1,
          3,
          19,
          2,
          12,
          2,
          3,
          2,
          1,
          13,
          16,
          14,
          1,
          3,
          17,
          6,
          12,
          24,
          21,
          3,
          2,
          17,
          10,
          1,
          1,
          5,
          4,
          1,
          1,
          4,
          339,
          2,
          4,
          440,
          32,
          35,
          1,
          16,
          146,
          59,
          20,
          1,
          1,
          8,
          4,
          457,
          2,
          3,
          109,
          121,
          42,
          92,
          6,
          4,
          2,
          2,
          152,
          2,
          36,
          42,
          1,
          3,
          10,
          15,
          128,
          2,
          1,
          1,
          3,
          115,
          1,
          6,
          9,
          7,
          473,
          6,
          342,
          369,
          20,
          225,
          10,
          47,
          74,
          4,
          1,
          3,
          6,
          351,
          351,
          2,
          3,
          7,
          2,
          1,
          3,
          1,
          20,
          6,
          11,
          26,
          2,
          30,
          1,
          12,
          4,
          14,
          2,
          2,
          98,
          2,
          71,
          11,
          17,
          1210,
          33,
          1567,
          328,
          5045,
          847,
          1867,
          14,
          142,
          581,
          54,
          6,
          3,
          3484,
          50,
          1,
          39,
          9,
          47,
          61,
          75,
          325,
          4,
          4,
          4,
          2,
          5,
          1,
          47,
          8,
          5,
          11,
          30,
          16,
          33,
          4,
          3,
          2,
          41,
          3,
          18,
          1,
          9,
          4,
          3,
          3,
          5,
          51,
          1,
          1,
          4,
          1,
          31,
          2,
          3,
          96,
          27,
          1,
          16,
          17,
          5,
          1,
          263,
          67,
          12,
          32,
          2,
          1,
          31,
          3,
          1,
          64,
          1,
          4,
          4,
          2,
          7,
          2,
          50,
          2,
          45,
          102,
          45,
          6,
          35,
          6,
          4,
          9,
          83,
          2,
          2,
          2,
          25,
          1,
          4,
          3,
          17,
          7,
          15,
          14,
          1,
          1,
          160,
          1,
          5,
          27,
          70,
          11,
          4297,
          26,
          282,
          1,
          37,
          43,
          1,
          111,
          40,
          84,
          2,
          13,
          16,
          29,
          247,
          7,
          8,
          2,
          38,
          6,
          7,
          1,
          2,
          183,
          1,
          1,
          1,
          115,
          4,
          28,
          16,
          14,
          64,
          90,
          2,
          9,
          2,
          56,
          1,
          27,
          3,
          68,
          8,
          73,
          3,
          87,
          1,
          3,
          158,
          2,
          1,
          16,
          9,
          2,
          5,
          1,
          102,
          2,
          52,
          2,
          183,
          73,
          3,
          46,
          3307,
          1,
          5,
          1723,
          1,
          171,
          2,
          18,
          18,
          1,
          1,
          5,
          20,
          28,
          10,
          9,
          73,
          814,
          1,
          1,
          1,
          142,
          55,
          106,
          6,
          23,
          15,
          5,
          1,
          266,
          2,
          4,
          23,
          81,
          4,
          28,
          18,
          13,
          46,
          31,
          53,
          22,
          22,
          1,
          5,
          77,
          6,
          3,
          5,
          2,
          258,
          5,
          3,
          182,
          55,
          5,
          10,
          702,
          52,
          134,
          3,
          5,
          12,
          5,
          14,
          16,
          8,
          21,
          8,
          6,
          27,
          9,
          1,
          8,
          1,
          34,
          36,
          5,
          1,
          116,
          106,
          1,
          3,
          244,
          21,
          71,
          5,
          59,
          9,
          11,
          43,
          253,
          22,
          245,
          3,
          3,
          3,
          181,
          8,
          5,
          1,
          12,
          18,
          20,
          4,
          2,
          1,
          15,
          30,
          55,
          3,
          10,
          14,
          17,
          351,
          1,
          1,
          81,
          673,
          31,
          2,
          63,
          366,
          844,
          35,
          2,
          6,
          11,
          6,
          3,
          3,
          58,
          3,
          604,
          4344,
          8,
          2,
          29,
          341,
          207,
          1787,
          19,
          317,
          4,
          149,
          7,
          252,
          15,
          49,
          4,
          166,
          4,
          34756,
          10636,
          1986,
          2,
          2,
          19,
          1089,
          40,
          1,
          93,
          4,
          2,
          967,
          117,
          17,
          948,
          16,
          2,
          389,
          3,
          449,
          2434,
          2753,
          4
         ]
        }
       ],
       "layout": {
        "coloraxis": {
         "colorbar": {
          "title": {
           "text": "values"
          }
         },
         "colorscale": [
          [
           0,
           "rgb(103,0,31)"
          ],
          [
           0.1,
           "rgb(178,24,43)"
          ],
          [
           0.2,
           "rgb(214,96,77)"
          ],
          [
           0.3,
           "rgb(244,165,130)"
          ],
          [
           0.4,
           "rgb(253,219,199)"
          ],
          [
           0.5,
           "rgb(247,247,247)"
          ],
          [
           0.6,
           "rgb(209,229,240)"
          ],
          [
           0.7,
           "rgb(146,197,222)"
          ],
          [
           0.8,
           "rgb(67,147,195)"
          ],
          [
           0.9,
           "rgb(33,102,172)"
          ],
          [
           1,
           "rgb(5,48,97)"
          ]
         ]
        },
        "legend": {
         "tracegroupgap": 0
        },
        "template": {
         "data": {
          "bar": [
           {
            "error_x": {
             "color": "#2a3f5f"
            },
            "error_y": {
             "color": "#2a3f5f"
            },
            "marker": {
             "line": {
              "color": "#E5ECF6",
              "width": 0.5
             },
             "pattern": {
              "fillmode": "overlay",
              "size": 10,
              "solidity": 0.2
             }
            },
            "type": "bar"
           }
          ],
          "barpolar": [
           {
            "marker": {
             "line": {
              "color": "#E5ECF6",
              "width": 0.5
             },
             "pattern": {
              "fillmode": "overlay",
              "size": 10,
              "solidity": 0.2
             }
            },
            "type": "barpolar"
           }
          ],
          "carpet": [
           {
            "aaxis": {
             "endlinecolor": "#2a3f5f",
             "gridcolor": "white",
             "linecolor": "white",
             "minorgridcolor": "white",
             "startlinecolor": "#2a3f5f"
            },
            "baxis": {
             "endlinecolor": "#2a3f5f",
             "gridcolor": "white",
             "linecolor": "white",
             "minorgridcolor": "white",
             "startlinecolor": "#2a3f5f"
            },
            "type": "carpet"
           }
          ],
          "choropleth": [
           {
            "colorbar": {
             "outlinewidth": 0,
             "ticks": ""
            },
            "type": "choropleth"
           }
          ],
          "contour": [
           {
            "colorbar": {
             "outlinewidth": 0,
             "ticks": ""
            },
            "colorscale": [
             [
              0,
              "#0d0887"
             ],
             [
              0.1111111111111111,
              "#46039f"
             ],
             [
              0.2222222222222222,
              "#7201a8"
             ],
             [
              0.3333333333333333,
              "#9c179e"
             ],
             [
              0.4444444444444444,
              "#bd3786"
             ],
             [
              0.5555555555555556,
              "#d8576b"
             ],
             [
              0.6666666666666666,
              "#ed7953"
             ],
             [
              0.7777777777777778,
              "#fb9f3a"
             ],
             [
              0.8888888888888888,
              "#fdca26"
             ],
             [
              1,
              "#f0f921"
             ]
            ],
            "type": "contour"
           }
          ],
          "contourcarpet": [
           {
            "colorbar": {
             "outlinewidth": 0,
             "ticks": ""
            },
            "type": "contourcarpet"
           }
          ],
          "heatmap": [
           {
            "colorbar": {
             "outlinewidth": 0,
             "ticks": ""
            },
            "colorscale": [
             [
              0,
              "#0d0887"
             ],
             [
              0.1111111111111111,
              "#46039f"
             ],
             [
              0.2222222222222222,
              "#7201a8"
             ],
             [
              0.3333333333333333,
              "#9c179e"
             ],
             [
              0.4444444444444444,
              "#bd3786"
             ],
             [
              0.5555555555555556,
              "#d8576b"
             ],
             [
              0.6666666666666666,
              "#ed7953"
             ],
             [
              0.7777777777777778,
              "#fb9f3a"
             ],
             [
              0.8888888888888888,
              "#fdca26"
             ],
             [
              1,
              "#f0f921"
             ]
            ],
            "type": "heatmap"
           }
          ],
          "heatmapgl": [
           {
            "colorbar": {
             "outlinewidth": 0,
             "ticks": ""
            },
            "colorscale": [
             [
              0,
              "#0d0887"
             ],
             [
              0.1111111111111111,
              "#46039f"
             ],
             [
              0.2222222222222222,
              "#7201a8"
             ],
             [
              0.3333333333333333,
              "#9c179e"
             ],
             [
              0.4444444444444444,
              "#bd3786"
             ],
             [
              0.5555555555555556,
              "#d8576b"
             ],
             [
              0.6666666666666666,
              "#ed7953"
             ],
             [
              0.7777777777777778,
              "#fb9f3a"
             ],
             [
              0.8888888888888888,
              "#fdca26"
             ],
             [
              1,
              "#f0f921"
             ]
            ],
            "type": "heatmapgl"
           }
          ],
          "histogram": [
           {
            "marker": {
             "pattern": {
              "fillmode": "overlay",
              "size": 10,
              "solidity": 0.2
             }
            },
            "type": "histogram"
           }
          ],
          "histogram2d": [
           {
            "colorbar": {
             "outlinewidth": 0,
             "ticks": ""
            },
            "colorscale": [
             [
              0,
              "#0d0887"
             ],
             [
              0.1111111111111111,
              "#46039f"
             ],
             [
              0.2222222222222222,
              "#7201a8"
             ],
             [
              0.3333333333333333,
              "#9c179e"
             ],
             [
              0.4444444444444444,
              "#bd3786"
             ],
             [
              0.5555555555555556,
              "#d8576b"
             ],
             [
              0.6666666666666666,
              "#ed7953"
             ],
             [
              0.7777777777777778,
              "#fb9f3a"
             ],
             [
              0.8888888888888888,
              "#fdca26"
             ],
             [
              1,
              "#f0f921"
             ]
            ],
            "type": "histogram2d"
           }
          ],
          "histogram2dcontour": [
           {
            "colorbar": {
             "outlinewidth": 0,
             "ticks": ""
            },
            "colorscale": [
             [
              0,
              "#0d0887"
             ],
             [
              0.1111111111111111,
              "#46039f"
             ],
             [
              0.2222222222222222,
              "#7201a8"
             ],
             [
              0.3333333333333333,
              "#9c179e"
             ],
             [
              0.4444444444444444,
              "#bd3786"
             ],
             [
              0.5555555555555556,
              "#d8576b"
             ],
             [
              0.6666666666666666,
              "#ed7953"
             ],
             [
              0.7777777777777778,
              "#fb9f3a"
             ],
             [
              0.8888888888888888,
              "#fdca26"
             ],
             [
              1,
              "#f0f921"
             ]
            ],
            "type": "histogram2dcontour"
           }
          ],
          "mesh3d": [
           {
            "colorbar": {
             "outlinewidth": 0,
             "ticks": ""
            },
            "type": "mesh3d"
           }
          ],
          "parcoords": [
           {
            "line": {
             "colorbar": {
              "outlinewidth": 0,
              "ticks": ""
             }
            },
            "type": "parcoords"
           }
          ],
          "pie": [
           {
            "automargin": true,
            "type": "pie"
           }
          ],
          "scatter": [
           {
            "fillpattern": {
             "fillmode": "overlay",
             "size": 10,
             "solidity": 0.2
            },
            "type": "scatter"
           }
          ],
          "scatter3d": [
           {
            "line": {
             "colorbar": {
              "outlinewidth": 0,
              "ticks": ""
             }
            },
            "marker": {
             "colorbar": {
              "outlinewidth": 0,
              "ticks": ""
             }
            },
            "type": "scatter3d"
           }
          ],
          "scattercarpet": [
           {
            "marker": {
             "colorbar": {
              "outlinewidth": 0,
              "ticks": ""
             }
            },
            "type": "scattercarpet"
           }
          ],
          "scattergeo": [
           {
            "marker": {
             "colorbar": {
              "outlinewidth": 0,
              "ticks": ""
             }
            },
            "type": "scattergeo"
           }
          ],
          "scattergl": [
           {
            "marker": {
             "colorbar": {
              "outlinewidth": 0,
              "ticks": ""
             }
            },
            "type": "scattergl"
           }
          ],
          "scattermapbox": [
           {
            "marker": {
             "colorbar": {
              "outlinewidth": 0,
              "ticks": ""
             }
            },
            "type": "scattermapbox"
           }
          ],
          "scatterpolar": [
           {
            "marker": {
             "colorbar": {
              "outlinewidth": 0,
              "ticks": ""
             }
            },
            "type": "scatterpolar"
           }
          ],
          "scatterpolargl": [
           {
            "marker": {
             "colorbar": {
              "outlinewidth": 0,
              "ticks": ""
             }
            },
            "type": "scatterpolargl"
           }
          ],
          "scatterternary": [
           {
            "marker": {
             "colorbar": {
              "outlinewidth": 0,
              "ticks": ""
             }
            },
            "type": "scatterternary"
           }
          ],
          "surface": [
           {
            "colorbar": {
             "outlinewidth": 0,
             "ticks": ""
            },
            "colorscale": [
             [
              0,
              "#0d0887"
             ],
             [
              0.1111111111111111,
              "#46039f"
             ],
             [
              0.2222222222222222,
              "#7201a8"
             ],
             [
              0.3333333333333333,
              "#9c179e"
             ],
             [
              0.4444444444444444,
              "#bd3786"
             ],
             [
              0.5555555555555556,
              "#d8576b"
             ],
             [
              0.6666666666666666,
              "#ed7953"
             ],
             [
              0.7777777777777778,
              "#fb9f3a"
             ],
             [
              0.8888888888888888,
              "#fdca26"
             ],
             [
              1,
              "#f0f921"
             ]
            ],
            "type": "surface"
           }
          ],
          "table": [
           {
            "cells": {
             "fill": {
              "color": "#EBF0F8"
             },
             "line": {
              "color": "white"
             }
            },
            "header": {
             "fill": {
              "color": "#C8D4E3"
             },
             "line": {
              "color": "white"
             }
            },
            "type": "table"
           }
          ]
         },
         "layout": {
          "annotationdefaults": {
           "arrowcolor": "#2a3f5f",
           "arrowhead": 0,
           "arrowwidth": 1
          },
          "autotypenumbers": "strict",
          "coloraxis": {
           "colorbar": {
            "outlinewidth": 0,
            "ticks": ""
           }
          },
          "colorscale": {
           "diverging": [
            [
             0,
             "#8e0152"
            ],
            [
             0.1,
             "#c51b7d"
            ],
            [
             0.2,
             "#de77ae"
            ],
            [
             0.3,
             "#f1b6da"
            ],
            [
             0.4,
             "#fde0ef"
            ],
            [
             0.5,
             "#f7f7f7"
            ],
            [
             0.6,
             "#e6f5d0"
            ],
            [
             0.7,
             "#b8e186"
            ],
            [
             0.8,
             "#7fbc41"
            ],
            [
             0.9,
             "#4d9221"
            ],
            [
             1,
             "#276419"
            ]
           ],
           "sequential": [
            [
             0,
             "#0d0887"
            ],
            [
             0.1111111111111111,
             "#46039f"
            ],
            [
             0.2222222222222222,
             "#7201a8"
            ],
            [
             0.3333333333333333,
             "#9c179e"
            ],
            [
             0.4444444444444444,
             "#bd3786"
            ],
            [
             0.5555555555555556,
             "#d8576b"
            ],
            [
             0.6666666666666666,
             "#ed7953"
            ],
            [
             0.7777777777777778,
             "#fb9f3a"
            ],
            [
             0.8888888888888888,
             "#fdca26"
            ],
            [
             1,
             "#f0f921"
            ]
           ],
           "sequentialminus": [
            [
             0,
             "#0d0887"
            ],
            [
             0.1111111111111111,
             "#46039f"
            ],
            [
             0.2222222222222222,
             "#7201a8"
            ],
            [
             0.3333333333333333,
             "#9c179e"
            ],
            [
             0.4444444444444444,
             "#bd3786"
            ],
            [
             0.5555555555555556,
             "#d8576b"
            ],
            [
             0.6666666666666666,
             "#ed7953"
            ],
            [
             0.7777777777777778,
             "#fb9f3a"
            ],
            [
             0.8888888888888888,
             "#fdca26"
            ],
            [
             1,
             "#f0f921"
            ]
           ]
          },
          "colorway": [
           "#636efa",
           "#EF553B",
           "#00cc96",
           "#ab63fa",
           "#FFA15A",
           "#19d3f3",
           "#FF6692",
           "#B6E880",
           "#FF97FF",
           "#FECB52"
          ],
          "font": {
           "color": "#2a3f5f"
          },
          "geo": {
           "bgcolor": "white",
           "lakecolor": "white",
           "landcolor": "#E5ECF6",
           "showlakes": true,
           "showland": true,
           "subunitcolor": "white"
          },
          "hoverlabel": {
           "align": "left"
          },
          "hovermode": "closest",
          "mapbox": {
           "style": "light"
          },
          "paper_bgcolor": "white",
          "plot_bgcolor": "#E5ECF6",
          "polar": {
           "angularaxis": {
            "gridcolor": "white",
            "linecolor": "white",
            "ticks": ""
           },
           "bgcolor": "#E5ECF6",
           "radialaxis": {
            "gridcolor": "white",
            "linecolor": "white",
            "ticks": ""
           }
          },
          "scene": {
           "xaxis": {
            "backgroundcolor": "#E5ECF6",
            "gridcolor": "white",
            "gridwidth": 2,
            "linecolor": "white",
            "showbackground": true,
            "ticks": "",
            "zerolinecolor": "white"
           },
           "yaxis": {
            "backgroundcolor": "#E5ECF6",
            "gridcolor": "white",
            "gridwidth": 2,
            "linecolor": "white",
            "showbackground": true,
            "ticks": "",
            "zerolinecolor": "white"
           },
           "zaxis": {
            "backgroundcolor": "#E5ECF6",
            "gridcolor": "white",
            "gridwidth": 2,
            "linecolor": "white",
            "showbackground": true,
            "ticks": "",
            "zerolinecolor": "white"
           }
          },
          "shapedefaults": {
           "line": {
            "color": "#2a3f5f"
           }
          },
          "ternary": {
           "aaxis": {
            "gridcolor": "white",
            "linecolor": "white",
            "ticks": ""
           },
           "baxis": {
            "gridcolor": "white",
            "linecolor": "white",
            "ticks": ""
           },
           "bgcolor": "#E5ECF6",
           "caxis": {
            "gridcolor": "white",
            "linecolor": "white",
            "ticks": ""
           }
          },
          "title": {
           "x": 0.05
          },
          "xaxis": {
           "automargin": true,
           "gridcolor": "white",
           "linecolor": "white",
           "ticks": "",
           "title": {
            "standoff": 15
           },
           "zerolinecolor": "white",
           "zerolinewidth": 2
          },
          "yaxis": {
           "automargin": true,
           "gridcolor": "white",
           "linecolor": "white",
           "ticks": "",
           "title": {
            "standoff": 15
           },
           "zerolinecolor": "white",
           "zerolinewidth": 2
          }
         }
        },
        "title": {
         "text": "Interactive Treemap of Citation Distribution"
        }
       }
      }
     },
     "metadata": {},
     "output_type": "display_data"
    }
   ],
   "source": [
    "rows = []\n",
    "others_citations = 0\n",
    "\n",
    "for professor_name, details in data.items():\n",
    "    total_citations = details[\"Citation_Count\"]\n",
    "\n",
    "    # Track the total citations of papers to subtract from the professor's node\n",
    "    paper_citations_sum = 0\n",
    "\n",
    "    if \"Papers\" in details:\n",
    "        for paper in details[\"Papers\"]:\n",
    "            paper_title = paper[\"Title\"]\n",
    "            paper_citations = paper.get(\"Citation_Count\", 0)\n",
    "\n",
    "            # Append a row for each paper\n",
    "            rows.append({\n",
    "                \"labels\": paper_title,\n",
    "                \"parents\": professor_name,\n",
    "                \"values\": paper_citations,\n",
    "            })\n",
    "\n",
    "            paper_citations_sum += paper_citations\n",
    "\n",
    "    # Subtract paper citations from the professor's total to avoid double-counting\n",
    "    remaining_citations = total_citations - paper_citations_sum\n",
    "\n",
    "    # Check if the remaining citations are less than 100\n",
    "    if remaining_citations < 100:\n",
    "        others_citations += remaining_citations\n",
    "    else:\n",
    "        # Append the professor's node only if there are remaining citations\n",
    "        rows.append({\n",
    "            \"labels\": professor_name,\n",
    "            \"parents\": \"\",\n",
    "            \"values\": remaining_citations,\n",
    "        })\n",
    "\n",
    "# Add the \"Others\" category if there are citations\n",
    "if others_citations > 0:\n",
    "    rows.append({\n",
    "        \"labels\": \"Others\",\n",
    "        \"parents\": \"\",\n",
    "        \"values\": others_citations,\n",
    "    })\n",
    "\n",
    "df = pd.DataFrame(rows)\n",
    "df['values'].fillna(0, inplace=True)\n",
    "df = df[df['values'] > 0]\n",
    "\n",
    "fig = px.treemap(df, path=['parents', 'labels'], values='values',\n",
    "                 color='values', hover_data=['labels'],\n",
    "                 color_continuous_scale='RdBu',\n",
    "                 title='Interactive Treemap of Citation Distribution')\n",
    "\n",
    "fig.show()\n"
   ]
  },
  {
   "cell_type": "markdown",
   "metadata": {
    "pycharm": {
     "name": "#%% md\n"
    }
   },
   "source": [
    "### Geographical visualization of the professors origin"
   ]
  },
  {
   "cell_type": "code",
   "execution_count": 113,
   "metadata": {
    "pycharm": {
     "name": "#%%\n"
    }
   },
   "outputs": [
    {
     "name": "stderr",
     "output_type": "stream",
     "text": [
      "/var/folders/s4/w7khrzrj4894rd_vn9lr9_sh0000gn/T/ipykernel_10105/2350172883.py:3: FutureWarning:\n",
      "\n",
      "The geopandas.dataset module is deprecated and will be removed in GeoPandas 1.0. You can get the original 'naturalearth_lowres' data from https://www.naturalearthdata.com/downloads/110m-cultural-vectors/.\n",
      "\n"
     ]
    }
   ],
   "source": [
    "professors_country = [{'Name': key, 'Country': value['Country']} for key, value in professors_data.items()]\n",
    "professor_df = pd.DataFrame(professors_country)\n",
    "world = gpd.read_file(gpd.datasets.get_path('naturalearth_lowres'))\n",
    "professor_df['Country'] = professor_df['Country'].replace({\n",
    "    'Great Britain': 'United Kingdom',\n",
    "    'USA': 'United States of America',\n",
    "    'Korea': 'South Korea',\n",
    "    'Bulgary': 'Bulgaria',\n",
    "    'Holland': 'Netherlands'\n",
    "})\n",
    "merged = world.merge(professor_df, how=\"right\", left_on=\"name\", right_on=\"Country\")\n",
    "# Raggruppa per 'iso_a3' e conta i professori\n",
    "professor_counts = merged.groupby('iso_a3').size().reset_index(name='Professor_Count')\n",
    "# Unisci i conteggi al DataFrame originale\n",
    "df_geo = merged.merge(professor_counts, on='iso_a3', how='left')"
   ]
  },
  {
   "cell_type": "code",
   "execution_count": 115,
   "metadata": {
    "pycharm": {
     "name": "#%%\n"
    }
   },
   "outputs": [],
   "source": [
    "df_geo['latitude'] = None\n",
    "df_geo['longitude'] = None \n",
    "df_geo.loc[df_geo['Country'] == \"Albania\", 'latitude'] = 41.153332\n",
    "df_geo.loc[df_geo['Country'] == \"Albania\", 'longitude'] = 20.168331\n",
    "df_geo.loc[df_geo['Country'] == \"Greece\", 'latitude'] = 39.074208\n",
    "df_geo.loc[df_geo['Country'] == \"Greece\", 'longitude'] = 21.824312\n",
    "df_geo.loc[df_geo['Country'] == \"Italy\", 'latitude'] = 41.871940\n",
    "df_geo.loc[df_geo['Country'] == \"Italy\", 'longitude'] = 12.567380\n",
    "df_geo.loc[df_geo['Country'] == \"India\", 'latitude'] = 20.595164\n",
    "df_geo.loc[df_geo['Country'] == \"India\", 'longitude'] = 78.963060\n",
    "df_geo.loc[df_geo['Country'] == \"Israel\", 'latitude'] = 31.046051\n",
    "df_geo.loc[df_geo['Country'] == \"Israel\", 'longitude'] = 34.851612\n",
    "df_geo.loc[df_geo['Country'] == \"United States of America\", 'latitude'] = 37.090240\n",
    "df_geo.loc[df_geo['Country'] == \"United States of America\", 'longitude'] = -95.712891\n",
    "df_geo.loc[df_geo['Country'] == \"South Korea\", 'latitude'] = 35.907757\n",
    "df_geo.loc[df_geo['Country'] == \"South Korea\", 'longitude'] = 127.766922\n",
    "df_geo.loc[df_geo['Country'] == \"Germany\", 'latitude'] = 51.165691\n",
    "df_geo.loc[df_geo['Country'] == \"Germany\", 'longitude'] = 10.451526\n",
    "df_geo.loc[df_geo['Country'] == \"Turkey\", 'latitude'] = 38.963745\n",
    "df_geo.loc[df_geo['Country'] == \"Turkey\", 'longitude'] = 35.243322\n",
    "df_geo.loc[df_geo['Country'] == \"United Kingdom\", 'latitude'] = 52.355518\n",
    "df_geo.loc[df_geo['Country'] == \"United Kingdom\", 'longitude'] = -1.174320\n",
    "df_geo.loc[df_geo['Country'] == \"Bulgaria\", 'latitude'] = 42.733883\n",
    "df_geo.loc[df_geo['Country'] == \"Bulgaria\", 'longitude'] = 25.485830\n",
    "df_geo.loc[df_geo['Country'] == \"Netherlands\", 'latitude'] = 52.132633\n",
    "df_geo.loc[df_geo['Country'] == \"Netherlands\", 'longitude'] = 5.291266\n",
    "df_geo.loc[df_geo['Country'] == \"Chile\", 'latitude'] = -35.675147\n",
    "df_geo.loc[df_geo['Country'] == \"Chile\", 'longitude'] = -71.542969"
   ]
  },
  {
   "cell_type": "code",
   "execution_count": 117,
   "metadata": {
    "pycharm": {
     "name": "#%%\n"
    }
   },
   "outputs": [
    {
     "data": {
      "application/vnd.jupyter.widget-view+json": {
       "model_id": "a9a0bf6c849143ef9d2c97afd81f77e7",
       "version_major": 2,
       "version_minor": 0
      },
      "text/plain": [
       "HBox(children=(VBox(children=(Dropdown(description='Country:', options=(('Select a Country', None), ('All', 'A…"
      ]
     },
     "metadata": {},
     "output_type": "display_data"
    }
   ],
   "source": [
    "# Crea il grafico iniziale\n",
    "fig = go.FigureWidget(data=[go.Choropleth(\n",
    "    locations=df_geo['iso_a3'],  # Usa il codice ISO A3 per i paesi\n",
    "    z=df_geo['Professor_Count'],\n",
    "    text=df_geo['Country'],\n",
    "    colorscale='OrRd',\n",
    "    autocolorscale=False,\n",
    "    marker_line_color='darkgray',\n",
    "    marker_line_width=0.5,\n",
    "    colorbar_title='Number of Professors',\n",
    "    zmin=0,  # Imposta il valore minimo della colorbar\n",
    "    zmax=42,\n",
    "    colorbar=dict(\n",
    "        len=0.3,  # Imposta la lunghezza della colorbar a 50% dell'altezza del grafico\n",
    "        lenmode='fraction'  # Lunghezza come frazione dell'altezza totale del grafico\n",
    "    )\n",
    ")])\n",
    "\n",
    "fig.update_layout(\n",
    "    width=1400,  # Larghezza del grafico in pixel\n",
    "    height=1000,\n",
    "    title_text='Global Distribution of Professors',\n",
    "    geo=dict(\n",
    "        showframe=False,\n",
    "        showcoastlines=False,\n",
    "        projection_type='equirectangular'\n",
    "    )\n",
    ")\n",
    "\n",
    "# Dropdown per la selezione del paese, con opzione 'All'\n",
    "country_dropdown = widgets.Dropdown(\n",
    "    options=[('Select a Country', None), ('All', 'All')] + [(country, country) for country in df_geo['Country'].unique()],\n",
    "    description='Country:',\n",
    ")\n",
    "\n",
    "# Widget di output per l'elenco dei professori\n",
    "output_professors = widgets.Output()\n",
    "\n",
    "def adjust_projection_scale(country):\n",
    "    # Puoi definire una scala basata sull'area o altri parametri\n",
    "    if country == 'India':\n",
    "        return 4\n",
    "    elif country == 'Chile':\n",
    "        return 3\n",
    "    elif country == 'United States of America':\n",
    "        return 2   # Scala maggiore per grandi paesi\n",
    "    elif country == 'Israel':\n",
    "        return 15\n",
    "    elif country == 'Albania':\n",
    "        return 15\n",
    "    elif country == 'Netherlands':\n",
    "        return 10  # Scala maggiore per piccoli paesi\n",
    "    else:\n",
    "        return 5  # Scala di default\n",
    "\n",
    "def on_country_change(change):\n",
    "    with fig.batch_update():\n",
    "        if change.new:\n",
    "            if change.new == 'All':\n",
    "                fig.data[0].locations = df_geo['iso_a3']\n",
    "                fig.data[0].z = df_geo['Professor_Count']\n",
    "                fig.data[0].text = df_geo['Country']\n",
    "                fig.update_geos(center={\"lat\": 0, \"lon\": 0}, projection_scale=1)\n",
    "            else:\n",
    "                selected_country = df_geo[df_geo['Country'] == change.new]\n",
    "                lat = selected_country['latitude'].values[0]\n",
    "                lon = selected_country['longitude'].values[0]\n",
    "                scale = adjust_projection_scale(change.new)\n",
    "                fig.data[0].locations = selected_country['iso_a3']\n",
    "                fig.data[0].z = selected_country['Professor_Count']\n",
    "                fig.data[0].text = selected_country['Country']\n",
    "                fig.update_geos(center={\"lat\": lat, \"lon\": lon}, projection_scale=scale)\n",
    "    \n",
    "    with output_professors:\n",
    "        output_professors.clear_output()\n",
    "        if change.new:\n",
    "            if change.new == 'All':\n",
    "                # Visualizza i dati di tutti i professori\n",
    "                display(professor_df[['Name', 'Country']].style.hide(axis='index'))\n",
    "            else:\n",
    "                selected_professors = professor_df[professor_df['Country'] == change.new]\n",
    "                display(selected_professors[['Name']].style.hide(axis='index'))\n",
    "\n",
    "country_dropdown.observe(on_country_change, names='value')\n",
    "\n",
    "# Disponi i widget orizzontalmente\n",
    "display(widgets.HBox([widgets.VBox([country_dropdown, output_professors]), fig]))"
   ]
  },
  {
   "cell_type": "code",
   "execution_count": null,
   "outputs": [],
   "source": [
    "import mercury as mr\n",
    "\n",
    "def custom_layout(widgets):\n",
    "    # Custom layout logic goes here\n",
    "    # Example: return a dictionary, grid, or any structure supported by Mercury\n",
    "    layout = {\n",
    "        \"header\": widgets['header'],\n",
    "        \"body\": [widgets['input1'], widgets['output1']],\n",
    "        \"footer\": widgets['footer']\n",
    "    }\n",
    "    return layout\n",
    "\n",
    "app = mr.App(\n",
    "    title=\"Data VIZ\",\n",
    "    description=\"Web project\",\n",
    "    layout=custom_layout,\n",
    "    theme=\"dark\",\n",
    "    show_code=False,\n",
    "    show_prompt=False,\n",
    "    continuous_update=True,\n",
    "    show_sidebar=True\n",
    ")\n",
    "\n",
    "app.run()"
   ],
   "metadata": {
    "collapsed": false,
    "pycharm": {
     "name": "#%%\n"
    }
   }
  },
  {
   "cell_type": "code",
   "execution_count": null,
   "outputs": [],
   "source": [],
   "metadata": {
    "collapsed": false,
    "pycharm": {
     "name": "#%%\n"
    }
   }
  }
 ],
 "metadata": {
  "kernelspec": {
   "display_name": "Python 3",
   "language": "python",
   "name": "python3"
  },
  "language_info": {
   "codemirror_mode": {
    "name": "ipython",
    "version": 3
   },
   "file_extension": ".py",
   "mimetype": "text/x-python",
   "name": "python",
   "nbconvert_exporter": "python",
   "pygments_lexer": "ipython3",
   "version": "3.12.2"
  }
 },
 "nbformat": 4,
 "nbformat_minor": 2
}