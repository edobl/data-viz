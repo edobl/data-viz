{
 "cells": [
  {
   "cell_type": "code",
   "execution_count": null,
   "metadata": {
    "collapsed": true,
    "pycharm": {
     "name": "#%%\n"
    }
   },
   "outputs": [],
   "source": [
    "[theme]\n",
    "base = \"dark\"\n",
    "primaryColor = \"#F63366\"  # Define your accent color\n",
    "backgroundColor = \"#262730\"  # Define the background color\n",
    "secondaryBackgroundColor = \"#1E1E1E\"  # Define the secondary background color\n",
    "textColor = \"#FFFFFF\"  # Define the text color\n",
    "font = \"sans serif\"  # Define the font style\n"
   ]
  }
 ],
 "metadata": {
  "kernelspec": {
   "display_name": "Python 3",
   "language": "python",
   "name": "python3"
  },
  "language_info": {
   "codemirror_mode": {
    "name": "ipython",
    "version": 2
   },
   "file_extension": ".py",
   "mimetype": "text/x-python",
   "name": "python",
   "nbconvert_exporter": "python",
   "pygments_lexer": "ipython2",
   "version": "2.7.6"
  }
 },
 "nbformat": 4,
 "nbformat_minor": 0
}
